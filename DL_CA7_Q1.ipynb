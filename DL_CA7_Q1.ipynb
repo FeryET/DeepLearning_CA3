{
  "nbformat": 4,
  "nbformat_minor": 0,
  "metadata": {
    "orig_nbformat": 2,
    "colab": {
      "name": "DL_CA7_Q1.ipynb",
      "provenance": [],
      "collapsed_sections": [],
      "toc_visible": true,
      "include_colab_link": true
    },
    "language_info": {
      "name": "python"
    },
    "kernelspec": {
      "name": "python3",
      "display_name": "Python 3"
    },
    "accelerator": "GPU",
    "widgets": {
      "application/vnd.jupyter.widget-state+json": {
        "b0b1a8a7873c4c078043a2082d90f815": {
          "model_module": "@jupyter-widgets/controls",
          "model_name": "HBoxModel",
          "state": {
            "_view_name": "HBoxView",
            "_dom_classes": [],
            "_model_name": "HBoxModel",
            "_view_module": "@jupyter-widgets/controls",
            "_model_module_version": "1.5.0",
            "_view_count": null,
            "_view_module_version": "1.5.0",
            "box_style": "",
            "layout": "IPY_MODEL_6f84fdd929f149128fde5b9d7fdd080f",
            "_model_module": "@jupyter-widgets/controls",
            "children": [
              "IPY_MODEL_8c53ce7bbd2f4cee8e943c256423ff7e",
              "IPY_MODEL_a7d256a4585b498fb05bafffb5fc7a5e"
            ]
          }
        },
        "6f84fdd929f149128fde5b9d7fdd080f": {
          "model_module": "@jupyter-widgets/base",
          "model_name": "LayoutModel",
          "state": {
            "_view_name": "LayoutView",
            "grid_template_rows": null,
            "right": null,
            "justify_content": null,
            "_view_module": "@jupyter-widgets/base",
            "overflow": null,
            "_model_module_version": "1.2.0",
            "_view_count": null,
            "flex_flow": null,
            "width": null,
            "min_width": null,
            "border": null,
            "align_items": null,
            "bottom": null,
            "_model_module": "@jupyter-widgets/base",
            "top": null,
            "grid_column": null,
            "overflow_y": null,
            "overflow_x": null,
            "grid_auto_flow": null,
            "grid_area": null,
            "grid_template_columns": null,
            "flex": null,
            "_model_name": "LayoutModel",
            "justify_items": null,
            "grid_row": null,
            "max_height": null,
            "align_content": null,
            "visibility": null,
            "align_self": null,
            "height": null,
            "min_height": null,
            "padding": null,
            "grid_auto_rows": null,
            "grid_gap": null,
            "max_width": null,
            "order": null,
            "_view_module_version": "1.2.0",
            "grid_template_areas": null,
            "object_position": null,
            "object_fit": null,
            "grid_auto_columns": null,
            "margin": null,
            "display": null,
            "left": null
          }
        },
        "8c53ce7bbd2f4cee8e943c256423ff7e": {
          "model_module": "@jupyter-widgets/controls",
          "model_name": "FloatProgressModel",
          "state": {
            "_view_name": "ProgressView",
            "style": "IPY_MODEL_c116275e9aad4010a6b116044c3e7dbc",
            "_dom_classes": [],
            "description": "Epoch: 1: 100%",
            "_model_name": "FloatProgressModel",
            "bar_style": "",
            "max": 57,
            "_view_module": "@jupyter-widgets/controls",
            "_model_module_version": "1.5.0",
            "value": 57,
            "_view_count": null,
            "_view_module_version": "1.5.0",
            "orientation": "horizontal",
            "min": 0,
            "description_tooltip": null,
            "_model_module": "@jupyter-widgets/controls",
            "layout": "IPY_MODEL_2851ed2a1af4469b84842a90236da41a"
          }
        },
        "a7d256a4585b498fb05bafffb5fc7a5e": {
          "model_module": "@jupyter-widgets/controls",
          "model_name": "HTMLModel",
          "state": {
            "_view_name": "HTMLView",
            "style": "IPY_MODEL_7a2d7563cf26405b845d0ec328a2d2e8",
            "_dom_classes": [],
            "description": "",
            "_model_name": "HTMLModel",
            "placeholder": "​",
            "_view_module": "@jupyter-widgets/controls",
            "_model_module_version": "1.5.0",
            "value": " 57/57 [01:19&lt;00:00,  1.35s/it, batch_loss=1.760]",
            "_view_count": null,
            "_view_module_version": "1.5.0",
            "description_tooltip": null,
            "_model_module": "@jupyter-widgets/controls",
            "layout": "IPY_MODEL_eb8ae56aa5eb466099d28632fac45e58"
          }
        },
        "c116275e9aad4010a6b116044c3e7dbc": {
          "model_module": "@jupyter-widgets/controls",
          "model_name": "ProgressStyleModel",
          "state": {
            "_view_name": "StyleView",
            "_model_name": "ProgressStyleModel",
            "description_width": "initial",
            "_view_module": "@jupyter-widgets/base",
            "_model_module_version": "1.5.0",
            "_view_count": null,
            "_view_module_version": "1.2.0",
            "bar_color": null,
            "_model_module": "@jupyter-widgets/controls"
          }
        },
        "2851ed2a1af4469b84842a90236da41a": {
          "model_module": "@jupyter-widgets/base",
          "model_name": "LayoutModel",
          "state": {
            "_view_name": "LayoutView",
            "grid_template_rows": null,
            "right": null,
            "justify_content": null,
            "_view_module": "@jupyter-widgets/base",
            "overflow": null,
            "_model_module_version": "1.2.0",
            "_view_count": null,
            "flex_flow": null,
            "width": null,
            "min_width": null,
            "border": null,
            "align_items": null,
            "bottom": null,
            "_model_module": "@jupyter-widgets/base",
            "top": null,
            "grid_column": null,
            "overflow_y": null,
            "overflow_x": null,
            "grid_auto_flow": null,
            "grid_area": null,
            "grid_template_columns": null,
            "flex": null,
            "_model_name": "LayoutModel",
            "justify_items": null,
            "grid_row": null,
            "max_height": null,
            "align_content": null,
            "visibility": null,
            "align_self": null,
            "height": null,
            "min_height": null,
            "padding": null,
            "grid_auto_rows": null,
            "grid_gap": null,
            "max_width": null,
            "order": null,
            "_view_module_version": "1.2.0",
            "grid_template_areas": null,
            "object_position": null,
            "object_fit": null,
            "grid_auto_columns": null,
            "margin": null,
            "display": null,
            "left": null
          }
        },
        "7a2d7563cf26405b845d0ec328a2d2e8": {
          "model_module": "@jupyter-widgets/controls",
          "model_name": "DescriptionStyleModel",
          "state": {
            "_view_name": "StyleView",
            "_model_name": "DescriptionStyleModel",
            "description_width": "",
            "_view_module": "@jupyter-widgets/base",
            "_model_module_version": "1.5.0",
            "_view_count": null,
            "_view_module_version": "1.2.0",
            "_model_module": "@jupyter-widgets/controls"
          }
        },
        "eb8ae56aa5eb466099d28632fac45e58": {
          "model_module": "@jupyter-widgets/base",
          "model_name": "LayoutModel",
          "state": {
            "_view_name": "LayoutView",
            "grid_template_rows": null,
            "right": null,
            "justify_content": null,
            "_view_module": "@jupyter-widgets/base",
            "overflow": null,
            "_model_module_version": "1.2.0",
            "_view_count": null,
            "flex_flow": null,
            "width": null,
            "min_width": null,
            "border": null,
            "align_items": null,
            "bottom": null,
            "_model_module": "@jupyter-widgets/base",
            "top": null,
            "grid_column": null,
            "overflow_y": null,
            "overflow_x": null,
            "grid_auto_flow": null,
            "grid_area": null,
            "grid_template_columns": null,
            "flex": null,
            "_model_name": "LayoutModel",
            "justify_items": null,
            "grid_row": null,
            "max_height": null,
            "align_content": null,
            "visibility": null,
            "align_self": null,
            "height": null,
            "min_height": null,
            "padding": null,
            "grid_auto_rows": null,
            "grid_gap": null,
            "max_width": null,
            "order": null,
            "_view_module_version": "1.2.0",
            "grid_template_areas": null,
            "object_position": null,
            "object_fit": null,
            "grid_auto_columns": null,
            "margin": null,
            "display": null,
            "left": null
          }
        },
        "9ab70b642eed4839a92f6fc629586284": {
          "model_module": "@jupyter-widgets/controls",
          "model_name": "HBoxModel",
          "state": {
            "_view_name": "HBoxView",
            "_dom_classes": [],
            "_model_name": "HBoxModel",
            "_view_module": "@jupyter-widgets/controls",
            "_model_module_version": "1.5.0",
            "_view_count": null,
            "_view_module_version": "1.5.0",
            "box_style": "",
            "layout": "IPY_MODEL_a9f4ec54c9d54891845b60412af88b7b",
            "_model_module": "@jupyter-widgets/controls",
            "children": [
              "IPY_MODEL_4fffe2342d6543dfb109b46b841b4fe6",
              "IPY_MODEL_dc0fa1d7e6f54f67a0ab7ae66d924cf3"
            ]
          }
        },
        "a9f4ec54c9d54891845b60412af88b7b": {
          "model_module": "@jupyter-widgets/base",
          "model_name": "LayoutModel",
          "state": {
            "_view_name": "LayoutView",
            "grid_template_rows": null,
            "right": null,
            "justify_content": null,
            "_view_module": "@jupyter-widgets/base",
            "overflow": null,
            "_model_module_version": "1.2.0",
            "_view_count": null,
            "flex_flow": null,
            "width": null,
            "min_width": null,
            "border": null,
            "align_items": null,
            "bottom": null,
            "_model_module": "@jupyter-widgets/base",
            "top": null,
            "grid_column": null,
            "overflow_y": null,
            "overflow_x": null,
            "grid_auto_flow": null,
            "grid_area": null,
            "grid_template_columns": null,
            "flex": null,
            "_model_name": "LayoutModel",
            "justify_items": null,
            "grid_row": null,
            "max_height": null,
            "align_content": null,
            "visibility": null,
            "align_self": null,
            "height": null,
            "min_height": null,
            "padding": null,
            "grid_auto_rows": null,
            "grid_gap": null,
            "max_width": null,
            "order": null,
            "_view_module_version": "1.2.0",
            "grid_template_areas": null,
            "object_position": null,
            "object_fit": null,
            "grid_auto_columns": null,
            "margin": null,
            "display": null,
            "left": null
          }
        },
        "4fffe2342d6543dfb109b46b841b4fe6": {
          "model_module": "@jupyter-widgets/controls",
          "model_name": "FloatProgressModel",
          "state": {
            "_view_name": "ProgressView",
            "style": "IPY_MODEL_f2858bc904ed44fd95af60286fc69887",
            "_dom_classes": [],
            "description": "Epoch: 2: 100%",
            "_model_name": "FloatProgressModel",
            "bar_style": "",
            "max": 57,
            "_view_module": "@jupyter-widgets/controls",
            "_model_module_version": "1.5.0",
            "value": 57,
            "_view_count": null,
            "_view_module_version": "1.5.0",
            "orientation": "horizontal",
            "min": 0,
            "description_tooltip": null,
            "_model_module": "@jupyter-widgets/controls",
            "layout": "IPY_MODEL_41cddaa15b9a47aab07ed460f09423f2"
          }
        },
        "dc0fa1d7e6f54f67a0ab7ae66d924cf3": {
          "model_module": "@jupyter-widgets/controls",
          "model_name": "HTMLModel",
          "state": {
            "_view_name": "HTMLView",
            "style": "IPY_MODEL_d3fc18090b6b40d3b3a6e1cfbd0ec672",
            "_dom_classes": [],
            "description": "",
            "_model_name": "HTMLModel",
            "placeholder": "​",
            "_view_module": "@jupyter-widgets/controls",
            "_model_module_version": "1.5.0",
            "value": " 57/57 [01:19&lt;00:00,  1.34s/it, batch_loss=1.292]",
            "_view_count": null,
            "_view_module_version": "1.5.0",
            "description_tooltip": null,
            "_model_module": "@jupyter-widgets/controls",
            "layout": "IPY_MODEL_9dddf5ebb2fe414b95ee6bad084d46b1"
          }
        },
        "f2858bc904ed44fd95af60286fc69887": {
          "model_module": "@jupyter-widgets/controls",
          "model_name": "ProgressStyleModel",
          "state": {
            "_view_name": "StyleView",
            "_model_name": "ProgressStyleModel",
            "description_width": "initial",
            "_view_module": "@jupyter-widgets/base",
            "_model_module_version": "1.5.0",
            "_view_count": null,
            "_view_module_version": "1.2.0",
            "bar_color": null,
            "_model_module": "@jupyter-widgets/controls"
          }
        },
        "41cddaa15b9a47aab07ed460f09423f2": {
          "model_module": "@jupyter-widgets/base",
          "model_name": "LayoutModel",
          "state": {
            "_view_name": "LayoutView",
            "grid_template_rows": null,
            "right": null,
            "justify_content": null,
            "_view_module": "@jupyter-widgets/base",
            "overflow": null,
            "_model_module_version": "1.2.0",
            "_view_count": null,
            "flex_flow": null,
            "width": null,
            "min_width": null,
            "border": null,
            "align_items": null,
            "bottom": null,
            "_model_module": "@jupyter-widgets/base",
            "top": null,
            "grid_column": null,
            "overflow_y": null,
            "overflow_x": null,
            "grid_auto_flow": null,
            "grid_area": null,
            "grid_template_columns": null,
            "flex": null,
            "_model_name": "LayoutModel",
            "justify_items": null,
            "grid_row": null,
            "max_height": null,
            "align_content": null,
            "visibility": null,
            "align_self": null,
            "height": null,
            "min_height": null,
            "padding": null,
            "grid_auto_rows": null,
            "grid_gap": null,
            "max_width": null,
            "order": null,
            "_view_module_version": "1.2.0",
            "grid_template_areas": null,
            "object_position": null,
            "object_fit": null,
            "grid_auto_columns": null,
            "margin": null,
            "display": null,
            "left": null
          }
        },
        "d3fc18090b6b40d3b3a6e1cfbd0ec672": {
          "model_module": "@jupyter-widgets/controls",
          "model_name": "DescriptionStyleModel",
          "state": {
            "_view_name": "StyleView",
            "_model_name": "DescriptionStyleModel",
            "description_width": "",
            "_view_module": "@jupyter-widgets/base",
            "_model_module_version": "1.5.0",
            "_view_count": null,
            "_view_module_version": "1.2.0",
            "_model_module": "@jupyter-widgets/controls"
          }
        },
        "9dddf5ebb2fe414b95ee6bad084d46b1": {
          "model_module": "@jupyter-widgets/base",
          "model_name": "LayoutModel",
          "state": {
            "_view_name": "LayoutView",
            "grid_template_rows": null,
            "right": null,
            "justify_content": null,
            "_view_module": "@jupyter-widgets/base",
            "overflow": null,
            "_model_module_version": "1.2.0",
            "_view_count": null,
            "flex_flow": null,
            "width": null,
            "min_width": null,
            "border": null,
            "align_items": null,
            "bottom": null,
            "_model_module": "@jupyter-widgets/base",
            "top": null,
            "grid_column": null,
            "overflow_y": null,
            "overflow_x": null,
            "grid_auto_flow": null,
            "grid_area": null,
            "grid_template_columns": null,
            "flex": null,
            "_model_name": "LayoutModel",
            "justify_items": null,
            "grid_row": null,
            "max_height": null,
            "align_content": null,
            "visibility": null,
            "align_self": null,
            "height": null,
            "min_height": null,
            "padding": null,
            "grid_auto_rows": null,
            "grid_gap": null,
            "max_width": null,
            "order": null,
            "_view_module_version": "1.2.0",
            "grid_template_areas": null,
            "object_position": null,
            "object_fit": null,
            "grid_auto_columns": null,
            "margin": null,
            "display": null,
            "left": null
          }
        },
        "9f15fdf3af93491db1d7be68b940f778": {
          "model_module": "@jupyter-widgets/controls",
          "model_name": "HBoxModel",
          "state": {
            "_view_name": "HBoxView",
            "_dom_classes": [],
            "_model_name": "HBoxModel",
            "_view_module": "@jupyter-widgets/controls",
            "_model_module_version": "1.5.0",
            "_view_count": null,
            "_view_module_version": "1.5.0",
            "box_style": "",
            "layout": "IPY_MODEL_1ab12eb98a0146e5b364b18dd335c771",
            "_model_module": "@jupyter-widgets/controls",
            "children": [
              "IPY_MODEL_f217d7f5492b4b8c9d3bcc4ce36bb41b",
              "IPY_MODEL_5b41708322894b1b8e9cc8d0b322aaab"
            ]
          }
        },
        "1ab12eb98a0146e5b364b18dd335c771": {
          "model_module": "@jupyter-widgets/base",
          "model_name": "LayoutModel",
          "state": {
            "_view_name": "LayoutView",
            "grid_template_rows": null,
            "right": null,
            "justify_content": null,
            "_view_module": "@jupyter-widgets/base",
            "overflow": null,
            "_model_module_version": "1.2.0",
            "_view_count": null,
            "flex_flow": null,
            "width": null,
            "min_width": null,
            "border": null,
            "align_items": null,
            "bottom": null,
            "_model_module": "@jupyter-widgets/base",
            "top": null,
            "grid_column": null,
            "overflow_y": null,
            "overflow_x": null,
            "grid_auto_flow": null,
            "grid_area": null,
            "grid_template_columns": null,
            "flex": null,
            "_model_name": "LayoutModel",
            "justify_items": null,
            "grid_row": null,
            "max_height": null,
            "align_content": null,
            "visibility": null,
            "align_self": null,
            "height": null,
            "min_height": null,
            "padding": null,
            "grid_auto_rows": null,
            "grid_gap": null,
            "max_width": null,
            "order": null,
            "_view_module_version": "1.2.0",
            "grid_template_areas": null,
            "object_position": null,
            "object_fit": null,
            "grid_auto_columns": null,
            "margin": null,
            "display": null,
            "left": null
          }
        },
        "f217d7f5492b4b8c9d3bcc4ce36bb41b": {
          "model_module": "@jupyter-widgets/controls",
          "model_name": "FloatProgressModel",
          "state": {
            "_view_name": "ProgressView",
            "style": "IPY_MODEL_3239eafe5b054013b597bd906e8461a0",
            "_dom_classes": [],
            "description": "Epoch: 3: 100%",
            "_model_name": "FloatProgressModel",
            "bar_style": "",
            "max": 57,
            "_view_module": "@jupyter-widgets/controls",
            "_model_module_version": "1.5.0",
            "value": 57,
            "_view_count": null,
            "_view_module_version": "1.5.0",
            "orientation": "horizontal",
            "min": 0,
            "description_tooltip": null,
            "_model_module": "@jupyter-widgets/controls",
            "layout": "IPY_MODEL_854528186d414e39bfc93c388791c4bc"
          }
        },
        "5b41708322894b1b8e9cc8d0b322aaab": {
          "model_module": "@jupyter-widgets/controls",
          "model_name": "HTMLModel",
          "state": {
            "_view_name": "HTMLView",
            "style": "IPY_MODEL_73e92cb82a944382851b5acfba12b680",
            "_dom_classes": [],
            "description": "",
            "_model_name": "HTMLModel",
            "placeholder": "​",
            "_view_module": "@jupyter-widgets/controls",
            "_model_module_version": "1.5.0",
            "value": " 57/57 [01:19&lt;00:00,  1.34s/it, batch_loss=1.286]",
            "_view_count": null,
            "_view_module_version": "1.5.0",
            "description_tooltip": null,
            "_model_module": "@jupyter-widgets/controls",
            "layout": "IPY_MODEL_f041f69b1e204a719c69d625e1346425"
          }
        },
        "3239eafe5b054013b597bd906e8461a0": {
          "model_module": "@jupyter-widgets/controls",
          "model_name": "ProgressStyleModel",
          "state": {
            "_view_name": "StyleView",
            "_model_name": "ProgressStyleModel",
            "description_width": "initial",
            "_view_module": "@jupyter-widgets/base",
            "_model_module_version": "1.5.0",
            "_view_count": null,
            "_view_module_version": "1.2.0",
            "bar_color": null,
            "_model_module": "@jupyter-widgets/controls"
          }
        },
        "854528186d414e39bfc93c388791c4bc": {
          "model_module": "@jupyter-widgets/base",
          "model_name": "LayoutModel",
          "state": {
            "_view_name": "LayoutView",
            "grid_template_rows": null,
            "right": null,
            "justify_content": null,
            "_view_module": "@jupyter-widgets/base",
            "overflow": null,
            "_model_module_version": "1.2.0",
            "_view_count": null,
            "flex_flow": null,
            "width": null,
            "min_width": null,
            "border": null,
            "align_items": null,
            "bottom": null,
            "_model_module": "@jupyter-widgets/base",
            "top": null,
            "grid_column": null,
            "overflow_y": null,
            "overflow_x": null,
            "grid_auto_flow": null,
            "grid_area": null,
            "grid_template_columns": null,
            "flex": null,
            "_model_name": "LayoutModel",
            "justify_items": null,
            "grid_row": null,
            "max_height": null,
            "align_content": null,
            "visibility": null,
            "align_self": null,
            "height": null,
            "min_height": null,
            "padding": null,
            "grid_auto_rows": null,
            "grid_gap": null,
            "max_width": null,
            "order": null,
            "_view_module_version": "1.2.0",
            "grid_template_areas": null,
            "object_position": null,
            "object_fit": null,
            "grid_auto_columns": null,
            "margin": null,
            "display": null,
            "left": null
          }
        },
        "73e92cb82a944382851b5acfba12b680": {
          "model_module": "@jupyter-widgets/controls",
          "model_name": "DescriptionStyleModel",
          "state": {
            "_view_name": "StyleView",
            "_model_name": "DescriptionStyleModel",
            "description_width": "",
            "_view_module": "@jupyter-widgets/base",
            "_model_module_version": "1.5.0",
            "_view_count": null,
            "_view_module_version": "1.2.0",
            "_model_module": "@jupyter-widgets/controls"
          }
        },
        "f041f69b1e204a719c69d625e1346425": {
          "model_module": "@jupyter-widgets/base",
          "model_name": "LayoutModel",
          "state": {
            "_view_name": "LayoutView",
            "grid_template_rows": null,
            "right": null,
            "justify_content": null,
            "_view_module": "@jupyter-widgets/base",
            "overflow": null,
            "_model_module_version": "1.2.0",
            "_view_count": null,
            "flex_flow": null,
            "width": null,
            "min_width": null,
            "border": null,
            "align_items": null,
            "bottom": null,
            "_model_module": "@jupyter-widgets/base",
            "top": null,
            "grid_column": null,
            "overflow_y": null,
            "overflow_x": null,
            "grid_auto_flow": null,
            "grid_area": null,
            "grid_template_columns": null,
            "flex": null,
            "_model_name": "LayoutModel",
            "justify_items": null,
            "grid_row": null,
            "max_height": null,
            "align_content": null,
            "visibility": null,
            "align_self": null,
            "height": null,
            "min_height": null,
            "padding": null,
            "grid_auto_rows": null,
            "grid_gap": null,
            "max_width": null,
            "order": null,
            "_view_module_version": "1.2.0",
            "grid_template_areas": null,
            "object_position": null,
            "object_fit": null,
            "grid_auto_columns": null,
            "margin": null,
            "display": null,
            "left": null
          }
        },
        "b18b35c3cc4645ab822fae30bf1c930b": {
          "model_module": "@jupyter-widgets/controls",
          "model_name": "HBoxModel",
          "state": {
            "_view_name": "HBoxView",
            "_dom_classes": [],
            "_model_name": "HBoxModel",
            "_view_module": "@jupyter-widgets/controls",
            "_model_module_version": "1.5.0",
            "_view_count": null,
            "_view_module_version": "1.5.0",
            "box_style": "",
            "layout": "IPY_MODEL_cd46807c2f704fa683603635e2bcebde",
            "_model_module": "@jupyter-widgets/controls",
            "children": [
              "IPY_MODEL_9ca1af0b066840968170e3616297383d",
              "IPY_MODEL_212768e11d854c75b4682bbd7d30e692"
            ]
          }
        },
        "cd46807c2f704fa683603635e2bcebde": {
          "model_module": "@jupyter-widgets/base",
          "model_name": "LayoutModel",
          "state": {
            "_view_name": "LayoutView",
            "grid_template_rows": null,
            "right": null,
            "justify_content": null,
            "_view_module": "@jupyter-widgets/base",
            "overflow": null,
            "_model_module_version": "1.2.0",
            "_view_count": null,
            "flex_flow": null,
            "width": null,
            "min_width": null,
            "border": null,
            "align_items": null,
            "bottom": null,
            "_model_module": "@jupyter-widgets/base",
            "top": null,
            "grid_column": null,
            "overflow_y": null,
            "overflow_x": null,
            "grid_auto_flow": null,
            "grid_area": null,
            "grid_template_columns": null,
            "flex": null,
            "_model_name": "LayoutModel",
            "justify_items": null,
            "grid_row": null,
            "max_height": null,
            "align_content": null,
            "visibility": null,
            "align_self": null,
            "height": null,
            "min_height": null,
            "padding": null,
            "grid_auto_rows": null,
            "grid_gap": null,
            "max_width": null,
            "order": null,
            "_view_module_version": "1.2.0",
            "grid_template_areas": null,
            "object_position": null,
            "object_fit": null,
            "grid_auto_columns": null,
            "margin": null,
            "display": null,
            "left": null
          }
        },
        "9ca1af0b066840968170e3616297383d": {
          "model_module": "@jupyter-widgets/controls",
          "model_name": "FloatProgressModel",
          "state": {
            "_view_name": "ProgressView",
            "style": "IPY_MODEL_1f0189de75e14eb2a6d040b50d56ac55",
            "_dom_classes": [],
            "description": "Epoch: 4: 100%",
            "_model_name": "FloatProgressModel",
            "bar_style": "",
            "max": 57,
            "_view_module": "@jupyter-widgets/controls",
            "_model_module_version": "1.5.0",
            "value": 57,
            "_view_count": null,
            "_view_module_version": "1.5.0",
            "orientation": "horizontal",
            "min": 0,
            "description_tooltip": null,
            "_model_module": "@jupyter-widgets/controls",
            "layout": "IPY_MODEL_17f66db2eee5446894df5cdd3de9e061"
          }
        },
        "212768e11d854c75b4682bbd7d30e692": {
          "model_module": "@jupyter-widgets/controls",
          "model_name": "HTMLModel",
          "state": {
            "_view_name": "HTMLView",
            "style": "IPY_MODEL_0ced0fb3262944e38001f24fccc44669",
            "_dom_classes": [],
            "description": "",
            "_model_name": "HTMLModel",
            "placeholder": "​",
            "_view_module": "@jupyter-widgets/controls",
            "_model_module_version": "1.5.0",
            "value": " 57/57 [01:19&lt;00:00,  1.35s/it, batch_loss=1.321]",
            "_view_count": null,
            "_view_module_version": "1.5.0",
            "description_tooltip": null,
            "_model_module": "@jupyter-widgets/controls",
            "layout": "IPY_MODEL_f2ac599ba7bf4e41a849e1638b09ce95"
          }
        },
        "1f0189de75e14eb2a6d040b50d56ac55": {
          "model_module": "@jupyter-widgets/controls",
          "model_name": "ProgressStyleModel",
          "state": {
            "_view_name": "StyleView",
            "_model_name": "ProgressStyleModel",
            "description_width": "initial",
            "_view_module": "@jupyter-widgets/base",
            "_model_module_version": "1.5.0",
            "_view_count": null,
            "_view_module_version": "1.2.0",
            "bar_color": null,
            "_model_module": "@jupyter-widgets/controls"
          }
        },
        "17f66db2eee5446894df5cdd3de9e061": {
          "model_module": "@jupyter-widgets/base",
          "model_name": "LayoutModel",
          "state": {
            "_view_name": "LayoutView",
            "grid_template_rows": null,
            "right": null,
            "justify_content": null,
            "_view_module": "@jupyter-widgets/base",
            "overflow": null,
            "_model_module_version": "1.2.0",
            "_view_count": null,
            "flex_flow": null,
            "width": null,
            "min_width": null,
            "border": null,
            "align_items": null,
            "bottom": null,
            "_model_module": "@jupyter-widgets/base",
            "top": null,
            "grid_column": null,
            "overflow_y": null,
            "overflow_x": null,
            "grid_auto_flow": null,
            "grid_area": null,
            "grid_template_columns": null,
            "flex": null,
            "_model_name": "LayoutModel",
            "justify_items": null,
            "grid_row": null,
            "max_height": null,
            "align_content": null,
            "visibility": null,
            "align_self": null,
            "height": null,
            "min_height": null,
            "padding": null,
            "grid_auto_rows": null,
            "grid_gap": null,
            "max_width": null,
            "order": null,
            "_view_module_version": "1.2.0",
            "grid_template_areas": null,
            "object_position": null,
            "object_fit": null,
            "grid_auto_columns": null,
            "margin": null,
            "display": null,
            "left": null
          }
        },
        "0ced0fb3262944e38001f24fccc44669": {
          "model_module": "@jupyter-widgets/controls",
          "model_name": "DescriptionStyleModel",
          "state": {
            "_view_name": "StyleView",
            "_model_name": "DescriptionStyleModel",
            "description_width": "",
            "_view_module": "@jupyter-widgets/base",
            "_model_module_version": "1.5.0",
            "_view_count": null,
            "_view_module_version": "1.2.0",
            "_model_module": "@jupyter-widgets/controls"
          }
        },
        "f2ac599ba7bf4e41a849e1638b09ce95": {
          "model_module": "@jupyter-widgets/base",
          "model_name": "LayoutModel",
          "state": {
            "_view_name": "LayoutView",
            "grid_template_rows": null,
            "right": null,
            "justify_content": null,
            "_view_module": "@jupyter-widgets/base",
            "overflow": null,
            "_model_module_version": "1.2.0",
            "_view_count": null,
            "flex_flow": null,
            "width": null,
            "min_width": null,
            "border": null,
            "align_items": null,
            "bottom": null,
            "_model_module": "@jupyter-widgets/base",
            "top": null,
            "grid_column": null,
            "overflow_y": null,
            "overflow_x": null,
            "grid_auto_flow": null,
            "grid_area": null,
            "grid_template_columns": null,
            "flex": null,
            "_model_name": "LayoutModel",
            "justify_items": null,
            "grid_row": null,
            "max_height": null,
            "align_content": null,
            "visibility": null,
            "align_self": null,
            "height": null,
            "min_height": null,
            "padding": null,
            "grid_auto_rows": null,
            "grid_gap": null,
            "max_width": null,
            "order": null,
            "_view_module_version": "1.2.0",
            "grid_template_areas": null,
            "object_position": null,
            "object_fit": null,
            "grid_auto_columns": null,
            "margin": null,
            "display": null,
            "left": null
          }
        },
        "a4689da998a049b28375ac00e6b51d56": {
          "model_module": "@jupyter-widgets/controls",
          "model_name": "HBoxModel",
          "state": {
            "_view_name": "HBoxView",
            "_dom_classes": [],
            "_model_name": "HBoxModel",
            "_view_module": "@jupyter-widgets/controls",
            "_model_module_version": "1.5.0",
            "_view_count": null,
            "_view_module_version": "1.5.0",
            "box_style": "",
            "layout": "IPY_MODEL_5cd5ca5b7c26430093ac9f18d7e383b1",
            "_model_module": "@jupyter-widgets/controls",
            "children": [
              "IPY_MODEL_28904d7e9add4f85aa40a54d6ba360c7",
              "IPY_MODEL_3fa5640b34f54e6e8560a0779d4390af"
            ]
          }
        },
        "5cd5ca5b7c26430093ac9f18d7e383b1": {
          "model_module": "@jupyter-widgets/base",
          "model_name": "LayoutModel",
          "state": {
            "_view_name": "LayoutView",
            "grid_template_rows": null,
            "right": null,
            "justify_content": null,
            "_view_module": "@jupyter-widgets/base",
            "overflow": null,
            "_model_module_version": "1.2.0",
            "_view_count": null,
            "flex_flow": null,
            "width": null,
            "min_width": null,
            "border": null,
            "align_items": null,
            "bottom": null,
            "_model_module": "@jupyter-widgets/base",
            "top": null,
            "grid_column": null,
            "overflow_y": null,
            "overflow_x": null,
            "grid_auto_flow": null,
            "grid_area": null,
            "grid_template_columns": null,
            "flex": null,
            "_model_name": "LayoutModel",
            "justify_items": null,
            "grid_row": null,
            "max_height": null,
            "align_content": null,
            "visibility": null,
            "align_self": null,
            "height": null,
            "min_height": null,
            "padding": null,
            "grid_auto_rows": null,
            "grid_gap": null,
            "max_width": null,
            "order": null,
            "_view_module_version": "1.2.0",
            "grid_template_areas": null,
            "object_position": null,
            "object_fit": null,
            "grid_auto_columns": null,
            "margin": null,
            "display": null,
            "left": null
          }
        },
        "28904d7e9add4f85aa40a54d6ba360c7": {
          "model_module": "@jupyter-widgets/controls",
          "model_name": "FloatProgressModel",
          "state": {
            "_view_name": "ProgressView",
            "style": "IPY_MODEL_ad55870235b547fa9432a8eb89fff643",
            "_dom_classes": [],
            "description": "Epoch: 5: 100%",
            "_model_name": "FloatProgressModel",
            "bar_style": "",
            "max": 57,
            "_view_module": "@jupyter-widgets/controls",
            "_model_module_version": "1.5.0",
            "value": 57,
            "_view_count": null,
            "_view_module_version": "1.5.0",
            "orientation": "horizontal",
            "min": 0,
            "description_tooltip": null,
            "_model_module": "@jupyter-widgets/controls",
            "layout": "IPY_MODEL_4812c70012194f0ab56bd257119d6f09"
          }
        },
        "3fa5640b34f54e6e8560a0779d4390af": {
          "model_module": "@jupyter-widgets/controls",
          "model_name": "HTMLModel",
          "state": {
            "_view_name": "HTMLView",
            "style": "IPY_MODEL_5218b51f41e64098b2444cf067d3f676",
            "_dom_classes": [],
            "description": "",
            "_model_name": "HTMLModel",
            "placeholder": "​",
            "_view_module": "@jupyter-widgets/controls",
            "_model_module_version": "1.5.0",
            "value": " 57/57 [01:18&lt;00:00,  1.35s/it, batch_loss=1.342]",
            "_view_count": null,
            "_view_module_version": "1.5.0",
            "description_tooltip": null,
            "_model_module": "@jupyter-widgets/controls",
            "layout": "IPY_MODEL_d1018b6c6f5b4916af44448939343bde"
          }
        },
        "ad55870235b547fa9432a8eb89fff643": {
          "model_module": "@jupyter-widgets/controls",
          "model_name": "ProgressStyleModel",
          "state": {
            "_view_name": "StyleView",
            "_model_name": "ProgressStyleModel",
            "description_width": "initial",
            "_view_module": "@jupyter-widgets/base",
            "_model_module_version": "1.5.0",
            "_view_count": null,
            "_view_module_version": "1.2.0",
            "bar_color": null,
            "_model_module": "@jupyter-widgets/controls"
          }
        },
        "4812c70012194f0ab56bd257119d6f09": {
          "model_module": "@jupyter-widgets/base",
          "model_name": "LayoutModel",
          "state": {
            "_view_name": "LayoutView",
            "grid_template_rows": null,
            "right": null,
            "justify_content": null,
            "_view_module": "@jupyter-widgets/base",
            "overflow": null,
            "_model_module_version": "1.2.0",
            "_view_count": null,
            "flex_flow": null,
            "width": null,
            "min_width": null,
            "border": null,
            "align_items": null,
            "bottom": null,
            "_model_module": "@jupyter-widgets/base",
            "top": null,
            "grid_column": null,
            "overflow_y": null,
            "overflow_x": null,
            "grid_auto_flow": null,
            "grid_area": null,
            "grid_template_columns": null,
            "flex": null,
            "_model_name": "LayoutModel",
            "justify_items": null,
            "grid_row": null,
            "max_height": null,
            "align_content": null,
            "visibility": null,
            "align_self": null,
            "height": null,
            "min_height": null,
            "padding": null,
            "grid_auto_rows": null,
            "grid_gap": null,
            "max_width": null,
            "order": null,
            "_view_module_version": "1.2.0",
            "grid_template_areas": null,
            "object_position": null,
            "object_fit": null,
            "grid_auto_columns": null,
            "margin": null,
            "display": null,
            "left": null
          }
        },
        "5218b51f41e64098b2444cf067d3f676": {
          "model_module": "@jupyter-widgets/controls",
          "model_name": "DescriptionStyleModel",
          "state": {
            "_view_name": "StyleView",
            "_model_name": "DescriptionStyleModel",
            "description_width": "",
            "_view_module": "@jupyter-widgets/base",
            "_model_module_version": "1.5.0",
            "_view_count": null,
            "_view_module_version": "1.2.0",
            "_model_module": "@jupyter-widgets/controls"
          }
        },
        "d1018b6c6f5b4916af44448939343bde": {
          "model_module": "@jupyter-widgets/base",
          "model_name": "LayoutModel",
          "state": {
            "_view_name": "LayoutView",
            "grid_template_rows": null,
            "right": null,
            "justify_content": null,
            "_view_module": "@jupyter-widgets/base",
            "overflow": null,
            "_model_module_version": "1.2.0",
            "_view_count": null,
            "flex_flow": null,
            "width": null,
            "min_width": null,
            "border": null,
            "align_items": null,
            "bottom": null,
            "_model_module": "@jupyter-widgets/base",
            "top": null,
            "grid_column": null,
            "overflow_y": null,
            "overflow_x": null,
            "grid_auto_flow": null,
            "grid_area": null,
            "grid_template_columns": null,
            "flex": null,
            "_model_name": "LayoutModel",
            "justify_items": null,
            "grid_row": null,
            "max_height": null,
            "align_content": null,
            "visibility": null,
            "align_self": null,
            "height": null,
            "min_height": null,
            "padding": null,
            "grid_auto_rows": null,
            "grid_gap": null,
            "max_width": null,
            "order": null,
            "_view_module_version": "1.2.0",
            "grid_template_areas": null,
            "object_position": null,
            "object_fit": null,
            "grid_auto_columns": null,
            "margin": null,
            "display": null,
            "left": null
          }
        },
        "4c2622a0acd44246944d2faf2631b424": {
          "model_module": "@jupyter-widgets/controls",
          "model_name": "HBoxModel",
          "state": {
            "_view_name": "HBoxView",
            "_dom_classes": [],
            "_model_name": "HBoxModel",
            "_view_module": "@jupyter-widgets/controls",
            "_model_module_version": "1.5.0",
            "_view_count": null,
            "_view_module_version": "1.5.0",
            "box_style": "",
            "layout": "IPY_MODEL_5b210f23e8f34d8da05dd0660534e64a",
            "_model_module": "@jupyter-widgets/controls",
            "children": [
              "IPY_MODEL_f49ed9e81f1e48489b8b39d37d6367b5",
              "IPY_MODEL_0e0b19f172aa4029b2cab5239219e366"
            ]
          }
        },
        "5b210f23e8f34d8da05dd0660534e64a": {
          "model_module": "@jupyter-widgets/base",
          "model_name": "LayoutModel",
          "state": {
            "_view_name": "LayoutView",
            "grid_template_rows": null,
            "right": null,
            "justify_content": null,
            "_view_module": "@jupyter-widgets/base",
            "overflow": null,
            "_model_module_version": "1.2.0",
            "_view_count": null,
            "flex_flow": null,
            "width": null,
            "min_width": null,
            "border": null,
            "align_items": null,
            "bottom": null,
            "_model_module": "@jupyter-widgets/base",
            "top": null,
            "grid_column": null,
            "overflow_y": null,
            "overflow_x": null,
            "grid_auto_flow": null,
            "grid_area": null,
            "grid_template_columns": null,
            "flex": null,
            "_model_name": "LayoutModel",
            "justify_items": null,
            "grid_row": null,
            "max_height": null,
            "align_content": null,
            "visibility": null,
            "align_self": null,
            "height": null,
            "min_height": null,
            "padding": null,
            "grid_auto_rows": null,
            "grid_gap": null,
            "max_width": null,
            "order": null,
            "_view_module_version": "1.2.0",
            "grid_template_areas": null,
            "object_position": null,
            "object_fit": null,
            "grid_auto_columns": null,
            "margin": null,
            "display": null,
            "left": null
          }
        },
        "f49ed9e81f1e48489b8b39d37d6367b5": {
          "model_module": "@jupyter-widgets/controls",
          "model_name": "FloatProgressModel",
          "state": {
            "_view_name": "ProgressView",
            "style": "IPY_MODEL_c673f70fe903474e93ea030f05e2843f",
            "_dom_classes": [],
            "description": "Epoch: 6: 100%",
            "_model_name": "FloatProgressModel",
            "bar_style": "",
            "max": 57,
            "_view_module": "@jupyter-widgets/controls",
            "_model_module_version": "1.5.0",
            "value": 57,
            "_view_count": null,
            "_view_module_version": "1.5.0",
            "orientation": "horizontal",
            "min": 0,
            "description_tooltip": null,
            "_model_module": "@jupyter-widgets/controls",
            "layout": "IPY_MODEL_cb40e5da44244b419d1474c8d6aabe42"
          }
        },
        "0e0b19f172aa4029b2cab5239219e366": {
          "model_module": "@jupyter-widgets/controls",
          "model_name": "HTMLModel",
          "state": {
            "_view_name": "HTMLView",
            "style": "IPY_MODEL_8ea451fe16a142f68104dc19296a5d9e",
            "_dom_classes": [],
            "description": "",
            "_model_name": "HTMLModel",
            "placeholder": "​",
            "_view_module": "@jupyter-widgets/controls",
            "_model_module_version": "1.5.0",
            "value": " 57/57 [01:18&lt;00:00,  1.33s/it, batch_loss=1.133]",
            "_view_count": null,
            "_view_module_version": "1.5.0",
            "description_tooltip": null,
            "_model_module": "@jupyter-widgets/controls",
            "layout": "IPY_MODEL_0ee1d94395024dc2af5c35dc811af8d3"
          }
        },
        "c673f70fe903474e93ea030f05e2843f": {
          "model_module": "@jupyter-widgets/controls",
          "model_name": "ProgressStyleModel",
          "state": {
            "_view_name": "StyleView",
            "_model_name": "ProgressStyleModel",
            "description_width": "initial",
            "_view_module": "@jupyter-widgets/base",
            "_model_module_version": "1.5.0",
            "_view_count": null,
            "_view_module_version": "1.2.0",
            "bar_color": null,
            "_model_module": "@jupyter-widgets/controls"
          }
        },
        "cb40e5da44244b419d1474c8d6aabe42": {
          "model_module": "@jupyter-widgets/base",
          "model_name": "LayoutModel",
          "state": {
            "_view_name": "LayoutView",
            "grid_template_rows": null,
            "right": null,
            "justify_content": null,
            "_view_module": "@jupyter-widgets/base",
            "overflow": null,
            "_model_module_version": "1.2.0",
            "_view_count": null,
            "flex_flow": null,
            "width": null,
            "min_width": null,
            "border": null,
            "align_items": null,
            "bottom": null,
            "_model_module": "@jupyter-widgets/base",
            "top": null,
            "grid_column": null,
            "overflow_y": null,
            "overflow_x": null,
            "grid_auto_flow": null,
            "grid_area": null,
            "grid_template_columns": null,
            "flex": null,
            "_model_name": "LayoutModel",
            "justify_items": null,
            "grid_row": null,
            "max_height": null,
            "align_content": null,
            "visibility": null,
            "align_self": null,
            "height": null,
            "min_height": null,
            "padding": null,
            "grid_auto_rows": null,
            "grid_gap": null,
            "max_width": null,
            "order": null,
            "_view_module_version": "1.2.0",
            "grid_template_areas": null,
            "object_position": null,
            "object_fit": null,
            "grid_auto_columns": null,
            "margin": null,
            "display": null,
            "left": null
          }
        },
        "8ea451fe16a142f68104dc19296a5d9e": {
          "model_module": "@jupyter-widgets/controls",
          "model_name": "DescriptionStyleModel",
          "state": {
            "_view_name": "StyleView",
            "_model_name": "DescriptionStyleModel",
            "description_width": "",
            "_view_module": "@jupyter-widgets/base",
            "_model_module_version": "1.5.0",
            "_view_count": null,
            "_view_module_version": "1.2.0",
            "_model_module": "@jupyter-widgets/controls"
          }
        },
        "0ee1d94395024dc2af5c35dc811af8d3": {
          "model_module": "@jupyter-widgets/base",
          "model_name": "LayoutModel",
          "state": {
            "_view_name": "LayoutView",
            "grid_template_rows": null,
            "right": null,
            "justify_content": null,
            "_view_module": "@jupyter-widgets/base",
            "overflow": null,
            "_model_module_version": "1.2.0",
            "_view_count": null,
            "flex_flow": null,
            "width": null,
            "min_width": null,
            "border": null,
            "align_items": null,
            "bottom": null,
            "_model_module": "@jupyter-widgets/base",
            "top": null,
            "grid_column": null,
            "overflow_y": null,
            "overflow_x": null,
            "grid_auto_flow": null,
            "grid_area": null,
            "grid_template_columns": null,
            "flex": null,
            "_model_name": "LayoutModel",
            "justify_items": null,
            "grid_row": null,
            "max_height": null,
            "align_content": null,
            "visibility": null,
            "align_self": null,
            "height": null,
            "min_height": null,
            "padding": null,
            "grid_auto_rows": null,
            "grid_gap": null,
            "max_width": null,
            "order": null,
            "_view_module_version": "1.2.0",
            "grid_template_areas": null,
            "object_position": null,
            "object_fit": null,
            "grid_auto_columns": null,
            "margin": null,
            "display": null,
            "left": null
          }
        },
        "f478a152b7024616a3d15a1ba147e281": {
          "model_module": "@jupyter-widgets/controls",
          "model_name": "HBoxModel",
          "state": {
            "_view_name": "HBoxView",
            "_dom_classes": [],
            "_model_name": "HBoxModel",
            "_view_module": "@jupyter-widgets/controls",
            "_model_module_version": "1.5.0",
            "_view_count": null,
            "_view_module_version": "1.5.0",
            "box_style": "",
            "layout": "IPY_MODEL_129a66a43020420e8d962c469dec699c",
            "_model_module": "@jupyter-widgets/controls",
            "children": [
              "IPY_MODEL_af43772c9fc94ceb8d365ceb68e89bfc",
              "IPY_MODEL_e14adbb7febd49a7ac2ee546a64601e2"
            ]
          }
        },
        "129a66a43020420e8d962c469dec699c": {
          "model_module": "@jupyter-widgets/base",
          "model_name": "LayoutModel",
          "state": {
            "_view_name": "LayoutView",
            "grid_template_rows": null,
            "right": null,
            "justify_content": null,
            "_view_module": "@jupyter-widgets/base",
            "overflow": null,
            "_model_module_version": "1.2.0",
            "_view_count": null,
            "flex_flow": null,
            "width": null,
            "min_width": null,
            "border": null,
            "align_items": null,
            "bottom": null,
            "_model_module": "@jupyter-widgets/base",
            "top": null,
            "grid_column": null,
            "overflow_y": null,
            "overflow_x": null,
            "grid_auto_flow": null,
            "grid_area": null,
            "grid_template_columns": null,
            "flex": null,
            "_model_name": "LayoutModel",
            "justify_items": null,
            "grid_row": null,
            "max_height": null,
            "align_content": null,
            "visibility": null,
            "align_self": null,
            "height": null,
            "min_height": null,
            "padding": null,
            "grid_auto_rows": null,
            "grid_gap": null,
            "max_width": null,
            "order": null,
            "_view_module_version": "1.2.0",
            "grid_template_areas": null,
            "object_position": null,
            "object_fit": null,
            "grid_auto_columns": null,
            "margin": null,
            "display": null,
            "left": null
          }
        },
        "af43772c9fc94ceb8d365ceb68e89bfc": {
          "model_module": "@jupyter-widgets/controls",
          "model_name": "FloatProgressModel",
          "state": {
            "_view_name": "ProgressView",
            "style": "IPY_MODEL_cc3e972f371c454e854b30aba21b94c5",
            "_dom_classes": [],
            "description": "Epoch: 7: 100%",
            "_model_name": "FloatProgressModel",
            "bar_style": "",
            "max": 57,
            "_view_module": "@jupyter-widgets/controls",
            "_model_module_version": "1.5.0",
            "value": 57,
            "_view_count": null,
            "_view_module_version": "1.5.0",
            "orientation": "horizontal",
            "min": 0,
            "description_tooltip": null,
            "_model_module": "@jupyter-widgets/controls",
            "layout": "IPY_MODEL_a666bcf804ea4d27ba023d207aeed390"
          }
        },
        "e14adbb7febd49a7ac2ee546a64601e2": {
          "model_module": "@jupyter-widgets/controls",
          "model_name": "HTMLModel",
          "state": {
            "_view_name": "HTMLView",
            "style": "IPY_MODEL_08f03d8c5e104cf79a72b8ea76c0dd76",
            "_dom_classes": [],
            "description": "",
            "_model_name": "HTMLModel",
            "placeholder": "​",
            "_view_module": "@jupyter-widgets/controls",
            "_model_module_version": "1.5.0",
            "value": " 57/57 [01:19&lt;00:00,  1.33s/it, batch_loss=1.294]",
            "_view_count": null,
            "_view_module_version": "1.5.0",
            "description_tooltip": null,
            "_model_module": "@jupyter-widgets/controls",
            "layout": "IPY_MODEL_2665c5937e8a413b97657f37a5aca24e"
          }
        },
        "cc3e972f371c454e854b30aba21b94c5": {
          "model_module": "@jupyter-widgets/controls",
          "model_name": "ProgressStyleModel",
          "state": {
            "_view_name": "StyleView",
            "_model_name": "ProgressStyleModel",
            "description_width": "initial",
            "_view_module": "@jupyter-widgets/base",
            "_model_module_version": "1.5.0",
            "_view_count": null,
            "_view_module_version": "1.2.0",
            "bar_color": null,
            "_model_module": "@jupyter-widgets/controls"
          }
        },
        "a666bcf804ea4d27ba023d207aeed390": {
          "model_module": "@jupyter-widgets/base",
          "model_name": "LayoutModel",
          "state": {
            "_view_name": "LayoutView",
            "grid_template_rows": null,
            "right": null,
            "justify_content": null,
            "_view_module": "@jupyter-widgets/base",
            "overflow": null,
            "_model_module_version": "1.2.0",
            "_view_count": null,
            "flex_flow": null,
            "width": null,
            "min_width": null,
            "border": null,
            "align_items": null,
            "bottom": null,
            "_model_module": "@jupyter-widgets/base",
            "top": null,
            "grid_column": null,
            "overflow_y": null,
            "overflow_x": null,
            "grid_auto_flow": null,
            "grid_area": null,
            "grid_template_columns": null,
            "flex": null,
            "_model_name": "LayoutModel",
            "justify_items": null,
            "grid_row": null,
            "max_height": null,
            "align_content": null,
            "visibility": null,
            "align_self": null,
            "height": null,
            "min_height": null,
            "padding": null,
            "grid_auto_rows": null,
            "grid_gap": null,
            "max_width": null,
            "order": null,
            "_view_module_version": "1.2.0",
            "grid_template_areas": null,
            "object_position": null,
            "object_fit": null,
            "grid_auto_columns": null,
            "margin": null,
            "display": null,
            "left": null
          }
        },
        "08f03d8c5e104cf79a72b8ea76c0dd76": {
          "model_module": "@jupyter-widgets/controls",
          "model_name": "DescriptionStyleModel",
          "state": {
            "_view_name": "StyleView",
            "_model_name": "DescriptionStyleModel",
            "description_width": "",
            "_view_module": "@jupyter-widgets/base",
            "_model_module_version": "1.5.0",
            "_view_count": null,
            "_view_module_version": "1.2.0",
            "_model_module": "@jupyter-widgets/controls"
          }
        },
        "2665c5937e8a413b97657f37a5aca24e": {
          "model_module": "@jupyter-widgets/base",
          "model_name": "LayoutModel",
          "state": {
            "_view_name": "LayoutView",
            "grid_template_rows": null,
            "right": null,
            "justify_content": null,
            "_view_module": "@jupyter-widgets/base",
            "overflow": null,
            "_model_module_version": "1.2.0",
            "_view_count": null,
            "flex_flow": null,
            "width": null,
            "min_width": null,
            "border": null,
            "align_items": null,
            "bottom": null,
            "_model_module": "@jupyter-widgets/base",
            "top": null,
            "grid_column": null,
            "overflow_y": null,
            "overflow_x": null,
            "grid_auto_flow": null,
            "grid_area": null,
            "grid_template_columns": null,
            "flex": null,
            "_model_name": "LayoutModel",
            "justify_items": null,
            "grid_row": null,
            "max_height": null,
            "align_content": null,
            "visibility": null,
            "align_self": null,
            "height": null,
            "min_height": null,
            "padding": null,
            "grid_auto_rows": null,
            "grid_gap": null,
            "max_width": null,
            "order": null,
            "_view_module_version": "1.2.0",
            "grid_template_areas": null,
            "object_position": null,
            "object_fit": null,
            "grid_auto_columns": null,
            "margin": null,
            "display": null,
            "left": null
          }
        },
        "9d039650c3b54bba9b35ba075b912fbe": {
          "model_module": "@jupyter-widgets/controls",
          "model_name": "HBoxModel",
          "state": {
            "_view_name": "HBoxView",
            "_dom_classes": [],
            "_model_name": "HBoxModel",
            "_view_module": "@jupyter-widgets/controls",
            "_model_module_version": "1.5.0",
            "_view_count": null,
            "_view_module_version": "1.5.0",
            "box_style": "",
            "layout": "IPY_MODEL_ee7cf427ca474c2fac607a6a46486418",
            "_model_module": "@jupyter-widgets/controls",
            "children": [
              "IPY_MODEL_e874edc98e094993991d05d309f20a1a",
              "IPY_MODEL_932b9eb787154bcd9311430d33718a75"
            ]
          }
        },
        "ee7cf427ca474c2fac607a6a46486418": {
          "model_module": "@jupyter-widgets/base",
          "model_name": "LayoutModel",
          "state": {
            "_view_name": "LayoutView",
            "grid_template_rows": null,
            "right": null,
            "justify_content": null,
            "_view_module": "@jupyter-widgets/base",
            "overflow": null,
            "_model_module_version": "1.2.0",
            "_view_count": null,
            "flex_flow": null,
            "width": null,
            "min_width": null,
            "border": null,
            "align_items": null,
            "bottom": null,
            "_model_module": "@jupyter-widgets/base",
            "top": null,
            "grid_column": null,
            "overflow_y": null,
            "overflow_x": null,
            "grid_auto_flow": null,
            "grid_area": null,
            "grid_template_columns": null,
            "flex": null,
            "_model_name": "LayoutModel",
            "justify_items": null,
            "grid_row": null,
            "max_height": null,
            "align_content": null,
            "visibility": null,
            "align_self": null,
            "height": null,
            "min_height": null,
            "padding": null,
            "grid_auto_rows": null,
            "grid_gap": null,
            "max_width": null,
            "order": null,
            "_view_module_version": "1.2.0",
            "grid_template_areas": null,
            "object_position": null,
            "object_fit": null,
            "grid_auto_columns": null,
            "margin": null,
            "display": null,
            "left": null
          }
        },
        "e874edc98e094993991d05d309f20a1a": {
          "model_module": "@jupyter-widgets/controls",
          "model_name": "FloatProgressModel",
          "state": {
            "_view_name": "ProgressView",
            "style": "IPY_MODEL_2cfaaf4a4ffa440dba78016116f305c8",
            "_dom_classes": [],
            "description": "Epoch: 8: 100%",
            "_model_name": "FloatProgressModel",
            "bar_style": "",
            "max": 57,
            "_view_module": "@jupyter-widgets/controls",
            "_model_module_version": "1.5.0",
            "value": 57,
            "_view_count": null,
            "_view_module_version": "1.5.0",
            "orientation": "horizontal",
            "min": 0,
            "description_tooltip": null,
            "_model_module": "@jupyter-widgets/controls",
            "layout": "IPY_MODEL_3c303fe52d784f419ebbfb882cc39356"
          }
        },
        "932b9eb787154bcd9311430d33718a75": {
          "model_module": "@jupyter-widgets/controls",
          "model_name": "HTMLModel",
          "state": {
            "_view_name": "HTMLView",
            "style": "IPY_MODEL_50b21718bf304b5da41f7edb07705ee2",
            "_dom_classes": [],
            "description": "",
            "_model_name": "HTMLModel",
            "placeholder": "​",
            "_view_module": "@jupyter-widgets/controls",
            "_model_module_version": "1.5.0",
            "value": " 57/57 [01:18&lt;00:00,  1.35s/it, batch_loss=1.332]",
            "_view_count": null,
            "_view_module_version": "1.5.0",
            "description_tooltip": null,
            "_model_module": "@jupyter-widgets/controls",
            "layout": "IPY_MODEL_bbf39cf0ca7f4f55936fa35980b37493"
          }
        },
        "2cfaaf4a4ffa440dba78016116f305c8": {
          "model_module": "@jupyter-widgets/controls",
          "model_name": "ProgressStyleModel",
          "state": {
            "_view_name": "StyleView",
            "_model_name": "ProgressStyleModel",
            "description_width": "initial",
            "_view_module": "@jupyter-widgets/base",
            "_model_module_version": "1.5.0",
            "_view_count": null,
            "_view_module_version": "1.2.0",
            "bar_color": null,
            "_model_module": "@jupyter-widgets/controls"
          }
        },
        "3c303fe52d784f419ebbfb882cc39356": {
          "model_module": "@jupyter-widgets/base",
          "model_name": "LayoutModel",
          "state": {
            "_view_name": "LayoutView",
            "grid_template_rows": null,
            "right": null,
            "justify_content": null,
            "_view_module": "@jupyter-widgets/base",
            "overflow": null,
            "_model_module_version": "1.2.0",
            "_view_count": null,
            "flex_flow": null,
            "width": null,
            "min_width": null,
            "border": null,
            "align_items": null,
            "bottom": null,
            "_model_module": "@jupyter-widgets/base",
            "top": null,
            "grid_column": null,
            "overflow_y": null,
            "overflow_x": null,
            "grid_auto_flow": null,
            "grid_area": null,
            "grid_template_columns": null,
            "flex": null,
            "_model_name": "LayoutModel",
            "justify_items": null,
            "grid_row": null,
            "max_height": null,
            "align_content": null,
            "visibility": null,
            "align_self": null,
            "height": null,
            "min_height": null,
            "padding": null,
            "grid_auto_rows": null,
            "grid_gap": null,
            "max_width": null,
            "order": null,
            "_view_module_version": "1.2.0",
            "grid_template_areas": null,
            "object_position": null,
            "object_fit": null,
            "grid_auto_columns": null,
            "margin": null,
            "display": null,
            "left": null
          }
        },
        "50b21718bf304b5da41f7edb07705ee2": {
          "model_module": "@jupyter-widgets/controls",
          "model_name": "DescriptionStyleModel",
          "state": {
            "_view_name": "StyleView",
            "_model_name": "DescriptionStyleModel",
            "description_width": "",
            "_view_module": "@jupyter-widgets/base",
            "_model_module_version": "1.5.0",
            "_view_count": null,
            "_view_module_version": "1.2.0",
            "_model_module": "@jupyter-widgets/controls"
          }
        },
        "bbf39cf0ca7f4f55936fa35980b37493": {
          "model_module": "@jupyter-widgets/base",
          "model_name": "LayoutModel",
          "state": {
            "_view_name": "LayoutView",
            "grid_template_rows": null,
            "right": null,
            "justify_content": null,
            "_view_module": "@jupyter-widgets/base",
            "overflow": null,
            "_model_module_version": "1.2.0",
            "_view_count": null,
            "flex_flow": null,
            "width": null,
            "min_width": null,
            "border": null,
            "align_items": null,
            "bottom": null,
            "_model_module": "@jupyter-widgets/base",
            "top": null,
            "grid_column": null,
            "overflow_y": null,
            "overflow_x": null,
            "grid_auto_flow": null,
            "grid_area": null,
            "grid_template_columns": null,
            "flex": null,
            "_model_name": "LayoutModel",
            "justify_items": null,
            "grid_row": null,
            "max_height": null,
            "align_content": null,
            "visibility": null,
            "align_self": null,
            "height": null,
            "min_height": null,
            "padding": null,
            "grid_auto_rows": null,
            "grid_gap": null,
            "max_width": null,
            "order": null,
            "_view_module_version": "1.2.0",
            "grid_template_areas": null,
            "object_position": null,
            "object_fit": null,
            "grid_auto_columns": null,
            "margin": null,
            "display": null,
            "left": null
          }
        },
        "5697ba49ed814f59988b031f04dafaac": {
          "model_module": "@jupyter-widgets/controls",
          "model_name": "HBoxModel",
          "state": {
            "_view_name": "HBoxView",
            "_dom_classes": [],
            "_model_name": "HBoxModel",
            "_view_module": "@jupyter-widgets/controls",
            "_model_module_version": "1.5.0",
            "_view_count": null,
            "_view_module_version": "1.5.0",
            "box_style": "",
            "layout": "IPY_MODEL_725cb33001c34a1888da0aac8642d962",
            "_model_module": "@jupyter-widgets/controls",
            "children": [
              "IPY_MODEL_41309c3e4823426bb3232e79e880a839",
              "IPY_MODEL_05bb151cdc6c451fb8b081165bbcb758"
            ]
          }
        },
        "725cb33001c34a1888da0aac8642d962": {
          "model_module": "@jupyter-widgets/base",
          "model_name": "LayoutModel",
          "state": {
            "_view_name": "LayoutView",
            "grid_template_rows": null,
            "right": null,
            "justify_content": null,
            "_view_module": "@jupyter-widgets/base",
            "overflow": null,
            "_model_module_version": "1.2.0",
            "_view_count": null,
            "flex_flow": null,
            "width": null,
            "min_width": null,
            "border": null,
            "align_items": null,
            "bottom": null,
            "_model_module": "@jupyter-widgets/base",
            "top": null,
            "grid_column": null,
            "overflow_y": null,
            "overflow_x": null,
            "grid_auto_flow": null,
            "grid_area": null,
            "grid_template_columns": null,
            "flex": null,
            "_model_name": "LayoutModel",
            "justify_items": null,
            "grid_row": null,
            "max_height": null,
            "align_content": null,
            "visibility": null,
            "align_self": null,
            "height": null,
            "min_height": null,
            "padding": null,
            "grid_auto_rows": null,
            "grid_gap": null,
            "max_width": null,
            "order": null,
            "_view_module_version": "1.2.0",
            "grid_template_areas": null,
            "object_position": null,
            "object_fit": null,
            "grid_auto_columns": null,
            "margin": null,
            "display": null,
            "left": null
          }
        },
        "41309c3e4823426bb3232e79e880a839": {
          "model_module": "@jupyter-widgets/controls",
          "model_name": "FloatProgressModel",
          "state": {
            "_view_name": "ProgressView",
            "style": "IPY_MODEL_ad3bbd3f296745f09c008c8819c77f7a",
            "_dom_classes": [],
            "description": "Epoch: 9: 100%",
            "_model_name": "FloatProgressModel",
            "bar_style": "",
            "max": 57,
            "_view_module": "@jupyter-widgets/controls",
            "_model_module_version": "1.5.0",
            "value": 57,
            "_view_count": null,
            "_view_module_version": "1.5.0",
            "orientation": "horizontal",
            "min": 0,
            "description_tooltip": null,
            "_model_module": "@jupyter-widgets/controls",
            "layout": "IPY_MODEL_3be9d3fe2aab4ec0813c641d0836e8f6"
          }
        },
        "05bb151cdc6c451fb8b081165bbcb758": {
          "model_module": "@jupyter-widgets/controls",
          "model_name": "HTMLModel",
          "state": {
            "_view_name": "HTMLView",
            "style": "IPY_MODEL_0747527cd8654f7ca25af1d118000500",
            "_dom_classes": [],
            "description": "",
            "_model_name": "HTMLModel",
            "placeholder": "​",
            "_view_module": "@jupyter-widgets/controls",
            "_model_module_version": "1.5.0",
            "value": " 57/57 [01:18&lt;00:00,  1.34s/it, batch_loss=1.077]",
            "_view_count": null,
            "_view_module_version": "1.5.0",
            "description_tooltip": null,
            "_model_module": "@jupyter-widgets/controls",
            "layout": "IPY_MODEL_8e52d72d7c31490190dff7a06f3b384a"
          }
        },
        "ad3bbd3f296745f09c008c8819c77f7a": {
          "model_module": "@jupyter-widgets/controls",
          "model_name": "ProgressStyleModel",
          "state": {
            "_view_name": "StyleView",
            "_model_name": "ProgressStyleModel",
            "description_width": "initial",
            "_view_module": "@jupyter-widgets/base",
            "_model_module_version": "1.5.0",
            "_view_count": null,
            "_view_module_version": "1.2.0",
            "bar_color": null,
            "_model_module": "@jupyter-widgets/controls"
          }
        },
        "3be9d3fe2aab4ec0813c641d0836e8f6": {
          "model_module": "@jupyter-widgets/base",
          "model_name": "LayoutModel",
          "state": {
            "_view_name": "LayoutView",
            "grid_template_rows": null,
            "right": null,
            "justify_content": null,
            "_view_module": "@jupyter-widgets/base",
            "overflow": null,
            "_model_module_version": "1.2.0",
            "_view_count": null,
            "flex_flow": null,
            "width": null,
            "min_width": null,
            "border": null,
            "align_items": null,
            "bottom": null,
            "_model_module": "@jupyter-widgets/base",
            "top": null,
            "grid_column": null,
            "overflow_y": null,
            "overflow_x": null,
            "grid_auto_flow": null,
            "grid_area": null,
            "grid_template_columns": null,
            "flex": null,
            "_model_name": "LayoutModel",
            "justify_items": null,
            "grid_row": null,
            "max_height": null,
            "align_content": null,
            "visibility": null,
            "align_self": null,
            "height": null,
            "min_height": null,
            "padding": null,
            "grid_auto_rows": null,
            "grid_gap": null,
            "max_width": null,
            "order": null,
            "_view_module_version": "1.2.0",
            "grid_template_areas": null,
            "object_position": null,
            "object_fit": null,
            "grid_auto_columns": null,
            "margin": null,
            "display": null,
            "left": null
          }
        },
        "0747527cd8654f7ca25af1d118000500": {
          "model_module": "@jupyter-widgets/controls",
          "model_name": "DescriptionStyleModel",
          "state": {
            "_view_name": "StyleView",
            "_model_name": "DescriptionStyleModel",
            "description_width": "",
            "_view_module": "@jupyter-widgets/base",
            "_model_module_version": "1.5.0",
            "_view_count": null,
            "_view_module_version": "1.2.0",
            "_model_module": "@jupyter-widgets/controls"
          }
        },
        "8e52d72d7c31490190dff7a06f3b384a": {
          "model_module": "@jupyter-widgets/base",
          "model_name": "LayoutModel",
          "state": {
            "_view_name": "LayoutView",
            "grid_template_rows": null,
            "right": null,
            "justify_content": null,
            "_view_module": "@jupyter-widgets/base",
            "overflow": null,
            "_model_module_version": "1.2.0",
            "_view_count": null,
            "flex_flow": null,
            "width": null,
            "min_width": null,
            "border": null,
            "align_items": null,
            "bottom": null,
            "_model_module": "@jupyter-widgets/base",
            "top": null,
            "grid_column": null,
            "overflow_y": null,
            "overflow_x": null,
            "grid_auto_flow": null,
            "grid_area": null,
            "grid_template_columns": null,
            "flex": null,
            "_model_name": "LayoutModel",
            "justify_items": null,
            "grid_row": null,
            "max_height": null,
            "align_content": null,
            "visibility": null,
            "align_self": null,
            "height": null,
            "min_height": null,
            "padding": null,
            "grid_auto_rows": null,
            "grid_gap": null,
            "max_width": null,
            "order": null,
            "_view_module_version": "1.2.0",
            "grid_template_areas": null,
            "object_position": null,
            "object_fit": null,
            "grid_auto_columns": null,
            "margin": null,
            "display": null,
            "left": null
          }
        },
        "7c2353edf0394d9eaedeed9421991630": {
          "model_module": "@jupyter-widgets/controls",
          "model_name": "HBoxModel",
          "state": {
            "_view_name": "HBoxView",
            "_dom_classes": [],
            "_model_name": "HBoxModel",
            "_view_module": "@jupyter-widgets/controls",
            "_model_module_version": "1.5.0",
            "_view_count": null,
            "_view_module_version": "1.5.0",
            "box_style": "",
            "layout": "IPY_MODEL_b7639ba8ef674e9c8c6dacc8ff063b31",
            "_model_module": "@jupyter-widgets/controls",
            "children": [
              "IPY_MODEL_f41d0f2896ed4cd7a018b39a4e3e77f2",
              "IPY_MODEL_1e1c766730574d4b8399f68d9f4d498b"
            ]
          }
        },
        "b7639ba8ef674e9c8c6dacc8ff063b31": {
          "model_module": "@jupyter-widgets/base",
          "model_name": "LayoutModel",
          "state": {
            "_view_name": "LayoutView",
            "grid_template_rows": null,
            "right": null,
            "justify_content": null,
            "_view_module": "@jupyter-widgets/base",
            "overflow": null,
            "_model_module_version": "1.2.0",
            "_view_count": null,
            "flex_flow": null,
            "width": null,
            "min_width": null,
            "border": null,
            "align_items": null,
            "bottom": null,
            "_model_module": "@jupyter-widgets/base",
            "top": null,
            "grid_column": null,
            "overflow_y": null,
            "overflow_x": null,
            "grid_auto_flow": null,
            "grid_area": null,
            "grid_template_columns": null,
            "flex": null,
            "_model_name": "LayoutModel",
            "justify_items": null,
            "grid_row": null,
            "max_height": null,
            "align_content": null,
            "visibility": null,
            "align_self": null,
            "height": null,
            "min_height": null,
            "padding": null,
            "grid_auto_rows": null,
            "grid_gap": null,
            "max_width": null,
            "order": null,
            "_view_module_version": "1.2.0",
            "grid_template_areas": null,
            "object_position": null,
            "object_fit": null,
            "grid_auto_columns": null,
            "margin": null,
            "display": null,
            "left": null
          }
        },
        "f41d0f2896ed4cd7a018b39a4e3e77f2": {
          "model_module": "@jupyter-widgets/controls",
          "model_name": "FloatProgressModel",
          "state": {
            "_view_name": "ProgressView",
            "style": "IPY_MODEL_9fca97ae46844cf8b6411d737f15d182",
            "_dom_classes": [],
            "description": "Epoch: 10: 100%",
            "_model_name": "FloatProgressModel",
            "bar_style": "",
            "max": 57,
            "_view_module": "@jupyter-widgets/controls",
            "_model_module_version": "1.5.0",
            "value": 57,
            "_view_count": null,
            "_view_module_version": "1.5.0",
            "orientation": "horizontal",
            "min": 0,
            "description_tooltip": null,
            "_model_module": "@jupyter-widgets/controls",
            "layout": "IPY_MODEL_05d99d11c9cc485a9c74b79288259517"
          }
        },
        "1e1c766730574d4b8399f68d9f4d498b": {
          "model_module": "@jupyter-widgets/controls",
          "model_name": "HTMLModel",
          "state": {
            "_view_name": "HTMLView",
            "style": "IPY_MODEL_a04a6266d53645f289334cc1267552a6",
            "_dom_classes": [],
            "description": "",
            "_model_name": "HTMLModel",
            "placeholder": "​",
            "_view_module": "@jupyter-widgets/controls",
            "_model_module_version": "1.5.0",
            "value": " 57/57 [01:19&lt;00:00,  1.34s/it, batch_loss=1.289]",
            "_view_count": null,
            "_view_module_version": "1.5.0",
            "description_tooltip": null,
            "_model_module": "@jupyter-widgets/controls",
            "layout": "IPY_MODEL_3b645c1cbbcc4e92854be174281ca781"
          }
        },
        "9fca97ae46844cf8b6411d737f15d182": {
          "model_module": "@jupyter-widgets/controls",
          "model_name": "ProgressStyleModel",
          "state": {
            "_view_name": "StyleView",
            "_model_name": "ProgressStyleModel",
            "description_width": "initial",
            "_view_module": "@jupyter-widgets/base",
            "_model_module_version": "1.5.0",
            "_view_count": null,
            "_view_module_version": "1.2.0",
            "bar_color": null,
            "_model_module": "@jupyter-widgets/controls"
          }
        },
        "05d99d11c9cc485a9c74b79288259517": {
          "model_module": "@jupyter-widgets/base",
          "model_name": "LayoutModel",
          "state": {
            "_view_name": "LayoutView",
            "grid_template_rows": null,
            "right": null,
            "justify_content": null,
            "_view_module": "@jupyter-widgets/base",
            "overflow": null,
            "_model_module_version": "1.2.0",
            "_view_count": null,
            "flex_flow": null,
            "width": null,
            "min_width": null,
            "border": null,
            "align_items": null,
            "bottom": null,
            "_model_module": "@jupyter-widgets/base",
            "top": null,
            "grid_column": null,
            "overflow_y": null,
            "overflow_x": null,
            "grid_auto_flow": null,
            "grid_area": null,
            "grid_template_columns": null,
            "flex": null,
            "_model_name": "LayoutModel",
            "justify_items": null,
            "grid_row": null,
            "max_height": null,
            "align_content": null,
            "visibility": null,
            "align_self": null,
            "height": null,
            "min_height": null,
            "padding": null,
            "grid_auto_rows": null,
            "grid_gap": null,
            "max_width": null,
            "order": null,
            "_view_module_version": "1.2.0",
            "grid_template_areas": null,
            "object_position": null,
            "object_fit": null,
            "grid_auto_columns": null,
            "margin": null,
            "display": null,
            "left": null
          }
        },
        "a04a6266d53645f289334cc1267552a6": {
          "model_module": "@jupyter-widgets/controls",
          "model_name": "DescriptionStyleModel",
          "state": {
            "_view_name": "StyleView",
            "_model_name": "DescriptionStyleModel",
            "description_width": "",
            "_view_module": "@jupyter-widgets/base",
            "_model_module_version": "1.5.0",
            "_view_count": null,
            "_view_module_version": "1.2.0",
            "_model_module": "@jupyter-widgets/controls"
          }
        },
        "3b645c1cbbcc4e92854be174281ca781": {
          "model_module": "@jupyter-widgets/base",
          "model_name": "LayoutModel",
          "state": {
            "_view_name": "LayoutView",
            "grid_template_rows": null,
            "right": null,
            "justify_content": null,
            "_view_module": "@jupyter-widgets/base",
            "overflow": null,
            "_model_module_version": "1.2.0",
            "_view_count": null,
            "flex_flow": null,
            "width": null,
            "min_width": null,
            "border": null,
            "align_items": null,
            "bottom": null,
            "_model_module": "@jupyter-widgets/base",
            "top": null,
            "grid_column": null,
            "overflow_y": null,
            "overflow_x": null,
            "grid_auto_flow": null,
            "grid_area": null,
            "grid_template_columns": null,
            "flex": null,
            "_model_name": "LayoutModel",
            "justify_items": null,
            "grid_row": null,
            "max_height": null,
            "align_content": null,
            "visibility": null,
            "align_self": null,
            "height": null,
            "min_height": null,
            "padding": null,
            "grid_auto_rows": null,
            "grid_gap": null,
            "max_width": null,
            "order": null,
            "_view_module_version": "1.2.0",
            "grid_template_areas": null,
            "object_position": null,
            "object_fit": null,
            "grid_auto_columns": null,
            "margin": null,
            "display": null,
            "left": null
          }
        },
        "6c365ba9f1fa4892ac86770dbe8d358d": {
          "model_module": "@jupyter-widgets/controls",
          "model_name": "HBoxModel",
          "state": {
            "_view_name": "HBoxView",
            "_dom_classes": [],
            "_model_name": "HBoxModel",
            "_view_module": "@jupyter-widgets/controls",
            "_model_module_version": "1.5.0",
            "_view_count": null,
            "_view_module_version": "1.5.0",
            "box_style": "",
            "layout": "IPY_MODEL_2117daa0c88a4ff1883aaaaf776a3adc",
            "_model_module": "@jupyter-widgets/controls",
            "children": [
              "IPY_MODEL_15734112f4f34696a066d41ca0b6e775",
              "IPY_MODEL_efda2af1c243483cb9371762454058ff"
            ]
          }
        },
        "2117daa0c88a4ff1883aaaaf776a3adc": {
          "model_module": "@jupyter-widgets/base",
          "model_name": "LayoutModel",
          "state": {
            "_view_name": "LayoutView",
            "grid_template_rows": null,
            "right": null,
            "justify_content": null,
            "_view_module": "@jupyter-widgets/base",
            "overflow": null,
            "_model_module_version": "1.2.0",
            "_view_count": null,
            "flex_flow": null,
            "width": null,
            "min_width": null,
            "border": null,
            "align_items": null,
            "bottom": null,
            "_model_module": "@jupyter-widgets/base",
            "top": null,
            "grid_column": null,
            "overflow_y": null,
            "overflow_x": null,
            "grid_auto_flow": null,
            "grid_area": null,
            "grid_template_columns": null,
            "flex": null,
            "_model_name": "LayoutModel",
            "justify_items": null,
            "grid_row": null,
            "max_height": null,
            "align_content": null,
            "visibility": null,
            "align_self": null,
            "height": null,
            "min_height": null,
            "padding": null,
            "grid_auto_rows": null,
            "grid_gap": null,
            "max_width": null,
            "order": null,
            "_view_module_version": "1.2.0",
            "grid_template_areas": null,
            "object_position": null,
            "object_fit": null,
            "grid_auto_columns": null,
            "margin": null,
            "display": null,
            "left": null
          }
        },
        "15734112f4f34696a066d41ca0b6e775": {
          "model_module": "@jupyter-widgets/controls",
          "model_name": "FloatProgressModel",
          "state": {
            "_view_name": "ProgressView",
            "style": "IPY_MODEL_9534e6fdf6e04df9b1e2a31f00cbcb0f",
            "_dom_classes": [],
            "description": "Epoch: 11:   9%",
            "_model_name": "FloatProgressModel",
            "bar_style": "",
            "max": 57,
            "_view_module": "@jupyter-widgets/controls",
            "_model_module_version": "1.5.0",
            "value": 5,
            "_view_count": null,
            "_view_module_version": "1.5.0",
            "orientation": "horizontal",
            "min": 0,
            "description_tooltip": null,
            "_model_module": "@jupyter-widgets/controls",
            "layout": "IPY_MODEL_76c997c07f764a749a563b73f9554af8"
          }
        },
        "efda2af1c243483cb9371762454058ff": {
          "model_module": "@jupyter-widgets/controls",
          "model_name": "HTMLModel",
          "state": {
            "_view_name": "HTMLView",
            "style": "IPY_MODEL_114d9d742c2d4a4bacab1f79cdb699c0",
            "_dom_classes": [],
            "description": "",
            "_model_name": "HTMLModel",
            "placeholder": "​",
            "_view_module": "@jupyter-widgets/controls",
            "_model_module_version": "1.5.0",
            "value": " 5/57 [00:07&lt;01:14,  1.43s/it, batch_loss=1.075]",
            "_view_count": null,
            "_view_module_version": "1.5.0",
            "description_tooltip": null,
            "_model_module": "@jupyter-widgets/controls",
            "layout": "IPY_MODEL_b893abc997e44d399d7fa8414e6d771e"
          }
        },
        "9534e6fdf6e04df9b1e2a31f00cbcb0f": {
          "model_module": "@jupyter-widgets/controls",
          "model_name": "ProgressStyleModel",
          "state": {
            "_view_name": "StyleView",
            "_model_name": "ProgressStyleModel",
            "description_width": "initial",
            "_view_module": "@jupyter-widgets/base",
            "_model_module_version": "1.5.0",
            "_view_count": null,
            "_view_module_version": "1.2.0",
            "bar_color": null,
            "_model_module": "@jupyter-widgets/controls"
          }
        },
        "76c997c07f764a749a563b73f9554af8": {
          "model_module": "@jupyter-widgets/base",
          "model_name": "LayoutModel",
          "state": {
            "_view_name": "LayoutView",
            "grid_template_rows": null,
            "right": null,
            "justify_content": null,
            "_view_module": "@jupyter-widgets/base",
            "overflow": null,
            "_model_module_version": "1.2.0",
            "_view_count": null,
            "flex_flow": null,
            "width": null,
            "min_width": null,
            "border": null,
            "align_items": null,
            "bottom": null,
            "_model_module": "@jupyter-widgets/base",
            "top": null,
            "grid_column": null,
            "overflow_y": null,
            "overflow_x": null,
            "grid_auto_flow": null,
            "grid_area": null,
            "grid_template_columns": null,
            "flex": null,
            "_model_name": "LayoutModel",
            "justify_items": null,
            "grid_row": null,
            "max_height": null,
            "align_content": null,
            "visibility": null,
            "align_self": null,
            "height": null,
            "min_height": null,
            "padding": null,
            "grid_auto_rows": null,
            "grid_gap": null,
            "max_width": null,
            "order": null,
            "_view_module_version": "1.2.0",
            "grid_template_areas": null,
            "object_position": null,
            "object_fit": null,
            "grid_auto_columns": null,
            "margin": null,
            "display": null,
            "left": null
          }
        },
        "114d9d742c2d4a4bacab1f79cdb699c0": {
          "model_module": "@jupyter-widgets/controls",
          "model_name": "DescriptionStyleModel",
          "state": {
            "_view_name": "StyleView",
            "_model_name": "DescriptionStyleModel",
            "description_width": "",
            "_view_module": "@jupyter-widgets/base",
            "_model_module_version": "1.5.0",
            "_view_count": null,
            "_view_module_version": "1.2.0",
            "_model_module": "@jupyter-widgets/controls"
          }
        },
        "b893abc997e44d399d7fa8414e6d771e": {
          "model_module": "@jupyter-widgets/base",
          "model_name": "LayoutModel",
          "state": {
            "_view_name": "LayoutView",
            "grid_template_rows": null,
            "right": null,
            "justify_content": null,
            "_view_module": "@jupyter-widgets/base",
            "overflow": null,
            "_model_module_version": "1.2.0",
            "_view_count": null,
            "flex_flow": null,
            "width": null,
            "min_width": null,
            "border": null,
            "align_items": null,
            "bottom": null,
            "_model_module": "@jupyter-widgets/base",
            "top": null,
            "grid_column": null,
            "overflow_y": null,
            "overflow_x": null,
            "grid_auto_flow": null,
            "grid_area": null,
            "grid_template_columns": null,
            "flex": null,
            "_model_name": "LayoutModel",
            "justify_items": null,
            "grid_row": null,
            "max_height": null,
            "align_content": null,
            "visibility": null,
            "align_self": null,
            "height": null,
            "min_height": null,
            "padding": null,
            "grid_auto_rows": null,
            "grid_gap": null,
            "max_width": null,
            "order": null,
            "_view_module_version": "1.2.0",
            "grid_template_areas": null,
            "object_position": null,
            "object_fit": null,
            "grid_auto_columns": null,
            "margin": null,
            "display": null,
            "left": null
          }
        }
      }
    }
  },
  "cells": [
    {
      "cell_type": "markdown",
      "metadata": {
        "id": "view-in-github",
        "colab_type": "text"
      },
      "source": [
        "<a href=\"https://colab.research.google.com/github/FeryET/DeepLearning_CA7/blob/master/DL_CA7_Q1.ipynb\" target=\"_parent\"><img src=\"https://colab.research.google.com/assets/colab-badge.svg\" alt=\"Open In Colab\"/></a>"
      ]
    },
    {
      "cell_type": "code",
      "metadata": {
        "id": "OYnxtVCLosyG",
        "colab": {
          "base_uri": "https://localhost:8080/"
        },
        "outputId": "096aa4bb-cf6e-4447-f3f5-d18f3c26804b"
      },
      "source": [
        "import os\n",
        "from google.colab import drive\n",
        "drive.mount('/content/drive')\n",
        "os.environ['KAGGLE_CONFIG_DIR'] = \"/content/drive/MyDrive/kaggle\"\n",
        "!kaggle datasets download -d adityajn105/flickr8k\n",
        "!unzip -qo \"/content/flickr8k.zip\""
      ],
      "execution_count": null,
      "outputs": [
        {
          "output_type": "stream",
          "text": [
            "Drive already mounted at /content/drive; to attempt to forcibly remount, call drive.mount(\"/content/drive\", force_remount=True).\n",
            "flickr8k.zip: Skipping, found more recently modified local copy (use --force to force download)\n",
            "--2021-06-03 12:44:29--  https://nlp.stanford.edu/data/wordvecs/glove.42B.300d.zip\n",
            "Resolving nlp.stanford.edu (nlp.stanford.edu)... 171.64.67.140\n",
            "Connecting to nlp.stanford.edu (nlp.stanford.edu)|171.64.67.140|:443... ^C\n",
            "unzip:  cannot find or open glove.6B.zip, glove.6B.zip.zip or glove.6B.zip.ZIP.\n"
          ],
          "name": "stdout"
        }
      ]
    },
    {
      "cell_type": "code",
      "metadata": {
        "colab": {
          "base_uri": "https://localhost:8080/"
        },
        "id": "dLFEOI0T0POL",
        "outputId": "0dd78eb1-f289-488c-e06f-9689805372c7"
      },
      "source": [
        "!pip install bcolz"
      ],
      "execution_count": null,
      "outputs": [
        {
          "output_type": "stream",
          "text": [
            "Requirement already satisfied: bcolz in /usr/local/lib/python3.7/dist-packages (1.2.1)\n",
            "Requirement already satisfied: numpy>=1.7 in /usr/local/lib/python3.7/dist-packages (from bcolz) (1.19.5)\n"
          ],
          "name": "stdout"
        }
      ]
    },
    {
      "cell_type": "code",
      "metadata": {
        "id": "_gIpON9soyqp"
      },
      "source": [
        "import bcolz\n",
        "import numpy as np\n",
        "from PIL import Image\n",
        "import re\n",
        "import string\n",
        "from glob import glob\n",
        "import pandas as pd\n",
        "import string \n",
        "import itertools\n",
        "import collections\n",
        "import textwrap \n",
        "import json\n",
        "from tqdm.auto import tqdm\n",
        "import matplotlib.pyplot as plt\n",
        "\n",
        "import torch\n",
        "import torchvision\n",
        "from torch import nn\n",
        "import torch.nn.functional as F\n",
        "from torch.utils.data import Dataset, DataLoader, random_split\n",
        "from torchvision import transforms\n",
        "\n",
        "import gensim.downloader as api\n"
      ],
      "execution_count": null,
      "outputs": []
    },
    {
      "cell_type": "markdown",
      "metadata": {
        "id": "F_ZtWLvWDgAI"
      },
      "source": [
        "# Defining Constants"
      ]
    },
    {
      "cell_type": "code",
      "metadata": {
        "id": "lFHNnE8-Dh-n"
      },
      "source": [
        "# Locations\n",
        "IMAGE_ROOT = \"/content/Images\"\n",
        "CAPTION_CSV_LOC = \"/content/captions.txt\"\n",
        "\n",
        "\n",
        "# Tokens\n",
        "START_TOKEN = \"<SOS>\"\n",
        "END_TOKEN = \"<EOS>\"\n",
        "PAD_TOKEN = \"<PAD>\"\n",
        "UNK_TOKEN = \"<UNK>\"\n",
        "\n",
        "# Captions related\n",
        "MAX_LENGTH = 30 \n",
        "LSTM_HIDDEN_SIZE = 256 # LSTM units?\n",
        "MIN_WORD_FREQ = 15\n",
        "EMBEDDING_DIM = 100\n",
        "CAPTIONS_PER_IMAGE = 5\n",
        "\n",
        "MIN_WORD_LENGTH = 2\n",
        "\n",
        "\n",
        "MAX_EPOCHS = 150\n",
        "\n",
        "# Dataset specifice\n",
        "TEST_SPLIT = 0.1"
      ],
      "execution_count": null,
      "outputs": []
    },
    {
      "cell_type": "markdown",
      "metadata": {
        "id": "q_rDlvc4rSEr"
      },
      "source": [
        "# Processing Documents\n",
        "\n",
        "### Preprocessing Captions"
      ]
    },
    {
      "cell_type": "code",
      "metadata": {
        "id": "_ihCQ0a4rUso"
      },
      "source": [
        "def preprocess_text(text):\n",
        "  prep = text.lower()\n",
        "  # remove whitespace, numerics and punctuations and replace them with space\n",
        "  prep = re.sub(\"(\\s+)|(\\d+)|([^\\w\\s]+)\", \" \", prep)\n",
        "  prep = prep.split()\n",
        "  prep = [p for p in prep if len(p) >= MIN_WORD_LENGTH]\n",
        "  return prep\n",
        "\n",
        "# preprocess_text = lambda x: preprocess_string(x, filters=[\n",
        "#                                                           strip_tags,\n",
        "#                                                           strip_multiple_whitespaces,\n",
        "#                                                           strip_punctuation,\n",
        "#                                                           strip_numeric,\n",
        "#                                                           lambda s: strip_short(s, minsize=2),\n",
        "#                                                           stem_text])\n",
        "\n",
        "caption_df = pd.read_csv(CAPTION_CSV_LOC)\n",
        "caption_df.sort_values(by=\"image\", inplace=True)\n",
        "caption_df[\"cleaned\"] = caption_df[\"caption\"].apply(preprocess_text)"
      ],
      "execution_count": null,
      "outputs": []
    },
    {
      "cell_type": "markdown",
      "metadata": {
        "id": "YufKpMZJA1ED"
      },
      "source": [
        "### Creating Vocabulary"
      ]
    },
    {
      "cell_type": "code",
      "metadata": {
        "id": "_daAgQdTA4Tn",
        "colab": {
          "base_uri": "https://localhost:8080/"
        },
        "outputId": "5c57d91e-3bed-4d87-bfad-e87b13aff1cb"
      },
      "source": [
        "counter = collections.Counter(itertools.chain(*caption_df[\"cleaned\"]))\n",
        "words = sorted([v for v, n in counter.items() if n > MIN_WORD_FREQ])\n",
        "words = [PAD_TOKEN, START_TOKEN, END_TOKEN, UNK_TOKEN] + words\n",
        "vocab = {w: idx for idx, w in enumerate(words)}\n",
        "id2word = {idx: w for idx, w in enumerate(words)}\n",
        "print(f\"Vocabulary Length: {len(vocab)}\")"
      ],
      "execution_count": null,
      "outputs": [
        {
          "output_type": "stream",
          "text": [
            "Vocabulary Length: 1493\n"
          ],
          "name": "stdout"
        }
      ]
    },
    {
      "cell_type": "markdown",
      "metadata": {
        "id": "rwo6BaDu23wI"
      },
      "source": [
        "### Creating Wordvectors"
      ]
    },
    {
      "cell_type": "code",
      "metadata": {
        "colab": {
          "base_uri": "https://localhost:8080/"
        },
        "id": "AH4Y28961nsK",
        "outputId": "549877a9-9664-4db2-9bfb-1e725b1ffb52"
      },
      "source": [
        "w2v_model = api.load(f\"glove-twitter-{EMBEDDING_DIM}\")\n",
        "embedding_weights = []\n",
        "for k, v in vocab.items():\n",
        "  try:\n",
        "    w = w2v_model.wv[k]\n",
        "  except Exception as e:\n",
        "    # If the word is not in vocabulary of word2vec model\n",
        "    w = np.random.normal(0, scale=1/EMBEDDING_DIM, size=(EMBEDDING_DIM,)).astype(np.float64)\n",
        "  embedding_weights.append(w)\n",
        "embedding_weights = np.array(embedding_weights)\n",
        "print(embedding_weights.shape)"
      ],
      "execution_count": null,
      "outputs": [
        {
          "output_type": "stream",
          "text": [
            "(1493, 100)\n"
          ],
          "name": "stdout"
        },
        {
          "output_type": "stream",
          "text": [
            "/usr/local/lib/python3.7/dist-packages/ipykernel_launcher.py:5: DeprecationWarning: Call to deprecated `wv` (Attribute will be removed in 4.0.0, use self instead).\n",
            "  \"\"\"\n"
          ],
          "name": "stderr"
        }
      ]
    },
    {
      "cell_type": "markdown",
      "metadata": {
        "id": "O8rIEe6fBqfX"
      },
      "source": [
        "### Defining Transforms for Captions"
      ]
    },
    {
      "cell_type": "code",
      "metadata": {
        "id": "IAIlqnscAdu8"
      },
      "source": [
        "class VocabTransform:\n",
        "  def __init__(self, vocab):\n",
        "    self.vocab = vocab\n",
        "  \n",
        "  def __call__(self, tokenized):\n",
        "    return [self.vocab[t] if t in self.vocab.keys() else self.vocab[UNK_TOKEN] for t in tokenized]\n",
        "\n",
        "class CaptionConditioner:\n",
        "  def __init__(self, max_length=MAX_LENGTH):\n",
        "    self.max_length = max_length\n",
        "  \n",
        "  def __call__(self, tokenized):\n",
        "    return [START_TOKEN] + tokenized[:self.max_length - 2] + [END_TOKEN]\n",
        "\n",
        "class TextIndicesToTensor:\n",
        "  def __call__(self, item):\n",
        "    return torch.tensor(tuple(item), dtype=torch.int64)\n",
        "\n",
        "\n",
        "\n",
        "caption_transforms = transforms.Compose(\n",
        "    [\n",
        "     CaptionConditioner(),\n",
        "     VocabTransform(vocab),\n",
        "     TextIndicesToTensor(),\n",
        "    ]\n",
        ")"
      ],
      "execution_count": null,
      "outputs": []
    },
    {
      "cell_type": "markdown",
      "metadata": {
        "id": "htHAhlyas5kL"
      },
      "source": [
        "### Images"
      ]
    },
    {
      "cell_type": "code",
      "metadata": {
        "id": "JguTXlmetLGk"
      },
      "source": [
        "# This is copied from https://pytorch.org/hub/pytorch_vision_resnet/\n",
        "image_mean = [0.485, 0.456, 0.406]\n",
        "image_std = [0.229, 0.224, 0.225]\n",
        "\n",
        "image_transforms = transforms.Compose([\n",
        "    transforms.Resize(256),\n",
        "    transforms.RandomCrop(224), # As an augmenting process\n",
        "    transforms.ToTensor(),\n",
        "    transforms.Normalize(mean=image_mean, std=image_std),\n",
        "])\n",
        "\n",
        "image_mean = np.array(image_mean)\n",
        "image_std = np.array(image_std)"
      ],
      "execution_count": null,
      "outputs": []
    },
    {
      "cell_type": "markdown",
      "metadata": {
        "id": "Vv1jrIOfs7dq"
      },
      "source": [
        "# Defining the Dataset"
      ]
    },
    {
      "cell_type": "code",
      "metadata": {
        "id": "49UVBXvFoyqw"
      },
      "source": [
        "class FlickrDataset(Dataset):\n",
        "  def __init__(self, \n",
        "               images_path, \n",
        "               caption_df, \n",
        "               image_transforms, \n",
        "               caption_transforms,\n",
        "               captions_per_image=CAPTIONS_PER_IMAGE):\n",
        "    self.image_transforms = image_transforms\n",
        "    self.caption_transforms = caption_transforms\n",
        "    self.images_path = images_path\n",
        "    self.images_fnames = sorted(os.listdir(images_path))\n",
        "    self.df = caption_df\n",
        "    self.captions_per_image = captions_per_image\n",
        "    self.test_time = False\n",
        "\n",
        "  def __len__(self):\n",
        "    return len(self.images_fnames)\n",
        "\n",
        "  def __getitem__(self, idx):\n",
        "    fname = self.images_fnames[idx]\n",
        "    fpath = os.path.join(self.images_path, fname)\n",
        "    image = Image.open(fpath)\n",
        "    \n",
        "    idx *= self.captions_per_image # num of repeats\n",
        "    if self.test_time:\n",
        "      captions = list(self.df.iloc[idx:idx+self.captions_per_image][\"caption\"])\n",
        "    else:\n",
        "      captions = list(self.df.iloc[idx:idx+self.captions_per_image][\"cleaned\"])\n",
        "      # transform only in test time\n",
        "      image = self.image_transforms(image)\n",
        "      captions = [self.caption_transforms(c) for c in captions]\n",
        "\n",
        "    return image, captions\n"
      ],
      "execution_count": null,
      "outputs": []
    },
    {
      "cell_type": "code",
      "metadata": {
        "id": "yRquY0WnC7jU",
        "colab": {
          "base_uri": "https://localhost:8080/",
          "height": 17
        },
        "outputId": "e7b5ad5b-a4d1-4f3c-ccdf-3b12471fd3a0"
      },
      "source": [
        "\n",
        "# Influenced by https://github.com/siddsrivastava/Image-captioning/blob/master/model.py\n",
        "\n",
        "class FlickrEncoderCNN(nn.Module):\n",
        "  def __init__(self, \n",
        "               embedding_dim, \n",
        "               freeze):\n",
        "    super().__init__()\n",
        "    # Loading resnet\n",
        "    resnet = torchvision.models.resnet18(pretrained=True)\n",
        "    fc_in_features = resnet.fc.in_features\n",
        "\n",
        "    # Defining layers\n",
        "    modules = list(resnet.children())[:-1]\n",
        "    self.resnet = nn.Sequential(*modules)\n",
        "    self.fc = nn.Linear(fc_in_features, embedding_dim)\n",
        "\n",
        "    # Freezing if needed\n",
        "    for param in self.resnet.parameters():\n",
        "        param.requires_grad = False if freeze else True\n",
        "    for param in self.fc.parameters():\n",
        "      param.requires_grad = True\n",
        "    \n",
        "    self.modules = nn.ModuleList(\n",
        "        [self.resnet, self.fc]\n",
        "    )  \n",
        "  def forward(self, x):\n",
        "    x = self.resnet(x)\n",
        "    x = x.view(x.shape[0], -1)\n",
        "    x = self.fc(x)\n",
        "    return x\n",
        "\n",
        "\n",
        "class FlickrDecoderLSTM(nn.Module):\n",
        "  def __init__(self, \n",
        "                vocab_size,\n",
        "                embedding_dim,\n",
        "                hidden_size,\n",
        "                padding_idx,\n",
        "                bidirectional=False,\n",
        "                dropout=0):\n",
        "    \n",
        "    super().__init__()\n",
        "    # Creating embeddings\n",
        "    # self.embed = nn.Embedding(num_embeddings=vocab_size,\n",
        "    #                           embedding_dim=embedding_dim, \n",
        "    #                           padding_idx=padding_idx,\n",
        "    #                           sparse=False,\n",
        "    #                           )\n",
        "    self.embed = nn.Embedding.from_pretrained(\n",
        "        torch.FloatTensor(embedding_weights))\n",
        "\n",
        "    self.lstm = nn.LSTM(input_size=embedding_dim,\n",
        "                        hidden_size=hidden_size,\n",
        "                        batch_first=True,\n",
        "                        dropout=dropout,\n",
        "                        bidirectional=bidirectional)\n",
        "    \n",
        "\n",
        "    self.fc = nn.Linear(hidden_size,vocab_size)\n",
        "\n",
        "    self.modules = nn.ModuleList(\n",
        "        [self.embed, self.lstm, self.fc]\n",
        "    )\n",
        "\n",
        "  def forward(self, features, caption_seqs, hidden=None):\n",
        "      caption_seqs = caption_seqs[:,:-1] \n",
        "      embeddings = self.embed(caption_seqs)\n",
        "      total_input = torch.cat((features.unsqueeze(1), embeddings), 1)\n",
        "      lstm_out, hidden = self.lstm(total_input, hidden)\n",
        "      outputs = self.fc(lstm_out)\n",
        "      return outputs, hidden\n",
        "\n",
        "\n",
        "class FlickrNet(nn.Module):\n",
        "  def __init__(self, \n",
        "               vocab_size,\n",
        "               embedding_dim,\n",
        "               hidden_size,\n",
        "               padding_idx,\n",
        "               start_token_index,\n",
        "               end_token_index,\n",
        "               unk_token_index,\n",
        "               bidirectional=False,\n",
        "               dropout=0,\n",
        "               freeze=True):\n",
        "    super().__init__()\n",
        "    self.vocab_size = vocab_size\n",
        "    encoder = FlickrEncoderCNN(embedding_dim, freeze)\n",
        "    decoder = FlickrDecoderLSTM(vocab_size, \n",
        "                                    embedding_dim, \n",
        "                                    hidden_size, \n",
        "                                    padding_idx, \n",
        "                                    bidirectional, \n",
        "                                    dropout)\n",
        "    self.encoder = encoder\n",
        "    self.decoder = decoder\n",
        "    self.modules = nn.ModuleList([encoder,decoder])\n",
        "    self.start_token_index = start_token_index\n",
        "    self.end_token_index = end_token_index\n",
        "    self.unk_token_index = unk_token_index\n",
        "\n",
        "  def forward(self, images, caption_seqs):\n",
        "    features = self.encoder(images)\n",
        "    outputs, hiddens = self.decoder(features, caption_seqs)\n",
        "    return outputs\n",
        "  \n",
        "  def predict(self, image, max_len = 30):\n",
        "    with torch.no_grad():\n",
        "        outputs = []\n",
        "        hidden_size = self.decoder.lstm.hidden_size\n",
        "        hidden = None\n",
        "        # Needs to be turned into 1 x Channels x Width x Height\n",
        "        features = self.encoder(image)\n",
        "        inputs = features.unsqueeze(0)\n",
        "        for idx in range(max_len):\n",
        "          # lstm_out, hidden = self.decoder.lstm(inputs,hidden)\n",
        "          lstm_out, hidden = self.decoder.lstm(inputs, hidden)\n",
        "          output_vocab = self.decoder.fc(lstm_out)\n",
        "          output_vocab = F.softmax(output_vocab.squeeze(1),dim=-1)\n",
        "          output_word = torch.argsort(output_vocab, dim=-1, descending=True).squeeze()\n",
        "          for j in range(len(output_word)):\n",
        "            word = output_word[j].item()\n",
        "            if word != self.unk_token_index:\n",
        "              output_word = output_word[j]\n",
        "              break\n",
        "          outputs.append(word)\n",
        "          if self.end_token_index == word:\n",
        "            break\n",
        "          inputs = self.decoder.embed(output_word.unsqueeze(0)).unsqueeze(0)\n",
        "    return outputs"
      ],
      "execution_count": null,
      "outputs": [
        {
          "output_type": "display_data",
          "data": {
            "text/html": [
              "\n",
              "        <style>\n",
              "            .jupyter-widgets {color: #d5d5d5 !important;}\n",
              "            .widget-label {color: #d5d5d5 !important;}\n",
              "        </style>\n",
              "    "
            ],
            "text/plain": [
              "<IPython.core.display.HTML object>"
            ]
          },
          "metadata": {
            "tags": []
          }
        }
      ]
    },
    {
      "cell_type": "code",
      "metadata": {
        "id": "ea5dmwVX-bxy"
      },
      "source": [
        "# This is needed for batches\n",
        "\n",
        "class RepeatImages:\n",
        "  def __init__(self, num_repeat=CAPTIONS_PER_IMAGE):\n",
        "    self.num_repeat = num_repeat\n",
        "\n",
        "  def __call__(self, batch):\n",
        "    result = []\n",
        "    for image, captions in batch:\n",
        "      for i in range(self.num_repeat):\n",
        "        result.append((image, captions[i]))\n",
        "    return result\n",
        "\n",
        "class PadCaptions:\n",
        "  def __init__(self, vocab):\n",
        "    self.pad_idx = vocab[PAD_TOKEN]\n",
        "  \n",
        "  def __call__(self, batch):\n",
        "    captions = []\n",
        "    images = []\n",
        "    for im, cap in batch:\n",
        "      captions.append(cap)\n",
        "      images.append(im.unsqueeze(0))\n",
        "    captions = torch.nn.utils.rnn.pad_sequence(captions,\n",
        "                                    batch_first=True,\n",
        "                                    padding_value=self.pad_idx)\n",
        "    images = torch.cat(images, dim=0)\n",
        "    return images, captions\n",
        "\n",
        "\n",
        "batch_transforms = transforms.Compose([\n",
        "     RepeatImages(),\n",
        "     PadCaptions(vocab),\n",
        "     ]\n",
        ")"
      ],
      "execution_count": null,
      "outputs": []
    },
    {
      "cell_type": "markdown",
      "metadata": {
        "id": "cw6i9Hy_EiSu"
      },
      "source": [
        "# Preparing for Training"
      ]
    },
    {
      "cell_type": "markdown",
      "metadata": {
        "id": "WxRyH2B0GSx-"
      },
      "source": [
        "### Defining training and testing functions"
      ]
    },
    {
      "cell_type": "code",
      "metadata": {
        "id": "xIg_4OcEGV1J",
        "colab": {
          "base_uri": "https://localhost:8080/",
          "height": 17
        },
        "outputId": "353afd13-47f3-49de-d67c-31e44a45ba55"
      },
      "source": [
        "def generate_sentence(model):\n",
        "    i = int(np.random.randint(0, len(test_dataset)))\n",
        "    image, captions = test_dataset[i]\n",
        "    image = image.unsqueeze(0).cuda()\n",
        "    gen = model.predict(image)\n",
        "    gen = \" \".join([id2word[g] for g in gen])\n",
        "    caption = \" \".join([id2word[c] for c in captions[0].numpy()])\n",
        "    print(\"#########################\")\n",
        "    print(f\"### Original: {caption}\")\n",
        "    print(f\"### Generated: {gen}\")\n",
        "    print(\"#########################\")\n",
        "    \n",
        "def test(model, loss_function, test_loader):\n",
        "  test_loss = 0\n",
        "  n_items = 0\n",
        "  with torch.no_grad():\n",
        "    for batch in test_loader:\n",
        "        images, captions = batch\n",
        "        images, captions = images.cuda(), captions.cuda()\n",
        "\n",
        "        outputs = model(images, captions)\n",
        "        outputs = torch.moveaxis(outputs, -1, 1)\n",
        "        loss = loss_function(outputs, captions)\n",
        "      \n",
        "        test_loss += loss.item() * captions.numel()\n",
        "        n_items += captions.numel()\n",
        "        \n",
        "  test_loss /= n_items\n",
        "  return test_loss\n",
        "\n",
        "def train(model, optimizer, loss_function, train_loader, test_loader, model_name, max_epochs=50):\n",
        "  scaler = torch.cuda.amp.GradScaler()\n",
        "  info = []\n",
        "  for epoch in range(1, max_epochs+1):\n",
        "    train_loss = 0\n",
        "    n_items = 0\n",
        "    pbar = tqdm(total=len(train_loader), desc=f\"Epoch: {epoch}\", leave=False)\n",
        "    for batch in train_loader:\n",
        "      torch.cuda.empty_cache() \n",
        "      optimizer.zero_grad()\n",
        "\n",
        "      images, captions = batch\n",
        "      images, captions = images.cuda(), captions.cuda()\n",
        "      \n",
        "      with torch.cuda.amp.autocast():\n",
        "        outputs = model(images, captions)\n",
        "        outputs = torch.moveaxis(outputs, -1, 1)\n",
        "        loss = loss_function(outputs, captions)\n",
        "\n",
        "      # scaling the loss\n",
        "      scaler.scale(loss).backward()\n",
        "      scaler.step(optimizer)\n",
        "      scaler.update()\n",
        "      \n",
        "      # computing the running loss\n",
        "      train_loss += loss.item() * captions.numel()\n",
        "      n_items += captions.numel()\n",
        "\n",
        "      # updating the progress bar\n",
        "      pbar.set_postfix(batch_loss=f\"{loss.item():.3f}\")\n",
        "      pbar.update()  \n",
        "\n",
        "    pbar.close()\n",
        "    train_loss /= n_items\n",
        "    test_loss = test(model, loss_function, test_loader)\n",
        "    info.append(\n",
        "        {\"epoch\": epoch, \"train_loss\": train_loss, \"val_loss\": test_loss}\n",
        "    )\n",
        "    print(f\"Epoch: {epoch}\\t Train Loss: {train_loss:.3f}\\t Test Loss: {test_loss:.3f}\")\n",
        "    if epoch % 10 == 0:\n",
        "      torch.save(model, f\"/content/drive/MyDrive/Academics/Courses/Deep Learning/CA3/Q1/{model_name}.model\")\n",
        "    if epoch % 5 == 0:\n",
        "      generate_sentence(model)\n",
        "    with open(f\"/content/drive/MyDrive/Academics/Courses/Deep Learning/CA3/Q1/{model_name}.json\", \"w\") as jfile:\n",
        "      json.dump(info, jfile)\n",
        "    \n",
        "    # Start after 25th Epoch\n",
        "    stop = True if len(info) > 25 else False\n",
        "    # Early stopping\n",
        "    for item in info[-5:]:\n",
        "      # Stop if there's one loss in the last 5th that is bigger than your current one\n",
        "      if item[\"train_loss\"] - train_loss > 10e-3:\n",
        "        stop = False\n",
        "    if stop:\n",
        "      break\n",
        "  return info\n"
      ],
      "execution_count": null,
      "outputs": [
        {
          "output_type": "display_data",
          "data": {
            "text/html": [
              "\n",
              "        <style>\n",
              "            .jupyter-widgets {color: #d5d5d5 !important;}\n",
              "            .widget-label {color: #d5d5d5 !important;}\n",
              "        </style>\n",
              "    "
            ],
            "text/plain": [
              "<IPython.core.display.HTML object>"
            ]
          },
          "metadata": {
            "tags": []
          }
        }
      ]
    },
    {
      "cell_type": "markdown",
      "metadata": {
        "id": "zA_8iQ4o_oAy"
      },
      "source": [
        "### Defining Visualization Methods"
      ]
    },
    {
      "cell_type": "code",
      "metadata": {
        "id": "pRLafShANr5e"
      },
      "source": [
        "def visualize_model(model, folder, info):\n",
        "  dataset.test_time = True\n",
        "  for idx in test_indices:\n",
        "    image, captions = test_dataset[idx]\n",
        "    lengths = [len(preprocess_text(c)) for c in captions]\n",
        "    image = np.array(image)\n",
        "    input = np.moveaxis(image, -1, 0)\n",
        "    input = torch.tensor(input, requires_grad=False, dtype=torch.float).cuda()\n",
        "    # Maximum length of prediction should be between min and max!\n",
        "    max_length=(max(lengths) + min(lengths))//2\n",
        "    pred = model.predict(input.unsqueeze(0), max_len=max_length)\n",
        "    \n",
        "    h, w, c = image.shape\n",
        "    aspect = w / h\n",
        "    eps = 0.05\n",
        "    figsize = (12, 5)\n",
        "    fig, axes = plt.subplots(1,2,figsize=figsize, gridspec_kw={\"height_ratios\": [1], \n",
        "                                                               \"width_ratios\":  [1, 1]})\n",
        "    # Showing text\n",
        "    ax = axes[0]\n",
        "    ax.axis('off')\n",
        "    words = [id2word[p] for p in pred]\n",
        "    pred_sentence = \"Predicted:\\n\" + \" \".join(\n",
        "        [w for w in words if w not in [UNK_TOKEN, PAD_TOKEN, START_TOKEN, END_TOKEN]]\n",
        "        )\n",
        "    originals = \"Original Captions:\\n\" + \"\\n\\n\".join([f\"{idx+1}. {c}\" for idx, c in enumerate(captions)])\n",
        "    text = pred_sentence + \"\\n\\n\" + originals\n",
        "    wrapper = textwrap.TextWrapper(width=70, \n",
        "                                   replace_whitespace=True, \n",
        "                                   drop_whitespace=True,\n",
        "                                   tabsize=4, expand_tabs=False, \n",
        "                                   fix_sentence_endings=True)\n",
        "    text = \"\\n\".join([wrapper.fill(t) for t in text.splitlines()])\n",
        "    t = ax.text(0, 0.5, text,\n",
        "      horizontalalignment='left',\n",
        "      verticalalignment='center',\n",
        "      transform = ax.transAxes,\n",
        "      wrap=True)\n",
        "\n",
        "    # Showing Image\n",
        "    ax = axes[1]\n",
        "    ax.axis('off')\n",
        "    ax.imshow(image)\n",
        "\n",
        "    plt.savefig(os.path.join(folder, f\"{idx+1}.png\"))\n",
        "\n",
        "  # It's important to revert the dataset back to where it was\n",
        "  dataset.test_time = False\n",
        "\n",
        "  info_df = pd.DataFrame(info)\n",
        "  fig, ax = plt.subplots(figsize=(7,7))\n",
        "\n",
        "  ax.plot(info_df[\"train_loss\"], c=\"seagreen\", label=\"Train Loss\")\n",
        "  ax.plot(info_df[\"val_loss\"], c=\"firebrick\", label=\"Val Loss\")\n",
        "  ax.legend()\n",
        "  plt.savefig(os.path.join(folder, f\"train_val_loss.png\"))\n",
        "  "
      ],
      "execution_count": null,
      "outputs": []
    },
    {
      "cell_type": "markdown",
      "metadata": {
        "id": "bRWYMLYx9TEr"
      },
      "source": [
        "### Creating Dataset and DataLoader"
      ]
    },
    {
      "cell_type": "code",
      "metadata": {
        "id": "Q9BU36BiHWMf"
      },
      "source": [
        "dataset = FlickrDataset(\n",
        "    images_path=IMAGE_ROOT, \n",
        "    caption_df=caption_df,\n",
        "    image_transforms=image_transforms, \n",
        "    caption_transforms=caption_transforms,\n",
        ")\n",
        "test_length = int(TEST_SPLIT * len(dataset))\n",
        "train_length = len(dataset) - test_length\n",
        "train_dataset, test_dataset = random_split(dataset, \n",
        "                                           [train_length, test_length], \n",
        "                                           generator=torch.Generator(device=\"cpu\").manual_seed(42))"
      ],
      "execution_count": null,
      "outputs": []
    },
    {
      "cell_type": "code",
      "metadata": {
        "id": "t1TdgZBIEnCs"
      },
      "source": [
        "train_batch_size = 128\n",
        "test_batch_size = 256\n",
        "\n",
        "train_loader = DataLoader(train_dataset, batch_size=train_batch_size, collate_fn=batch_transforms, shuffle=True)\n",
        "test_loader = DataLoader(test_dataset, batch_size=test_batch_size, collate_fn=batch_transforms, shuffle=True)"
      ],
      "execution_count": null,
      "outputs": []
    },
    {
      "cell_type": "markdown",
      "metadata": {
        "id": "Gn35I9B1MiMo"
      },
      "source": [
        "# Creating models and training\n",
        "\n",
        "## Part A"
      ]
    },
    {
      "cell_type": "code",
      "metadata": {
        "id": "DrxjwILSMea9",
        "colab": {
          "base_uri": "https://localhost:8080/",
          "height": 17
        },
        "outputId": "64302532-abd5-4f9f-fe93-6a57ed919da7"
      },
      "source": [
        "model = FlickrNet(\n",
        "    vocab_size=len(vocab),\n",
        "    embedding_dim=EMBEDDING_DIM,\n",
        "    hidden_size=LSTM_HIDDEN_SIZE,\n",
        "    padding_idx=vocab[PAD_TOKEN],\n",
        "    start_token_index=vocab[START_TOKEN],\n",
        "    end_token_index=vocab[END_TOKEN],           \n",
        "    unk_token_index=vocab[UNK_TOKEN],\n",
        "    bidirectional=False,\n",
        "    dropout=0,\n",
        "    freeze=True\n",
        "    ).cuda()\n",
        "\n",
        "loss_function = nn.CrossEntropyLoss(reduction='mean').cuda()\n",
        "\n",
        "optimizer = torch.optim.AdamW(model.parameters(), lr=10e-3,weight_decay=10e-3)"
      ],
      "execution_count": null,
      "outputs": [
        {
          "output_type": "display_data",
          "data": {
            "text/html": [
              "\n",
              "        <style>\n",
              "            .jupyter-widgets {color: #d5d5d5 !important;}\n",
              "            .widget-label {color: #d5d5d5 !important;}\n",
              "        </style>\n",
              "    "
            ],
            "text/plain": [
              "<IPython.core.display.HTML object>"
            ]
          },
          "metadata": {
            "tags": []
          }
        }
      ]
    },
    {
      "cell_type": "code",
      "metadata": {
        "id": "jz81hwu68lKm"
      },
      "source": [
        "# Set the tqdm text color to white.\n",
        "\n",
        "from IPython.display import HTML, display\n",
        "\n",
        "def set_css_in_cell_output():\n",
        "    display(HTML('''\n",
        "        <style>\n",
        "            .jupyter-widgets {color: #d5d5d5 !important;}\n",
        "            .widget-label {color: #d5d5d5 !important;}\n",
        "        </style>\n",
        "    '''))\n",
        "\n",
        "get_ipython().events.register('pre_run_cell', set_css_in_cell_output)"
      ],
      "execution_count": null,
      "outputs": []
    },
    {
      "cell_type": "code",
      "metadata": {
        "id": "_BFGjE_IN9rP",
        "colab": {
          "base_uri": "https://localhost:8080/",
          "height": 373,
          "referenced_widgets": [
            "b0b1a8a7873c4c078043a2082d90f815",
            "6f84fdd929f149128fde5b9d7fdd080f",
            "8c53ce7bbd2f4cee8e943c256423ff7e",
            "a7d256a4585b498fb05bafffb5fc7a5e",
            "c116275e9aad4010a6b116044c3e7dbc",
            "2851ed2a1af4469b84842a90236da41a",
            "7a2d7563cf26405b845d0ec328a2d2e8",
            "eb8ae56aa5eb466099d28632fac45e58",
            "9ab70b642eed4839a92f6fc629586284",
            "a9f4ec54c9d54891845b60412af88b7b",
            "4fffe2342d6543dfb109b46b841b4fe6",
            "dc0fa1d7e6f54f67a0ab7ae66d924cf3",
            "f2858bc904ed44fd95af60286fc69887",
            "41cddaa15b9a47aab07ed460f09423f2",
            "d3fc18090b6b40d3b3a6e1cfbd0ec672",
            "9dddf5ebb2fe414b95ee6bad084d46b1",
            "9f15fdf3af93491db1d7be68b940f778",
            "1ab12eb98a0146e5b364b18dd335c771",
            "f217d7f5492b4b8c9d3bcc4ce36bb41b",
            "5b41708322894b1b8e9cc8d0b322aaab",
            "3239eafe5b054013b597bd906e8461a0",
            "854528186d414e39bfc93c388791c4bc",
            "73e92cb82a944382851b5acfba12b680",
            "f041f69b1e204a719c69d625e1346425",
            "b18b35c3cc4645ab822fae30bf1c930b",
            "cd46807c2f704fa683603635e2bcebde",
            "9ca1af0b066840968170e3616297383d",
            "212768e11d854c75b4682bbd7d30e692",
            "1f0189de75e14eb2a6d040b50d56ac55",
            "17f66db2eee5446894df5cdd3de9e061",
            "0ced0fb3262944e38001f24fccc44669",
            "f2ac599ba7bf4e41a849e1638b09ce95",
            "a4689da998a049b28375ac00e6b51d56",
            "5cd5ca5b7c26430093ac9f18d7e383b1",
            "28904d7e9add4f85aa40a54d6ba360c7",
            "3fa5640b34f54e6e8560a0779d4390af",
            "ad55870235b547fa9432a8eb89fff643",
            "4812c70012194f0ab56bd257119d6f09",
            "5218b51f41e64098b2444cf067d3f676",
            "d1018b6c6f5b4916af44448939343bde",
            "4c2622a0acd44246944d2faf2631b424",
            "5b210f23e8f34d8da05dd0660534e64a",
            "f49ed9e81f1e48489b8b39d37d6367b5",
            "0e0b19f172aa4029b2cab5239219e366",
            "c673f70fe903474e93ea030f05e2843f",
            "cb40e5da44244b419d1474c8d6aabe42",
            "8ea451fe16a142f68104dc19296a5d9e",
            "0ee1d94395024dc2af5c35dc811af8d3",
            "f478a152b7024616a3d15a1ba147e281",
            "129a66a43020420e8d962c469dec699c",
            "af43772c9fc94ceb8d365ceb68e89bfc",
            "e14adbb7febd49a7ac2ee546a64601e2",
            "cc3e972f371c454e854b30aba21b94c5",
            "a666bcf804ea4d27ba023d207aeed390",
            "08f03d8c5e104cf79a72b8ea76c0dd76",
            "2665c5937e8a413b97657f37a5aca24e",
            "9d039650c3b54bba9b35ba075b912fbe",
            "ee7cf427ca474c2fac607a6a46486418",
            "e874edc98e094993991d05d309f20a1a",
            "932b9eb787154bcd9311430d33718a75",
            "2cfaaf4a4ffa440dba78016116f305c8",
            "3c303fe52d784f419ebbfb882cc39356",
            "50b21718bf304b5da41f7edb07705ee2",
            "bbf39cf0ca7f4f55936fa35980b37493",
            "5697ba49ed814f59988b031f04dafaac",
            "725cb33001c34a1888da0aac8642d962",
            "41309c3e4823426bb3232e79e880a839",
            "05bb151cdc6c451fb8b081165bbcb758",
            "ad3bbd3f296745f09c008c8819c77f7a",
            "3be9d3fe2aab4ec0813c641d0836e8f6",
            "0747527cd8654f7ca25af1d118000500",
            "8e52d72d7c31490190dff7a06f3b384a",
            "7c2353edf0394d9eaedeed9421991630",
            "b7639ba8ef674e9c8c6dacc8ff063b31",
            "f41d0f2896ed4cd7a018b39a4e3e77f2",
            "1e1c766730574d4b8399f68d9f4d498b",
            "9fca97ae46844cf8b6411d737f15d182",
            "05d99d11c9cc485a9c74b79288259517",
            "a04a6266d53645f289334cc1267552a6",
            "3b645c1cbbcc4e92854be174281ca781",
            "6c365ba9f1fa4892ac86770dbe8d358d",
            "2117daa0c88a4ff1883aaaaf776a3adc",
            "15734112f4f34696a066d41ca0b6e775",
            "efda2af1c243483cb9371762454058ff",
            "9534e6fdf6e04df9b1e2a31f00cbcb0f",
            "76c997c07f764a749a563b73f9554af8",
            "114d9d742c2d4a4bacab1f79cdb699c0",
            "b893abc997e44d399d7fa8414e6d771e"
          ]
        },
        "outputId": "b9114e4d-7e72-4f04-de39-b4eb62977572"
      },
      "source": [
        "part_a_info = train(model, optimizer, loss_function, train_loader, test_loader, \"part_a\",max_epochs=MAX_EPOCHS)"
      ],
      "execution_count": null,
      "outputs": [
        {
          "output_type": "display_data",
          "data": {
            "text/html": [
              "\n",
              "        <style>\n",
              "            .jupyter-widgets {color: #d5d5d5 !important;}\n",
              "            .widget-label {color: #d5d5d5 !important;}\n",
              "        </style>\n",
              "    "
            ],
            "text/plain": [
              "<IPython.core.display.HTML object>"
            ]
          },
          "metadata": {
            "tags": []
          }
        },
        {
          "output_type": "display_data",
          "data": {
            "application/vnd.jupyter.widget-view+json": {
              "model_id": "b0b1a8a7873c4c078043a2082d90f815",
              "version_minor": 0,
              "version_major": 2
            },
            "text/plain": [
              "HBox(children=(FloatProgress(value=0.0, description='Epoch: 1', max=57.0, style=ProgressStyle(description_widt…"
            ]
          },
          "metadata": {
            "tags": []
          }
        },
        {
          "output_type": "stream",
          "text": [
            "Epoch: 1\t Train Loss: 2.154\t Test Loss: 1.581\n"
          ],
          "name": "stdout"
        },
        {
          "output_type": "display_data",
          "data": {
            "application/vnd.jupyter.widget-view+json": {
              "model_id": "9ab70b642eed4839a92f6fc629586284",
              "version_minor": 0,
              "version_major": 2
            },
            "text/plain": [
              "HBox(children=(FloatProgress(value=0.0, description='Epoch: 2', max=57.0, style=ProgressStyle(description_widt…"
            ]
          },
          "metadata": {
            "tags": []
          }
        },
        {
          "output_type": "stream",
          "text": [
            "Epoch: 2\t Train Loss: 1.504\t Test Loss: 1.382\n"
          ],
          "name": "stdout"
        },
        {
          "output_type": "display_data",
          "data": {
            "application/vnd.jupyter.widget-view+json": {
              "model_id": "9f15fdf3af93491db1d7be68b940f778",
              "version_minor": 0,
              "version_major": 2
            },
            "text/plain": [
              "HBox(children=(FloatProgress(value=0.0, description='Epoch: 3', max=57.0, style=ProgressStyle(description_widt…"
            ]
          },
          "metadata": {
            "tags": []
          }
        },
        {
          "output_type": "stream",
          "text": [
            "Epoch: 3\t Train Loss: 1.389\t Test Loss: 1.367\n"
          ],
          "name": "stdout"
        },
        {
          "output_type": "display_data",
          "data": {
            "application/vnd.jupyter.widget-view+json": {
              "model_id": "b18b35c3cc4645ab822fae30bf1c930b",
              "version_minor": 0,
              "version_major": 2
            },
            "text/plain": [
              "HBox(children=(FloatProgress(value=0.0, description='Epoch: 4', max=57.0, style=ProgressStyle(description_widt…"
            ]
          },
          "metadata": {
            "tags": []
          }
        },
        {
          "output_type": "stream",
          "text": [
            "Epoch: 4\t Train Loss: 1.321\t Test Loss: 1.307\n"
          ],
          "name": "stdout"
        },
        {
          "output_type": "display_data",
          "data": {
            "application/vnd.jupyter.widget-view+json": {
              "model_id": "a4689da998a049b28375ac00e6b51d56",
              "version_minor": 0,
              "version_major": 2
            },
            "text/plain": [
              "HBox(children=(FloatProgress(value=0.0, description='Epoch: 5', max=57.0, style=ProgressStyle(description_widt…"
            ]
          },
          "metadata": {
            "tags": []
          }
        },
        {
          "output_type": "stream",
          "text": [
            "Epoch: 5\t Train Loss: 1.292\t Test Loss: 1.257\n",
            "#########################\n",
            "### Original: <SOS> child pushes its face up towards window of playground <EOS>\n",
            "### Generated: <SOS> two people are sitting on the edge of cliff <EOS>\n",
            "#########################\n"
          ],
          "name": "stdout"
        },
        {
          "output_type": "display_data",
          "data": {
            "application/vnd.jupyter.widget-view+json": {
              "model_id": "4c2622a0acd44246944d2faf2631b424",
              "version_minor": 0,
              "version_major": 2
            },
            "text/plain": [
              "HBox(children=(FloatProgress(value=0.0, description='Epoch: 6', max=57.0, style=ProgressStyle(description_widt…"
            ]
          },
          "metadata": {
            "tags": []
          }
        },
        {
          "output_type": "stream",
          "text": [
            "Epoch: 6\t Train Loss: 1.241\t Test Loss: 1.266\n"
          ],
          "name": "stdout"
        },
        {
          "output_type": "display_data",
          "data": {
            "application/vnd.jupyter.widget-view+json": {
              "model_id": "f478a152b7024616a3d15a1ba147e281",
              "version_minor": 0,
              "version_major": 2
            },
            "text/plain": [
              "HBox(children=(FloatProgress(value=0.0, description='Epoch: 7', max=57.0, style=ProgressStyle(description_widt…"
            ]
          },
          "metadata": {
            "tags": []
          }
        },
        {
          "output_type": "stream",
          "text": [
            "Epoch: 7\t Train Loss: 1.206\t Test Loss: 1.246\n"
          ],
          "name": "stdout"
        },
        {
          "output_type": "display_data",
          "data": {
            "application/vnd.jupyter.widget-view+json": {
              "model_id": "9d039650c3b54bba9b35ba075b912fbe",
              "version_minor": 0,
              "version_major": 2
            },
            "text/plain": [
              "HBox(children=(FloatProgress(value=0.0, description='Epoch: 8', max=57.0, style=ProgressStyle(description_widt…"
            ]
          },
          "metadata": {
            "tags": []
          }
        },
        {
          "output_type": "stream",
          "text": [
            "Epoch: 8\t Train Loss: 1.183\t Test Loss: 1.271\n"
          ],
          "name": "stdout"
        },
        {
          "output_type": "display_data",
          "data": {
            "application/vnd.jupyter.widget-view+json": {
              "model_id": "5697ba49ed814f59988b031f04dafaac",
              "version_minor": 0,
              "version_major": 2
            },
            "text/plain": [
              "HBox(children=(FloatProgress(value=0.0, description='Epoch: 9', max=57.0, style=ProgressStyle(description_widt…"
            ]
          },
          "metadata": {
            "tags": []
          }
        },
        {
          "output_type": "stream",
          "text": [
            "Epoch: 9\t Train Loss: 1.163\t Test Loss: 1.252\n"
          ],
          "name": "stdout"
        },
        {
          "output_type": "display_data",
          "data": {
            "application/vnd.jupyter.widget-view+json": {
              "model_id": "7c2353edf0394d9eaedeed9421991630",
              "version_minor": 0,
              "version_major": 2
            },
            "text/plain": [
              "HBox(children=(FloatProgress(value=0.0, description='Epoch: 10', max=57.0, style=ProgressStyle(description_wid…"
            ]
          },
          "metadata": {
            "tags": []
          }
        },
        {
          "output_type": "stream",
          "text": [
            "Epoch: 10\t Train Loss: 1.142\t Test Loss: 1.227\n",
            "#########################\n",
            "### Original: <SOS> little girl throwing food in the air for her white dog to catch <EOS>\n",
            "### Generated: <SOS> two people are standing on the beach <EOS>\n",
            "#########################\n"
          ],
          "name": "stdout"
        },
        {
          "output_type": "display_data",
          "data": {
            "application/vnd.jupyter.widget-view+json": {
              "model_id": "6c365ba9f1fa4892ac86770dbe8d358d",
              "version_minor": 0,
              "version_major": 2
            },
            "text/plain": [
              "HBox(children=(FloatProgress(value=0.0, description='Epoch: 11', max=57.0, style=ProgressStyle(description_wid…"
            ]
          },
          "metadata": {
            "tags": []
          }
        }
      ]
    },
    {
      "cell_type": "markdown",
      "metadata": {
        "id": "DeICvvHag-iK"
      },
      "source": [
        "\n",
        "### Plot Part A"
      ]
    },
    {
      "cell_type": "code",
      "metadata": {
        "id": "O-X9PzaA_nhN",
        "colab": {
          "base_uri": "https://localhost:8080/",
          "height": 17
        },
        "outputId": "0e2a26d5-627f-4037-af89-e55659e1f437"
      },
      "source": [
        "np.random.seed(92)\n",
        "test_indices = np.random.choice(np.arange(len(test_dataset)), size=(3,))"
      ],
      "execution_count": null,
      "outputs": [
        {
          "output_type": "display_data",
          "data": {
            "text/html": [
              "\n",
              "        <style>\n",
              "            .jupyter-widgets {color: #d5d5d5 !important;}\n",
              "            .widget-label {color: #d5d5d5 !important;}\n",
              "        </style>\n",
              "    "
            ],
            "text/plain": [
              "<IPython.core.display.HTML object>"
            ]
          },
          "metadata": {
            "tags": []
          }
        }
      ]
    },
    {
      "cell_type": "code",
      "metadata": {
        "id": "UjQ6T8hMAGYc",
        "colab": {
          "base_uri": "https://localhost:8080/",
          "height": 1000
        },
        "outputId": "fc27ac6c-4731-420c-c3a9-72f1f96b4019"
      },
      "source": [
        "with open(\"/content/drive/MyDrive/Academics/Courses/Deep Learning/CA3/Q1/part_a.json\") as jfile:\n",
        "  part_a_info = json.load(jfile)\n",
        "part_a_path = \"part_a_result\"\n",
        "if not os.path.isdir(part_a_path):\n",
        "  os.mkdir(part_a_path)\n",
        "\n",
        "visualize_model(model, part_a_path, part_a_info)"
      ],
      "execution_count": null,
      "outputs": [
        {
          "output_type": "display_data",
          "data": {
            "text/html": [
              "\n",
              "        <style>\n",
              "            .jupyter-widgets {color: #d5d5d5 !important;}\n",
              "            .widget-label {color: #d5d5d5 !important;}\n",
              "        </style>\n",
              "    "
            ],
            "text/plain": [
              "<IPython.core.display.HTML object>"
            ]
          },
          "metadata": {
            "tags": []
          }
        },
        {
          "output_type": "display_data",
          "data": {
            "image/png": "[encoded data removed]",
            "text/plain": [
              "<Figure size 864x360 with 2 Axes>"
            ]
          },
          "metadata": {
            "tags": [],
            "needs_background": "light"
          }
        },
        {
          "output_type": "display_data",
          "data": {
            "image/png": "[encoded data removed]",
            "text/plain": [
              "<Figure size 864x360 with 2 Axes>"
            ]
          },
          "metadata": {
            "tags": [],
            "needs_background": "light"
          }
        },
        {
          "output_type": "display_data",
          "data": {
            "image/png": "[encoded data removed]",
            "text/plain": [
              "<Figure size 864x360 with 2 Axes>"
            ]
          },
          "metadata": {
            "tags": [],
            "needs_background": "light"
          }
        },
        {
          "output_type": "display_data",
          "data": {
            "image/png": "[encoded data removed]",
            "text/plain": [
              "<Figure size 504x504 with 1 Axes>"
            ]
          },
          "metadata": {
            "tags": [],
            "needs_background": "light"
          }
        }
      ]
    },
    {
      "cell_type": "markdown",
      "metadata": {
        "id": "w2-MGm0neqU_"
      },
      "source": [
        "## Train Part B\n",
        "\n",
        "In this part we unfreeze the resnet layers"
      ]
    },
    {
      "cell_type": "code",
      "metadata": {
        "id": "ly0iMppxep9J"
      },
      "source": [
        "model = FlickrNet(\n",
        "    vocab_size=len(vocab),\n",
        "    embedding_dim=EMBEDDING_DIM,\n",
        "    hidden_size=LSTM_HIDDEN_SIZE,\n",
        "    padding_idx=vocab[PAD_TOKEN],\n",
        "    start_token_index=vocab[START_TOKEN],\n",
        "    end_token_index=vocab[END_TOKEN],           \n",
        "    unk_token_index=vocab[UNK_TOKEN],\n",
        "    bidirectional=False,\n",
        "    dropout=0,\n",
        "    freeze=False,\n",
        "    ).cuda()\n",
        "\n",
        "loss_function = nn.CrossEntropyLoss(reduction='mean').cuda()\n",
        "\n",
        "optimizer = torch.optim.Adam(model.parameters(), lr=10e-5,weight_decay=10e-3)\n",
        "\n",
        "torch.cuda.empty_cache()"
      ],
      "execution_count": null,
      "outputs": []
    },
    {
      "cell_type": "code",
      "metadata": {
        "id": "jhWmBXnbhNn4"
      },
      "source": [
        "part_b_info = train(model, optimizer, loss_function, train_loader, test_loader, \"part_b\", max_epochs=MAX_EPOCHS)"
      ],
      "execution_count": null,
      "outputs": []
    },
    {
      "cell_type": "code",
      "metadata": {
        "id": "IZRvBXNRhWMQ"
      },
      "source": [
        "part_b_path = \"part_b_result\"\n",
        "if not os.path.isdir(part_b_path):\n",
        "  os.mkdir(part_b_path)\n",
        "\n",
        "visualize_model(model, part_b_path, part_b_info)"
      ],
      "execution_count": null,
      "outputs": []
    },
    {
      "cell_type": "markdown",
      "metadata": {
        "id": "Z69viV13hzdc"
      },
      "source": [
        "### Part C\n",
        "\n",
        "In this part we use a bidirectional LSTM but with Freezing"
      ]
    },
    {
      "cell_type": "code",
      "metadata": {
        "id": "Py2e7-0shx67"
      },
      "source": [
        "model = FlickrNet(\n",
        "    vocab_size=len(vocab),\n",
        "    embedding_dim=EMBEDDING_DIM,\n",
        "    hidden_size=LSTM_HIDDEN_SIZE,\n",
        "    padding_idx=vocab[PAD_TOKEN],\n",
        "    start_token_index=vocab[START_TOKEN],\n",
        "    end_token_index=vocab[END_TOKEN],           \n",
        "    unk_token_index=vocab[UNK_TOKEN],\n",
        "    bidirectional=False,\n",
        "    dropout=0,\n",
        "    freeze=True,\n",
        "    ).cuda()\n",
        "\n",
        "loss_function = nn.CrossEntropyLoss(reduction='mean').cuda()\n",
        "\n",
        "optimizer = torch.optim.Adam(model.parameters(), lr=10e-4,weight_decay=10e-3)\n",
        "\n",
        "torch.cuda.empty_cache()"
      ],
      "execution_count": null,
      "outputs": []
    },
    {
      "cell_type": "code",
      "metadata": {
        "id": "iZCU79quhx68"
      },
      "source": [
        "part_c_info = train(model, optimizer, loss_function, train_loader, test_loader, \"part_c\", max_epochs=MAX_EPOCHS)"
      ],
      "execution_count": null,
      "outputs": []
    },
    {
      "cell_type": "code",
      "metadata": {
        "id": "wsLZI0g3hx68"
      },
      "source": [
        "part_c_path = \"part_c_result\"\n",
        "if not os.path.isdir(part_c_path):\n",
        "  os.mkdir(part_c_path)\n",
        "\n",
        "visualize_model(model, part_c_path, part_c_info)"
      ],
      "execution_count": null,
      "outputs": []
    },
    {
      "cell_type": "markdown",
      "metadata": {
        "id": "XjBqYm8_iVVa"
      },
      "source": [
        "### Part D\n",
        "\n",
        "In this part we use a bidirectional LSTM but without freezing resnet layers"
      ]
    },
    {
      "cell_type": "code",
      "metadata": {
        "id": "7FhsQIZiiagU"
      },
      "source": [
        "model = FlickrNet(\n",
        "    vocab_size=len(vocab),\n",
        "    embedding_dim=EMBEDDING_DIM,\n",
        "    hidden_size=LSTM_HIDDEN_SIZE,\n",
        "    padding_idx=vocab[PAD_TOKEN],\n",
        "    start_token_index=vocab[START_TOKEN],\n",
        "    end_token_index=vocab[END_TOKEN],           \n",
        "    unk_token_index=vocab[UNK_TOKEN],\n",
        "    bidirectional=False,\n",
        "    dropout=0,\n",
        "    freeze=False,\n",
        "    ).cuda()\n",
        "\n",
        "loss_function = nn.CrossEntropyLoss(reduction='mean').cuda()\n",
        "\n",
        "optimizer = torch.optim.Adam(model.parameters(), lr=10e-5,weight_decay=10e-3)\n",
        "\n",
        "torch.cuda.empty_cache()"
      ],
      "execution_count": null,
      "outputs": []
    },
    {
      "cell_type": "code",
      "metadata": {
        "id": "FNF6rwi-iagV"
      },
      "source": [
        "part_d_info = train(model, optimizer, loss_function, train_loader, test_loader, \"part_d\", max_epochs=MAX_EPOCHS)"
      ],
      "execution_count": null,
      "outputs": []
    },
    {
      "cell_type": "code",
      "metadata": {
        "id": "TlU6D1VuiagV"
      },
      "source": [
        "part_d_path = \"part_d_result\"\n",
        "if not os.path.isdir(part_d_path):\n",
        "  os.mkdir(part_d_path)\n",
        "\n",
        "visualize_model(model, part_d_path, part_d_info)"
      ],
      "execution_count": null,
      "outputs": []
    }
  ]
}
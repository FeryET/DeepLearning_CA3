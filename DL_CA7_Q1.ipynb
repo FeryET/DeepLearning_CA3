{
  "nbformat": 4,
  "nbformat_minor": 0,
  "metadata": {
    "orig_nbformat": 2,
    "colab": {
      "name": "DL_CA7_Q1.ipynb",
      "provenance": [],
      "collapsed_sections": [],
      "toc_visible": true
    },
    "language_info": {
      "name": "python"
    },
    "kernelspec": {
      "name": "python3",
      "display_name": "Python 3"
    },
    "accelerator": "GPU",
    "widgets": {
      "application/vnd.jupyter.widget-state+json": {
        "f023c7c9ae614fbdae143d050724b4a3": {
          "model_module": "@jupyter-widgets/controls",
          "model_name": "HBoxModel",
          "state": {
            "_view_name": "HBoxView",
            "_dom_classes": [],
            "_model_name": "HBoxModel",
            "_view_module": "@jupyter-widgets/controls",
            "_model_module_version": "1.5.0",
            "_view_count": null,
            "_view_module_version": "1.5.0",
            "box_style": "",
            "layout": "IPY_MODEL_07c622041a9b4ee88f550c55247a2e54",
            "_model_module": "@jupyter-widgets/controls",
            "children": [
              "IPY_MODEL_7acda2f674654421a2b01bbc395a9f79",
              "IPY_MODEL_de4eb89d75fc4fe9b0872573389f730d"
            ]
          }
        },
        "07c622041a9b4ee88f550c55247a2e54": {
          "model_module": "@jupyter-widgets/base",
          "model_name": "LayoutModel",
          "state": {
            "_view_name": "LayoutView",
            "grid_template_rows": null,
            "right": null,
            "justify_content": null,
            "_view_module": "@jupyter-widgets/base",
            "overflow": null,
            "_model_module_version": "1.2.0",
            "_view_count": null,
            "flex_flow": null,
            "width": null,
            "min_width": null,
            "border": null,
            "align_items": null,
            "bottom": null,
            "_model_module": "@jupyter-widgets/base",
            "top": null,
            "grid_column": null,
            "overflow_y": null,
            "overflow_x": null,
            "grid_auto_flow": null,
            "grid_area": null,
            "grid_template_columns": null,
            "flex": null,
            "_model_name": "LayoutModel",
            "justify_items": null,
            "grid_row": null,
            "max_height": null,
            "align_content": null,
            "visibility": null,
            "align_self": null,
            "height": null,
            "min_height": null,
            "padding": null,
            "grid_auto_rows": null,
            "grid_gap": null,
            "max_width": null,
            "order": null,
            "_view_module_version": "1.2.0",
            "grid_template_areas": null,
            "object_position": null,
            "object_fit": null,
            "grid_auto_columns": null,
            "margin": null,
            "display": null,
            "left": null
          }
        },
        "7acda2f674654421a2b01bbc395a9f79": {
          "model_module": "@jupyter-widgets/controls",
          "model_name": "FloatProgressModel",
          "state": {
            "_view_name": "ProgressView",
            "style": "IPY_MODEL_95b9e6daea0f4f06855cf3e4ebb1f77d",
            "_dom_classes": [],
            "description": "Epoch: 1: 100%",
            "_model_name": "FloatProgressModel",
            "bar_style": "",
            "max": 114,
            "_view_module": "@jupyter-widgets/controls",
            "_model_module_version": "1.5.0",
            "value": 114,
            "_view_count": null,
            "_view_module_version": "1.5.0",
            "orientation": "horizontal",
            "min": 0,
            "description_tooltip": null,
            "_model_module": "@jupyter-widgets/controls",
            "layout": "IPY_MODEL_2a586c72c6cd43d995299805dce00ae4"
          }
        },
        "de4eb89d75fc4fe9b0872573389f730d": {
          "model_module": "@jupyter-widgets/controls",
          "model_name": "HTMLModel",
          "state": {
            "_view_name": "HTMLView",
            "style": "IPY_MODEL_a962503d0e694dffa3fac05a0a30a17d",
            "_dom_classes": [],
            "description": "",
            "_model_name": "HTMLModel",
            "placeholder": "​",
            "_view_module": "@jupyter-widgets/controls",
            "_model_module_version": "1.5.0",
            "value": " 114/114 [02:13&lt;00:00,  1.10s/it, batch_loss=2.125]",
            "_view_count": null,
            "_view_module_version": "1.5.0",
            "description_tooltip": null,
            "_model_module": "@jupyter-widgets/controls",
            "layout": "IPY_MODEL_5ead5a1da3b340a3a8873726eea9bdcb"
          }
        },
        "95b9e6daea0f4f06855cf3e4ebb1f77d": {
          "model_module": "@jupyter-widgets/controls",
          "model_name": "ProgressStyleModel",
          "state": {
            "_view_name": "StyleView",
            "_model_name": "ProgressStyleModel",
            "description_width": "initial",
            "_view_module": "@jupyter-widgets/base",
            "_model_module_version": "1.5.0",
            "_view_count": null,
            "_view_module_version": "1.2.0",
            "bar_color": null,
            "_model_module": "@jupyter-widgets/controls"
          }
        },
        "2a586c72c6cd43d995299805dce00ae4": {
          "model_module": "@jupyter-widgets/base",
          "model_name": "LayoutModel",
          "state": {
            "_view_name": "LayoutView",
            "grid_template_rows": null,
            "right": null,
            "justify_content": null,
            "_view_module": "@jupyter-widgets/base",
            "overflow": null,
            "_model_module_version": "1.2.0",
            "_view_count": null,
            "flex_flow": null,
            "width": null,
            "min_width": null,
            "border": null,
            "align_items": null,
            "bottom": null,
            "_model_module": "@jupyter-widgets/base",
            "top": null,
            "grid_column": null,
            "overflow_y": null,
            "overflow_x": null,
            "grid_auto_flow": null,
            "grid_area": null,
            "grid_template_columns": null,
            "flex": null,
            "_model_name": "LayoutModel",
            "justify_items": null,
            "grid_row": null,
            "max_height": null,
            "align_content": null,
            "visibility": null,
            "align_self": null,
            "height": null,
            "min_height": null,
            "padding": null,
            "grid_auto_rows": null,
            "grid_gap": null,
            "max_width": null,
            "order": null,
            "_view_module_version": "1.2.0",
            "grid_template_areas": null,
            "object_position": null,
            "object_fit": null,
            "grid_auto_columns": null,
            "margin": null,
            "display": null,
            "left": null
          }
        },
        "a962503d0e694dffa3fac05a0a30a17d": {
          "model_module": "@jupyter-widgets/controls",
          "model_name": "DescriptionStyleModel",
          "state": {
            "_view_name": "StyleView",
            "_model_name": "DescriptionStyleModel",
            "description_width": "",
            "_view_module": "@jupyter-widgets/base",
            "_model_module_version": "1.5.0",
            "_view_count": null,
            "_view_module_version": "1.2.0",
            "_model_module": "@jupyter-widgets/controls"
          }
        },
        "5ead5a1da3b340a3a8873726eea9bdcb": {
          "model_module": "@jupyter-widgets/base",
          "model_name": "LayoutModel",
          "state": {
            "_view_name": "LayoutView",
            "grid_template_rows": null,
            "right": null,
            "justify_content": null,
            "_view_module": "@jupyter-widgets/base",
            "overflow": null,
            "_model_module_version": "1.2.0",
            "_view_count": null,
            "flex_flow": null,
            "width": null,
            "min_width": null,
            "border": null,
            "align_items": null,
            "bottom": null,
            "_model_module": "@jupyter-widgets/base",
            "top": null,
            "grid_column": null,
            "overflow_y": null,
            "overflow_x": null,
            "grid_auto_flow": null,
            "grid_area": null,
            "grid_template_columns": null,
            "flex": null,
            "_model_name": "LayoutModel",
            "justify_items": null,
            "grid_row": null,
            "max_height": null,
            "align_content": null,
            "visibility": null,
            "align_self": null,
            "height": null,
            "min_height": null,
            "padding": null,
            "grid_auto_rows": null,
            "grid_gap": null,
            "max_width": null,
            "order": null,
            "_view_module_version": "1.2.0",
            "grid_template_areas": null,
            "object_position": null,
            "object_fit": null,
            "grid_auto_columns": null,
            "margin": null,
            "display": null,
            "left": null
          }
        },
        "b764d808140c4cb9b4a5edfe161d01c1": {
          "model_module": "@jupyter-widgets/controls",
          "model_name": "HBoxModel",
          "state": {
            "_view_name": "HBoxView",
            "_dom_classes": [],
            "_model_name": "HBoxModel",
            "_view_module": "@jupyter-widgets/controls",
            "_model_module_version": "1.5.0",
            "_view_count": null,
            "_view_module_version": "1.5.0",
            "box_style": "",
            "layout": "IPY_MODEL_3be75ad2e561473bb28a41dc32e054c9",
            "_model_module": "@jupyter-widgets/controls",
            "children": [
              "IPY_MODEL_4e5871b680b34ed1969740bbfc50f8a9",
              "IPY_MODEL_7e1e4462f23645bfaabadf4d8441d6ef"
            ]
          }
        },
        "3be75ad2e561473bb28a41dc32e054c9": {
          "model_module": "@jupyter-widgets/base",
          "model_name": "LayoutModel",
          "state": {
            "_view_name": "LayoutView",
            "grid_template_rows": null,
            "right": null,
            "justify_content": null,
            "_view_module": "@jupyter-widgets/base",
            "overflow": null,
            "_model_module_version": "1.2.0",
            "_view_count": null,
            "flex_flow": null,
            "width": null,
            "min_width": null,
            "border": null,
            "align_items": null,
            "bottom": null,
            "_model_module": "@jupyter-widgets/base",
            "top": null,
            "grid_column": null,
            "overflow_y": null,
            "overflow_x": null,
            "grid_auto_flow": null,
            "grid_area": null,
            "grid_template_columns": null,
            "flex": null,
            "_model_name": "LayoutModel",
            "justify_items": null,
            "grid_row": null,
            "max_height": null,
            "align_content": null,
            "visibility": null,
            "align_self": null,
            "height": null,
            "min_height": null,
            "padding": null,
            "grid_auto_rows": null,
            "grid_gap": null,
            "max_width": null,
            "order": null,
            "_view_module_version": "1.2.0",
            "grid_template_areas": null,
            "object_position": null,
            "object_fit": null,
            "grid_auto_columns": null,
            "margin": null,
            "display": null,
            "left": null
          }
        },
        "4e5871b680b34ed1969740bbfc50f8a9": {
          "model_module": "@jupyter-widgets/controls",
          "model_name": "FloatProgressModel",
          "state": {
            "_view_name": "ProgressView",
            "style": "IPY_MODEL_79d5547c9603442f8dd59271dcacb63f",
            "_dom_classes": [],
            "description": "Epoch: 2: 100%",
            "_model_name": "FloatProgressModel",
            "bar_style": "",
            "max": 114,
            "_view_module": "@jupyter-widgets/controls",
            "_model_module_version": "1.5.0",
            "value": 114,
            "_view_count": null,
            "_view_module_version": "1.5.0",
            "orientation": "horizontal",
            "min": 0,
            "description_tooltip": null,
            "_model_module": "@jupyter-widgets/controls",
            "layout": "IPY_MODEL_e486b663ae0c40ba8bb410e1f1bfe615"
          }
        },
        "7e1e4462f23645bfaabadf4d8441d6ef": {
          "model_module": "@jupyter-widgets/controls",
          "model_name": "HTMLModel",
          "state": {
            "_view_name": "HTMLView",
            "style": "IPY_MODEL_b6865202a8de4265b11094a6f9559910",
            "_dom_classes": [],
            "description": "",
            "_model_name": "HTMLModel",
            "placeholder": "​",
            "_view_module": "@jupyter-widgets/controls",
            "_model_module_version": "1.5.0",
            "value": " 114/114 [02:13&lt;00:00,  1.10s/it, batch_loss=2.030]",
            "_view_count": null,
            "_view_module_version": "1.5.0",
            "description_tooltip": null,
            "_model_module": "@jupyter-widgets/controls",
            "layout": "IPY_MODEL_27dfb7601486494f80db28a0055cbdeb"
          }
        },
        "79d5547c9603442f8dd59271dcacb63f": {
          "model_module": "@jupyter-widgets/controls",
          "model_name": "ProgressStyleModel",
          "state": {
            "_view_name": "StyleView",
            "_model_name": "ProgressStyleModel",
            "description_width": "initial",
            "_view_module": "@jupyter-widgets/base",
            "_model_module_version": "1.5.0",
            "_view_count": null,
            "_view_module_version": "1.2.0",
            "bar_color": null,
            "_model_module": "@jupyter-widgets/controls"
          }
        },
        "e486b663ae0c40ba8bb410e1f1bfe615": {
          "model_module": "@jupyter-widgets/base",
          "model_name": "LayoutModel",
          "state": {
            "_view_name": "LayoutView",
            "grid_template_rows": null,
            "right": null,
            "justify_content": null,
            "_view_module": "@jupyter-widgets/base",
            "overflow": null,
            "_model_module_version": "1.2.0",
            "_view_count": null,
            "flex_flow": null,
            "width": null,
            "min_width": null,
            "border": null,
            "align_items": null,
            "bottom": null,
            "_model_module": "@jupyter-widgets/base",
            "top": null,
            "grid_column": null,
            "overflow_y": null,
            "overflow_x": null,
            "grid_auto_flow": null,
            "grid_area": null,
            "grid_template_columns": null,
            "flex": null,
            "_model_name": "LayoutModel",
            "justify_items": null,
            "grid_row": null,
            "max_height": null,
            "align_content": null,
            "visibility": null,
            "align_self": null,
            "height": null,
            "min_height": null,
            "padding": null,
            "grid_auto_rows": null,
            "grid_gap": null,
            "max_width": null,
            "order": null,
            "_view_module_version": "1.2.0",
            "grid_template_areas": null,
            "object_position": null,
            "object_fit": null,
            "grid_auto_columns": null,
            "margin": null,
            "display": null,
            "left": null
          }
        },
        "b6865202a8de4265b11094a6f9559910": {
          "model_module": "@jupyter-widgets/controls",
          "model_name": "DescriptionStyleModel",
          "state": {
            "_view_name": "StyleView",
            "_model_name": "DescriptionStyleModel",
            "description_width": "",
            "_view_module": "@jupyter-widgets/base",
            "_model_module_version": "1.5.0",
            "_view_count": null,
            "_view_module_version": "1.2.0",
            "_model_module": "@jupyter-widgets/controls"
          }
        },
        "27dfb7601486494f80db28a0055cbdeb": {
          "model_module": "@jupyter-widgets/base",
          "model_name": "LayoutModel",
          "state": {
            "_view_name": "LayoutView",
            "grid_template_rows": null,
            "right": null,
            "justify_content": null,
            "_view_module": "@jupyter-widgets/base",
            "overflow": null,
            "_model_module_version": "1.2.0",
            "_view_count": null,
            "flex_flow": null,
            "width": null,
            "min_width": null,
            "border": null,
            "align_items": null,
            "bottom": null,
            "_model_module": "@jupyter-widgets/base",
            "top": null,
            "grid_column": null,
            "overflow_y": null,
            "overflow_x": null,
            "grid_auto_flow": null,
            "grid_area": null,
            "grid_template_columns": null,
            "flex": null,
            "_model_name": "LayoutModel",
            "justify_items": null,
            "grid_row": null,
            "max_height": null,
            "align_content": null,
            "visibility": null,
            "align_self": null,
            "height": null,
            "min_height": null,
            "padding": null,
            "grid_auto_rows": null,
            "grid_gap": null,
            "max_width": null,
            "order": null,
            "_view_module_version": "1.2.0",
            "grid_template_areas": null,
            "object_position": null,
            "object_fit": null,
            "grid_auto_columns": null,
            "margin": null,
            "display": null,
            "left": null
          }
        },
        "5495cdef83c743ec9b37fe451fced9cc": {
          "model_module": "@jupyter-widgets/controls",
          "model_name": "HBoxModel",
          "state": {
            "_view_name": "HBoxView",
            "_dom_classes": [],
            "_model_name": "HBoxModel",
            "_view_module": "@jupyter-widgets/controls",
            "_model_module_version": "1.5.0",
            "_view_count": null,
            "_view_module_version": "1.5.0",
            "box_style": "",
            "layout": "IPY_MODEL_004262b3b6764452b346e053e0cd6256",
            "_model_module": "@jupyter-widgets/controls",
            "children": [
              "IPY_MODEL_ca02bce9763047089644058ba60be35d",
              "IPY_MODEL_056558398f4145c2aa4d46f1a8e3ce1d"
            ]
          }
        },
        "004262b3b6764452b346e053e0cd6256": {
          "model_module": "@jupyter-widgets/base",
          "model_name": "LayoutModel",
          "state": {
            "_view_name": "LayoutView",
            "grid_template_rows": null,
            "right": null,
            "justify_content": null,
            "_view_module": "@jupyter-widgets/base",
            "overflow": null,
            "_model_module_version": "1.2.0",
            "_view_count": null,
            "flex_flow": null,
            "width": null,
            "min_width": null,
            "border": null,
            "align_items": null,
            "bottom": null,
            "_model_module": "@jupyter-widgets/base",
            "top": null,
            "grid_column": null,
            "overflow_y": null,
            "overflow_x": null,
            "grid_auto_flow": null,
            "grid_area": null,
            "grid_template_columns": null,
            "flex": null,
            "_model_name": "LayoutModel",
            "justify_items": null,
            "grid_row": null,
            "max_height": null,
            "align_content": null,
            "visibility": null,
            "align_self": null,
            "height": null,
            "min_height": null,
            "padding": null,
            "grid_auto_rows": null,
            "grid_gap": null,
            "max_width": null,
            "order": null,
            "_view_module_version": "1.2.0",
            "grid_template_areas": null,
            "object_position": null,
            "object_fit": null,
            "grid_auto_columns": null,
            "margin": null,
            "display": null,
            "left": null
          }
        },
        "ca02bce9763047089644058ba60be35d": {
          "model_module": "@jupyter-widgets/controls",
          "model_name": "FloatProgressModel",
          "state": {
            "_view_name": "ProgressView",
            "style": "IPY_MODEL_ada399751f304375ae957ffb4569d6b9",
            "_dom_classes": [],
            "description": "Epoch: 3: 100%",
            "_model_name": "FloatProgressModel",
            "bar_style": "",
            "max": 114,
            "_view_module": "@jupyter-widgets/controls",
            "_model_module_version": "1.5.0",
            "value": 114,
            "_view_count": null,
            "_view_module_version": "1.5.0",
            "orientation": "horizontal",
            "min": 0,
            "description_tooltip": null,
            "_model_module": "@jupyter-widgets/controls",
            "layout": "IPY_MODEL_55aa452ed73d4b91bd26f2f017d37c69"
          }
        },
        "056558398f4145c2aa4d46f1a8e3ce1d": {
          "model_module": "@jupyter-widgets/controls",
          "model_name": "HTMLModel",
          "state": {
            "_view_name": "HTMLView",
            "style": "IPY_MODEL_7ceb12ccac6c45a89402db01a9184acb",
            "_dom_classes": [],
            "description": "",
            "_model_name": "HTMLModel",
            "placeholder": "​",
            "_view_module": "@jupyter-widgets/controls",
            "_model_module_version": "1.5.0",
            "value": " 114/114 [02:12&lt;00:00,  1.11s/it, batch_loss=1.894]",
            "_view_count": null,
            "_view_module_version": "1.5.0",
            "description_tooltip": null,
            "_model_module": "@jupyter-widgets/controls",
            "layout": "IPY_MODEL_bfbb38e93aeb4dc38388ae7d9c06879d"
          }
        },
        "ada399751f304375ae957ffb4569d6b9": {
          "model_module": "@jupyter-widgets/controls",
          "model_name": "ProgressStyleModel",
          "state": {
            "_view_name": "StyleView",
            "_model_name": "ProgressStyleModel",
            "description_width": "initial",
            "_view_module": "@jupyter-widgets/base",
            "_model_module_version": "1.5.0",
            "_view_count": null,
            "_view_module_version": "1.2.0",
            "bar_color": null,
            "_model_module": "@jupyter-widgets/controls"
          }
        },
        "55aa452ed73d4b91bd26f2f017d37c69": {
          "model_module": "@jupyter-widgets/base",
          "model_name": "LayoutModel",
          "state": {
            "_view_name": "LayoutView",
            "grid_template_rows": null,
            "right": null,
            "justify_content": null,
            "_view_module": "@jupyter-widgets/base",
            "overflow": null,
            "_model_module_version": "1.2.0",
            "_view_count": null,
            "flex_flow": null,
            "width": null,
            "min_width": null,
            "border": null,
            "align_items": null,
            "bottom": null,
            "_model_module": "@jupyter-widgets/base",
            "top": null,
            "grid_column": null,
            "overflow_y": null,
            "overflow_x": null,
            "grid_auto_flow": null,
            "grid_area": null,
            "grid_template_columns": null,
            "flex": null,
            "_model_name": "LayoutModel",
            "justify_items": null,
            "grid_row": null,
            "max_height": null,
            "align_content": null,
            "visibility": null,
            "align_self": null,
            "height": null,
            "min_height": null,
            "padding": null,
            "grid_auto_rows": null,
            "grid_gap": null,
            "max_width": null,
            "order": null,
            "_view_module_version": "1.2.0",
            "grid_template_areas": null,
            "object_position": null,
            "object_fit": null,
            "grid_auto_columns": null,
            "margin": null,
            "display": null,
            "left": null
          }
        },
        "7ceb12ccac6c45a89402db01a9184acb": {
          "model_module": "@jupyter-widgets/controls",
          "model_name": "DescriptionStyleModel",
          "state": {
            "_view_name": "StyleView",
            "_model_name": "DescriptionStyleModel",
            "description_width": "",
            "_view_module": "@jupyter-widgets/base",
            "_model_module_version": "1.5.0",
            "_view_count": null,
            "_view_module_version": "1.2.0",
            "_model_module": "@jupyter-widgets/controls"
          }
        },
        "bfbb38e93aeb4dc38388ae7d9c06879d": {
          "model_module": "@jupyter-widgets/base",
          "model_name": "LayoutModel",
          "state": {
            "_view_name": "LayoutView",
            "grid_template_rows": null,
            "right": null,
            "justify_content": null,
            "_view_module": "@jupyter-widgets/base",
            "overflow": null,
            "_model_module_version": "1.2.0",
            "_view_count": null,
            "flex_flow": null,
            "width": null,
            "min_width": null,
            "border": null,
            "align_items": null,
            "bottom": null,
            "_model_module": "@jupyter-widgets/base",
            "top": null,
            "grid_column": null,
            "overflow_y": null,
            "overflow_x": null,
            "grid_auto_flow": null,
            "grid_area": null,
            "grid_template_columns": null,
            "flex": null,
            "_model_name": "LayoutModel",
            "justify_items": null,
            "grid_row": null,
            "max_height": null,
            "align_content": null,
            "visibility": null,
            "align_self": null,
            "height": null,
            "min_height": null,
            "padding": null,
            "grid_auto_rows": null,
            "grid_gap": null,
            "max_width": null,
            "order": null,
            "_view_module_version": "1.2.0",
            "grid_template_areas": null,
            "object_position": null,
            "object_fit": null,
            "grid_auto_columns": null,
            "margin": null,
            "display": null,
            "left": null
          }
        },
        "894047ed6c9f4eb4b0bb607df150615d": {
          "model_module": "@jupyter-widgets/controls",
          "model_name": "HBoxModel",
          "state": {
            "_view_name": "HBoxView",
            "_dom_classes": [],
            "_model_name": "HBoxModel",
            "_view_module": "@jupyter-widgets/controls",
            "_model_module_version": "1.5.0",
            "_view_count": null,
            "_view_module_version": "1.5.0",
            "box_style": "",
            "layout": "IPY_MODEL_90458efbb6e644eea0f68c1b21e907c1",
            "_model_module": "@jupyter-widgets/controls",
            "children": [
              "IPY_MODEL_f9dffee687874277b0c7c85450172b0a",
              "IPY_MODEL_364ae22919c740be976d1b3c48194efa"
            ]
          }
        },
        "90458efbb6e644eea0f68c1b21e907c1": {
          "model_module": "@jupyter-widgets/base",
          "model_name": "LayoutModel",
          "state": {
            "_view_name": "LayoutView",
            "grid_template_rows": null,
            "right": null,
            "justify_content": null,
            "_view_module": "@jupyter-widgets/base",
            "overflow": null,
            "_model_module_version": "1.2.0",
            "_view_count": null,
            "flex_flow": null,
            "width": null,
            "min_width": null,
            "border": null,
            "align_items": null,
            "bottom": null,
            "_model_module": "@jupyter-widgets/base",
            "top": null,
            "grid_column": null,
            "overflow_y": null,
            "overflow_x": null,
            "grid_auto_flow": null,
            "grid_area": null,
            "grid_template_columns": null,
            "flex": null,
            "_model_name": "LayoutModel",
            "justify_items": null,
            "grid_row": null,
            "max_height": null,
            "align_content": null,
            "visibility": null,
            "align_self": null,
            "height": null,
            "min_height": null,
            "padding": null,
            "grid_auto_rows": null,
            "grid_gap": null,
            "max_width": null,
            "order": null,
            "_view_module_version": "1.2.0",
            "grid_template_areas": null,
            "object_position": null,
            "object_fit": null,
            "grid_auto_columns": null,
            "margin": null,
            "display": null,
            "left": null
          }
        },
        "f9dffee687874277b0c7c85450172b0a": {
          "model_module": "@jupyter-widgets/controls",
          "model_name": "FloatProgressModel",
          "state": {
            "_view_name": "ProgressView",
            "style": "IPY_MODEL_50bae29c0a334214bfd3950533e898fc",
            "_dom_classes": [],
            "description": "Epoch: 4: 100%",
            "_model_name": "FloatProgressModel",
            "bar_style": "",
            "max": 114,
            "_view_module": "@jupyter-widgets/controls",
            "_model_module_version": "1.5.0",
            "value": 114,
            "_view_count": null,
            "_view_module_version": "1.5.0",
            "orientation": "horizontal",
            "min": 0,
            "description_tooltip": null,
            "_model_module": "@jupyter-widgets/controls",
            "layout": "IPY_MODEL_0cb1abc19c5246d2814abde55eed5de2"
          }
        },
        "364ae22919c740be976d1b3c48194efa": {
          "model_module": "@jupyter-widgets/controls",
          "model_name": "HTMLModel",
          "state": {
            "_view_name": "HTMLView",
            "style": "IPY_MODEL_e0bac61e60404cc6ae599b5d416de340",
            "_dom_classes": [],
            "description": "",
            "_model_name": "HTMLModel",
            "placeholder": "​",
            "_view_module": "@jupyter-widgets/controls",
            "_model_module_version": "1.5.0",
            "value": " 114/114 [02:12&lt;00:00,  1.09s/it, batch_loss=1.773]",
            "_view_count": null,
            "_view_module_version": "1.5.0",
            "description_tooltip": null,
            "_model_module": "@jupyter-widgets/controls",
            "layout": "IPY_MODEL_245db4d9b04848adad5fbfbdb515af98"
          }
        },
        "50bae29c0a334214bfd3950533e898fc": {
          "model_module": "@jupyter-widgets/controls",
          "model_name": "ProgressStyleModel",
          "state": {
            "_view_name": "StyleView",
            "_model_name": "ProgressStyleModel",
            "description_width": "initial",
            "_view_module": "@jupyter-widgets/base",
            "_model_module_version": "1.5.0",
            "_view_count": null,
            "_view_module_version": "1.2.0",
            "bar_color": null,
            "_model_module": "@jupyter-widgets/controls"
          }
        },
        "0cb1abc19c5246d2814abde55eed5de2": {
          "model_module": "@jupyter-widgets/base",
          "model_name": "LayoutModel",
          "state": {
            "_view_name": "LayoutView",
            "grid_template_rows": null,
            "right": null,
            "justify_content": null,
            "_view_module": "@jupyter-widgets/base",
            "overflow": null,
            "_model_module_version": "1.2.0",
            "_view_count": null,
            "flex_flow": null,
            "width": null,
            "min_width": null,
            "border": null,
            "align_items": null,
            "bottom": null,
            "_model_module": "@jupyter-widgets/base",
            "top": null,
            "grid_column": null,
            "overflow_y": null,
            "overflow_x": null,
            "grid_auto_flow": null,
            "grid_area": null,
            "grid_template_columns": null,
            "flex": null,
            "_model_name": "LayoutModel",
            "justify_items": null,
            "grid_row": null,
            "max_height": null,
            "align_content": null,
            "visibility": null,
            "align_self": null,
            "height": null,
            "min_height": null,
            "padding": null,
            "grid_auto_rows": null,
            "grid_gap": null,
            "max_width": null,
            "order": null,
            "_view_module_version": "1.2.0",
            "grid_template_areas": null,
            "object_position": null,
            "object_fit": null,
            "grid_auto_columns": null,
            "margin": null,
            "display": null,
            "left": null
          }
        },
        "e0bac61e60404cc6ae599b5d416de340": {
          "model_module": "@jupyter-widgets/controls",
          "model_name": "DescriptionStyleModel",
          "state": {
            "_view_name": "StyleView",
            "_model_name": "DescriptionStyleModel",
            "description_width": "",
            "_view_module": "@jupyter-widgets/base",
            "_model_module_version": "1.5.0",
            "_view_count": null,
            "_view_module_version": "1.2.0",
            "_model_module": "@jupyter-widgets/controls"
          }
        },
        "245db4d9b04848adad5fbfbdb515af98": {
          "model_module": "@jupyter-widgets/base",
          "model_name": "LayoutModel",
          "state": {
            "_view_name": "LayoutView",
            "grid_template_rows": null,
            "right": null,
            "justify_content": null,
            "_view_module": "@jupyter-widgets/base",
            "overflow": null,
            "_model_module_version": "1.2.0",
            "_view_count": null,
            "flex_flow": null,
            "width": null,
            "min_width": null,
            "border": null,
            "align_items": null,
            "bottom": null,
            "_model_module": "@jupyter-widgets/base",
            "top": null,
            "grid_column": null,
            "overflow_y": null,
            "overflow_x": null,
            "grid_auto_flow": null,
            "grid_area": null,
            "grid_template_columns": null,
            "flex": null,
            "_model_name": "LayoutModel",
            "justify_items": null,
            "grid_row": null,
            "max_height": null,
            "align_content": null,
            "visibility": null,
            "align_self": null,
            "height": null,
            "min_height": null,
            "padding": null,
            "grid_auto_rows": null,
            "grid_gap": null,
            "max_width": null,
            "order": null,
            "_view_module_version": "1.2.0",
            "grid_template_areas": null,
            "object_position": null,
            "object_fit": null,
            "grid_auto_columns": null,
            "margin": null,
            "display": null,
            "left": null
          }
        },
        "4b5661e2a6a24007a1f7dfe1b3261c91": {
          "model_module": "@jupyter-widgets/controls",
          "model_name": "HBoxModel",
          "state": {
            "_view_name": "HBoxView",
            "_dom_classes": [],
            "_model_name": "HBoxModel",
            "_view_module": "@jupyter-widgets/controls",
            "_model_module_version": "1.5.0",
            "_view_count": null,
            "_view_module_version": "1.5.0",
            "box_style": "",
            "layout": "IPY_MODEL_b001e9e0adb64009a428a928445bf65f",
            "_model_module": "@jupyter-widgets/controls",
            "children": [
              "IPY_MODEL_f0ddc459d49e4d209905053ed2f2f015",
              "IPY_MODEL_4093e60d4204427b8ed312f51664a9c3"
            ]
          }
        },
        "b001e9e0adb64009a428a928445bf65f": {
          "model_module": "@jupyter-widgets/base",
          "model_name": "LayoutModel",
          "state": {
            "_view_name": "LayoutView",
            "grid_template_rows": null,
            "right": null,
            "justify_content": null,
            "_view_module": "@jupyter-widgets/base",
            "overflow": null,
            "_model_module_version": "1.2.0",
            "_view_count": null,
            "flex_flow": null,
            "width": null,
            "min_width": null,
            "border": null,
            "align_items": null,
            "bottom": null,
            "_model_module": "@jupyter-widgets/base",
            "top": null,
            "grid_column": null,
            "overflow_y": null,
            "overflow_x": null,
            "grid_auto_flow": null,
            "grid_area": null,
            "grid_template_columns": null,
            "flex": null,
            "_model_name": "LayoutModel",
            "justify_items": null,
            "grid_row": null,
            "max_height": null,
            "align_content": null,
            "visibility": null,
            "align_self": null,
            "height": null,
            "min_height": null,
            "padding": null,
            "grid_auto_rows": null,
            "grid_gap": null,
            "max_width": null,
            "order": null,
            "_view_module_version": "1.2.0",
            "grid_template_areas": null,
            "object_position": null,
            "object_fit": null,
            "grid_auto_columns": null,
            "margin": null,
            "display": null,
            "left": null
          }
        },
        "f0ddc459d49e4d209905053ed2f2f015": {
          "model_module": "@jupyter-widgets/controls",
          "model_name": "FloatProgressModel",
          "state": {
            "_view_name": "ProgressView",
            "style": "IPY_MODEL_c43b5f2804004a30b5e4b8850fbe5aa1",
            "_dom_classes": [],
            "description": "Epoch: 5: 100%",
            "_model_name": "FloatProgressModel",
            "bar_style": "",
            "max": 114,
            "_view_module": "@jupyter-widgets/controls",
            "_model_module_version": "1.5.0",
            "value": 114,
            "_view_count": null,
            "_view_module_version": "1.5.0",
            "orientation": "horizontal",
            "min": 0,
            "description_tooltip": null,
            "_model_module": "@jupyter-widgets/controls",
            "layout": "IPY_MODEL_d1e5998d5a0b44fb907782e85813462c"
          }
        },
        "4093e60d4204427b8ed312f51664a9c3": {
          "model_module": "@jupyter-widgets/controls",
          "model_name": "HTMLModel",
          "state": {
            "_view_name": "HTMLView",
            "style": "IPY_MODEL_d1dc6d5e97914c669182715515bf6890",
            "_dom_classes": [],
            "description": "",
            "_model_name": "HTMLModel",
            "placeholder": "​",
            "_view_module": "@jupyter-widgets/controls",
            "_model_module_version": "1.5.0",
            "value": " 114/114 [02:12&lt;00:00,  1.10s/it, batch_loss=1.830]",
            "_view_count": null,
            "_view_module_version": "1.5.0",
            "description_tooltip": null,
            "_model_module": "@jupyter-widgets/controls",
            "layout": "IPY_MODEL_0776e58a28b04d0485260dce96cefcbf"
          }
        },
        "c43b5f2804004a30b5e4b8850fbe5aa1": {
          "model_module": "@jupyter-widgets/controls",
          "model_name": "ProgressStyleModel",
          "state": {
            "_view_name": "StyleView",
            "_model_name": "ProgressStyleModel",
            "description_width": "initial",
            "_view_module": "@jupyter-widgets/base",
            "_model_module_version": "1.5.0",
            "_view_count": null,
            "_view_module_version": "1.2.0",
            "bar_color": null,
            "_model_module": "@jupyter-widgets/controls"
          }
        },
        "d1e5998d5a0b44fb907782e85813462c": {
          "model_module": "@jupyter-widgets/base",
          "model_name": "LayoutModel",
          "state": {
            "_view_name": "LayoutView",
            "grid_template_rows": null,
            "right": null,
            "justify_content": null,
            "_view_module": "@jupyter-widgets/base",
            "overflow": null,
            "_model_module_version": "1.2.0",
            "_view_count": null,
            "flex_flow": null,
            "width": null,
            "min_width": null,
            "border": null,
            "align_items": null,
            "bottom": null,
            "_model_module": "@jupyter-widgets/base",
            "top": null,
            "grid_column": null,
            "overflow_y": null,
            "overflow_x": null,
            "grid_auto_flow": null,
            "grid_area": null,
            "grid_template_columns": null,
            "flex": null,
            "_model_name": "LayoutModel",
            "justify_items": null,
            "grid_row": null,
            "max_height": null,
            "align_content": null,
            "visibility": null,
            "align_self": null,
            "height": null,
            "min_height": null,
            "padding": null,
            "grid_auto_rows": null,
            "grid_gap": null,
            "max_width": null,
            "order": null,
            "_view_module_version": "1.2.0",
            "grid_template_areas": null,
            "object_position": null,
            "object_fit": null,
            "grid_auto_columns": null,
            "margin": null,
            "display": null,
            "left": null
          }
        },
        "d1dc6d5e97914c669182715515bf6890": {
          "model_module": "@jupyter-widgets/controls",
          "model_name": "DescriptionStyleModel",
          "state": {
            "_view_name": "StyleView",
            "_model_name": "DescriptionStyleModel",
            "description_width": "",
            "_view_module": "@jupyter-widgets/base",
            "_model_module_version": "1.5.0",
            "_view_count": null,
            "_view_module_version": "1.2.0",
            "_model_module": "@jupyter-widgets/controls"
          }
        },
        "0776e58a28b04d0485260dce96cefcbf": {
          "model_module": "@jupyter-widgets/base",
          "model_name": "LayoutModel",
          "state": {
            "_view_name": "LayoutView",
            "grid_template_rows": null,
            "right": null,
            "justify_content": null,
            "_view_module": "@jupyter-widgets/base",
            "overflow": null,
            "_model_module_version": "1.2.0",
            "_view_count": null,
            "flex_flow": null,
            "width": null,
            "min_width": null,
            "border": null,
            "align_items": null,
            "bottom": null,
            "_model_module": "@jupyter-widgets/base",
            "top": null,
            "grid_column": null,
            "overflow_y": null,
            "overflow_x": null,
            "grid_auto_flow": null,
            "grid_area": null,
            "grid_template_columns": null,
            "flex": null,
            "_model_name": "LayoutModel",
            "justify_items": null,
            "grid_row": null,
            "max_height": null,
            "align_content": null,
            "visibility": null,
            "align_self": null,
            "height": null,
            "min_height": null,
            "padding": null,
            "grid_auto_rows": null,
            "grid_gap": null,
            "max_width": null,
            "order": null,
            "_view_module_version": "1.2.0",
            "grid_template_areas": null,
            "object_position": null,
            "object_fit": null,
            "grid_auto_columns": null,
            "margin": null,
            "display": null,
            "left": null
          }
        },
        "82f01340b5a142f1b58f64a8b135c649": {
          "model_module": "@jupyter-widgets/controls",
          "model_name": "HBoxModel",
          "state": {
            "_view_name": "HBoxView",
            "_dom_classes": [],
            "_model_name": "HBoxModel",
            "_view_module": "@jupyter-widgets/controls",
            "_model_module_version": "1.5.0",
            "_view_count": null,
            "_view_module_version": "1.5.0",
            "box_style": "",
            "layout": "IPY_MODEL_9e21640d3d4440a29b874657bf431eb6",
            "_model_module": "@jupyter-widgets/controls",
            "children": [
              "IPY_MODEL_7e4bcea3123b42b892309868b3176d95",
              "IPY_MODEL_3068d78c963c4864834dba7563a66e6b"
            ]
          }
        },
        "9e21640d3d4440a29b874657bf431eb6": {
          "model_module": "@jupyter-widgets/base",
          "model_name": "LayoutModel",
          "state": {
            "_view_name": "LayoutView",
            "grid_template_rows": null,
            "right": null,
            "justify_content": null,
            "_view_module": "@jupyter-widgets/base",
            "overflow": null,
            "_model_module_version": "1.2.0",
            "_view_count": null,
            "flex_flow": null,
            "width": null,
            "min_width": null,
            "border": null,
            "align_items": null,
            "bottom": null,
            "_model_module": "@jupyter-widgets/base",
            "top": null,
            "grid_column": null,
            "overflow_y": null,
            "overflow_x": null,
            "grid_auto_flow": null,
            "grid_area": null,
            "grid_template_columns": null,
            "flex": null,
            "_model_name": "LayoutModel",
            "justify_items": null,
            "grid_row": null,
            "max_height": null,
            "align_content": null,
            "visibility": null,
            "align_self": null,
            "height": null,
            "min_height": null,
            "padding": null,
            "grid_auto_rows": null,
            "grid_gap": null,
            "max_width": null,
            "order": null,
            "_view_module_version": "1.2.0",
            "grid_template_areas": null,
            "object_position": null,
            "object_fit": null,
            "grid_auto_columns": null,
            "margin": null,
            "display": null,
            "left": null
          }
        },
        "7e4bcea3123b42b892309868b3176d95": {
          "model_module": "@jupyter-widgets/controls",
          "model_name": "FloatProgressModel",
          "state": {
            "_view_name": "ProgressView",
            "style": "IPY_MODEL_d787b801912b4c9e8fac029db2c9fe3e",
            "_dom_classes": [],
            "description": "Epoch: 6: 100%",
            "_model_name": "FloatProgressModel",
            "bar_style": "",
            "max": 114,
            "_view_module": "@jupyter-widgets/controls",
            "_model_module_version": "1.5.0",
            "value": 114,
            "_view_count": null,
            "_view_module_version": "1.5.0",
            "orientation": "horizontal",
            "min": 0,
            "description_tooltip": null,
            "_model_module": "@jupyter-widgets/controls",
            "layout": "IPY_MODEL_734c26f3b71c4e458badfbda9d24b254"
          }
        },
        "3068d78c963c4864834dba7563a66e6b": {
          "model_module": "@jupyter-widgets/controls",
          "model_name": "HTMLModel",
          "state": {
            "_view_name": "HTMLView",
            "style": "IPY_MODEL_1660b7b4ce664e2d8ad2fd288509091a",
            "_dom_classes": [],
            "description": "",
            "_model_name": "HTMLModel",
            "placeholder": "​",
            "_view_module": "@jupyter-widgets/controls",
            "_model_module_version": "1.5.0",
            "value": " 114/114 [02:11&lt;00:00,  1.09s/it, batch_loss=1.652]",
            "_view_count": null,
            "_view_module_version": "1.5.0",
            "description_tooltip": null,
            "_model_module": "@jupyter-widgets/controls",
            "layout": "IPY_MODEL_1fd5fdf2f20846e48405d10ed2023d2e"
          }
        },
        "d787b801912b4c9e8fac029db2c9fe3e": {
          "model_module": "@jupyter-widgets/controls",
          "model_name": "ProgressStyleModel",
          "state": {
            "_view_name": "StyleView",
            "_model_name": "ProgressStyleModel",
            "description_width": "initial",
            "_view_module": "@jupyter-widgets/base",
            "_model_module_version": "1.5.0",
            "_view_count": null,
            "_view_module_version": "1.2.0",
            "bar_color": null,
            "_model_module": "@jupyter-widgets/controls"
          }
        },
        "734c26f3b71c4e458badfbda9d24b254": {
          "model_module": "@jupyter-widgets/base",
          "model_name": "LayoutModel",
          "state": {
            "_view_name": "LayoutView",
            "grid_template_rows": null,
            "right": null,
            "justify_content": null,
            "_view_module": "@jupyter-widgets/base",
            "overflow": null,
            "_model_module_version": "1.2.0",
            "_view_count": null,
            "flex_flow": null,
            "width": null,
            "min_width": null,
            "border": null,
            "align_items": null,
            "bottom": null,
            "_model_module": "@jupyter-widgets/base",
            "top": null,
            "grid_column": null,
            "overflow_y": null,
            "overflow_x": null,
            "grid_auto_flow": null,
            "grid_area": null,
            "grid_template_columns": null,
            "flex": null,
            "_model_name": "LayoutModel",
            "justify_items": null,
            "grid_row": null,
            "max_height": null,
            "align_content": null,
            "visibility": null,
            "align_self": null,
            "height": null,
            "min_height": null,
            "padding": null,
            "grid_auto_rows": null,
            "grid_gap": null,
            "max_width": null,
            "order": null,
            "_view_module_version": "1.2.0",
            "grid_template_areas": null,
            "object_position": null,
            "object_fit": null,
            "grid_auto_columns": null,
            "margin": null,
            "display": null,
            "left": null
          }
        },
        "1660b7b4ce664e2d8ad2fd288509091a": {
          "model_module": "@jupyter-widgets/controls",
          "model_name": "DescriptionStyleModel",
          "state": {
            "_view_name": "StyleView",
            "_model_name": "DescriptionStyleModel",
            "description_width": "",
            "_view_module": "@jupyter-widgets/base",
            "_model_module_version": "1.5.0",
            "_view_count": null,
            "_view_module_version": "1.2.0",
            "_model_module": "@jupyter-widgets/controls"
          }
        },
        "1fd5fdf2f20846e48405d10ed2023d2e": {
          "model_module": "@jupyter-widgets/base",
          "model_name": "LayoutModel",
          "state": {
            "_view_name": "LayoutView",
            "grid_template_rows": null,
            "right": null,
            "justify_content": null,
            "_view_module": "@jupyter-widgets/base",
            "overflow": null,
            "_model_module_version": "1.2.0",
            "_view_count": null,
            "flex_flow": null,
            "width": null,
            "min_width": null,
            "border": null,
            "align_items": null,
            "bottom": null,
            "_model_module": "@jupyter-widgets/base",
            "top": null,
            "grid_column": null,
            "overflow_y": null,
            "overflow_x": null,
            "grid_auto_flow": null,
            "grid_area": null,
            "grid_template_columns": null,
            "flex": null,
            "_model_name": "LayoutModel",
            "justify_items": null,
            "grid_row": null,
            "max_height": null,
            "align_content": null,
            "visibility": null,
            "align_self": null,
            "height": null,
            "min_height": null,
            "padding": null,
            "grid_auto_rows": null,
            "grid_gap": null,
            "max_width": null,
            "order": null,
            "_view_module_version": "1.2.0",
            "grid_template_areas": null,
            "object_position": null,
            "object_fit": null,
            "grid_auto_columns": null,
            "margin": null,
            "display": null,
            "left": null
          }
        },
        "4176cfa4d42442dd9452df7d1a54b7f3": {
          "model_module": "@jupyter-widgets/controls",
          "model_name": "HBoxModel",
          "state": {
            "_view_name": "HBoxView",
            "_dom_classes": [],
            "_model_name": "HBoxModel",
            "_view_module": "@jupyter-widgets/controls",
            "_model_module_version": "1.5.0",
            "_view_count": null,
            "_view_module_version": "1.5.0",
            "box_style": "",
            "layout": "IPY_MODEL_b785042a27c2420a80c50dc685a45902",
            "_model_module": "@jupyter-widgets/controls",
            "children": [
              "IPY_MODEL_556c9cb0cadc4ebeb6cd1ab34d952be1",
              "IPY_MODEL_df779e37406647cc8e0a7a3ce79c424d"
            ]
          }
        },
        "b785042a27c2420a80c50dc685a45902": {
          "model_module": "@jupyter-widgets/base",
          "model_name": "LayoutModel",
          "state": {
            "_view_name": "LayoutView",
            "grid_template_rows": null,
            "right": null,
            "justify_content": null,
            "_view_module": "@jupyter-widgets/base",
            "overflow": null,
            "_model_module_version": "1.2.0",
            "_view_count": null,
            "flex_flow": null,
            "width": null,
            "min_width": null,
            "border": null,
            "align_items": null,
            "bottom": null,
            "_model_module": "@jupyter-widgets/base",
            "top": null,
            "grid_column": null,
            "overflow_y": null,
            "overflow_x": null,
            "grid_auto_flow": null,
            "grid_area": null,
            "grid_template_columns": null,
            "flex": null,
            "_model_name": "LayoutModel",
            "justify_items": null,
            "grid_row": null,
            "max_height": null,
            "align_content": null,
            "visibility": null,
            "align_self": null,
            "height": null,
            "min_height": null,
            "padding": null,
            "grid_auto_rows": null,
            "grid_gap": null,
            "max_width": null,
            "order": null,
            "_view_module_version": "1.2.0",
            "grid_template_areas": null,
            "object_position": null,
            "object_fit": null,
            "grid_auto_columns": null,
            "margin": null,
            "display": null,
            "left": null
          }
        },
        "556c9cb0cadc4ebeb6cd1ab34d952be1": {
          "model_module": "@jupyter-widgets/controls",
          "model_name": "FloatProgressModel",
          "state": {
            "_view_name": "ProgressView",
            "style": "IPY_MODEL_a27ea3bc946949269fe9bccd82750037",
            "_dom_classes": [],
            "description": "Epoch: 7: 100%",
            "_model_name": "FloatProgressModel",
            "bar_style": "",
            "max": 114,
            "_view_module": "@jupyter-widgets/controls",
            "_model_module_version": "1.5.0",
            "value": 114,
            "_view_count": null,
            "_view_module_version": "1.5.0",
            "orientation": "horizontal",
            "min": 0,
            "description_tooltip": null,
            "_model_module": "@jupyter-widgets/controls",
            "layout": "IPY_MODEL_8d53619199074f55bc7e26fb5b85179d"
          }
        },
        "df779e37406647cc8e0a7a3ce79c424d": {
          "model_module": "@jupyter-widgets/controls",
          "model_name": "HTMLModel",
          "state": {
            "_view_name": "HTMLView",
            "style": "IPY_MODEL_ae484fd940cb401bb82a23f771de3960",
            "_dom_classes": [],
            "description": "",
            "_model_name": "HTMLModel",
            "placeholder": "​",
            "_view_module": "@jupyter-widgets/controls",
            "_model_module_version": "1.5.0",
            "value": " 114/114 [02:11&lt;00:00,  1.09s/it, batch_loss=1.919]",
            "_view_count": null,
            "_view_module_version": "1.5.0",
            "description_tooltip": null,
            "_model_module": "@jupyter-widgets/controls",
            "layout": "IPY_MODEL_c10dc262e1e646b09f2f6080810f50fe"
          }
        },
        "a27ea3bc946949269fe9bccd82750037": {
          "model_module": "@jupyter-widgets/controls",
          "model_name": "ProgressStyleModel",
          "state": {
            "_view_name": "StyleView",
            "_model_name": "ProgressStyleModel",
            "description_width": "initial",
            "_view_module": "@jupyter-widgets/base",
            "_model_module_version": "1.5.0",
            "_view_count": null,
            "_view_module_version": "1.2.0",
            "bar_color": null,
            "_model_module": "@jupyter-widgets/controls"
          }
        },
        "8d53619199074f55bc7e26fb5b85179d": {
          "model_module": "@jupyter-widgets/base",
          "model_name": "LayoutModel",
          "state": {
            "_view_name": "LayoutView",
            "grid_template_rows": null,
            "right": null,
            "justify_content": null,
            "_view_module": "@jupyter-widgets/base",
            "overflow": null,
            "_model_module_version": "1.2.0",
            "_view_count": null,
            "flex_flow": null,
            "width": null,
            "min_width": null,
            "border": null,
            "align_items": null,
            "bottom": null,
            "_model_module": "@jupyter-widgets/base",
            "top": null,
            "grid_column": null,
            "overflow_y": null,
            "overflow_x": null,
            "grid_auto_flow": null,
            "grid_area": null,
            "grid_template_columns": null,
            "flex": null,
            "_model_name": "LayoutModel",
            "justify_items": null,
            "grid_row": null,
            "max_height": null,
            "align_content": null,
            "visibility": null,
            "align_self": null,
            "height": null,
            "min_height": null,
            "padding": null,
            "grid_auto_rows": null,
            "grid_gap": null,
            "max_width": null,
            "order": null,
            "_view_module_version": "1.2.0",
            "grid_template_areas": null,
            "object_position": null,
            "object_fit": null,
            "grid_auto_columns": null,
            "margin": null,
            "display": null,
            "left": null
          }
        },
        "ae484fd940cb401bb82a23f771de3960": {
          "model_module": "@jupyter-widgets/controls",
          "model_name": "DescriptionStyleModel",
          "state": {
            "_view_name": "StyleView",
            "_model_name": "DescriptionStyleModel",
            "description_width": "",
            "_view_module": "@jupyter-widgets/base",
            "_model_module_version": "1.5.0",
            "_view_count": null,
            "_view_module_version": "1.2.0",
            "_model_module": "@jupyter-widgets/controls"
          }
        },
        "c10dc262e1e646b09f2f6080810f50fe": {
          "model_module": "@jupyter-widgets/base",
          "model_name": "LayoutModel",
          "state": {
            "_view_name": "LayoutView",
            "grid_template_rows": null,
            "right": null,
            "justify_content": null,
            "_view_module": "@jupyter-widgets/base",
            "overflow": null,
            "_model_module_version": "1.2.0",
            "_view_count": null,
            "flex_flow": null,
            "width": null,
            "min_width": null,
            "border": null,
            "align_items": null,
            "bottom": null,
            "_model_module": "@jupyter-widgets/base",
            "top": null,
            "grid_column": null,
            "overflow_y": null,
            "overflow_x": null,
            "grid_auto_flow": null,
            "grid_area": null,
            "grid_template_columns": null,
            "flex": null,
            "_model_name": "LayoutModel",
            "justify_items": null,
            "grid_row": null,
            "max_height": null,
            "align_content": null,
            "visibility": null,
            "align_self": null,
            "height": null,
            "min_height": null,
            "padding": null,
            "grid_auto_rows": null,
            "grid_gap": null,
            "max_width": null,
            "order": null,
            "_view_module_version": "1.2.0",
            "grid_template_areas": null,
            "object_position": null,
            "object_fit": null,
            "grid_auto_columns": null,
            "margin": null,
            "display": null,
            "left": null
          }
        },
        "a26710332b6146dbb5dffc9f35c91c86": {
          "model_module": "@jupyter-widgets/controls",
          "model_name": "HBoxModel",
          "state": {
            "_view_name": "HBoxView",
            "_dom_classes": [],
            "_model_name": "HBoxModel",
            "_view_module": "@jupyter-widgets/controls",
            "_model_module_version": "1.5.0",
            "_view_count": null,
            "_view_module_version": "1.5.0",
            "box_style": "",
            "layout": "IPY_MODEL_c9499d5e42e44780b97f6fbb01df3c40",
            "_model_module": "@jupyter-widgets/controls",
            "children": [
              "IPY_MODEL_6748ee3d629e4cff87ac08c076aa0b8b",
              "IPY_MODEL_f2007268c2d6405b97b005432e59c5e7"
            ]
          }
        },
        "c9499d5e42e44780b97f6fbb01df3c40": {
          "model_module": "@jupyter-widgets/base",
          "model_name": "LayoutModel",
          "state": {
            "_view_name": "LayoutView",
            "grid_template_rows": null,
            "right": null,
            "justify_content": null,
            "_view_module": "@jupyter-widgets/base",
            "overflow": null,
            "_model_module_version": "1.2.0",
            "_view_count": null,
            "flex_flow": null,
            "width": null,
            "min_width": null,
            "border": null,
            "align_items": null,
            "bottom": null,
            "_model_module": "@jupyter-widgets/base",
            "top": null,
            "grid_column": null,
            "overflow_y": null,
            "overflow_x": null,
            "grid_auto_flow": null,
            "grid_area": null,
            "grid_template_columns": null,
            "flex": null,
            "_model_name": "LayoutModel",
            "justify_items": null,
            "grid_row": null,
            "max_height": null,
            "align_content": null,
            "visibility": null,
            "align_self": null,
            "height": null,
            "min_height": null,
            "padding": null,
            "grid_auto_rows": null,
            "grid_gap": null,
            "max_width": null,
            "order": null,
            "_view_module_version": "1.2.0",
            "grid_template_areas": null,
            "object_position": null,
            "object_fit": null,
            "grid_auto_columns": null,
            "margin": null,
            "display": null,
            "left": null
          }
        },
        "6748ee3d629e4cff87ac08c076aa0b8b": {
          "model_module": "@jupyter-widgets/controls",
          "model_name": "FloatProgressModel",
          "state": {
            "_view_name": "ProgressView",
            "style": "IPY_MODEL_dc557f33e91f43e8ba74ebda8fbabfe5",
            "_dom_classes": [],
            "description": "Epoch: 8: 100%",
            "_model_name": "FloatProgressModel",
            "bar_style": "",
            "max": 114,
            "_view_module": "@jupyter-widgets/controls",
            "_model_module_version": "1.5.0",
            "value": 114,
            "_view_count": null,
            "_view_module_version": "1.5.0",
            "orientation": "horizontal",
            "min": 0,
            "description_tooltip": null,
            "_model_module": "@jupyter-widgets/controls",
            "layout": "IPY_MODEL_d9e67e27e690486c93ae544e077774e0"
          }
        },
        "f2007268c2d6405b97b005432e59c5e7": {
          "model_module": "@jupyter-widgets/controls",
          "model_name": "HTMLModel",
          "state": {
            "_view_name": "HTMLView",
            "style": "IPY_MODEL_1c5ff8c9bb6c45718e9a3f0b6c2f591a",
            "_dom_classes": [],
            "description": "",
            "_model_name": "HTMLModel",
            "placeholder": "​",
            "_view_module": "@jupyter-widgets/controls",
            "_model_module_version": "1.5.0",
            "value": " 114/114 [02:11&lt;00:00,  1.10s/it, batch_loss=1.876]",
            "_view_count": null,
            "_view_module_version": "1.5.0",
            "description_tooltip": null,
            "_model_module": "@jupyter-widgets/controls",
            "layout": "IPY_MODEL_d98c31d0d25d4434b2564f189d35e9e9"
          }
        },
        "dc557f33e91f43e8ba74ebda8fbabfe5": {
          "model_module": "@jupyter-widgets/controls",
          "model_name": "ProgressStyleModel",
          "state": {
            "_view_name": "StyleView",
            "_model_name": "ProgressStyleModel",
            "description_width": "initial",
            "_view_module": "@jupyter-widgets/base",
            "_model_module_version": "1.5.0",
            "_view_count": null,
            "_view_module_version": "1.2.0",
            "bar_color": null,
            "_model_module": "@jupyter-widgets/controls"
          }
        },
        "d9e67e27e690486c93ae544e077774e0": {
          "model_module": "@jupyter-widgets/base",
          "model_name": "LayoutModel",
          "state": {
            "_view_name": "LayoutView",
            "grid_template_rows": null,
            "right": null,
            "justify_content": null,
            "_view_module": "@jupyter-widgets/base",
            "overflow": null,
            "_model_module_version": "1.2.0",
            "_view_count": null,
            "flex_flow": null,
            "width": null,
            "min_width": null,
            "border": null,
            "align_items": null,
            "bottom": null,
            "_model_module": "@jupyter-widgets/base",
            "top": null,
            "grid_column": null,
            "overflow_y": null,
            "overflow_x": null,
            "grid_auto_flow": null,
            "grid_area": null,
            "grid_template_columns": null,
            "flex": null,
            "_model_name": "LayoutModel",
            "justify_items": null,
            "grid_row": null,
            "max_height": null,
            "align_content": null,
            "visibility": null,
            "align_self": null,
            "height": null,
            "min_height": null,
            "padding": null,
            "grid_auto_rows": null,
            "grid_gap": null,
            "max_width": null,
            "order": null,
            "_view_module_version": "1.2.0",
            "grid_template_areas": null,
            "object_position": null,
            "object_fit": null,
            "grid_auto_columns": null,
            "margin": null,
            "display": null,
            "left": null
          }
        },
        "1c5ff8c9bb6c45718e9a3f0b6c2f591a": {
          "model_module": "@jupyter-widgets/controls",
          "model_name": "DescriptionStyleModel",
          "state": {
            "_view_name": "StyleView",
            "_model_name": "DescriptionStyleModel",
            "description_width": "",
            "_view_module": "@jupyter-widgets/base",
            "_model_module_version": "1.5.0",
            "_view_count": null,
            "_view_module_version": "1.2.0",
            "_model_module": "@jupyter-widgets/controls"
          }
        },
        "d98c31d0d25d4434b2564f189d35e9e9": {
          "model_module": "@jupyter-widgets/base",
          "model_name": "LayoutModel",
          "state": {
            "_view_name": "LayoutView",
            "grid_template_rows": null,
            "right": null,
            "justify_content": null,
            "_view_module": "@jupyter-widgets/base",
            "overflow": null,
            "_model_module_version": "1.2.0",
            "_view_count": null,
            "flex_flow": null,
            "width": null,
            "min_width": null,
            "border": null,
            "align_items": null,
            "bottom": null,
            "_model_module": "@jupyter-widgets/base",
            "top": null,
            "grid_column": null,
            "overflow_y": null,
            "overflow_x": null,
            "grid_auto_flow": null,
            "grid_area": null,
            "grid_template_columns": null,
            "flex": null,
            "_model_name": "LayoutModel",
            "justify_items": null,
            "grid_row": null,
            "max_height": null,
            "align_content": null,
            "visibility": null,
            "align_self": null,
            "height": null,
            "min_height": null,
            "padding": null,
            "grid_auto_rows": null,
            "grid_gap": null,
            "max_width": null,
            "order": null,
            "_view_module_version": "1.2.0",
            "grid_template_areas": null,
            "object_position": null,
            "object_fit": null,
            "grid_auto_columns": null,
            "margin": null,
            "display": null,
            "left": null
          }
        },
        "236eab331a624197984727d54d68772d": {
          "model_module": "@jupyter-widgets/controls",
          "model_name": "HBoxModel",
          "state": {
            "_view_name": "HBoxView",
            "_dom_classes": [],
            "_model_name": "HBoxModel",
            "_view_module": "@jupyter-widgets/controls",
            "_model_module_version": "1.5.0",
            "_view_count": null,
            "_view_module_version": "1.5.0",
            "box_style": "",
            "layout": "IPY_MODEL_d10a0f745ec04aaaa7e9ee303d999695",
            "_model_module": "@jupyter-widgets/controls",
            "children": [
              "IPY_MODEL_7e5930e41da8474b80de6d4560dbbeb9",
              "IPY_MODEL_268e20d77b99418082ab3cdd77ca7175"
            ]
          }
        },
        "d10a0f745ec04aaaa7e9ee303d999695": {
          "model_module": "@jupyter-widgets/base",
          "model_name": "LayoutModel",
          "state": {
            "_view_name": "LayoutView",
            "grid_template_rows": null,
            "right": null,
            "justify_content": null,
            "_view_module": "@jupyter-widgets/base",
            "overflow": null,
            "_model_module_version": "1.2.0",
            "_view_count": null,
            "flex_flow": null,
            "width": null,
            "min_width": null,
            "border": null,
            "align_items": null,
            "bottom": null,
            "_model_module": "@jupyter-widgets/base",
            "top": null,
            "grid_column": null,
            "overflow_y": null,
            "overflow_x": null,
            "grid_auto_flow": null,
            "grid_area": null,
            "grid_template_columns": null,
            "flex": null,
            "_model_name": "LayoutModel",
            "justify_items": null,
            "grid_row": null,
            "max_height": null,
            "align_content": null,
            "visibility": null,
            "align_self": null,
            "height": null,
            "min_height": null,
            "padding": null,
            "grid_auto_rows": null,
            "grid_gap": null,
            "max_width": null,
            "order": null,
            "_view_module_version": "1.2.0",
            "grid_template_areas": null,
            "object_position": null,
            "object_fit": null,
            "grid_auto_columns": null,
            "margin": null,
            "display": null,
            "left": null
          }
        },
        "7e5930e41da8474b80de6d4560dbbeb9": {
          "model_module": "@jupyter-widgets/controls",
          "model_name": "FloatProgressModel",
          "state": {
            "_view_name": "ProgressView",
            "style": "IPY_MODEL_686678eeaa3249a880a01b8669c2152b",
            "_dom_classes": [],
            "description": "Epoch: 9: 100%",
            "_model_name": "FloatProgressModel",
            "bar_style": "",
            "max": 114,
            "_view_module": "@jupyter-widgets/controls",
            "_model_module_version": "1.5.0",
            "value": 114,
            "_view_count": null,
            "_view_module_version": "1.5.0",
            "orientation": "horizontal",
            "min": 0,
            "description_tooltip": null,
            "_model_module": "@jupyter-widgets/controls",
            "layout": "IPY_MODEL_a7d42f0800a040729e100142be8b971f"
          }
        },
        "268e20d77b99418082ab3cdd77ca7175": {
          "model_module": "@jupyter-widgets/controls",
          "model_name": "HTMLModel",
          "state": {
            "_view_name": "HTMLView",
            "style": "IPY_MODEL_4d37452b2bff46ffacc1acd3200c69d0",
            "_dom_classes": [],
            "description": "",
            "_model_name": "HTMLModel",
            "placeholder": "​",
            "_view_module": "@jupyter-widgets/controls",
            "_model_module_version": "1.5.0",
            "value": " 114/114 [02:11&lt;00:00,  1.09s/it, batch_loss=1.766]",
            "_view_count": null,
            "_view_module_version": "1.5.0",
            "description_tooltip": null,
            "_model_module": "@jupyter-widgets/controls",
            "layout": "IPY_MODEL_439f40d294584ec0bc82aaec23231d6f"
          }
        },
        "686678eeaa3249a880a01b8669c2152b": {
          "model_module": "@jupyter-widgets/controls",
          "model_name": "ProgressStyleModel",
          "state": {
            "_view_name": "StyleView",
            "_model_name": "ProgressStyleModel",
            "description_width": "initial",
            "_view_module": "@jupyter-widgets/base",
            "_model_module_version": "1.5.0",
            "_view_count": null,
            "_view_module_version": "1.2.0",
            "bar_color": null,
            "_model_module": "@jupyter-widgets/controls"
          }
        },
        "a7d42f0800a040729e100142be8b971f": {
          "model_module": "@jupyter-widgets/base",
          "model_name": "LayoutModel",
          "state": {
            "_view_name": "LayoutView",
            "grid_template_rows": null,
            "right": null,
            "justify_content": null,
            "_view_module": "@jupyter-widgets/base",
            "overflow": null,
            "_model_module_version": "1.2.0",
            "_view_count": null,
            "flex_flow": null,
            "width": null,
            "min_width": null,
            "border": null,
            "align_items": null,
            "bottom": null,
            "_model_module": "@jupyter-widgets/base",
            "top": null,
            "grid_column": null,
            "overflow_y": null,
            "overflow_x": null,
            "grid_auto_flow": null,
            "grid_area": null,
            "grid_template_columns": null,
            "flex": null,
            "_model_name": "LayoutModel",
            "justify_items": null,
            "grid_row": null,
            "max_height": null,
            "align_content": null,
            "visibility": null,
            "align_self": null,
            "height": null,
            "min_height": null,
            "padding": null,
            "grid_auto_rows": null,
            "grid_gap": null,
            "max_width": null,
            "order": null,
            "_view_module_version": "1.2.0",
            "grid_template_areas": null,
            "object_position": null,
            "object_fit": null,
            "grid_auto_columns": null,
            "margin": null,
            "display": null,
            "left": null
          }
        },
        "4d37452b2bff46ffacc1acd3200c69d0": {
          "model_module": "@jupyter-widgets/controls",
          "model_name": "DescriptionStyleModel",
          "state": {
            "_view_name": "StyleView",
            "_model_name": "DescriptionStyleModel",
            "description_width": "",
            "_view_module": "@jupyter-widgets/base",
            "_model_module_version": "1.5.0",
            "_view_count": null,
            "_view_module_version": "1.2.0",
            "_model_module": "@jupyter-widgets/controls"
          }
        },
        "439f40d294584ec0bc82aaec23231d6f": {
          "model_module": "@jupyter-widgets/base",
          "model_name": "LayoutModel",
          "state": {
            "_view_name": "LayoutView",
            "grid_template_rows": null,
            "right": null,
            "justify_content": null,
            "_view_module": "@jupyter-widgets/base",
            "overflow": null,
            "_model_module_version": "1.2.0",
            "_view_count": null,
            "flex_flow": null,
            "width": null,
            "min_width": null,
            "border": null,
            "align_items": null,
            "bottom": null,
            "_model_module": "@jupyter-widgets/base",
            "top": null,
            "grid_column": null,
            "overflow_y": null,
            "overflow_x": null,
            "grid_auto_flow": null,
            "grid_area": null,
            "grid_template_columns": null,
            "flex": null,
            "_model_name": "LayoutModel",
            "justify_items": null,
            "grid_row": null,
            "max_height": null,
            "align_content": null,
            "visibility": null,
            "align_self": null,
            "height": null,
            "min_height": null,
            "padding": null,
            "grid_auto_rows": null,
            "grid_gap": null,
            "max_width": null,
            "order": null,
            "_view_module_version": "1.2.0",
            "grid_template_areas": null,
            "object_position": null,
            "object_fit": null,
            "grid_auto_columns": null,
            "margin": null,
            "display": null,
            "left": null
          }
        },
        "2f54f2d0e52149f188b8e0fdae45347b": {
          "model_module": "@jupyter-widgets/controls",
          "model_name": "HBoxModel",
          "state": {
            "_view_name": "HBoxView",
            "_dom_classes": [],
            "_model_name": "HBoxModel",
            "_view_module": "@jupyter-widgets/controls",
            "_model_module_version": "1.5.0",
            "_view_count": null,
            "_view_module_version": "1.5.0",
            "box_style": "",
            "layout": "IPY_MODEL_69013b3a353443b4910413f69e3fc429",
            "_model_module": "@jupyter-widgets/controls",
            "children": [
              "IPY_MODEL_df83a19d80c2401e9fd1b3396b7ec47c",
              "IPY_MODEL_05a69ca9adca490fb149f11b9eb6071f"
            ]
          }
        },
        "69013b3a353443b4910413f69e3fc429": {
          "model_module": "@jupyter-widgets/base",
          "model_name": "LayoutModel",
          "state": {
            "_view_name": "LayoutView",
            "grid_template_rows": null,
            "right": null,
            "justify_content": null,
            "_view_module": "@jupyter-widgets/base",
            "overflow": null,
            "_model_module_version": "1.2.0",
            "_view_count": null,
            "flex_flow": null,
            "width": null,
            "min_width": null,
            "border": null,
            "align_items": null,
            "bottom": null,
            "_model_module": "@jupyter-widgets/base",
            "top": null,
            "grid_column": null,
            "overflow_y": null,
            "overflow_x": null,
            "grid_auto_flow": null,
            "grid_area": null,
            "grid_template_columns": null,
            "flex": null,
            "_model_name": "LayoutModel",
            "justify_items": null,
            "grid_row": null,
            "max_height": null,
            "align_content": null,
            "visibility": null,
            "align_self": null,
            "height": null,
            "min_height": null,
            "padding": null,
            "grid_auto_rows": null,
            "grid_gap": null,
            "max_width": null,
            "order": null,
            "_view_module_version": "1.2.0",
            "grid_template_areas": null,
            "object_position": null,
            "object_fit": null,
            "grid_auto_columns": null,
            "margin": null,
            "display": null,
            "left": null
          }
        },
        "df83a19d80c2401e9fd1b3396b7ec47c": {
          "model_module": "@jupyter-widgets/controls",
          "model_name": "FloatProgressModel",
          "state": {
            "_view_name": "ProgressView",
            "style": "IPY_MODEL_cf89bd4f1d614af6962e352abf45f954",
            "_dom_classes": [],
            "description": "Epoch: 10: 100%",
            "_model_name": "FloatProgressModel",
            "bar_style": "",
            "max": 114,
            "_view_module": "@jupyter-widgets/controls",
            "_model_module_version": "1.5.0",
            "value": 114,
            "_view_count": null,
            "_view_module_version": "1.5.0",
            "orientation": "horizontal",
            "min": 0,
            "description_tooltip": null,
            "_model_module": "@jupyter-widgets/controls",
            "layout": "IPY_MODEL_4eed4f0da92041a1852e94d76a0697a4"
          }
        },
        "05a69ca9adca490fb149f11b9eb6071f": {
          "model_module": "@jupyter-widgets/controls",
          "model_name": "HTMLModel",
          "state": {
            "_view_name": "HTMLView",
            "style": "IPY_MODEL_a1d33a99a06e43cb9005709a5503f953",
            "_dom_classes": [],
            "description": "",
            "_model_name": "HTMLModel",
            "placeholder": "​",
            "_view_module": "@jupyter-widgets/controls",
            "_model_module_version": "1.5.0",
            "value": " 114/114 [02:11&lt;00:00,  1.09s/it, batch_loss=1.500]",
            "_view_count": null,
            "_view_module_version": "1.5.0",
            "description_tooltip": null,
            "_model_module": "@jupyter-widgets/controls",
            "layout": "IPY_MODEL_f7dab1e711cd4335b87ba671a44a9e0a"
          }
        },
        "cf89bd4f1d614af6962e352abf45f954": {
          "model_module": "@jupyter-widgets/controls",
          "model_name": "ProgressStyleModel",
          "state": {
            "_view_name": "StyleView",
            "_model_name": "ProgressStyleModel",
            "description_width": "initial",
            "_view_module": "@jupyter-widgets/base",
            "_model_module_version": "1.5.0",
            "_view_count": null,
            "_view_module_version": "1.2.0",
            "bar_color": null,
            "_model_module": "@jupyter-widgets/controls"
          }
        },
        "4eed4f0da92041a1852e94d76a0697a4": {
          "model_module": "@jupyter-widgets/base",
          "model_name": "LayoutModel",
          "state": {
            "_view_name": "LayoutView",
            "grid_template_rows": null,
            "right": null,
            "justify_content": null,
            "_view_module": "@jupyter-widgets/base",
            "overflow": null,
            "_model_module_version": "1.2.0",
            "_view_count": null,
            "flex_flow": null,
            "width": null,
            "min_width": null,
            "border": null,
            "align_items": null,
            "bottom": null,
            "_model_module": "@jupyter-widgets/base",
            "top": null,
            "grid_column": null,
            "overflow_y": null,
            "overflow_x": null,
            "grid_auto_flow": null,
            "grid_area": null,
            "grid_template_columns": null,
            "flex": null,
            "_model_name": "LayoutModel",
            "justify_items": null,
            "grid_row": null,
            "max_height": null,
            "align_content": null,
            "visibility": null,
            "align_self": null,
            "height": null,
            "min_height": null,
            "padding": null,
            "grid_auto_rows": null,
            "grid_gap": null,
            "max_width": null,
            "order": null,
            "_view_module_version": "1.2.0",
            "grid_template_areas": null,
            "object_position": null,
            "object_fit": null,
            "grid_auto_columns": null,
            "margin": null,
            "display": null,
            "left": null
          }
        },
        "a1d33a99a06e43cb9005709a5503f953": {
          "model_module": "@jupyter-widgets/controls",
          "model_name": "DescriptionStyleModel",
          "state": {
            "_view_name": "StyleView",
            "_model_name": "DescriptionStyleModel",
            "description_width": "",
            "_view_module": "@jupyter-widgets/base",
            "_model_module_version": "1.5.0",
            "_view_count": null,
            "_view_module_version": "1.2.0",
            "_model_module": "@jupyter-widgets/controls"
          }
        },
        "f7dab1e711cd4335b87ba671a44a9e0a": {
          "model_module": "@jupyter-widgets/base",
          "model_name": "LayoutModel",
          "state": {
            "_view_name": "LayoutView",
            "grid_template_rows": null,
            "right": null,
            "justify_content": null,
            "_view_module": "@jupyter-widgets/base",
            "overflow": null,
            "_model_module_version": "1.2.0",
            "_view_count": null,
            "flex_flow": null,
            "width": null,
            "min_width": null,
            "border": null,
            "align_items": null,
            "bottom": null,
            "_model_module": "@jupyter-widgets/base",
            "top": null,
            "grid_column": null,
            "overflow_y": null,
            "overflow_x": null,
            "grid_auto_flow": null,
            "grid_area": null,
            "grid_template_columns": null,
            "flex": null,
            "_model_name": "LayoutModel",
            "justify_items": null,
            "grid_row": null,
            "max_height": null,
            "align_content": null,
            "visibility": null,
            "align_self": null,
            "height": null,
            "min_height": null,
            "padding": null,
            "grid_auto_rows": null,
            "grid_gap": null,
            "max_width": null,
            "order": null,
            "_view_module_version": "1.2.0",
            "grid_template_areas": null,
            "object_position": null,
            "object_fit": null,
            "grid_auto_columns": null,
            "margin": null,
            "display": null,
            "left": null
          }
        },
        "653d4fcd49b94728aa0b8f3174a62de0": {
          "model_module": "@jupyter-widgets/controls",
          "model_name": "HBoxModel",
          "state": {
            "_view_name": "HBoxView",
            "_dom_classes": [],
            "_model_name": "HBoxModel",
            "_view_module": "@jupyter-widgets/controls",
            "_model_module_version": "1.5.0",
            "_view_count": null,
            "_view_module_version": "1.5.0",
            "box_style": "",
            "layout": "IPY_MODEL_2ce53f5bca02479797cb4de6dcbc3980",
            "_model_module": "@jupyter-widgets/controls",
            "children": [
              "IPY_MODEL_192c5c5c399c45cba37df34e0c6aa2c8",
              "IPY_MODEL_04c36dc3d087417b8c5d4a6b5280f811"
            ]
          }
        },
        "2ce53f5bca02479797cb4de6dcbc3980": {
          "model_module": "@jupyter-widgets/base",
          "model_name": "LayoutModel",
          "state": {
            "_view_name": "LayoutView",
            "grid_template_rows": null,
            "right": null,
            "justify_content": null,
            "_view_module": "@jupyter-widgets/base",
            "overflow": null,
            "_model_module_version": "1.2.0",
            "_view_count": null,
            "flex_flow": null,
            "width": null,
            "min_width": null,
            "border": null,
            "align_items": null,
            "bottom": null,
            "_model_module": "@jupyter-widgets/base",
            "top": null,
            "grid_column": null,
            "overflow_y": null,
            "overflow_x": null,
            "grid_auto_flow": null,
            "grid_area": null,
            "grid_template_columns": null,
            "flex": null,
            "_model_name": "LayoutModel",
            "justify_items": null,
            "grid_row": null,
            "max_height": null,
            "align_content": null,
            "visibility": null,
            "align_self": null,
            "height": null,
            "min_height": null,
            "padding": null,
            "grid_auto_rows": null,
            "grid_gap": null,
            "max_width": null,
            "order": null,
            "_view_module_version": "1.2.0",
            "grid_template_areas": null,
            "object_position": null,
            "object_fit": null,
            "grid_auto_columns": null,
            "margin": null,
            "display": null,
            "left": null
          }
        },
        "192c5c5c399c45cba37df34e0c6aa2c8": {
          "model_module": "@jupyter-widgets/controls",
          "model_name": "FloatProgressModel",
          "state": {
            "_view_name": "ProgressView",
            "style": "IPY_MODEL_f189057321b845a9bc7be27b885ef311",
            "_dom_classes": [],
            "description": "Epoch: 11: 100%",
            "_model_name": "FloatProgressModel",
            "bar_style": "",
            "max": 114,
            "_view_module": "@jupyter-widgets/controls",
            "_model_module_version": "1.5.0",
            "value": 114,
            "_view_count": null,
            "_view_module_version": "1.5.0",
            "orientation": "horizontal",
            "min": 0,
            "description_tooltip": null,
            "_model_module": "@jupyter-widgets/controls",
            "layout": "IPY_MODEL_fc5c14b9e5664b70bd909d68a4983cd5"
          }
        },
        "04c36dc3d087417b8c5d4a6b5280f811": {
          "model_module": "@jupyter-widgets/controls",
          "model_name": "HTMLModel",
          "state": {
            "_view_name": "HTMLView",
            "style": "IPY_MODEL_532cfecb76cc44ef930ec47c4dc4642d",
            "_dom_classes": [],
            "description": "",
            "_model_name": "HTMLModel",
            "placeholder": "​",
            "_view_module": "@jupyter-widgets/controls",
            "_model_module_version": "1.5.0",
            "value": " 114/114 [02:11&lt;00:00,  1.12s/it, batch_loss=1.814]",
            "_view_count": null,
            "_view_module_version": "1.5.0",
            "description_tooltip": null,
            "_model_module": "@jupyter-widgets/controls",
            "layout": "IPY_MODEL_8aad90af0c464e36ade8e820ce012b3a"
          }
        },
        "f189057321b845a9bc7be27b885ef311": {
          "model_module": "@jupyter-widgets/controls",
          "model_name": "ProgressStyleModel",
          "state": {
            "_view_name": "StyleView",
            "_model_name": "ProgressStyleModel",
            "description_width": "initial",
            "_view_module": "@jupyter-widgets/base",
            "_model_module_version": "1.5.0",
            "_view_count": null,
            "_view_module_version": "1.2.0",
            "bar_color": null,
            "_model_module": "@jupyter-widgets/controls"
          }
        },
        "fc5c14b9e5664b70bd909d68a4983cd5": {
          "model_module": "@jupyter-widgets/base",
          "model_name": "LayoutModel",
          "state": {
            "_view_name": "LayoutView",
            "grid_template_rows": null,
            "right": null,
            "justify_content": null,
            "_view_module": "@jupyter-widgets/base",
            "overflow": null,
            "_model_module_version": "1.2.0",
            "_view_count": null,
            "flex_flow": null,
            "width": null,
            "min_width": null,
            "border": null,
            "align_items": null,
            "bottom": null,
            "_model_module": "@jupyter-widgets/base",
            "top": null,
            "grid_column": null,
            "overflow_y": null,
            "overflow_x": null,
            "grid_auto_flow": null,
            "grid_area": null,
            "grid_template_columns": null,
            "flex": null,
            "_model_name": "LayoutModel",
            "justify_items": null,
            "grid_row": null,
            "max_height": null,
            "align_content": null,
            "visibility": null,
            "align_self": null,
            "height": null,
            "min_height": null,
            "padding": null,
            "grid_auto_rows": null,
            "grid_gap": null,
            "max_width": null,
            "order": null,
            "_view_module_version": "1.2.0",
            "grid_template_areas": null,
            "object_position": null,
            "object_fit": null,
            "grid_auto_columns": null,
            "margin": null,
            "display": null,
            "left": null
          }
        },
        "532cfecb76cc44ef930ec47c4dc4642d": {
          "model_module": "@jupyter-widgets/controls",
          "model_name": "DescriptionStyleModel",
          "state": {
            "_view_name": "StyleView",
            "_model_name": "DescriptionStyleModel",
            "description_width": "",
            "_view_module": "@jupyter-widgets/base",
            "_model_module_version": "1.5.0",
            "_view_count": null,
            "_view_module_version": "1.2.0",
            "_model_module": "@jupyter-widgets/controls"
          }
        },
        "8aad90af0c464e36ade8e820ce012b3a": {
          "model_module": "@jupyter-widgets/base",
          "model_name": "LayoutModel",
          "state": {
            "_view_name": "LayoutView",
            "grid_template_rows": null,
            "right": null,
            "justify_content": null,
            "_view_module": "@jupyter-widgets/base",
            "overflow": null,
            "_model_module_version": "1.2.0",
            "_view_count": null,
            "flex_flow": null,
            "width": null,
            "min_width": null,
            "border": null,
            "align_items": null,
            "bottom": null,
            "_model_module": "@jupyter-widgets/base",
            "top": null,
            "grid_column": null,
            "overflow_y": null,
            "overflow_x": null,
            "grid_auto_flow": null,
            "grid_area": null,
            "grid_template_columns": null,
            "flex": null,
            "_model_name": "LayoutModel",
            "justify_items": null,
            "grid_row": null,
            "max_height": null,
            "align_content": null,
            "visibility": null,
            "align_self": null,
            "height": null,
            "min_height": null,
            "padding": null,
            "grid_auto_rows": null,
            "grid_gap": null,
            "max_width": null,
            "order": null,
            "_view_module_version": "1.2.0",
            "grid_template_areas": null,
            "object_position": null,
            "object_fit": null,
            "grid_auto_columns": null,
            "margin": null,
            "display": null,
            "left": null
          }
        },
        "a1bb60091fb14214a74576ff3e8cc675": {
          "model_module": "@jupyter-widgets/controls",
          "model_name": "HBoxModel",
          "state": {
            "_view_name": "HBoxView",
            "_dom_classes": [],
            "_model_name": "HBoxModel",
            "_view_module": "@jupyter-widgets/controls",
            "_model_module_version": "1.5.0",
            "_view_count": null,
            "_view_module_version": "1.5.0",
            "box_style": "",
            "layout": "IPY_MODEL_4b899a721f26409d90d947d0a86e177b",
            "_model_module": "@jupyter-widgets/controls",
            "children": [
              "IPY_MODEL_f16d266428e944489f114d2dc56045a7",
              "IPY_MODEL_7b416fda83974100a9087ae7ed17bd37"
            ]
          }
        },
        "4b899a721f26409d90d947d0a86e177b": {
          "model_module": "@jupyter-widgets/base",
          "model_name": "LayoutModel",
          "state": {
            "_view_name": "LayoutView",
            "grid_template_rows": null,
            "right": null,
            "justify_content": null,
            "_view_module": "@jupyter-widgets/base",
            "overflow": null,
            "_model_module_version": "1.2.0",
            "_view_count": null,
            "flex_flow": null,
            "width": null,
            "min_width": null,
            "border": null,
            "align_items": null,
            "bottom": null,
            "_model_module": "@jupyter-widgets/base",
            "top": null,
            "grid_column": null,
            "overflow_y": null,
            "overflow_x": null,
            "grid_auto_flow": null,
            "grid_area": null,
            "grid_template_columns": null,
            "flex": null,
            "_model_name": "LayoutModel",
            "justify_items": null,
            "grid_row": null,
            "max_height": null,
            "align_content": null,
            "visibility": null,
            "align_self": null,
            "height": null,
            "min_height": null,
            "padding": null,
            "grid_auto_rows": null,
            "grid_gap": null,
            "max_width": null,
            "order": null,
            "_view_module_version": "1.2.0",
            "grid_template_areas": null,
            "object_position": null,
            "object_fit": null,
            "grid_auto_columns": null,
            "margin": null,
            "display": null,
            "left": null
          }
        },
        "f16d266428e944489f114d2dc56045a7": {
          "model_module": "@jupyter-widgets/controls",
          "model_name": "FloatProgressModel",
          "state": {
            "_view_name": "ProgressView",
            "style": "IPY_MODEL_847cb1e5cbc34d03a644c8eafddf5501",
            "_dom_classes": [],
            "description": "Epoch: 12: 100%",
            "_model_name": "FloatProgressModel",
            "bar_style": "",
            "max": 114,
            "_view_module": "@jupyter-widgets/controls",
            "_model_module_version": "1.5.0",
            "value": 114,
            "_view_count": null,
            "_view_module_version": "1.5.0",
            "orientation": "horizontal",
            "min": 0,
            "description_tooltip": null,
            "_model_module": "@jupyter-widgets/controls",
            "layout": "IPY_MODEL_632076a56a4843ec8aea54cb490072a6"
          }
        },
        "7b416fda83974100a9087ae7ed17bd37": {
          "model_module": "@jupyter-widgets/controls",
          "model_name": "HTMLModel",
          "state": {
            "_view_name": "HTMLView",
            "style": "IPY_MODEL_7078b2cb2a7d4d14be3fedb1cd3ab18a",
            "_dom_classes": [],
            "description": "",
            "_model_name": "HTMLModel",
            "placeholder": "​",
            "_view_module": "@jupyter-widgets/controls",
            "_model_module_version": "1.5.0",
            "value": " 114/114 [02:11&lt;00:00,  1.09s/it, batch_loss=1.595]",
            "_view_count": null,
            "_view_module_version": "1.5.0",
            "description_tooltip": null,
            "_model_module": "@jupyter-widgets/controls",
            "layout": "IPY_MODEL_6df19a790fa940ff92f838003630143c"
          }
        },
        "847cb1e5cbc34d03a644c8eafddf5501": {
          "model_module": "@jupyter-widgets/controls",
          "model_name": "ProgressStyleModel",
          "state": {
            "_view_name": "StyleView",
            "_model_name": "ProgressStyleModel",
            "description_width": "initial",
            "_view_module": "@jupyter-widgets/base",
            "_model_module_version": "1.5.0",
            "_view_count": null,
            "_view_module_version": "1.2.0",
            "bar_color": null,
            "_model_module": "@jupyter-widgets/controls"
          }
        },
        "632076a56a4843ec8aea54cb490072a6": {
          "model_module": "@jupyter-widgets/base",
          "model_name": "LayoutModel",
          "state": {
            "_view_name": "LayoutView",
            "grid_template_rows": null,
            "right": null,
            "justify_content": null,
            "_view_module": "@jupyter-widgets/base",
            "overflow": null,
            "_model_module_version": "1.2.0",
            "_view_count": null,
            "flex_flow": null,
            "width": null,
            "min_width": null,
            "border": null,
            "align_items": null,
            "bottom": null,
            "_model_module": "@jupyter-widgets/base",
            "top": null,
            "grid_column": null,
            "overflow_y": null,
            "overflow_x": null,
            "grid_auto_flow": null,
            "grid_area": null,
            "grid_template_columns": null,
            "flex": null,
            "_model_name": "LayoutModel",
            "justify_items": null,
            "grid_row": null,
            "max_height": null,
            "align_content": null,
            "visibility": null,
            "align_self": null,
            "height": null,
            "min_height": null,
            "padding": null,
            "grid_auto_rows": null,
            "grid_gap": null,
            "max_width": null,
            "order": null,
            "_view_module_version": "1.2.0",
            "grid_template_areas": null,
            "object_position": null,
            "object_fit": null,
            "grid_auto_columns": null,
            "margin": null,
            "display": null,
            "left": null
          }
        },
        "7078b2cb2a7d4d14be3fedb1cd3ab18a": {
          "model_module": "@jupyter-widgets/controls",
          "model_name": "DescriptionStyleModel",
          "state": {
            "_view_name": "StyleView",
            "_model_name": "DescriptionStyleModel",
            "description_width": "",
            "_view_module": "@jupyter-widgets/base",
            "_model_module_version": "1.5.0",
            "_view_count": null,
            "_view_module_version": "1.2.0",
            "_model_module": "@jupyter-widgets/controls"
          }
        },
        "6df19a790fa940ff92f838003630143c": {
          "model_module": "@jupyter-widgets/base",
          "model_name": "LayoutModel",
          "state": {
            "_view_name": "LayoutView",
            "grid_template_rows": null,
            "right": null,
            "justify_content": null,
            "_view_module": "@jupyter-widgets/base",
            "overflow": null,
            "_model_module_version": "1.2.0",
            "_view_count": null,
            "flex_flow": null,
            "width": null,
            "min_width": null,
            "border": null,
            "align_items": null,
            "bottom": null,
            "_model_module": "@jupyter-widgets/base",
            "top": null,
            "grid_column": null,
            "overflow_y": null,
            "overflow_x": null,
            "grid_auto_flow": null,
            "grid_area": null,
            "grid_template_columns": null,
            "flex": null,
            "_model_name": "LayoutModel",
            "justify_items": null,
            "grid_row": null,
            "max_height": null,
            "align_content": null,
            "visibility": null,
            "align_self": null,
            "height": null,
            "min_height": null,
            "padding": null,
            "grid_auto_rows": null,
            "grid_gap": null,
            "max_width": null,
            "order": null,
            "_view_module_version": "1.2.0",
            "grid_template_areas": null,
            "object_position": null,
            "object_fit": null,
            "grid_auto_columns": null,
            "margin": null,
            "display": null,
            "left": null
          }
        },
        "1bb70a7e1cf34cd3a6c0058f532e8164": {
          "model_module": "@jupyter-widgets/controls",
          "model_name": "HBoxModel",
          "state": {
            "_view_name": "HBoxView",
            "_dom_classes": [],
            "_model_name": "HBoxModel",
            "_view_module": "@jupyter-widgets/controls",
            "_model_module_version": "1.5.0",
            "_view_count": null,
            "_view_module_version": "1.5.0",
            "box_style": "",
            "layout": "IPY_MODEL_27acd1a8a0d844ea943df53a41255d3a",
            "_model_module": "@jupyter-widgets/controls",
            "children": [
              "IPY_MODEL_5dfb582090674d3e8a0661704d83d644",
              "IPY_MODEL_b8669b70a7cd4b14ad8632325f24fe95"
            ]
          }
        },
        "27acd1a8a0d844ea943df53a41255d3a": {
          "model_module": "@jupyter-widgets/base",
          "model_name": "LayoutModel",
          "state": {
            "_view_name": "LayoutView",
            "grid_template_rows": null,
            "right": null,
            "justify_content": null,
            "_view_module": "@jupyter-widgets/base",
            "overflow": null,
            "_model_module_version": "1.2.0",
            "_view_count": null,
            "flex_flow": null,
            "width": null,
            "min_width": null,
            "border": null,
            "align_items": null,
            "bottom": null,
            "_model_module": "@jupyter-widgets/base",
            "top": null,
            "grid_column": null,
            "overflow_y": null,
            "overflow_x": null,
            "grid_auto_flow": null,
            "grid_area": null,
            "grid_template_columns": null,
            "flex": null,
            "_model_name": "LayoutModel",
            "justify_items": null,
            "grid_row": null,
            "max_height": null,
            "align_content": null,
            "visibility": null,
            "align_self": null,
            "height": null,
            "min_height": null,
            "padding": null,
            "grid_auto_rows": null,
            "grid_gap": null,
            "max_width": null,
            "order": null,
            "_view_module_version": "1.2.0",
            "grid_template_areas": null,
            "object_position": null,
            "object_fit": null,
            "grid_auto_columns": null,
            "margin": null,
            "display": null,
            "left": null
          }
        },
        "5dfb582090674d3e8a0661704d83d644": {
          "model_module": "@jupyter-widgets/controls",
          "model_name": "FloatProgressModel",
          "state": {
            "_view_name": "ProgressView",
            "style": "IPY_MODEL_d0e253282a31476588b1b1449a828c4d",
            "_dom_classes": [],
            "description": "Epoch: 13: 100%",
            "_model_name": "FloatProgressModel",
            "bar_style": "",
            "max": 114,
            "_view_module": "@jupyter-widgets/controls",
            "_model_module_version": "1.5.0",
            "value": 114,
            "_view_count": null,
            "_view_module_version": "1.5.0",
            "orientation": "horizontal",
            "min": 0,
            "description_tooltip": null,
            "_model_module": "@jupyter-widgets/controls",
            "layout": "IPY_MODEL_bcb5041456c1439995f33a6b653b0da7"
          }
        },
        "b8669b70a7cd4b14ad8632325f24fe95": {
          "model_module": "@jupyter-widgets/controls",
          "model_name": "HTMLModel",
          "state": {
            "_view_name": "HTMLView",
            "style": "IPY_MODEL_32f9eb036c7f41c48bdadc0c5ea8cb80",
            "_dom_classes": [],
            "description": "",
            "_model_name": "HTMLModel",
            "placeholder": "​",
            "_view_module": "@jupyter-widgets/controls",
            "_model_module_version": "1.5.0",
            "value": " 114/114 [02:11&lt;00:00,  1.08s/it, batch_loss=1.860]",
            "_view_count": null,
            "_view_module_version": "1.5.0",
            "description_tooltip": null,
            "_model_module": "@jupyter-widgets/controls",
            "layout": "IPY_MODEL_7ba43c62e4964028900e6aad01ff09ee"
          }
        },
        "d0e253282a31476588b1b1449a828c4d": {
          "model_module": "@jupyter-widgets/controls",
          "model_name": "ProgressStyleModel",
          "state": {
            "_view_name": "StyleView",
            "_model_name": "ProgressStyleModel",
            "description_width": "initial",
            "_view_module": "@jupyter-widgets/base",
            "_model_module_version": "1.5.0",
            "_view_count": null,
            "_view_module_version": "1.2.0",
            "bar_color": null,
            "_model_module": "@jupyter-widgets/controls"
          }
        },
        "bcb5041456c1439995f33a6b653b0da7": {
          "model_module": "@jupyter-widgets/base",
          "model_name": "LayoutModel",
          "state": {
            "_view_name": "LayoutView",
            "grid_template_rows": null,
            "right": null,
            "justify_content": null,
            "_view_module": "@jupyter-widgets/base",
            "overflow": null,
            "_model_module_version": "1.2.0",
            "_view_count": null,
            "flex_flow": null,
            "width": null,
            "min_width": null,
            "border": null,
            "align_items": null,
            "bottom": null,
            "_model_module": "@jupyter-widgets/base",
            "top": null,
            "grid_column": null,
            "overflow_y": null,
            "overflow_x": null,
            "grid_auto_flow": null,
            "grid_area": null,
            "grid_template_columns": null,
            "flex": null,
            "_model_name": "LayoutModel",
            "justify_items": null,
            "grid_row": null,
            "max_height": null,
            "align_content": null,
            "visibility": null,
            "align_self": null,
            "height": null,
            "min_height": null,
            "padding": null,
            "grid_auto_rows": null,
            "grid_gap": null,
            "max_width": null,
            "order": null,
            "_view_module_version": "1.2.0",
            "grid_template_areas": null,
            "object_position": null,
            "object_fit": null,
            "grid_auto_columns": null,
            "margin": null,
            "display": null,
            "left": null
          }
        },
        "32f9eb036c7f41c48bdadc0c5ea8cb80": {
          "model_module": "@jupyter-widgets/controls",
          "model_name": "DescriptionStyleModel",
          "state": {
            "_view_name": "StyleView",
            "_model_name": "DescriptionStyleModel",
            "description_width": "",
            "_view_module": "@jupyter-widgets/base",
            "_model_module_version": "1.5.0",
            "_view_count": null,
            "_view_module_version": "1.2.0",
            "_model_module": "@jupyter-widgets/controls"
          }
        },
        "7ba43c62e4964028900e6aad01ff09ee": {
          "model_module": "@jupyter-widgets/base",
          "model_name": "LayoutModel",
          "state": {
            "_view_name": "LayoutView",
            "grid_template_rows": null,
            "right": null,
            "justify_content": null,
            "_view_module": "@jupyter-widgets/base",
            "overflow": null,
            "_model_module_version": "1.2.0",
            "_view_count": null,
            "flex_flow": null,
            "width": null,
            "min_width": null,
            "border": null,
            "align_items": null,
            "bottom": null,
            "_model_module": "@jupyter-widgets/base",
            "top": null,
            "grid_column": null,
            "overflow_y": null,
            "overflow_x": null,
            "grid_auto_flow": null,
            "grid_area": null,
            "grid_template_columns": null,
            "flex": null,
            "_model_name": "LayoutModel",
            "justify_items": null,
            "grid_row": null,
            "max_height": null,
            "align_content": null,
            "visibility": null,
            "align_self": null,
            "height": null,
            "min_height": null,
            "padding": null,
            "grid_auto_rows": null,
            "grid_gap": null,
            "max_width": null,
            "order": null,
            "_view_module_version": "1.2.0",
            "grid_template_areas": null,
            "object_position": null,
            "object_fit": null,
            "grid_auto_columns": null,
            "margin": null,
            "display": null,
            "left": null
          }
        },
        "d194517c581e40aaa1bbd18921ef18f1": {
          "model_module": "@jupyter-widgets/controls",
          "model_name": "HBoxModel",
          "state": {
            "_view_name": "HBoxView",
            "_dom_classes": [],
            "_model_name": "HBoxModel",
            "_view_module": "@jupyter-widgets/controls",
            "_model_module_version": "1.5.0",
            "_view_count": null,
            "_view_module_version": "1.5.0",
            "box_style": "",
            "layout": "IPY_MODEL_469c724177534a338b6c358969d00a06",
            "_model_module": "@jupyter-widgets/controls",
            "children": [
              "IPY_MODEL_a22d3a13f6ca425780589307c2df92ee",
              "IPY_MODEL_8e6cb851c9694e748832053eb880b566"
            ]
          }
        },
        "469c724177534a338b6c358969d00a06": {
          "model_module": "@jupyter-widgets/base",
          "model_name": "LayoutModel",
          "state": {
            "_view_name": "LayoutView",
            "grid_template_rows": null,
            "right": null,
            "justify_content": null,
            "_view_module": "@jupyter-widgets/base",
            "overflow": null,
            "_model_module_version": "1.2.0",
            "_view_count": null,
            "flex_flow": null,
            "width": null,
            "min_width": null,
            "border": null,
            "align_items": null,
            "bottom": null,
            "_model_module": "@jupyter-widgets/base",
            "top": null,
            "grid_column": null,
            "overflow_y": null,
            "overflow_x": null,
            "grid_auto_flow": null,
            "grid_area": null,
            "grid_template_columns": null,
            "flex": null,
            "_model_name": "LayoutModel",
            "justify_items": null,
            "grid_row": null,
            "max_height": null,
            "align_content": null,
            "visibility": null,
            "align_self": null,
            "height": null,
            "min_height": null,
            "padding": null,
            "grid_auto_rows": null,
            "grid_gap": null,
            "max_width": null,
            "order": null,
            "_view_module_version": "1.2.0",
            "grid_template_areas": null,
            "object_position": null,
            "object_fit": null,
            "grid_auto_columns": null,
            "margin": null,
            "display": null,
            "left": null
          }
        },
        "a22d3a13f6ca425780589307c2df92ee": {
          "model_module": "@jupyter-widgets/controls",
          "model_name": "FloatProgressModel",
          "state": {
            "_view_name": "ProgressView",
            "style": "IPY_MODEL_2da78e7f73de4823830885293cf1d906",
            "_dom_classes": [],
            "description": "Epoch: 14:  26%",
            "_model_name": "FloatProgressModel",
            "bar_style": "",
            "max": 114,
            "_view_module": "@jupyter-widgets/controls",
            "_model_module_version": "1.5.0",
            "value": 30,
            "_view_count": null,
            "_view_module_version": "1.5.0",
            "orientation": "horizontal",
            "min": 0,
            "description_tooltip": null,
            "_model_module": "@jupyter-widgets/controls",
            "layout": "IPY_MODEL_fd9dc46f0e9f45379541ab8ab02350cf"
          }
        },
        "8e6cb851c9694e748832053eb880b566": {
          "model_module": "@jupyter-widgets/controls",
          "model_name": "HTMLModel",
          "state": {
            "_view_name": "HTMLView",
            "style": "IPY_MODEL_dc2c9a6a75c04a52827ccf42dd4af427",
            "_dom_classes": [],
            "description": "",
            "_model_name": "HTMLModel",
            "placeholder": "​",
            "_view_module": "@jupyter-widgets/controls",
            "_model_module_version": "1.5.0",
            "value": " 30/114 [00:34&lt;01:36,  1.15s/it, batch_loss=1.363]",
            "_view_count": null,
            "_view_module_version": "1.5.0",
            "description_tooltip": null,
            "_model_module": "@jupyter-widgets/controls",
            "layout": "IPY_MODEL_19627030d9a24f8e889c9bce935d2e0a"
          }
        },
        "2da78e7f73de4823830885293cf1d906": {
          "model_module": "@jupyter-widgets/controls",
          "model_name": "ProgressStyleModel",
          "state": {
            "_view_name": "StyleView",
            "_model_name": "ProgressStyleModel",
            "description_width": "initial",
            "_view_module": "@jupyter-widgets/base",
            "_model_module_version": "1.5.0",
            "_view_count": null,
            "_view_module_version": "1.2.0",
            "bar_color": null,
            "_model_module": "@jupyter-widgets/controls"
          }
        },
        "fd9dc46f0e9f45379541ab8ab02350cf": {
          "model_module": "@jupyter-widgets/base",
          "model_name": "LayoutModel",
          "state": {
            "_view_name": "LayoutView",
            "grid_template_rows": null,
            "right": null,
            "justify_content": null,
            "_view_module": "@jupyter-widgets/base",
            "overflow": null,
            "_model_module_version": "1.2.0",
            "_view_count": null,
            "flex_flow": null,
            "width": null,
            "min_width": null,
            "border": null,
            "align_items": null,
            "bottom": null,
            "_model_module": "@jupyter-widgets/base",
            "top": null,
            "grid_column": null,
            "overflow_y": null,
            "overflow_x": null,
            "grid_auto_flow": null,
            "grid_area": null,
            "grid_template_columns": null,
            "flex": null,
            "_model_name": "LayoutModel",
            "justify_items": null,
            "grid_row": null,
            "max_height": null,
            "align_content": null,
            "visibility": null,
            "align_self": null,
            "height": null,
            "min_height": null,
            "padding": null,
            "grid_auto_rows": null,
            "grid_gap": null,
            "max_width": null,
            "order": null,
            "_view_module_version": "1.2.0",
            "grid_template_areas": null,
            "object_position": null,
            "object_fit": null,
            "grid_auto_columns": null,
            "margin": null,
            "display": null,
            "left": null
          }
        },
        "dc2c9a6a75c04a52827ccf42dd4af427": {
          "model_module": "@jupyter-widgets/controls",
          "model_name": "DescriptionStyleModel",
          "state": {
            "_view_name": "StyleView",
            "_model_name": "DescriptionStyleModel",
            "description_width": "",
            "_view_module": "@jupyter-widgets/base",
            "_model_module_version": "1.5.0",
            "_view_count": null,
            "_view_module_version": "1.2.0",
            "_model_module": "@jupyter-widgets/controls"
          }
        },
        "19627030d9a24f8e889c9bce935d2e0a": {
          "model_module": "@jupyter-widgets/base",
          "model_name": "LayoutModel",
          "state": {
            "_view_name": "LayoutView",
            "grid_template_rows": null,
            "right": null,
            "justify_content": null,
            "_view_module": "@jupyter-widgets/base",
            "overflow": null,
            "_model_module_version": "1.2.0",
            "_view_count": null,
            "flex_flow": null,
            "width": null,
            "min_width": null,
            "border": null,
            "align_items": null,
            "bottom": null,
            "_model_module": "@jupyter-widgets/base",
            "top": null,
            "grid_column": null,
            "overflow_y": null,
            "overflow_x": null,
            "grid_auto_flow": null,
            "grid_area": null,
            "grid_template_columns": null,
            "flex": null,
            "_model_name": "LayoutModel",
            "justify_items": null,
            "grid_row": null,
            "max_height": null,
            "align_content": null,
            "visibility": null,
            "align_self": null,
            "height": null,
            "min_height": null,
            "padding": null,
            "grid_auto_rows": null,
            "grid_gap": null,
            "max_width": null,
            "order": null,
            "_view_module_version": "1.2.0",
            "grid_template_areas": null,
            "object_position": null,
            "object_fit": null,
            "grid_auto_columns": null,
            "margin": null,
            "display": null,
            "left": null
          }
        }
      }
    }
  },
  "cells": [
    {
      "cell_type": "code",
      "metadata": {
        "id": "OYnxtVCLosyG",
        "colab": {
          "base_uri": "https://localhost:8080/",
          "height": 72
        },
        "outputId": "20526c35-5e61-41e8-f842-092bd7b71f97"
      },
      "source": [
        "import os\n",
        "from google.colab import drive\n",
        "drive.mount('/content/drive')\n",
        "os.environ['KAGGLE_CONFIG_DIR'] = \"/content/drive/MyDrive/kaggle\"\n",
        "!kaggle datasets download -d adityajn105/flickr8k\n",
        "!unzip -qo \"/content/flickr8k.zip\""
      ],
      "execution_count": null,
      "outputs": [
        {
          "output_type": "display_data",
          "data": {
            "text/html": [
              "\n",
              "        <style>\n",
              "            .jupyter-widgets {color: #d5d5d5 !important;}\n",
              "            .widget-label {color: #d5d5d5 !important;}\n",
              "        </style>\n",
              "    "
            ],
            "text/plain": [
              "<IPython.core.display.HTML object>"
            ]
          },
          "metadata": {
            "tags": []
          }
        },
        {
          "output_type": "display_data",
          "data": {
            "text/html": [
              "\n",
              "        <style>\n",
              "            .jupyter-widgets {color: #d5d5d5 !important;}\n",
              "            .widget-label {color: #d5d5d5 !important;}\n",
              "        </style>\n",
              "    "
            ],
            "text/plain": [
              "<IPython.core.display.HTML object>"
            ]
          },
          "metadata": {
            "tags": []
          }
        },
        {
          "output_type": "display_data",
          "data": {
            "text/html": [
              "\n",
              "        <style>\n",
              "            .jupyter-widgets {color: #d5d5d5 !important;}\n",
              "            .widget-label {color: #d5d5d5 !important;}\n",
              "        </style>\n",
              "    "
            ],
            "text/plain": [
              "<IPython.core.display.HTML object>"
            ]
          },
          "metadata": {
            "tags": []
          }
        },
        {
          "output_type": "display_data",
          "data": {
            "text/html": [
              "\n",
              "        <style>\n",
              "            .jupyter-widgets {color: #d5d5d5 !important;}\n",
              "            .widget-label {color: #d5d5d5 !important;}\n",
              "        </style>\n",
              "    "
            ],
            "text/plain": [
              "<IPython.core.display.HTML object>"
            ]
          },
          "metadata": {
            "tags": []
          }
        },
        {
          "output_type": "display_data",
          "data": {
            "text/html": [
              "\n",
              "        <style>\n",
              "            .jupyter-widgets {color: #d5d5d5 !important;}\n",
              "            .widget-label {color: #d5d5d5 !important;}\n",
              "        </style>\n",
              "    "
            ],
            "text/plain": [
              "<IPython.core.display.HTML object>"
            ]
          },
          "metadata": {
            "tags": []
          }
        },
        {
          "output_type": "display_data",
          "data": {
            "text/html": [
              "\n",
              "        <style>\n",
              "            .jupyter-widgets {color: #d5d5d5 !important;}\n",
              "            .widget-label {color: #d5d5d5 !important;}\n",
              "        </style>\n",
              "    "
            ],
            "text/plain": [
              "<IPython.core.display.HTML object>"
            ]
          },
          "metadata": {
            "tags": []
          }
        },
        {
          "output_type": "display_data",
          "data": {
            "text/html": [
              "\n",
              "        <style>\n",
              "            .jupyter-widgets {color: #d5d5d5 !important;}\n",
              "            .widget-label {color: #d5d5d5 !important;}\n",
              "        </style>\n",
              "    "
            ],
            "text/plain": [
              "<IPython.core.display.HTML object>"
            ]
          },
          "metadata": {
            "tags": []
          }
        },
        {
          "output_type": "display_data",
          "data": {
            "text/html": [
              "\n",
              "        <style>\n",
              "            .jupyter-widgets {color: #d5d5d5 !important;}\n",
              "            .widget-label {color: #d5d5d5 !important;}\n",
              "        </style>\n",
              "    "
            ],
            "text/plain": [
              "<IPython.core.display.HTML object>"
            ]
          },
          "metadata": {
            "tags": []
          }
        },
        {
          "output_type": "stream",
          "text": [
            "Drive already mounted at /content/drive; to attempt to forcibly remount, call drive.mount(\"/content/drive\", force_remount=True).\n",
            "flickr8k.zip: Skipping, found more recently modified local copy (use --force to force download)\n"
          ],
          "name": "stdout"
        }
      ]
    },
    {
      "cell_type": "code",
      "metadata": {
        "id": "_gIpON9soyqp",
        "colab": {
          "base_uri": "https://localhost:8080/",
          "height": 17
        },
        "outputId": "690e3d43-1d2f-4962-dece-dfac67769fa0"
      },
      "source": [
        "import numpy as np\n",
        "from PIL import Image\n",
        "import re\n",
        "import string\n",
        "from glob import glob\n",
        "import pandas as pd\n",
        "import string \n",
        "import itertools\n",
        "import collections\n",
        "import textwrap \n",
        "\n",
        "from tqdm.auto import tqdm\n",
        "import matplotlib.pyplot as plt\n",
        "\n",
        "import torch\n",
        "import torchvision\n",
        "from torch import nn\n",
        "import torch.nn.functional as F\n",
        "from torch.utils.data import Dataset, DataLoader, random_split\n",
        "from torchvision import transforms\n",
        "\n"
      ],
      "execution_count": null,
      "outputs": [
        {
          "output_type": "display_data",
          "data": {
            "text/html": [
              "\n",
              "        <style>\n",
              "            .jupyter-widgets {color: #d5d5d5 !important;}\n",
              "            .widget-label {color: #d5d5d5 !important;}\n",
              "        </style>\n",
              "    "
            ],
            "text/plain": [
              "<IPython.core.display.HTML object>"
            ]
          },
          "metadata": {
            "tags": []
          }
        },
        {
          "output_type": "display_data",
          "data": {
            "text/html": [
              "\n",
              "        <style>\n",
              "            .jupyter-widgets {color: #d5d5d5 !important;}\n",
              "            .widget-label {color: #d5d5d5 !important;}\n",
              "        </style>\n",
              "    "
            ],
            "text/plain": [
              "<IPython.core.display.HTML object>"
            ]
          },
          "metadata": {
            "tags": []
          }
        },
        {
          "output_type": "display_data",
          "data": {
            "text/html": [
              "\n",
              "        <style>\n",
              "            .jupyter-widgets {color: #d5d5d5 !important;}\n",
              "            .widget-label {color: #d5d5d5 !important;}\n",
              "        </style>\n",
              "    "
            ],
            "text/plain": [
              "<IPython.core.display.HTML object>"
            ]
          },
          "metadata": {
            "tags": []
          }
        },
        {
          "output_type": "display_data",
          "data": {
            "text/html": [
              "\n",
              "        <style>\n",
              "            .jupyter-widgets {color: #d5d5d5 !important;}\n",
              "            .widget-label {color: #d5d5d5 !important;}\n",
              "        </style>\n",
              "    "
            ],
            "text/plain": [
              "<IPython.core.display.HTML object>"
            ]
          },
          "metadata": {
            "tags": []
          }
        },
        {
          "output_type": "display_data",
          "data": {
            "text/html": [
              "\n",
              "        <style>\n",
              "            .jupyter-widgets {color: #d5d5d5 !important;}\n",
              "            .widget-label {color: #d5d5d5 !important;}\n",
              "        </style>\n",
              "    "
            ],
            "text/plain": [
              "<IPython.core.display.HTML object>"
            ]
          },
          "metadata": {
            "tags": []
          }
        },
        {
          "output_type": "display_data",
          "data": {
            "text/html": [
              "\n",
              "        <style>\n",
              "            .jupyter-widgets {color: #d5d5d5 !important;}\n",
              "            .widget-label {color: #d5d5d5 !important;}\n",
              "        </style>\n",
              "    "
            ],
            "text/plain": [
              "<IPython.core.display.HTML object>"
            ]
          },
          "metadata": {
            "tags": []
          }
        },
        {
          "output_type": "display_data",
          "data": {
            "text/html": [
              "\n",
              "        <style>\n",
              "            .jupyter-widgets {color: #d5d5d5 !important;}\n",
              "            .widget-label {color: #d5d5d5 !important;}\n",
              "        </style>\n",
              "    "
            ],
            "text/plain": [
              "<IPython.core.display.HTML object>"
            ]
          },
          "metadata": {
            "tags": []
          }
        },
        {
          "output_type": "display_data",
          "data": {
            "text/html": [
              "\n",
              "        <style>\n",
              "            .jupyter-widgets {color: #d5d5d5 !important;}\n",
              "            .widget-label {color: #d5d5d5 !important;}\n",
              "        </style>\n",
              "    "
            ],
            "text/plain": [
              "<IPython.core.display.HTML object>"
            ]
          },
          "metadata": {
            "tags": []
          }
        }
      ]
    },
    {
      "cell_type": "markdown",
      "metadata": {
        "id": "F_ZtWLvWDgAI"
      },
      "source": [
        "# Defining Constants"
      ]
    },
    {
      "cell_type": "code",
      "metadata": {
        "id": "lFHNnE8-Dh-n",
        "colab": {
          "base_uri": "https://localhost:8080/",
          "height": 17
        },
        "outputId": "f7f06d85-60eb-4c8e-95e7-304cf72e70e9"
      },
      "source": [
        "# Locations\n",
        "IMAGE_ROOT = \"/content/Images\"\n",
        "CAPTION_CSV_LOC = \"/content/captions.txt\"\n",
        "\n",
        "\n",
        "# Tokens\n",
        "START_TOKEN = \"<SOS>\"\n",
        "END_TOKEN = \"<EOS>\"\n",
        "PAD_TOKEN = \"<PAD>\"\n",
        "UNK_TOKEN = \"<UNK>\"\n",
        "\n",
        "# Captions related\n",
        "MAX_LENGTH = 25 \n",
        "LSTM_HIDDEN_SIZE = 256 # LSTM units?\n",
        "MIN_WORD_FREQ = 5\n",
        "EMBEDDING_DIM = 50\n",
        "CAPTIONS_PER_IMAGE = 5\n",
        "\n",
        "MIN_WORD_LENGTH = 2\n",
        "\n",
        "\n",
        "MAX_EPOCHS = 100\n",
        "\n",
        "# Dataset specifice\n",
        "TEST_SPLIT = 0.1"
      ],
      "execution_count": null,
      "outputs": [
        {
          "output_type": "display_data",
          "data": {
            "text/html": [
              "\n",
              "        <style>\n",
              "            .jupyter-widgets {color: #d5d5d5 !important;}\n",
              "            .widget-label {color: #d5d5d5 !important;}\n",
              "        </style>\n",
              "    "
            ],
            "text/plain": [
              "<IPython.core.display.HTML object>"
            ]
          },
          "metadata": {
            "tags": []
          }
        },
        {
          "output_type": "display_data",
          "data": {
            "text/html": [
              "\n",
              "        <style>\n",
              "            .jupyter-widgets {color: #d5d5d5 !important;}\n",
              "            .widget-label {color: #d5d5d5 !important;}\n",
              "        </style>\n",
              "    "
            ],
            "text/plain": [
              "<IPython.core.display.HTML object>"
            ]
          },
          "metadata": {
            "tags": []
          }
        },
        {
          "output_type": "display_data",
          "data": {
            "text/html": [
              "\n",
              "        <style>\n",
              "            .jupyter-widgets {color: #d5d5d5 !important;}\n",
              "            .widget-label {color: #d5d5d5 !important;}\n",
              "        </style>\n",
              "    "
            ],
            "text/plain": [
              "<IPython.core.display.HTML object>"
            ]
          },
          "metadata": {
            "tags": []
          }
        },
        {
          "output_type": "display_data",
          "data": {
            "text/html": [
              "\n",
              "        <style>\n",
              "            .jupyter-widgets {color: #d5d5d5 !important;}\n",
              "            .widget-label {color: #d5d5d5 !important;}\n",
              "        </style>\n",
              "    "
            ],
            "text/plain": [
              "<IPython.core.display.HTML object>"
            ]
          },
          "metadata": {
            "tags": []
          }
        },
        {
          "output_type": "display_data",
          "data": {
            "text/html": [
              "\n",
              "        <style>\n",
              "            .jupyter-widgets {color: #d5d5d5 !important;}\n",
              "            .widget-label {color: #d5d5d5 !important;}\n",
              "        </style>\n",
              "    "
            ],
            "text/plain": [
              "<IPython.core.display.HTML object>"
            ]
          },
          "metadata": {
            "tags": []
          }
        },
        {
          "output_type": "display_data",
          "data": {
            "text/html": [
              "\n",
              "        <style>\n",
              "            .jupyter-widgets {color: #d5d5d5 !important;}\n",
              "            .widget-label {color: #d5d5d5 !important;}\n",
              "        </style>\n",
              "    "
            ],
            "text/plain": [
              "<IPython.core.display.HTML object>"
            ]
          },
          "metadata": {
            "tags": []
          }
        },
        {
          "output_type": "display_data",
          "data": {
            "text/html": [
              "\n",
              "        <style>\n",
              "            .jupyter-widgets {color: #d5d5d5 !important;}\n",
              "            .widget-label {color: #d5d5d5 !important;}\n",
              "        </style>\n",
              "    "
            ],
            "text/plain": [
              "<IPython.core.display.HTML object>"
            ]
          },
          "metadata": {
            "tags": []
          }
        },
        {
          "output_type": "display_data",
          "data": {
            "text/html": [
              "\n",
              "        <style>\n",
              "            .jupyter-widgets {color: #d5d5d5 !important;}\n",
              "            .widget-label {color: #d5d5d5 !important;}\n",
              "        </style>\n",
              "    "
            ],
            "text/plain": [
              "<IPython.core.display.HTML object>"
            ]
          },
          "metadata": {
            "tags": []
          }
        }
      ]
    },
    {
      "cell_type": "markdown",
      "metadata": {
        "id": "q_rDlvc4rSEr"
      },
      "source": [
        "# Processing Documents\n",
        "\n",
        "### Preprocessing Captions"
      ]
    },
    {
      "cell_type": "code",
      "metadata": {
        "id": "_ihCQ0a4rUso",
        "colab": {
          "base_uri": "https://localhost:8080/",
          "height": 476
        },
        "outputId": "0c18607c-89e8-4bc3-c95b-8f6a92cc0fe4"
      },
      "source": [
        "def preprocess_text(text):\n",
        "  prep = text.lower()\n",
        "  # remove whitespace, numerics and punctuations and replace them with space\n",
        "  prep = re.sub(\"(\\s+)|(\\d+)|([^\\w\\s]+)\", \" \", prep)\n",
        "  prep = prep.split()\n",
        "  prep = [p for p in prep if len(p) >= MIN_WORD_LENGTH]\n",
        "  return prep\n",
        "\n",
        "\n",
        "caption_df = pd.read_csv(CAPTION_CSV_LOC)\n",
        "caption_df.sort_values(by=\"image\", inplace=True)\n",
        "caption_df[\"cleaned\"] = caption_df[\"caption\"].apply(preprocess_text)\n",
        "caption_df"
      ],
      "execution_count": null,
      "outputs": [
        {
          "output_type": "display_data",
          "data": {
            "text/html": [
              "\n",
              "        <style>\n",
              "            .jupyter-widgets {color: #d5d5d5 !important;}\n",
              "            .widget-label {color: #d5d5d5 !important;}\n",
              "        </style>\n",
              "    "
            ],
            "text/plain": [
              "<IPython.core.display.HTML object>"
            ]
          },
          "metadata": {
            "tags": []
          }
        },
        {
          "output_type": "display_data",
          "data": {
            "text/html": [
              "\n",
              "        <style>\n",
              "            .jupyter-widgets {color: #d5d5d5 !important;}\n",
              "            .widget-label {color: #d5d5d5 !important;}\n",
              "        </style>\n",
              "    "
            ],
            "text/plain": [
              "<IPython.core.display.HTML object>"
            ]
          },
          "metadata": {
            "tags": []
          }
        },
        {
          "output_type": "display_data",
          "data": {
            "text/html": [
              "\n",
              "        <style>\n",
              "            .jupyter-widgets {color: #d5d5d5 !important;}\n",
              "            .widget-label {color: #d5d5d5 !important;}\n",
              "        </style>\n",
              "    "
            ],
            "text/plain": [
              "<IPython.core.display.HTML object>"
            ]
          },
          "metadata": {
            "tags": []
          }
        },
        {
          "output_type": "display_data",
          "data": {
            "text/html": [
              "\n",
              "        <style>\n",
              "            .jupyter-widgets {color: #d5d5d5 !important;}\n",
              "            .widget-label {color: #d5d5d5 !important;}\n",
              "        </style>\n",
              "    "
            ],
            "text/plain": [
              "<IPython.core.display.HTML object>"
            ]
          },
          "metadata": {
            "tags": []
          }
        },
        {
          "output_type": "display_data",
          "data": {
            "text/html": [
              "\n",
              "        <style>\n",
              "            .jupyter-widgets {color: #d5d5d5 !important;}\n",
              "            .widget-label {color: #d5d5d5 !important;}\n",
              "        </style>\n",
              "    "
            ],
            "text/plain": [
              "<IPython.core.display.HTML object>"
            ]
          },
          "metadata": {
            "tags": []
          }
        },
        {
          "output_type": "display_data",
          "data": {
            "text/html": [
              "\n",
              "        <style>\n",
              "            .jupyter-widgets {color: #d5d5d5 !important;}\n",
              "            .widget-label {color: #d5d5d5 !important;}\n",
              "        </style>\n",
              "    "
            ],
            "text/plain": [
              "<IPython.core.display.HTML object>"
            ]
          },
          "metadata": {
            "tags": []
          }
        },
        {
          "output_type": "display_data",
          "data": {
            "text/html": [
              "\n",
              "        <style>\n",
              "            .jupyter-widgets {color: #d5d5d5 !important;}\n",
              "            .widget-label {color: #d5d5d5 !important;}\n",
              "        </style>\n",
              "    "
            ],
            "text/plain": [
              "<IPython.core.display.HTML object>"
            ]
          },
          "metadata": {
            "tags": []
          }
        },
        {
          "output_type": "display_data",
          "data": {
            "text/html": [
              "\n",
              "        <style>\n",
              "            .jupyter-widgets {color: #d5d5d5 !important;}\n",
              "            .widget-label {color: #d5d5d5 !important;}\n",
              "        </style>\n",
              "    "
            ],
            "text/plain": [
              "<IPython.core.display.HTML object>"
            ]
          },
          "metadata": {
            "tags": []
          }
        },
        {
          "output_type": "execute_result",
          "data": {
            "text/html": [
              "<div>\n",
              "<style scoped>\n",
              "    .dataframe tbody tr th:only-of-type {\n",
              "        vertical-align: middle;\n",
              "    }\n",
              "\n",
              "    .dataframe tbody tr th {\n",
              "        vertical-align: top;\n",
              "    }\n",
              "\n",
              "    .dataframe thead th {\n",
              "        text-align: right;\n",
              "    }\n",
              "</style>\n",
              "<table border=\"1\" class=\"dataframe\">\n",
              "  <thead>\n",
              "    <tr style=\"text-align: right;\">\n",
              "      <th></th>\n",
              "      <th>image</th>\n",
              "      <th>caption</th>\n",
              "      <th>cleaned</th>\n",
              "    </tr>\n",
              "  </thead>\n",
              "  <tbody>\n",
              "    <tr>\n",
              "      <th>0</th>\n",
              "      <td>1000268201_693b08cb0e.jpg</td>\n",
              "      <td>A child in a pink dress is climbing up a set o...</td>\n",
              "      <td>[child, in, pink, dress, is, climbing, up, set...</td>\n",
              "    </tr>\n",
              "    <tr>\n",
              "      <th>1</th>\n",
              "      <td>1000268201_693b08cb0e.jpg</td>\n",
              "      <td>A girl going into a wooden building .</td>\n",
              "      <td>[girl, going, into, wooden, building]</td>\n",
              "    </tr>\n",
              "    <tr>\n",
              "      <th>2</th>\n",
              "      <td>1000268201_693b08cb0e.jpg</td>\n",
              "      <td>A little girl climbing into a wooden playhouse .</td>\n",
              "      <td>[little, girl, climbing, into, wooden, playhouse]</td>\n",
              "    </tr>\n",
              "    <tr>\n",
              "      <th>3</th>\n",
              "      <td>1000268201_693b08cb0e.jpg</td>\n",
              "      <td>A little girl climbing the stairs to her playh...</td>\n",
              "      <td>[little, girl, climbing, the, stairs, to, her,...</td>\n",
              "    </tr>\n",
              "    <tr>\n",
              "      <th>4</th>\n",
              "      <td>1000268201_693b08cb0e.jpg</td>\n",
              "      <td>A little girl in a pink dress going into a woo...</td>\n",
              "      <td>[little, girl, in, pink, dress, going, into, w...</td>\n",
              "    </tr>\n",
              "    <tr>\n",
              "      <th>...</th>\n",
              "      <td>...</td>\n",
              "      <td>...</td>\n",
              "      <td>...</td>\n",
              "    </tr>\n",
              "    <tr>\n",
              "      <th>40452</th>\n",
              "      <td>997722733_0cb5439472.jpg</td>\n",
              "      <td>A person in a red shirt climbing up a rock fac...</td>\n",
              "      <td>[person, in, red, shirt, climbing, up, rock, f...</td>\n",
              "    </tr>\n",
              "    <tr>\n",
              "      <th>40453</th>\n",
              "      <td>997722733_0cb5439472.jpg</td>\n",
              "      <td>A rock climber in a red shirt .</td>\n",
              "      <td>[rock, climber, in, red, shirt]</td>\n",
              "    </tr>\n",
              "    <tr>\n",
              "      <th>40450</th>\n",
              "      <td>997722733_0cb5439472.jpg</td>\n",
              "      <td>A man in a pink shirt climbs a rock face</td>\n",
              "      <td>[man, in, pink, shirt, climbs, rock, face]</td>\n",
              "    </tr>\n",
              "    <tr>\n",
              "      <th>40451</th>\n",
              "      <td>997722733_0cb5439472.jpg</td>\n",
              "      <td>A man is rock climbing high in the air .</td>\n",
              "      <td>[man, is, rock, climbing, high, in, the, air]</td>\n",
              "    </tr>\n",
              "    <tr>\n",
              "      <th>40454</th>\n",
              "      <td>997722733_0cb5439472.jpg</td>\n",
              "      <td>A rock climber practices on a rock climbing wa...</td>\n",
              "      <td>[rock, climber, practices, on, rock, climbing,...</td>\n",
              "    </tr>\n",
              "  </tbody>\n",
              "</table>\n",
              "<p>40455 rows × 3 columns</p>\n",
              "</div>"
            ],
            "text/plain": [
              "                           image  ...                                            cleaned\n",
              "0      1000268201_693b08cb0e.jpg  ...  [child, in, pink, dress, is, climbing, up, set...\n",
              "1      1000268201_693b08cb0e.jpg  ...              [girl, going, into, wooden, building]\n",
              "2      1000268201_693b08cb0e.jpg  ...  [little, girl, climbing, into, wooden, playhouse]\n",
              "3      1000268201_693b08cb0e.jpg  ...  [little, girl, climbing, the, stairs, to, her,...\n",
              "4      1000268201_693b08cb0e.jpg  ...  [little, girl, in, pink, dress, going, into, w...\n",
              "...                          ...  ...                                                ...\n",
              "40452   997722733_0cb5439472.jpg  ...  [person, in, red, shirt, climbing, up, rock, f...\n",
              "40453   997722733_0cb5439472.jpg  ...                    [rock, climber, in, red, shirt]\n",
              "40450   997722733_0cb5439472.jpg  ...         [man, in, pink, shirt, climbs, rock, face]\n",
              "40451   997722733_0cb5439472.jpg  ...      [man, is, rock, climbing, high, in, the, air]\n",
              "40454   997722733_0cb5439472.jpg  ...  [rock, climber, practices, on, rock, climbing,...\n",
              "\n",
              "[40455 rows x 3 columns]"
            ]
          },
          "metadata": {
            "tags": []
          },
          "execution_count": 290
        }
      ]
    },
    {
      "cell_type": "markdown",
      "metadata": {
        "id": "YufKpMZJA1ED"
      },
      "source": [
        "### Creating Vocabulary"
      ]
    },
    {
      "cell_type": "code",
      "metadata": {
        "id": "_daAgQdTA4Tn",
        "colab": {
          "base_uri": "https://localhost:8080/",
          "height": 34
        },
        "outputId": "6e48bcd6-68e5-4a13-f601-925871f92020"
      },
      "source": [
        "counter = collections.Counter(itertools.chain(*caption_df[\"cleaned\"]))\n",
        "words = sorted([v for v, n in counter.items() if n > MIN_WORD_FREQ])\n",
        "words = [PAD_TOKEN, START_TOKEN, END_TOKEN, UNK_TOKEN] + words\n",
        "vocab = {w: idx for idx, w in enumerate(words)}\n",
        "id2word = {idx: w for idx, w in enumerate(words)}\n",
        "print(f\"Vocabulary Length: {len(vocab)}\")"
      ],
      "execution_count": null,
      "outputs": [
        {
          "output_type": "display_data",
          "data": {
            "text/html": [
              "\n",
              "        <style>\n",
              "            .jupyter-widgets {color: #d5d5d5 !important;}\n",
              "            .widget-label {color: #d5d5d5 !important;}\n",
              "        </style>\n",
              "    "
            ],
            "text/plain": [
              "<IPython.core.display.HTML object>"
            ]
          },
          "metadata": {
            "tags": []
          }
        },
        {
          "output_type": "display_data",
          "data": {
            "text/html": [
              "\n",
              "        <style>\n",
              "            .jupyter-widgets {color: #d5d5d5 !important;}\n",
              "            .widget-label {color: #d5d5d5 !important;}\n",
              "        </style>\n",
              "    "
            ],
            "text/plain": [
              "<IPython.core.display.HTML object>"
            ]
          },
          "metadata": {
            "tags": []
          }
        },
        {
          "output_type": "display_data",
          "data": {
            "text/html": [
              "\n",
              "        <style>\n",
              "            .jupyter-widgets {color: #d5d5d5 !important;}\n",
              "            .widget-label {color: #d5d5d5 !important;}\n",
              "        </style>\n",
              "    "
            ],
            "text/plain": [
              "<IPython.core.display.HTML object>"
            ]
          },
          "metadata": {
            "tags": []
          }
        },
        {
          "output_type": "display_data",
          "data": {
            "text/html": [
              "\n",
              "        <style>\n",
              "            .jupyter-widgets {color: #d5d5d5 !important;}\n",
              "            .widget-label {color: #d5d5d5 !important;}\n",
              "        </style>\n",
              "    "
            ],
            "text/plain": [
              "<IPython.core.display.HTML object>"
            ]
          },
          "metadata": {
            "tags": []
          }
        },
        {
          "output_type": "display_data",
          "data": {
            "text/html": [
              "\n",
              "        <style>\n",
              "            .jupyter-widgets {color: #d5d5d5 !important;}\n",
              "            .widget-label {color: #d5d5d5 !important;}\n",
              "        </style>\n",
              "    "
            ],
            "text/plain": [
              "<IPython.core.display.HTML object>"
            ]
          },
          "metadata": {
            "tags": []
          }
        },
        {
          "output_type": "display_data",
          "data": {
            "text/html": [
              "\n",
              "        <style>\n",
              "            .jupyter-widgets {color: #d5d5d5 !important;}\n",
              "            .widget-label {color: #d5d5d5 !important;}\n",
              "        </style>\n",
              "    "
            ],
            "text/plain": [
              "<IPython.core.display.HTML object>"
            ]
          },
          "metadata": {
            "tags": []
          }
        },
        {
          "output_type": "display_data",
          "data": {
            "text/html": [
              "\n",
              "        <style>\n",
              "            .jupyter-widgets {color: #d5d5d5 !important;}\n",
              "            .widget-label {color: #d5d5d5 !important;}\n",
              "        </style>\n",
              "    "
            ],
            "text/plain": [
              "<IPython.core.display.HTML object>"
            ]
          },
          "metadata": {
            "tags": []
          }
        },
        {
          "output_type": "display_data",
          "data": {
            "text/html": [
              "\n",
              "        <style>\n",
              "            .jupyter-widgets {color: #d5d5d5 !important;}\n",
              "            .widget-label {color: #d5d5d5 !important;}\n",
              "        </style>\n",
              "    "
            ],
            "text/plain": [
              "<IPython.core.display.HTML object>"
            ]
          },
          "metadata": {
            "tags": []
          }
        },
        {
          "output_type": "stream",
          "text": [
            "Vocabulary Length: 2642\n"
          ],
          "name": "stdout"
        }
      ]
    },
    {
      "cell_type": "markdown",
      "metadata": {
        "id": "O8rIEe6fBqfX"
      },
      "source": [
        "### Defining Transforms for Captions"
      ]
    },
    {
      "cell_type": "code",
      "metadata": {
        "id": "IAIlqnscAdu8",
        "colab": {
          "base_uri": "https://localhost:8080/",
          "height": 17
        },
        "outputId": "230c71f8-7f00-4c16-cf03-b0659ec543a7"
      },
      "source": [
        "class VocabTransform:\n",
        "  def __init__(self, vocab):\n",
        "    self.vocab = vocab\n",
        "  \n",
        "  def __call__(self, tokenized):\n",
        "    return [self.vocab[t] if t in self.vocab.keys() else self.vocab[UNK_TOKEN] for t in tokenized]\n",
        "\n",
        "class CaptionConditioner:\n",
        "  def __init__(self, max_length=MAX_LENGTH):\n",
        "    self.max_length = max_length\n",
        "  \n",
        "  def __call__(self, tokenized):\n",
        "    return [START_TOKEN] + tokenized[:self.max_length - 2] + [END_TOKEN]\n",
        "\n",
        "class TextIndicesToTensor:\n",
        "  def __call__(self, item):\n",
        "    return torch.tensor(tuple(item), dtype=torch.int64)\n",
        "\n",
        "\n",
        "\n",
        "caption_transforms = transforms.Compose(\n",
        "    [\n",
        "     CaptionConditioner(),\n",
        "     VocabTransform(vocab),\n",
        "     TextIndicesToTensor(),\n",
        "    ]\n",
        ")"
      ],
      "execution_count": null,
      "outputs": [
        {
          "output_type": "display_data",
          "data": {
            "text/html": [
              "\n",
              "        <style>\n",
              "            .jupyter-widgets {color: #d5d5d5 !important;}\n",
              "            .widget-label {color: #d5d5d5 !important;}\n",
              "        </style>\n",
              "    "
            ],
            "text/plain": [
              "<IPython.core.display.HTML object>"
            ]
          },
          "metadata": {
            "tags": []
          }
        },
        {
          "output_type": "display_data",
          "data": {
            "text/html": [
              "\n",
              "        <style>\n",
              "            .jupyter-widgets {color: #d5d5d5 !important;}\n",
              "            .widget-label {color: #d5d5d5 !important;}\n",
              "        </style>\n",
              "    "
            ],
            "text/plain": [
              "<IPython.core.display.HTML object>"
            ]
          },
          "metadata": {
            "tags": []
          }
        },
        {
          "output_type": "display_data",
          "data": {
            "text/html": [
              "\n",
              "        <style>\n",
              "            .jupyter-widgets {color: #d5d5d5 !important;}\n",
              "            .widget-label {color: #d5d5d5 !important;}\n",
              "        </style>\n",
              "    "
            ],
            "text/plain": [
              "<IPython.core.display.HTML object>"
            ]
          },
          "metadata": {
            "tags": []
          }
        },
        {
          "output_type": "display_data",
          "data": {
            "text/html": [
              "\n",
              "        <style>\n",
              "            .jupyter-widgets {color: #d5d5d5 !important;}\n",
              "            .widget-label {color: #d5d5d5 !important;}\n",
              "        </style>\n",
              "    "
            ],
            "text/plain": [
              "<IPython.core.display.HTML object>"
            ]
          },
          "metadata": {
            "tags": []
          }
        },
        {
          "output_type": "display_data",
          "data": {
            "text/html": [
              "\n",
              "        <style>\n",
              "            .jupyter-widgets {color: #d5d5d5 !important;}\n",
              "            .widget-label {color: #d5d5d5 !important;}\n",
              "        </style>\n",
              "    "
            ],
            "text/plain": [
              "<IPython.core.display.HTML object>"
            ]
          },
          "metadata": {
            "tags": []
          }
        },
        {
          "output_type": "display_data",
          "data": {
            "text/html": [
              "\n",
              "        <style>\n",
              "            .jupyter-widgets {color: #d5d5d5 !important;}\n",
              "            .widget-label {color: #d5d5d5 !important;}\n",
              "        </style>\n",
              "    "
            ],
            "text/plain": [
              "<IPython.core.display.HTML object>"
            ]
          },
          "metadata": {
            "tags": []
          }
        },
        {
          "output_type": "display_data",
          "data": {
            "text/html": [
              "\n",
              "        <style>\n",
              "            .jupyter-widgets {color: #d5d5d5 !important;}\n",
              "            .widget-label {color: #d5d5d5 !important;}\n",
              "        </style>\n",
              "    "
            ],
            "text/plain": [
              "<IPython.core.display.HTML object>"
            ]
          },
          "metadata": {
            "tags": []
          }
        },
        {
          "output_type": "display_data",
          "data": {
            "text/html": [
              "\n",
              "        <style>\n",
              "            .jupyter-widgets {color: #d5d5d5 !important;}\n",
              "            .widget-label {color: #d5d5d5 !important;}\n",
              "        </style>\n",
              "    "
            ],
            "text/plain": [
              "<IPython.core.display.HTML object>"
            ]
          },
          "metadata": {
            "tags": []
          }
        }
      ]
    },
    {
      "cell_type": "markdown",
      "metadata": {
        "id": "htHAhlyas5kL"
      },
      "source": [
        "### Images"
      ]
    },
    {
      "cell_type": "code",
      "metadata": {
        "id": "JguTXlmetLGk",
        "colab": {
          "base_uri": "https://localhost:8080/",
          "height": 17
        },
        "outputId": "34a3c797-7d0d-4f1e-f6a1-ee524486216b"
      },
      "source": [
        "# This is copied from https://pytorch.org/hub/pytorch_vision_resnet/\n",
        "image_mean = [0.485, 0.456, 0.406]\n",
        "image_std = [0.229, 0.224, 0.225]\n",
        "\n",
        "image_transforms = transforms.Compose([\n",
        "    transforms.Resize(256),\n",
        "    transforms.RandomCrop(224), # As an augmenting process\n",
        "    transforms.ToTensor(),\n",
        "    transforms.Normalize(mean=image_mean, std=image_std),\n",
        "])\n",
        "\n",
        "image_mean = np.array(image_mean)\n",
        "image_std = np.array(image_std)"
      ],
      "execution_count": null,
      "outputs": [
        {
          "output_type": "display_data",
          "data": {
            "text/html": [
              "\n",
              "        <style>\n",
              "            .jupyter-widgets {color: #d5d5d5 !important;}\n",
              "            .widget-label {color: #d5d5d5 !important;}\n",
              "        </style>\n",
              "    "
            ],
            "text/plain": [
              "<IPython.core.display.HTML object>"
            ]
          },
          "metadata": {
            "tags": []
          }
        },
        {
          "output_type": "display_data",
          "data": {
            "text/html": [
              "\n",
              "        <style>\n",
              "            .jupyter-widgets {color: #d5d5d5 !important;}\n",
              "            .widget-label {color: #d5d5d5 !important;}\n",
              "        </style>\n",
              "    "
            ],
            "text/plain": [
              "<IPython.core.display.HTML object>"
            ]
          },
          "metadata": {
            "tags": []
          }
        },
        {
          "output_type": "display_data",
          "data": {
            "text/html": [
              "\n",
              "        <style>\n",
              "            .jupyter-widgets {color: #d5d5d5 !important;}\n",
              "            .widget-label {color: #d5d5d5 !important;}\n",
              "        </style>\n",
              "    "
            ],
            "text/plain": [
              "<IPython.core.display.HTML object>"
            ]
          },
          "metadata": {
            "tags": []
          }
        },
        {
          "output_type": "display_data",
          "data": {
            "text/html": [
              "\n",
              "        <style>\n",
              "            .jupyter-widgets {color: #d5d5d5 !important;}\n",
              "            .widget-label {color: #d5d5d5 !important;}\n",
              "        </style>\n",
              "    "
            ],
            "text/plain": [
              "<IPython.core.display.HTML object>"
            ]
          },
          "metadata": {
            "tags": []
          }
        },
        {
          "output_type": "display_data",
          "data": {
            "text/html": [
              "\n",
              "        <style>\n",
              "            .jupyter-widgets {color: #d5d5d5 !important;}\n",
              "            .widget-label {color: #d5d5d5 !important;}\n",
              "        </style>\n",
              "    "
            ],
            "text/plain": [
              "<IPython.core.display.HTML object>"
            ]
          },
          "metadata": {
            "tags": []
          }
        },
        {
          "output_type": "display_data",
          "data": {
            "text/html": [
              "\n",
              "        <style>\n",
              "            .jupyter-widgets {color: #d5d5d5 !important;}\n",
              "            .widget-label {color: #d5d5d5 !important;}\n",
              "        </style>\n",
              "    "
            ],
            "text/plain": [
              "<IPython.core.display.HTML object>"
            ]
          },
          "metadata": {
            "tags": []
          }
        },
        {
          "output_type": "display_data",
          "data": {
            "text/html": [
              "\n",
              "        <style>\n",
              "            .jupyter-widgets {color: #d5d5d5 !important;}\n",
              "            .widget-label {color: #d5d5d5 !important;}\n",
              "        </style>\n",
              "    "
            ],
            "text/plain": [
              "<IPython.core.display.HTML object>"
            ]
          },
          "metadata": {
            "tags": []
          }
        },
        {
          "output_type": "display_data",
          "data": {
            "text/html": [
              "\n",
              "        <style>\n",
              "            .jupyter-widgets {color: #d5d5d5 !important;}\n",
              "            .widget-label {color: #d5d5d5 !important;}\n",
              "        </style>\n",
              "    "
            ],
            "text/plain": [
              "<IPython.core.display.HTML object>"
            ]
          },
          "metadata": {
            "tags": []
          }
        }
      ]
    },
    {
      "cell_type": "markdown",
      "metadata": {
        "id": "Vv1jrIOfs7dq"
      },
      "source": [
        "# Defining the Dataset"
      ]
    },
    {
      "cell_type": "code",
      "metadata": {
        "id": "49UVBXvFoyqw",
        "colab": {
          "base_uri": "https://localhost:8080/",
          "height": 17
        },
        "outputId": "f27f2873-1c92-4c53-871d-e7317b6f013c"
      },
      "source": [
        "class FlickrDataset(Dataset):\n",
        "  def __init__(self, \n",
        "               images_path, \n",
        "               caption_df, \n",
        "               image_transforms, \n",
        "               caption_transforms,\n",
        "               captions_per_image=CAPTIONS_PER_IMAGE):\n",
        "    self.image_transforms = image_transforms\n",
        "    self.caption_transforms = caption_transforms\n",
        "    self.images_path = images_path\n",
        "    self.images_fnames = sorted(os.listdir(images_path))\n",
        "    self.df = caption_df\n",
        "    self.captions_per_image = captions_per_image\n",
        "    self.test_time = False\n",
        "\n",
        "  def __len__(self):\n",
        "    return len(self.images_fnames)\n",
        "\n",
        "  def __getitem__(self, idx):\n",
        "    fname = self.images_fnames[idx]\n",
        "    fpath = os.path.join(self.images_path, fname)\n",
        "    image = Image.open(fpath)\n",
        "    \n",
        "    idx *= self.captions_per_image # num of repeats\n",
        "    if self.test_time:\n",
        "      captions = list(self.df.iloc[idx:idx+self.captions_per_image][\"caption\"])\n",
        "    else:\n",
        "      captions = list(self.df.iloc[idx:idx+self.captions_per_image][\"cleaned\"])\n",
        "      # transform only in test time\n",
        "      image = self.image_transforms(image)\n",
        "      captions = [self.caption_transforms(c) for c in captions]\n",
        "\n",
        "    return image, captions\n"
      ],
      "execution_count": null,
      "outputs": [
        {
          "output_type": "display_data",
          "data": {
            "text/html": [
              "\n",
              "        <style>\n",
              "            .jupyter-widgets {color: #d5d5d5 !important;}\n",
              "            .widget-label {color: #d5d5d5 !important;}\n",
              "        </style>\n",
              "    "
            ],
            "text/plain": [
              "<IPython.core.display.HTML object>"
            ]
          },
          "metadata": {
            "tags": []
          }
        },
        {
          "output_type": "display_data",
          "data": {
            "text/html": [
              "\n",
              "        <style>\n",
              "            .jupyter-widgets {color: #d5d5d5 !important;}\n",
              "            .widget-label {color: #d5d5d5 !important;}\n",
              "        </style>\n",
              "    "
            ],
            "text/plain": [
              "<IPython.core.display.HTML object>"
            ]
          },
          "metadata": {
            "tags": []
          }
        },
        {
          "output_type": "display_data",
          "data": {
            "text/html": [
              "\n",
              "        <style>\n",
              "            .jupyter-widgets {color: #d5d5d5 !important;}\n",
              "            .widget-label {color: #d5d5d5 !important;}\n",
              "        </style>\n",
              "    "
            ],
            "text/plain": [
              "<IPython.core.display.HTML object>"
            ]
          },
          "metadata": {
            "tags": []
          }
        },
        {
          "output_type": "display_data",
          "data": {
            "text/html": [
              "\n",
              "        <style>\n",
              "            .jupyter-widgets {color: #d5d5d5 !important;}\n",
              "            .widget-label {color: #d5d5d5 !important;}\n",
              "        </style>\n",
              "    "
            ],
            "text/plain": [
              "<IPython.core.display.HTML object>"
            ]
          },
          "metadata": {
            "tags": []
          }
        },
        {
          "output_type": "display_data",
          "data": {
            "text/html": [
              "\n",
              "        <style>\n",
              "            .jupyter-widgets {color: #d5d5d5 !important;}\n",
              "            .widget-label {color: #d5d5d5 !important;}\n",
              "        </style>\n",
              "    "
            ],
            "text/plain": [
              "<IPython.core.display.HTML object>"
            ]
          },
          "metadata": {
            "tags": []
          }
        },
        {
          "output_type": "display_data",
          "data": {
            "text/html": [
              "\n",
              "        <style>\n",
              "            .jupyter-widgets {color: #d5d5d5 !important;}\n",
              "            .widget-label {color: #d5d5d5 !important;}\n",
              "        </style>\n",
              "    "
            ],
            "text/plain": [
              "<IPython.core.display.HTML object>"
            ]
          },
          "metadata": {
            "tags": []
          }
        },
        {
          "output_type": "display_data",
          "data": {
            "text/html": [
              "\n",
              "        <style>\n",
              "            .jupyter-widgets {color: #d5d5d5 !important;}\n",
              "            .widget-label {color: #d5d5d5 !important;}\n",
              "        </style>\n",
              "    "
            ],
            "text/plain": [
              "<IPython.core.display.HTML object>"
            ]
          },
          "metadata": {
            "tags": []
          }
        },
        {
          "output_type": "display_data",
          "data": {
            "text/html": [
              "\n",
              "        <style>\n",
              "            .jupyter-widgets {color: #d5d5d5 !important;}\n",
              "            .widget-label {color: #d5d5d5 !important;}\n",
              "        </style>\n",
              "    "
            ],
            "text/plain": [
              "<IPython.core.display.HTML object>"
            ]
          },
          "metadata": {
            "tags": []
          }
        }
      ]
    },
    {
      "cell_type": "code",
      "metadata": {
        "id": "yRquY0WnC7jU",
        "colab": {
          "base_uri": "https://localhost:8080/",
          "height": 17
        },
        "outputId": "83cc945a-221b-4767-9445-1c0d3273ee76"
      },
      "source": [
        "\n",
        "# Influenced by https://github.com/siddsrivastava/Image-captioning/blob/master/model.py\n",
        "\n",
        "class FlickrEncoderCNN(nn.Module):\n",
        "  def __init__(self, \n",
        "               embedding_dim, \n",
        "               freeze):\n",
        "    super().__init__()\n",
        "    # Loading resnet\n",
        "    resnet = torchvision.models.resnet18(pretrained=True)\n",
        "    fc_in_features = resnet.fc.in_features\n",
        "\n",
        "    # Defining layers\n",
        "    modules = list(resnet.children())[:-1]\n",
        "    self.resnet = nn.Sequential(*modules)\n",
        "    self.fc = nn.Linear(fc_in_features, embedding_dim)\n",
        "\n",
        "    # Freezing if needed\n",
        "    for param in self.resnet.parameters():\n",
        "        param.requires_grad = False if freeze else True\n",
        "    for param in self.fc.parameters():\n",
        "      param.requires_grad = True\n",
        "    \n",
        "    self.modules = nn.ModuleList(\n",
        "        [self.resnet, self.fc]\n",
        "    )  \n",
        "  def forward(self, x):\n",
        "    x = self.resnet(x)\n",
        "    x = x.view(x.shape[0], -1)\n",
        "    x = self.fc(x)\n",
        "    return x\n",
        "\n",
        "\n",
        "class FlickrDecoderLSTM(nn.Module):\n",
        "  def __init__(self, \n",
        "                vocab_size,\n",
        "                embedding_dim,\n",
        "                hidden_size,\n",
        "                padding_idx,\n",
        "                bidirectional=False,\n",
        "                dropout=0):\n",
        "    \n",
        "    super().__init__()\n",
        "    # Creating embeddings\n",
        "    self.embed = nn.Embedding(num_embeddings=vocab_size,\n",
        "                              embedding_dim=embedding_dim, \n",
        "                              padding_idx=padding_idx,\n",
        "                              sparse=False,\n",
        "                              )\n",
        "\n",
        "    self.lstm = nn.LSTM(input_size=embedding_dim,\n",
        "                        hidden_size=hidden_size,\n",
        "                        batch_first=True,\n",
        "                        dropout=dropout,\n",
        "                        bidirectional=bidirectional)\n",
        "    \n",
        "\n",
        "    self.fc = nn.Linear(hidden_size,vocab_size)\n",
        "\n",
        "    self.modules = nn.ModuleList(\n",
        "        [self.embed, self.lstm, self.fc]\n",
        "    )\n",
        "\n",
        "  def forward(self, features, caption_seqs, hidden=None):\n",
        "      caption_seqs = caption_seqs[:,:-1] \n",
        "      embeddings = self.embed(caption_seqs)\n",
        "      total_input = torch.cat((features.unsqueeze(1), embeddings), 1)\n",
        "      lstm_out, hidden = self.lstm(total_input, hidden)\n",
        "      outputs = self.fc(lstm_out)\n",
        "      return outputs, hidden\n",
        "\n",
        "\n",
        "class FlickrNet(nn.Module):\n",
        "  def __init__(self, \n",
        "               vocab_size,\n",
        "               embedding_dim,\n",
        "               hidden_size,\n",
        "               padding_idx,\n",
        "               start_token_index,\n",
        "               end_token_index,\n",
        "               unk_token_index,\n",
        "               bidirectional=False,\n",
        "               dropout=0,\n",
        "               freeze=True):\n",
        "    super().__init__()\n",
        "    self.vocab_size = vocab_size\n",
        "    encoder = FlickrEncoderCNN(embedding_dim, freeze)\n",
        "    decoder = FlickrDecoderLSTM(vocab_size, \n",
        "                                    embedding_dim, \n",
        "                                    hidden_size, \n",
        "                                    padding_idx, \n",
        "                                    bidirectional, \n",
        "                                    dropout)\n",
        "    self.encoder = encoder\n",
        "    self.decoder = decoder\n",
        "    self.modules = nn.ModuleList([encoder,decoder])\n",
        "    self.start_token_index = start_token_index\n",
        "    self.end_token_index = end_token_index\n",
        "    self.unk_token_index = unk_token_index\n",
        "\n",
        "  def forward(self, images, caption_seqs):\n",
        "    features = self.encoder(images)\n",
        "    outputs, hiddens = self.decoder(features, caption_seqs)\n",
        "    return outputs\n",
        "  \n",
        "  def predict(self, image, max_len = 30):\n",
        "    with torch.no_grad():\n",
        "      outputs = []\n",
        "      # Needs to be turned into 1 x Channels x Width x Height\n",
        "      features = self.encoder(image).unsqueeze(0)\n",
        "      hidden_size = self.decoder.lstm.hidden_size\n",
        "      hidden = (torch.zeros(1,max_len,hidden_size).cuda(),\n",
        "                  torch.zeros(1,max_len,hidden_size).cuda())\n",
        "      \n",
        "      inputs = features\n",
        "      for idx in range(max_len):\n",
        "        lstm_out, hidden = self.decoder.lstm(inputs,hidden)\n",
        "        output_vocab = self.decoder.fc(lstm_out)\n",
        "        output_vocab = F.softmax(output_vocab.squeeze(1),dim=1)\n",
        "        output_word = torch.argsort(output_vocab, dim=1, descending=True)\n",
        "        indices = []\n",
        "        # Check whether we've reached the end\n",
        "        for j in range(output_word.shape[0]):\n",
        "            index = 0\n",
        "            word = output_word[j, index].item()\n",
        "            while word == self.unk_token_index:\n",
        "              index += 1\n",
        "              word = output_word[j, index].item()\n",
        "            indices.append(index)\n",
        "        # Final word is end of sentence\n",
        "        output_word = output_word[..., indices]\n",
        "        outputs.append(output_word.item())\n",
        "        if self.end_token_index == indices[-1]:\n",
        "          break\n",
        "        embeds = self.decoder.embed(output_word.unsqueeze(0)).squeeze(0)\n",
        "        inputs = embeds\n",
        "    return outputs"
      ],
      "execution_count": null,
      "outputs": [
        {
          "output_type": "display_data",
          "data": {
            "text/html": [
              "\n",
              "        <style>\n",
              "            .jupyter-widgets {color: #d5d5d5 !important;}\n",
              "            .widget-label {color: #d5d5d5 !important;}\n",
              "        </style>\n",
              "    "
            ],
            "text/plain": [
              "<IPython.core.display.HTML object>"
            ]
          },
          "metadata": {
            "tags": []
          }
        },
        {
          "output_type": "display_data",
          "data": {
            "text/html": [
              "\n",
              "        <style>\n",
              "            .jupyter-widgets {color: #d5d5d5 !important;}\n",
              "            .widget-label {color: #d5d5d5 !important;}\n",
              "        </style>\n",
              "    "
            ],
            "text/plain": [
              "<IPython.core.display.HTML object>"
            ]
          },
          "metadata": {
            "tags": []
          }
        },
        {
          "output_type": "display_data",
          "data": {
            "text/html": [
              "\n",
              "        <style>\n",
              "            .jupyter-widgets {color: #d5d5d5 !important;}\n",
              "            .widget-label {color: #d5d5d5 !important;}\n",
              "        </style>\n",
              "    "
            ],
            "text/plain": [
              "<IPython.core.display.HTML object>"
            ]
          },
          "metadata": {
            "tags": []
          }
        },
        {
          "output_type": "display_data",
          "data": {
            "text/html": [
              "\n",
              "        <style>\n",
              "            .jupyter-widgets {color: #d5d5d5 !important;}\n",
              "            .widget-label {color: #d5d5d5 !important;}\n",
              "        </style>\n",
              "    "
            ],
            "text/plain": [
              "<IPython.core.display.HTML object>"
            ]
          },
          "metadata": {
            "tags": []
          }
        },
        {
          "output_type": "display_data",
          "data": {
            "text/html": [
              "\n",
              "        <style>\n",
              "            .jupyter-widgets {color: #d5d5d5 !important;}\n",
              "            .widget-label {color: #d5d5d5 !important;}\n",
              "        </style>\n",
              "    "
            ],
            "text/plain": [
              "<IPython.core.display.HTML object>"
            ]
          },
          "metadata": {
            "tags": []
          }
        },
        {
          "output_type": "display_data",
          "data": {
            "text/html": [
              "\n",
              "        <style>\n",
              "            .jupyter-widgets {color: #d5d5d5 !important;}\n",
              "            .widget-label {color: #d5d5d5 !important;}\n",
              "        </style>\n",
              "    "
            ],
            "text/plain": [
              "<IPython.core.display.HTML object>"
            ]
          },
          "metadata": {
            "tags": []
          }
        },
        {
          "output_type": "display_data",
          "data": {
            "text/html": [
              "\n",
              "        <style>\n",
              "            .jupyter-widgets {color: #d5d5d5 !important;}\n",
              "            .widget-label {color: #d5d5d5 !important;}\n",
              "        </style>\n",
              "    "
            ],
            "text/plain": [
              "<IPython.core.display.HTML object>"
            ]
          },
          "metadata": {
            "tags": []
          }
        },
        {
          "output_type": "display_data",
          "data": {
            "text/html": [
              "\n",
              "        <style>\n",
              "            .jupyter-widgets {color: #d5d5d5 !important;}\n",
              "            .widget-label {color: #d5d5d5 !important;}\n",
              "        </style>\n",
              "    "
            ],
            "text/plain": [
              "<IPython.core.display.HTML object>"
            ]
          },
          "metadata": {
            "tags": []
          }
        }
      ]
    },
    {
      "cell_type": "code",
      "metadata": {
        "id": "ea5dmwVX-bxy",
        "colab": {
          "base_uri": "https://localhost:8080/",
          "height": 17
        },
        "outputId": "91880fad-7da9-47cb-83ca-3e22e89b4ed5"
      },
      "source": [
        "# This is needed for batches\n",
        "\n",
        "class RepeatImages:\n",
        "  def __init__(self, num_repeat=CAPTIONS_PER_IMAGE):\n",
        "    self.num_repeat = num_repeat\n",
        "\n",
        "  def __call__(self, batch):\n",
        "    result = []\n",
        "    for image, captions in batch:\n",
        "      for i in range(self.num_repeat):\n",
        "        result.append((image, captions[i]))\n",
        "    return result\n",
        "\n",
        "class PadCaptions:\n",
        "  def __init__(self, vocab):\n",
        "    self.pad_idx = vocab[PAD_TOKEN]\n",
        "  \n",
        "  def __call__(self, batch):\n",
        "    captions = []\n",
        "    images = []\n",
        "    for im, cap in batch:\n",
        "      captions.append(cap)\n",
        "      images.append(im.unsqueeze(0))\n",
        "    captions = torch.nn.utils.rnn.pad_sequence(captions,\n",
        "                                    batch_first=True,\n",
        "                                    padding_value=self.pad_idx)\n",
        "    images = torch.cat(images, dim=0)\n",
        "    return images, captions\n",
        "\n",
        "\n",
        "batch_transforms = transforms.Compose([\n",
        "     RepeatImages(),\n",
        "     PadCaptions(vocab),\n",
        "     ]\n",
        ")"
      ],
      "execution_count": null,
      "outputs": [
        {
          "output_type": "display_data",
          "data": {
            "text/html": [
              "\n",
              "        <style>\n",
              "            .jupyter-widgets {color: #d5d5d5 !important;}\n",
              "            .widget-label {color: #d5d5d5 !important;}\n",
              "        </style>\n",
              "    "
            ],
            "text/plain": [
              "<IPython.core.display.HTML object>"
            ]
          },
          "metadata": {
            "tags": []
          }
        },
        {
          "output_type": "display_data",
          "data": {
            "text/html": [
              "\n",
              "        <style>\n",
              "            .jupyter-widgets {color: #d5d5d5 !important;}\n",
              "            .widget-label {color: #d5d5d5 !important;}\n",
              "        </style>\n",
              "    "
            ],
            "text/plain": [
              "<IPython.core.display.HTML object>"
            ]
          },
          "metadata": {
            "tags": []
          }
        },
        {
          "output_type": "display_data",
          "data": {
            "text/html": [
              "\n",
              "        <style>\n",
              "            .jupyter-widgets {color: #d5d5d5 !important;}\n",
              "            .widget-label {color: #d5d5d5 !important;}\n",
              "        </style>\n",
              "    "
            ],
            "text/plain": [
              "<IPython.core.display.HTML object>"
            ]
          },
          "metadata": {
            "tags": []
          }
        },
        {
          "output_type": "display_data",
          "data": {
            "text/html": [
              "\n",
              "        <style>\n",
              "            .jupyter-widgets {color: #d5d5d5 !important;}\n",
              "            .widget-label {color: #d5d5d5 !important;}\n",
              "        </style>\n",
              "    "
            ],
            "text/plain": [
              "<IPython.core.display.HTML object>"
            ]
          },
          "metadata": {
            "tags": []
          }
        },
        {
          "output_type": "display_data",
          "data": {
            "text/html": [
              "\n",
              "        <style>\n",
              "            .jupyter-widgets {color: #d5d5d5 !important;}\n",
              "            .widget-label {color: #d5d5d5 !important;}\n",
              "        </style>\n",
              "    "
            ],
            "text/plain": [
              "<IPython.core.display.HTML object>"
            ]
          },
          "metadata": {
            "tags": []
          }
        },
        {
          "output_type": "display_data",
          "data": {
            "text/html": [
              "\n",
              "        <style>\n",
              "            .jupyter-widgets {color: #d5d5d5 !important;}\n",
              "            .widget-label {color: #d5d5d5 !important;}\n",
              "        </style>\n",
              "    "
            ],
            "text/plain": [
              "<IPython.core.display.HTML object>"
            ]
          },
          "metadata": {
            "tags": []
          }
        },
        {
          "output_type": "display_data",
          "data": {
            "text/html": [
              "\n",
              "        <style>\n",
              "            .jupyter-widgets {color: #d5d5d5 !important;}\n",
              "            .widget-label {color: #d5d5d5 !important;}\n",
              "        </style>\n",
              "    "
            ],
            "text/plain": [
              "<IPython.core.display.HTML object>"
            ]
          },
          "metadata": {
            "tags": []
          }
        },
        {
          "output_type": "display_data",
          "data": {
            "text/html": [
              "\n",
              "        <style>\n",
              "            .jupyter-widgets {color: #d5d5d5 !important;}\n",
              "            .widget-label {color: #d5d5d5 !important;}\n",
              "        </style>\n",
              "    "
            ],
            "text/plain": [
              "<IPython.core.display.HTML object>"
            ]
          },
          "metadata": {
            "tags": []
          }
        }
      ]
    },
    {
      "cell_type": "markdown",
      "metadata": {
        "id": "cw6i9Hy_EiSu"
      },
      "source": [
        "# Preparing for Training"
      ]
    },
    {
      "cell_type": "markdown",
      "metadata": {
        "id": "WxRyH2B0GSx-"
      },
      "source": [
        "### Defining training and testing functions"
      ]
    },
    {
      "cell_type": "code",
      "metadata": {
        "id": "xIg_4OcEGV1J",
        "colab": {
          "base_uri": "https://localhost:8080/",
          "height": 17
        },
        "outputId": "c1f057ea-2d4d-478a-f79f-405dd7b78be3"
      },
      "source": [
        "def generate_sentence(model):\n",
        "    i = int(np.random.randint(0, len(test_dataset)))\n",
        "    image, captions = test_dataset[i]\n",
        "    image = image.unsqueeze(0).cuda()\n",
        "    gen = model.predict(image)\n",
        "    gen = \" \".join([id2word[g] for g in gen])\n",
        "    caption = \" \".join([id2word[c] for c in captions[0].numpy()])\n",
        "    print(\"#########################\")\n",
        "    print(f\"### Original: {caption}\")\n",
        "    print(f\"### Generated: {gen}\")\n",
        "    print(\"#########################\")\n",
        "    \n",
        "def test(model, loss_function, test_loader):\n",
        "  test_loss = 0\n",
        "  n_items = 0\n",
        "  with torch.no_grad():\n",
        "    for batch in test_loader:\n",
        "        images, captions = batch\n",
        "        images, captions = images.cuda(), captions.cuda()\n",
        "\n",
        "        outputs = model(images, captions)\n",
        "        outputs = torch.moveaxis(outputs, -1, 1)\n",
        "        loss = loss_function(outputs, captions)\n",
        "      \n",
        "        test_loss += loss.item() * captions.numel()\n",
        "        n_items += captions.numel()\n",
        "        \n",
        "  test_loss /= n_items\n",
        "  return test_loss\n",
        "\n",
        "def train(model, optimizer, loss_function, train_loader, test_loader, model_name, max_epochs=50):\n",
        "  scaler = torch.cuda.amp.GradScaler()\n",
        "  info = []\n",
        "  for epoch in range(1, max_epochs+1):\n",
        "    train_loss = 0\n",
        "    n_items = 0\n",
        "    pbar = tqdm(total=len(train_loader), desc=f\"Epoch: {epoch}\", leave=False)\n",
        "    for batch in train_loader:\n",
        "      torch.cuda.empty_cache() \n",
        "      optimizer.zero_grad()\n",
        "\n",
        "      images, captions = batch\n",
        "      images, captions = images.cuda(), captions.cuda()\n",
        "      \n",
        "      with torch.cuda.amp.autocast():\n",
        "        outputs = model(images, captions)\n",
        "        outputs = torch.moveaxis(outputs, -1, 1)\n",
        "        loss = loss_function(outputs, captions)\n",
        "\n",
        "      # scaling the loss\n",
        "      scaler.scale(loss).backward()\n",
        "      scaler.step(optimizer)\n",
        "      scaler.update()\n",
        "      \n",
        "      # computing the running loss\n",
        "      train_loss += loss.item() * captions.numel()\n",
        "      n_items += captions.numel()\n",
        "\n",
        "      # updating the progress bar\n",
        "      pbar.set_postfix(batch_loss=f\"{loss.item():.3f}\")\n",
        "      pbar.update()  \n",
        "\n",
        "    pbar.close()\n",
        "    train_loss /= n_items\n",
        "    test_loss = test(model, loss_function, test_loader)\n",
        "    info.append(\n",
        "        {\"train_loss\": train_loss, \"val_loss\": test_loss}\n",
        "    )\n",
        "    print(f\"Epoch: {epoch}\\t Train Loss: {train_loss:.3f}\\t Test Loss: {test_loss:.3f}\")\n",
        "    if epoch % 10 == 0:\n",
        "      torch.save(model, f\"/content/drive/MyDrive/Academics/Courses/Deep Learning/CA3/Q1/{model_name}.model\")\n",
        "    if epoch % 5 == 0:\n",
        "      generate_sentence(model)\n",
        "  return info"
      ],
      "execution_count": null,
      "outputs": [
        {
          "output_type": "display_data",
          "data": {
            "text/html": [
              "\n",
              "        <style>\n",
              "            .jupyter-widgets {color: #d5d5d5 !important;}\n",
              "            .widget-label {color: #d5d5d5 !important;}\n",
              "        </style>\n",
              "    "
            ],
            "text/plain": [
              "<IPython.core.display.HTML object>"
            ]
          },
          "metadata": {
            "tags": []
          }
        },
        {
          "output_type": "display_data",
          "data": {
            "text/html": [
              "\n",
              "        <style>\n",
              "            .jupyter-widgets {color: #d5d5d5 !important;}\n",
              "            .widget-label {color: #d5d5d5 !important;}\n",
              "        </style>\n",
              "    "
            ],
            "text/plain": [
              "<IPython.core.display.HTML object>"
            ]
          },
          "metadata": {
            "tags": []
          }
        },
        {
          "output_type": "display_data",
          "data": {
            "text/html": [
              "\n",
              "        <style>\n",
              "            .jupyter-widgets {color: #d5d5d5 !important;}\n",
              "            .widget-label {color: #d5d5d5 !important;}\n",
              "        </style>\n",
              "    "
            ],
            "text/plain": [
              "<IPython.core.display.HTML object>"
            ]
          },
          "metadata": {
            "tags": []
          }
        },
        {
          "output_type": "display_data",
          "data": {
            "text/html": [
              "\n",
              "        <style>\n",
              "            .jupyter-widgets {color: #d5d5d5 !important;}\n",
              "            .widget-label {color: #d5d5d5 !important;}\n",
              "        </style>\n",
              "    "
            ],
            "text/plain": [
              "<IPython.core.display.HTML object>"
            ]
          },
          "metadata": {
            "tags": []
          }
        },
        {
          "output_type": "display_data",
          "data": {
            "text/html": [
              "\n",
              "        <style>\n",
              "            .jupyter-widgets {color: #d5d5d5 !important;}\n",
              "            .widget-label {color: #d5d5d5 !important;}\n",
              "        </style>\n",
              "    "
            ],
            "text/plain": [
              "<IPython.core.display.HTML object>"
            ]
          },
          "metadata": {
            "tags": []
          }
        },
        {
          "output_type": "display_data",
          "data": {
            "text/html": [
              "\n",
              "        <style>\n",
              "            .jupyter-widgets {color: #d5d5d5 !important;}\n",
              "            .widget-label {color: #d5d5d5 !important;}\n",
              "        </style>\n",
              "    "
            ],
            "text/plain": [
              "<IPython.core.display.HTML object>"
            ]
          },
          "metadata": {
            "tags": []
          }
        },
        {
          "output_type": "display_data",
          "data": {
            "text/html": [
              "\n",
              "        <style>\n",
              "            .jupyter-widgets {color: #d5d5d5 !important;}\n",
              "            .widget-label {color: #d5d5d5 !important;}\n",
              "        </style>\n",
              "    "
            ],
            "text/plain": [
              "<IPython.core.display.HTML object>"
            ]
          },
          "metadata": {
            "tags": []
          }
        },
        {
          "output_type": "display_data",
          "data": {
            "text/html": [
              "\n",
              "        <style>\n",
              "            .jupyter-widgets {color: #d5d5d5 !important;}\n",
              "            .widget-label {color: #d5d5d5 !important;}\n",
              "        </style>\n",
              "    "
            ],
            "text/plain": [
              "<IPython.core.display.HTML object>"
            ]
          },
          "metadata": {
            "tags": []
          }
        }
      ]
    },
    {
      "cell_type": "code",
      "metadata": {
        "colab": {
          "base_uri": "https://localhost:8080/",
          "height": 106
        },
        "id": "vDEMo3y1GVli",
        "outputId": "e138c9ba-e3b0-4faf-b809-1bd58beb70ec"
      },
      "source": [
        "generate_sentence(model)"
      ],
      "execution_count": null,
      "outputs": [
        {
          "output_type": "display_data",
          "data": {
            "text/html": [
              "\n",
              "        <style>\n",
              "            .jupyter-widgets {color: #d5d5d5 !important;}\n",
              "            .widget-label {color: #d5d5d5 !important;}\n",
              "        </style>\n",
              "    "
            ],
            "text/plain": [
              "<IPython.core.display.HTML object>"
            ]
          },
          "metadata": {
            "tags": []
          }
        },
        {
          "output_type": "display_data",
          "data": {
            "text/html": [
              "\n",
              "        <style>\n",
              "            .jupyter-widgets {color: #d5d5d5 !important;}\n",
              "            .widget-label {color: #d5d5d5 !important;}\n",
              "        </style>\n",
              "    "
            ],
            "text/plain": [
              "<IPython.core.display.HTML object>"
            ]
          },
          "metadata": {
            "tags": []
          }
        },
        {
          "output_type": "display_data",
          "data": {
            "text/html": [
              "\n",
              "        <style>\n",
              "            .jupyter-widgets {color: #d5d5d5 !important;}\n",
              "            .widget-label {color: #d5d5d5 !important;}\n",
              "        </style>\n",
              "    "
            ],
            "text/plain": [
              "<IPython.core.display.HTML object>"
            ]
          },
          "metadata": {
            "tags": []
          }
        },
        {
          "output_type": "display_data",
          "data": {
            "text/html": [
              "\n",
              "        <style>\n",
              "            .jupyter-widgets {color: #d5d5d5 !important;}\n",
              "            .widget-label {color: #d5d5d5 !important;}\n",
              "        </style>\n",
              "    "
            ],
            "text/plain": [
              "<IPython.core.display.HTML object>"
            ]
          },
          "metadata": {
            "tags": []
          }
        },
        {
          "output_type": "display_data",
          "data": {
            "text/html": [
              "\n",
              "        <style>\n",
              "            .jupyter-widgets {color: #d5d5d5 !important;}\n",
              "            .widget-label {color: #d5d5d5 !important;}\n",
              "        </style>\n",
              "    "
            ],
            "text/plain": [
              "<IPython.core.display.HTML object>"
            ]
          },
          "metadata": {
            "tags": []
          }
        },
        {
          "output_type": "display_data",
          "data": {
            "text/html": [
              "\n",
              "        <style>\n",
              "            .jupyter-widgets {color: #d5d5d5 !important;}\n",
              "            .widget-label {color: #d5d5d5 !important;}\n",
              "        </style>\n",
              "    "
            ],
            "text/plain": [
              "<IPython.core.display.HTML object>"
            ]
          },
          "metadata": {
            "tags": []
          }
        },
        {
          "output_type": "display_data",
          "data": {
            "text/html": [
              "\n",
              "        <style>\n",
              "            .jupyter-widgets {color: #d5d5d5 !important;}\n",
              "            .widget-label {color: #d5d5d5 !important;}\n",
              "        </style>\n",
              "    "
            ],
            "text/plain": [
              "<IPython.core.display.HTML object>"
            ]
          },
          "metadata": {
            "tags": []
          }
        },
        {
          "output_type": "display_data",
          "data": {
            "text/html": [
              "\n",
              "        <style>\n",
              "            .jupyter-widgets {color: #d5d5d5 !important;}\n",
              "            .widget-label {color: #d5d5d5 !important;}\n",
              "        </style>\n",
              "    "
            ],
            "text/plain": [
              "<IPython.core.display.HTML object>"
            ]
          },
          "metadata": {
            "tags": []
          }
        },
        {
          "output_type": "stream",
          "text": [
            "#########################\n",
            "### Original: <SOS> the beautiful young girl goes through the tube <EOS>\n",
            "### Generated: <SOS> <SOS> two <PAD> <PAD> <PAD> <PAD> <PAD> <PAD> <PAD> <PAD> <PAD> <PAD> <PAD> <PAD> <PAD> <PAD> <PAD> <PAD> <PAD> <PAD> <PAD> <PAD> <PAD> <PAD> <PAD> <PAD> <PAD> <PAD> <PAD>\n",
            "#########################\n"
          ],
          "name": "stdout"
        }
      ]
    },
    {
      "cell_type": "code",
      "metadata": {
        "id": "Q9BU36BiHWMf",
        "colab": {
          "base_uri": "https://localhost:8080/",
          "height": 17
        },
        "outputId": "93e87d74-4580-448d-a012-5e434aac7246"
      },
      "source": [
        "dataset = FlickrDataset(\n",
        "    images_path=IMAGE_ROOT, \n",
        "    caption_df=caption_df,\n",
        "    image_transforms=image_transforms, \n",
        "    caption_transforms=caption_transforms,\n",
        ")\n",
        "test_length = int(TEST_SPLIT * len(dataset))\n",
        "train_length = len(dataset) - test_length\n",
        "train_dataset, test_dataset = random_split(dataset, [train_length, test_length])"
      ],
      "execution_count": null,
      "outputs": [
        {
          "output_type": "display_data",
          "data": {
            "text/html": [
              "\n",
              "        <style>\n",
              "            .jupyter-widgets {color: #d5d5d5 !important;}\n",
              "            .widget-label {color: #d5d5d5 !important;}\n",
              "        </style>\n",
              "    "
            ],
            "text/plain": [
              "<IPython.core.display.HTML object>"
            ]
          },
          "metadata": {
            "tags": []
          }
        },
        {
          "output_type": "display_data",
          "data": {
            "text/html": [
              "\n",
              "        <style>\n",
              "            .jupyter-widgets {color: #d5d5d5 !important;}\n",
              "            .widget-label {color: #d5d5d5 !important;}\n",
              "        </style>\n",
              "    "
            ],
            "text/plain": [
              "<IPython.core.display.HTML object>"
            ]
          },
          "metadata": {
            "tags": []
          }
        },
        {
          "output_type": "display_data",
          "data": {
            "text/html": [
              "\n",
              "        <style>\n",
              "            .jupyter-widgets {color: #d5d5d5 !important;}\n",
              "            .widget-label {color: #d5d5d5 !important;}\n",
              "        </style>\n",
              "    "
            ],
            "text/plain": [
              "<IPython.core.display.HTML object>"
            ]
          },
          "metadata": {
            "tags": []
          }
        },
        {
          "output_type": "display_data",
          "data": {
            "text/html": [
              "\n",
              "        <style>\n",
              "            .jupyter-widgets {color: #d5d5d5 !important;}\n",
              "            .widget-label {color: #d5d5d5 !important;}\n",
              "        </style>\n",
              "    "
            ],
            "text/plain": [
              "<IPython.core.display.HTML object>"
            ]
          },
          "metadata": {
            "tags": []
          }
        },
        {
          "output_type": "display_data",
          "data": {
            "text/html": [
              "\n",
              "        <style>\n",
              "            .jupyter-widgets {color: #d5d5d5 !important;}\n",
              "            .widget-label {color: #d5d5d5 !important;}\n",
              "        </style>\n",
              "    "
            ],
            "text/plain": [
              "<IPython.core.display.HTML object>"
            ]
          },
          "metadata": {
            "tags": []
          }
        },
        {
          "output_type": "display_data",
          "data": {
            "text/html": [
              "\n",
              "        <style>\n",
              "            .jupyter-widgets {color: #d5d5d5 !important;}\n",
              "            .widget-label {color: #d5d5d5 !important;}\n",
              "        </style>\n",
              "    "
            ],
            "text/plain": [
              "<IPython.core.display.HTML object>"
            ]
          },
          "metadata": {
            "tags": []
          }
        },
        {
          "output_type": "display_data",
          "data": {
            "text/html": [
              "\n",
              "        <style>\n",
              "            .jupyter-widgets {color: #d5d5d5 !important;}\n",
              "            .widget-label {color: #d5d5d5 !important;}\n",
              "        </style>\n",
              "    "
            ],
            "text/plain": [
              "<IPython.core.display.HTML object>"
            ]
          },
          "metadata": {
            "tags": []
          }
        },
        {
          "output_type": "display_data",
          "data": {
            "text/html": [
              "\n",
              "        <style>\n",
              "            .jupyter-widgets {color: #d5d5d5 !important;}\n",
              "            .widget-label {color: #d5d5d5 !important;}\n",
              "        </style>\n",
              "    "
            ],
            "text/plain": [
              "<IPython.core.display.HTML object>"
            ]
          },
          "metadata": {
            "tags": []
          }
        }
      ]
    },
    {
      "cell_type": "code",
      "metadata": {
        "id": "t1TdgZBIEnCs",
        "colab": {
          "base_uri": "https://localhost:8080/",
          "height": 17
        },
        "outputId": "dd6f8007-de64-4ad7-c658-4f11c7cfe917"
      },
      "source": [
        "train_batch_size = 64\n",
        "test_batch_size = 128\n",
        "\n",
        "train_loader = DataLoader(train_dataset, batch_size=train_batch_size, collate_fn=batch_transforms, shuffle=True)\n",
        "test_loader = DataLoader(test_dataset, batch_size=test_batch_size, collate_fn=batch_transforms, shuffle=True)"
      ],
      "execution_count": null,
      "outputs": [
        {
          "output_type": "display_data",
          "data": {
            "text/html": [
              "\n",
              "        <style>\n",
              "            .jupyter-widgets {color: #d5d5d5 !important;}\n",
              "            .widget-label {color: #d5d5d5 !important;}\n",
              "        </style>\n",
              "    "
            ],
            "text/plain": [
              "<IPython.core.display.HTML object>"
            ]
          },
          "metadata": {
            "tags": []
          }
        },
        {
          "output_type": "display_data",
          "data": {
            "text/html": [
              "\n",
              "        <style>\n",
              "            .jupyter-widgets {color: #d5d5d5 !important;}\n",
              "            .widget-label {color: #d5d5d5 !important;}\n",
              "        </style>\n",
              "    "
            ],
            "text/plain": [
              "<IPython.core.display.HTML object>"
            ]
          },
          "metadata": {
            "tags": []
          }
        },
        {
          "output_type": "display_data",
          "data": {
            "text/html": [
              "\n",
              "        <style>\n",
              "            .jupyter-widgets {color: #d5d5d5 !important;}\n",
              "            .widget-label {color: #d5d5d5 !important;}\n",
              "        </style>\n",
              "    "
            ],
            "text/plain": [
              "<IPython.core.display.HTML object>"
            ]
          },
          "metadata": {
            "tags": []
          }
        },
        {
          "output_type": "display_data",
          "data": {
            "text/html": [
              "\n",
              "        <style>\n",
              "            .jupyter-widgets {color: #d5d5d5 !important;}\n",
              "            .widget-label {color: #d5d5d5 !important;}\n",
              "        </style>\n",
              "    "
            ],
            "text/plain": [
              "<IPython.core.display.HTML object>"
            ]
          },
          "metadata": {
            "tags": []
          }
        },
        {
          "output_type": "display_data",
          "data": {
            "text/html": [
              "\n",
              "        <style>\n",
              "            .jupyter-widgets {color: #d5d5d5 !important;}\n",
              "            .widget-label {color: #d5d5d5 !important;}\n",
              "        </style>\n",
              "    "
            ],
            "text/plain": [
              "<IPython.core.display.HTML object>"
            ]
          },
          "metadata": {
            "tags": []
          }
        },
        {
          "output_type": "display_data",
          "data": {
            "text/html": [
              "\n",
              "        <style>\n",
              "            .jupyter-widgets {color: #d5d5d5 !important;}\n",
              "            .widget-label {color: #d5d5d5 !important;}\n",
              "        </style>\n",
              "    "
            ],
            "text/plain": [
              "<IPython.core.display.HTML object>"
            ]
          },
          "metadata": {
            "tags": []
          }
        },
        {
          "output_type": "display_data",
          "data": {
            "text/html": [
              "\n",
              "        <style>\n",
              "            .jupyter-widgets {color: #d5d5d5 !important;}\n",
              "            .widget-label {color: #d5d5d5 !important;}\n",
              "        </style>\n",
              "    "
            ],
            "text/plain": [
              "<IPython.core.display.HTML object>"
            ]
          },
          "metadata": {
            "tags": []
          }
        },
        {
          "output_type": "display_data",
          "data": {
            "text/html": [
              "\n",
              "        <style>\n",
              "            .jupyter-widgets {color: #d5d5d5 !important;}\n",
              "            .widget-label {color: #d5d5d5 !important;}\n",
              "        </style>\n",
              "    "
            ],
            "text/plain": [
              "<IPython.core.display.HTML object>"
            ]
          },
          "metadata": {
            "tags": []
          }
        }
      ]
    },
    {
      "cell_type": "markdown",
      "metadata": {
        "id": "Gn35I9B1MiMo"
      },
      "source": [
        "# Creating models and training\n",
        "\n",
        "## Part A"
      ]
    },
    {
      "cell_type": "code",
      "metadata": {
        "id": "DrxjwILSMea9",
        "colab": {
          "base_uri": "https://localhost:8080/",
          "height": 17
        },
        "outputId": "e078c88b-e9b2-4819-d2e8-feb28dd7b200"
      },
      "source": [
        "model = FlickrNet(\n",
        "    vocab_size=len(vocab),\n",
        "    embedding_dim=EMBEDDING_DIM,\n",
        "    hidden_size=LSTM_HIDDEN_SIZE,\n",
        "    padding_idx=vocab[PAD_TOKEN],\n",
        "    start_token_index=vocab[START_TOKEN],\n",
        "    end_token_index=vocab[END_TOKEN],           \n",
        "    unk_token_index=vocab[UNK_TOKEN],\n",
        "    bidirectional=False,\n",
        "    dropout=0,\n",
        "    freeze=True\n",
        "    ).cuda()\n",
        "\n",
        "loss_function = nn.CrossEntropyLoss(reduction='mean').cuda()\n",
        "\n",
        "optimizer = torch.optim.AdamW(model.parameters(), lr=10e-4,weight_decay=10e-2)"
      ],
      "execution_count": null,
      "outputs": [
        {
          "output_type": "display_data",
          "data": {
            "text/html": [
              "\n",
              "        <style>\n",
              "            .jupyter-widgets {color: #d5d5d5 !important;}\n",
              "            .widget-label {color: #d5d5d5 !important;}\n",
              "        </style>\n",
              "    "
            ],
            "text/plain": [
              "<IPython.core.display.HTML object>"
            ]
          },
          "metadata": {
            "tags": []
          }
        },
        {
          "output_type": "display_data",
          "data": {
            "text/html": [
              "\n",
              "        <style>\n",
              "            .jupyter-widgets {color: #d5d5d5 !important;}\n",
              "            .widget-label {color: #d5d5d5 !important;}\n",
              "        </style>\n",
              "    "
            ],
            "text/plain": [
              "<IPython.core.display.HTML object>"
            ]
          },
          "metadata": {
            "tags": []
          }
        },
        {
          "output_type": "display_data",
          "data": {
            "text/html": [
              "\n",
              "        <style>\n",
              "            .jupyter-widgets {color: #d5d5d5 !important;}\n",
              "            .widget-label {color: #d5d5d5 !important;}\n",
              "        </style>\n",
              "    "
            ],
            "text/plain": [
              "<IPython.core.display.HTML object>"
            ]
          },
          "metadata": {
            "tags": []
          }
        },
        {
          "output_type": "display_data",
          "data": {
            "text/html": [
              "\n",
              "        <style>\n",
              "            .jupyter-widgets {color: #d5d5d5 !important;}\n",
              "            .widget-label {color: #d5d5d5 !important;}\n",
              "        </style>\n",
              "    "
            ],
            "text/plain": [
              "<IPython.core.display.HTML object>"
            ]
          },
          "metadata": {
            "tags": []
          }
        },
        {
          "output_type": "display_data",
          "data": {
            "text/html": [
              "\n",
              "        <style>\n",
              "            .jupyter-widgets {color: #d5d5d5 !important;}\n",
              "            .widget-label {color: #d5d5d5 !important;}\n",
              "        </style>\n",
              "    "
            ],
            "text/plain": [
              "<IPython.core.display.HTML object>"
            ]
          },
          "metadata": {
            "tags": []
          }
        },
        {
          "output_type": "display_data",
          "data": {
            "text/html": [
              "\n",
              "        <style>\n",
              "            .jupyter-widgets {color: #d5d5d5 !important;}\n",
              "            .widget-label {color: #d5d5d5 !important;}\n",
              "        </style>\n",
              "    "
            ],
            "text/plain": [
              "<IPython.core.display.HTML object>"
            ]
          },
          "metadata": {
            "tags": []
          }
        },
        {
          "output_type": "display_data",
          "data": {
            "text/html": [
              "\n",
              "        <style>\n",
              "            .jupyter-widgets {color: #d5d5d5 !important;}\n",
              "            .widget-label {color: #d5d5d5 !important;}\n",
              "        </style>\n",
              "    "
            ],
            "text/plain": [
              "<IPython.core.display.HTML object>"
            ]
          },
          "metadata": {
            "tags": []
          }
        },
        {
          "output_type": "display_data",
          "data": {
            "text/html": [
              "\n",
              "        <style>\n",
              "            .jupyter-widgets {color: #d5d5d5 !important;}\n",
              "            .widget-label {color: #d5d5d5 !important;}\n",
              "        </style>\n",
              "    "
            ],
            "text/plain": [
              "<IPython.core.display.HTML object>"
            ]
          },
          "metadata": {
            "tags": []
          }
        }
      ]
    },
    {
      "cell_type": "code",
      "metadata": {
        "id": "jz81hwu68lKm",
        "colab": {
          "base_uri": "https://localhost:8080/",
          "height": 17
        },
        "outputId": "6a50ab4d-25ef-42e6-ac06-408bbd40a498"
      },
      "source": [
        "# Set the tqdm text color to white.\n",
        "\n",
        "from IPython.display import HTML, display\n",
        "\n",
        "def set_css_in_cell_output():\n",
        "    display(HTML('''\n",
        "        <style>\n",
        "            .jupyter-widgets {color: #d5d5d5 !important;}\n",
        "            .widget-label {color: #d5d5d5 !important;}\n",
        "        </style>\n",
        "    '''))\n",
        "\n",
        "get_ipython().events.register('pre_run_cell', set_css_in_cell_output)"
      ],
      "execution_count": null,
      "outputs": [
        {
          "output_type": "display_data",
          "data": {
            "text/html": [
              "\n",
              "        <style>\n",
              "            .jupyter-widgets {color: #d5d5d5 !important;}\n",
              "            .widget-label {color: #d5d5d5 !important;}\n",
              "        </style>\n",
              "    "
            ],
            "text/plain": [
              "<IPython.core.display.HTML object>"
            ]
          },
          "metadata": {
            "tags": []
          }
        },
        {
          "output_type": "display_data",
          "data": {
            "text/html": [
              "\n",
              "        <style>\n",
              "            .jupyter-widgets {color: #d5d5d5 !important;}\n",
              "            .widget-label {color: #d5d5d5 !important;}\n",
              "        </style>\n",
              "    "
            ],
            "text/plain": [
              "<IPython.core.display.HTML object>"
            ]
          },
          "metadata": {
            "tags": []
          }
        },
        {
          "output_type": "display_data",
          "data": {
            "text/html": [
              "\n",
              "        <style>\n",
              "            .jupyter-widgets {color: #d5d5d5 !important;}\n",
              "            .widget-label {color: #d5d5d5 !important;}\n",
              "        </style>\n",
              "    "
            ],
            "text/plain": [
              "<IPython.core.display.HTML object>"
            ]
          },
          "metadata": {
            "tags": []
          }
        },
        {
          "output_type": "display_data",
          "data": {
            "text/html": [
              "\n",
              "        <style>\n",
              "            .jupyter-widgets {color: #d5d5d5 !important;}\n",
              "            .widget-label {color: #d5d5d5 !important;}\n",
              "        </style>\n",
              "    "
            ],
            "text/plain": [
              "<IPython.core.display.HTML object>"
            ]
          },
          "metadata": {
            "tags": []
          }
        },
        {
          "output_type": "display_data",
          "data": {
            "text/html": [
              "\n",
              "        <style>\n",
              "            .jupyter-widgets {color: #d5d5d5 !important;}\n",
              "            .widget-label {color: #d5d5d5 !important;}\n",
              "        </style>\n",
              "    "
            ],
            "text/plain": [
              "<IPython.core.display.HTML object>"
            ]
          },
          "metadata": {
            "tags": []
          }
        },
        {
          "output_type": "display_data",
          "data": {
            "text/html": [
              "\n",
              "        <style>\n",
              "            .jupyter-widgets {color: #d5d5d5 !important;}\n",
              "            .widget-label {color: #d5d5d5 !important;}\n",
              "        </style>\n",
              "    "
            ],
            "text/plain": [
              "<IPython.core.display.HTML object>"
            ]
          },
          "metadata": {
            "tags": []
          }
        },
        {
          "output_type": "display_data",
          "data": {
            "text/html": [
              "\n",
              "        <style>\n",
              "            .jupyter-widgets {color: #d5d5d5 !important;}\n",
              "            .widget-label {color: #d5d5d5 !important;}\n",
              "        </style>\n",
              "    "
            ],
            "text/plain": [
              "<IPython.core.display.HTML object>"
            ]
          },
          "metadata": {
            "tags": []
          }
        },
        {
          "output_type": "display_data",
          "data": {
            "text/html": [
              "\n",
              "        <style>\n",
              "            .jupyter-widgets {color: #d5d5d5 !important;}\n",
              "            .widget-label {color: #d5d5d5 !important;}\n",
              "        </style>\n",
              "    "
            ],
            "text/plain": [
              "<IPython.core.display.HTML object>"
            ]
          },
          "metadata": {
            "tags": []
          }
        }
      ]
    },
    {
      "cell_type": "code",
      "metadata": {
        "id": "_BFGjE_IN9rP",
        "colab": {
          "base_uri": "https://localhost:8080/",
          "height": 434,
          "referenced_widgets": [
            "f023c7c9ae614fbdae143d050724b4a3",
            "07c622041a9b4ee88f550c55247a2e54",
            "7acda2f674654421a2b01bbc395a9f79",
            "de4eb89d75fc4fe9b0872573389f730d",
            "95b9e6daea0f4f06855cf3e4ebb1f77d",
            "2a586c72c6cd43d995299805dce00ae4",
            "a962503d0e694dffa3fac05a0a30a17d",
            "5ead5a1da3b340a3a8873726eea9bdcb",
            "b764d808140c4cb9b4a5edfe161d01c1",
            "3be75ad2e561473bb28a41dc32e054c9",
            "4e5871b680b34ed1969740bbfc50f8a9",
            "7e1e4462f23645bfaabadf4d8441d6ef",
            "79d5547c9603442f8dd59271dcacb63f",
            "e486b663ae0c40ba8bb410e1f1bfe615",
            "b6865202a8de4265b11094a6f9559910",
            "27dfb7601486494f80db28a0055cbdeb",
            "5495cdef83c743ec9b37fe451fced9cc",
            "004262b3b6764452b346e053e0cd6256",
            "ca02bce9763047089644058ba60be35d",
            "056558398f4145c2aa4d46f1a8e3ce1d",
            "ada399751f304375ae957ffb4569d6b9",
            "55aa452ed73d4b91bd26f2f017d37c69",
            "7ceb12ccac6c45a89402db01a9184acb",
            "bfbb38e93aeb4dc38388ae7d9c06879d",
            "894047ed6c9f4eb4b0bb607df150615d",
            "90458efbb6e644eea0f68c1b21e907c1",
            "f9dffee687874277b0c7c85450172b0a",
            "364ae22919c740be976d1b3c48194efa",
            "50bae29c0a334214bfd3950533e898fc",
            "0cb1abc19c5246d2814abde55eed5de2",
            "e0bac61e60404cc6ae599b5d416de340",
            "245db4d9b04848adad5fbfbdb515af98",
            "4b5661e2a6a24007a1f7dfe1b3261c91",
            "b001e9e0adb64009a428a928445bf65f",
            "f0ddc459d49e4d209905053ed2f2f015",
            "4093e60d4204427b8ed312f51664a9c3",
            "c43b5f2804004a30b5e4b8850fbe5aa1",
            "d1e5998d5a0b44fb907782e85813462c",
            "d1dc6d5e97914c669182715515bf6890",
            "0776e58a28b04d0485260dce96cefcbf",
            "82f01340b5a142f1b58f64a8b135c649",
            "9e21640d3d4440a29b874657bf431eb6",
            "7e4bcea3123b42b892309868b3176d95",
            "3068d78c963c4864834dba7563a66e6b",
            "d787b801912b4c9e8fac029db2c9fe3e",
            "734c26f3b71c4e458badfbda9d24b254",
            "1660b7b4ce664e2d8ad2fd288509091a",
            "1fd5fdf2f20846e48405d10ed2023d2e",
            "4176cfa4d42442dd9452df7d1a54b7f3",
            "b785042a27c2420a80c50dc685a45902",
            "556c9cb0cadc4ebeb6cd1ab34d952be1",
            "df779e37406647cc8e0a7a3ce79c424d",
            "a27ea3bc946949269fe9bccd82750037",
            "8d53619199074f55bc7e26fb5b85179d",
            "ae484fd940cb401bb82a23f771de3960",
            "c10dc262e1e646b09f2f6080810f50fe",
            "a26710332b6146dbb5dffc9f35c91c86",
            "c9499d5e42e44780b97f6fbb01df3c40",
            "6748ee3d629e4cff87ac08c076aa0b8b",
            "f2007268c2d6405b97b005432e59c5e7",
            "dc557f33e91f43e8ba74ebda8fbabfe5",
            "d9e67e27e690486c93ae544e077774e0",
            "1c5ff8c9bb6c45718e9a3f0b6c2f591a",
            "d98c31d0d25d4434b2564f189d35e9e9",
            "236eab331a624197984727d54d68772d",
            "d10a0f745ec04aaaa7e9ee303d999695",
            "7e5930e41da8474b80de6d4560dbbeb9",
            "268e20d77b99418082ab3cdd77ca7175",
            "686678eeaa3249a880a01b8669c2152b",
            "a7d42f0800a040729e100142be8b971f",
            "4d37452b2bff46ffacc1acd3200c69d0",
            "439f40d294584ec0bc82aaec23231d6f",
            "2f54f2d0e52149f188b8e0fdae45347b",
            "69013b3a353443b4910413f69e3fc429",
            "df83a19d80c2401e9fd1b3396b7ec47c",
            "05a69ca9adca490fb149f11b9eb6071f",
            "cf89bd4f1d614af6962e352abf45f954",
            "4eed4f0da92041a1852e94d76a0697a4",
            "a1d33a99a06e43cb9005709a5503f953",
            "f7dab1e711cd4335b87ba671a44a9e0a",
            "653d4fcd49b94728aa0b8f3174a62de0",
            "2ce53f5bca02479797cb4de6dcbc3980",
            "192c5c5c399c45cba37df34e0c6aa2c8",
            "04c36dc3d087417b8c5d4a6b5280f811",
            "f189057321b845a9bc7be27b885ef311",
            "fc5c14b9e5664b70bd909d68a4983cd5",
            "532cfecb76cc44ef930ec47c4dc4642d",
            "8aad90af0c464e36ade8e820ce012b3a",
            "a1bb60091fb14214a74576ff3e8cc675",
            "4b899a721f26409d90d947d0a86e177b",
            "f16d266428e944489f114d2dc56045a7",
            "7b416fda83974100a9087ae7ed17bd37",
            "847cb1e5cbc34d03a644c8eafddf5501",
            "632076a56a4843ec8aea54cb490072a6",
            "7078b2cb2a7d4d14be3fedb1cd3ab18a",
            "6df19a790fa940ff92f838003630143c",
            "1bb70a7e1cf34cd3a6c0058f532e8164",
            "27acd1a8a0d844ea943df53a41255d3a",
            "5dfb582090674d3e8a0661704d83d644",
            "b8669b70a7cd4b14ad8632325f24fe95",
            "d0e253282a31476588b1b1449a828c4d",
            "bcb5041456c1439995f33a6b653b0da7",
            "32f9eb036c7f41c48bdadc0c5ea8cb80",
            "7ba43c62e4964028900e6aad01ff09ee",
            "d194517c581e40aaa1bbd18921ef18f1",
            "469c724177534a338b6c358969d00a06",
            "a22d3a13f6ca425780589307c2df92ee",
            "8e6cb851c9694e748832053eb880b566",
            "2da78e7f73de4823830885293cf1d906",
            "fd9dc46f0e9f45379541ab8ab02350cf",
            "dc2c9a6a75c04a52827ccf42dd4af427",
            "19627030d9a24f8e889c9bce935d2e0a"
          ]
        },
        "outputId": "42038da1-282e-4b19-e120-2cbc067d3979"
      },
      "source": [
        "part_a_info = train(model, optimizer, loss_function, train_loader, test_loader, \"part_a\",max_epochs=MAX_EPOCHS)"
      ],
      "execution_count": null,
      "outputs": [
        {
          "output_type": "display_data",
          "data": {
            "text/html": [
              "\n",
              "        <style>\n",
              "            .jupyter-widgets {color: #d5d5d5 !important;}\n",
              "            .widget-label {color: #d5d5d5 !important;}\n",
              "        </style>\n",
              "    "
            ],
            "text/plain": [
              "<IPython.core.display.HTML object>"
            ]
          },
          "metadata": {
            "tags": []
          }
        },
        {
          "output_type": "display_data",
          "data": {
            "text/html": [
              "\n",
              "        <style>\n",
              "            .jupyter-widgets {color: #d5d5d5 !important;}\n",
              "            .widget-label {color: #d5d5d5 !important;}\n",
              "        </style>\n",
              "    "
            ],
            "text/plain": [
              "<IPython.core.display.HTML object>"
            ]
          },
          "metadata": {
            "tags": []
          }
        },
        {
          "output_type": "display_data",
          "data": {
            "text/html": [
              "\n",
              "        <style>\n",
              "            .jupyter-widgets {color: #d5d5d5 !important;}\n",
              "            .widget-label {color: #d5d5d5 !important;}\n",
              "        </style>\n",
              "    "
            ],
            "text/plain": [
              "<IPython.core.display.HTML object>"
            ]
          },
          "metadata": {
            "tags": []
          }
        },
        {
          "output_type": "display_data",
          "data": {
            "text/html": [
              "\n",
              "        <style>\n",
              "            .jupyter-widgets {color: #d5d5d5 !important;}\n",
              "            .widget-label {color: #d5d5d5 !important;}\n",
              "        </style>\n",
              "    "
            ],
            "text/plain": [
              "<IPython.core.display.HTML object>"
            ]
          },
          "metadata": {
            "tags": []
          }
        },
        {
          "output_type": "display_data",
          "data": {
            "text/html": [
              "\n",
              "        <style>\n",
              "            .jupyter-widgets {color: #d5d5d5 !important;}\n",
              "            .widget-label {color: #d5d5d5 !important;}\n",
              "        </style>\n",
              "    "
            ],
            "text/plain": [
              "<IPython.core.display.HTML object>"
            ]
          },
          "metadata": {
            "tags": []
          }
        },
        {
          "output_type": "display_data",
          "data": {
            "text/html": [
              "\n",
              "        <style>\n",
              "            .jupyter-widgets {color: #d5d5d5 !important;}\n",
              "            .widget-label {color: #d5d5d5 !important;}\n",
              "        </style>\n",
              "    "
            ],
            "text/plain": [
              "<IPython.core.display.HTML object>"
            ]
          },
          "metadata": {
            "tags": []
          }
        },
        {
          "output_type": "display_data",
          "data": {
            "text/html": [
              "\n",
              "        <style>\n",
              "            .jupyter-widgets {color: #d5d5d5 !important;}\n",
              "            .widget-label {color: #d5d5d5 !important;}\n",
              "        </style>\n",
              "    "
            ],
            "text/plain": [
              "<IPython.core.display.HTML object>"
            ]
          },
          "metadata": {
            "tags": []
          }
        },
        {
          "output_type": "display_data",
          "data": {
            "text/html": [
              "\n",
              "        <style>\n",
              "            .jupyter-widgets {color: #d5d5d5 !important;}\n",
              "            .widget-label {color: #d5d5d5 !important;}\n",
              "        </style>\n",
              "    "
            ],
            "text/plain": [
              "<IPython.core.display.HTML object>"
            ]
          },
          "metadata": {
            "tags": []
          }
        },
        {
          "output_type": "display_data",
          "data": {
            "text/html": [
              "\n",
              "        <style>\n",
              "            .jupyter-widgets {color: #d5d5d5 !important;}\n",
              "            .widget-label {color: #d5d5d5 !important;}\n",
              "        </style>\n",
              "    "
            ],
            "text/plain": [
              "<IPython.core.display.HTML object>"
            ]
          },
          "metadata": {
            "tags": []
          }
        },
        {
          "output_type": "display_data",
          "data": {
            "application/vnd.jupyter.widget-view+json": {
              "model_id": "f023c7c9ae614fbdae143d050724b4a3",
              "version_minor": 0,
              "version_major": 2
            },
            "text/plain": [
              "HBox(children=(FloatProgress(value=0.0, description='Epoch: 1', max=114.0, style=ProgressStyle(description_wid…"
            ]
          },
          "metadata": {
            "tags": []
          }
        },
        {
          "output_type": "stream",
          "text": [
            "Epoch: 1\t Train Loss: 3.007\t Test Loss: 2.164\n"
          ],
          "name": "stdout"
        },
        {
          "output_type": "display_data",
          "data": {
            "application/vnd.jupyter.widget-view+json": {
              "model_id": "b764d808140c4cb9b4a5edfe161d01c1",
              "version_minor": 0,
              "version_major": 2
            },
            "text/plain": [
              "HBox(children=(FloatProgress(value=0.0, description='Epoch: 2', max=114.0, style=ProgressStyle(description_wid…"
            ]
          },
          "metadata": {
            "tags": []
          }
        },
        {
          "output_type": "stream",
          "text": [
            "Epoch: 2\t Train Loss: 2.140\t Test Loss: 2.022\n"
          ],
          "name": "stdout"
        },
        {
          "output_type": "display_data",
          "data": {
            "application/vnd.jupyter.widget-view+json": {
              "model_id": "5495cdef83c743ec9b37fe451fced9cc",
              "version_minor": 0,
              "version_major": 2
            },
            "text/plain": [
              "HBox(children=(FloatProgress(value=0.0, description='Epoch: 3', max=114.0, style=ProgressStyle(description_wid…"
            ]
          },
          "metadata": {
            "tags": []
          }
        },
        {
          "output_type": "stream",
          "text": [
            "Epoch: 3\t Train Loss: 1.969\t Test Loss: 1.846\n"
          ],
          "name": "stdout"
        },
        {
          "output_type": "display_data",
          "data": {
            "application/vnd.jupyter.widget-view+json": {
              "model_id": "894047ed6c9f4eb4b0bb607df150615d",
              "version_minor": 0,
              "version_major": 2
            },
            "text/plain": [
              "HBox(children=(FloatProgress(value=0.0, description='Epoch: 4', max=114.0, style=ProgressStyle(description_wid…"
            ]
          },
          "metadata": {
            "tags": []
          }
        },
        {
          "output_type": "stream",
          "text": [
            "Epoch: 4\t Train Loss: 1.828\t Test Loss: 1.759\n"
          ],
          "name": "stdout"
        },
        {
          "output_type": "display_data",
          "data": {
            "application/vnd.jupyter.widget-view+json": {
              "model_id": "4b5661e2a6a24007a1f7dfe1b3261c91",
              "version_minor": 0,
              "version_major": 2
            },
            "text/plain": [
              "HBox(children=(FloatProgress(value=0.0, description='Epoch: 5', max=114.0, style=ProgressStyle(description_wid…"
            ]
          },
          "metadata": {
            "tags": []
          }
        },
        {
          "output_type": "stream",
          "text": [
            "Epoch: 5\t Train Loss: 1.741\t Test Loss: 1.681\n",
            "#########################\n",
            "### Original: <SOS> child at water park is sprayed from all sides by ring of water <EOS>\n",
            "### Generated: <SOS> man in red shirt is standing on the beach <EOS> <PAD> <PAD> <PAD> <PAD> <PAD> <PAD> <PAD> <PAD> <PAD> <PAD> <PAD> <PAD> <PAD> <PAD> <PAD> <PAD> <PAD> <PAD> <PAD>\n",
            "#########################\n"
          ],
          "name": "stdout"
        },
        {
          "output_type": "display_data",
          "data": {
            "application/vnd.jupyter.widget-view+json": {
              "model_id": "82f01340b5a142f1b58f64a8b135c649",
              "version_minor": 0,
              "version_major": 2
            },
            "text/plain": [
              "HBox(children=(FloatProgress(value=0.0, description='Epoch: 6', max=114.0, style=ProgressStyle(description_wid…"
            ]
          },
          "metadata": {
            "tags": []
          }
        },
        {
          "output_type": "stream",
          "text": [
            "Epoch: 6\t Train Loss: 1.677\t Test Loss: 1.628\n"
          ],
          "name": "stdout"
        },
        {
          "output_type": "display_data",
          "data": {
            "application/vnd.jupyter.widget-view+json": {
              "model_id": "4176cfa4d42442dd9452df7d1a54b7f3",
              "version_minor": 0,
              "version_major": 2
            },
            "text/plain": [
              "HBox(children=(FloatProgress(value=0.0, description='Epoch: 7', max=114.0, style=ProgressStyle(description_wid…"
            ]
          },
          "metadata": {
            "tags": []
          }
        },
        {
          "output_type": "stream",
          "text": [
            "Epoch: 7\t Train Loss: 1.642\t Test Loss: 1.646\n"
          ],
          "name": "stdout"
        },
        {
          "output_type": "display_data",
          "data": {
            "application/vnd.jupyter.widget-view+json": {
              "model_id": "a26710332b6146dbb5dffc9f35c91c86",
              "version_minor": 0,
              "version_major": 2
            },
            "text/plain": [
              "HBox(children=(FloatProgress(value=0.0, description='Epoch: 8', max=114.0, style=ProgressStyle(description_wid…"
            ]
          },
          "metadata": {
            "tags": []
          }
        },
        {
          "output_type": "stream",
          "text": [
            "Epoch: 8\t Train Loss: 1.590\t Test Loss: 1.572\n"
          ],
          "name": "stdout"
        },
        {
          "output_type": "display_data",
          "data": {
            "application/vnd.jupyter.widget-view+json": {
              "model_id": "236eab331a624197984727d54d68772d",
              "version_minor": 0,
              "version_major": 2
            },
            "text/plain": [
              "HBox(children=(FloatProgress(value=0.0, description='Epoch: 9', max=114.0, style=ProgressStyle(description_wid…"
            ]
          },
          "metadata": {
            "tags": []
          }
        },
        {
          "output_type": "stream",
          "text": [
            "Epoch: 9\t Train Loss: 1.563\t Test Loss: 1.562\n"
          ],
          "name": "stdout"
        },
        {
          "output_type": "display_data",
          "data": {
            "application/vnd.jupyter.widget-view+json": {
              "model_id": "2f54f2d0e52149f188b8e0fdae45347b",
              "version_minor": 0,
              "version_major": 2
            },
            "text/plain": [
              "HBox(children=(FloatProgress(value=0.0, description='Epoch: 10', max=114.0, style=ProgressStyle(description_wi…"
            ]
          },
          "metadata": {
            "tags": []
          }
        },
        {
          "output_type": "stream",
          "text": [
            "Epoch: 10\t Train Loss: 1.535\t Test Loss: 1.548\n",
            "#########################\n",
            "### Original: <SOS> jogger wears robot hat <EOS>\n",
            "### Generated: <SOS> man in blue shirt is riding bike on the beach <EOS> <PAD> <PAD> <PAD> <PAD> <PAD> <PAD> <PAD> <PAD> <PAD> <PAD> <PAD> <PAD> <PAD> <PAD> <PAD> <PAD> <PAD> <PAD>\n",
            "#########################\n"
          ],
          "name": "stdout"
        },
        {
          "output_type": "display_data",
          "data": {
            "application/vnd.jupyter.widget-view+json": {
              "model_id": "653d4fcd49b94728aa0b8f3174a62de0",
              "version_minor": 0,
              "version_major": 2
            },
            "text/plain": [
              "HBox(children=(FloatProgress(value=0.0, description='Epoch: 11', max=114.0, style=ProgressStyle(description_wi…"
            ]
          },
          "metadata": {
            "tags": []
          }
        },
        {
          "output_type": "stream",
          "text": [
            "Epoch: 11\t Train Loss: 1.527\t Test Loss: 1.520\n"
          ],
          "name": "stdout"
        },
        {
          "output_type": "display_data",
          "data": {
            "application/vnd.jupyter.widget-view+json": {
              "model_id": "a1bb60091fb14214a74576ff3e8cc675",
              "version_minor": 0,
              "version_major": 2
            },
            "text/plain": [
              "HBox(children=(FloatProgress(value=0.0, description='Epoch: 12', max=114.0, style=ProgressStyle(description_wi…"
            ]
          },
          "metadata": {
            "tags": []
          }
        },
        {
          "output_type": "stream",
          "text": [
            "Epoch: 12\t Train Loss: 1.490\t Test Loss: 1.490\n"
          ],
          "name": "stdout"
        },
        {
          "output_type": "display_data",
          "data": {
            "application/vnd.jupyter.widget-view+json": {
              "model_id": "1bb70a7e1cf34cd3a6c0058f532e8164",
              "version_minor": 0,
              "version_major": 2
            },
            "text/plain": [
              "HBox(children=(FloatProgress(value=0.0, description='Epoch: 13', max=114.0, style=ProgressStyle(description_wi…"
            ]
          },
          "metadata": {
            "tags": []
          }
        },
        {
          "output_type": "stream",
          "text": [
            "Epoch: 13\t Train Loss: 1.468\t Test Loss: 1.484\n"
          ],
          "name": "stdout"
        },
        {
          "output_type": "display_data",
          "data": {
            "application/vnd.jupyter.widget-view+json": {
              "model_id": "d194517c581e40aaa1bbd18921ef18f1",
              "version_minor": 0,
              "version_major": 2
            },
            "text/plain": [
              "HBox(children=(FloatProgress(value=0.0, description='Epoch: 14', max=114.0, style=ProgressStyle(description_wi…"
            ]
          },
          "metadata": {
            "tags": []
          }
        }
      ]
    },
    {
      "cell_type": "markdown",
      "metadata": {
        "id": "zA_8iQ4o_oAy"
      },
      "source": [
        "### Defining Visualizatio Methods"
      ]
    },
    {
      "cell_type": "code",
      "metadata": {
        "id": "O-X9PzaA_nhN"
      },
      "source": [
        "test_indices = np.random.choice(np.arange(len(test_dataset)), size=(3,))"
      ],
      "execution_count": null,
      "outputs": []
    },
    {
      "cell_type": "code",
      "metadata": {
        "id": "pRLafShANr5e"
      },
      "source": [
        "def visualize_model(model, folder, info):\n",
        "  dataset.test_time = True\n",
        "  for idx in test_indices:\n",
        "    image, captions = test_dataset[idx]\n",
        "    lengths = [len(preprocess_text(c)) for c in captions]\n",
        "    image = np.array(image)\n",
        "    input = np.moveaxis(image, -1, 0)\n",
        "    input = torch.tensor(input, requires_grad=False, dtype=torch.float).cuda()\n",
        "    # Maximum length of prediction should be between min and max!\n",
        "    max_length=(max(lengths) + min(lengths))//2\n",
        "    pred = model.predict(input.unsqueeze(0), max_len=max_length)\n",
        "    \n",
        "    h, w, c = image.shape\n",
        "    aspect = w / h\n",
        "    eps = 0.05\n",
        "    figsize = (12, 5)\n",
        "    fig, axes = plt.subplots(1,2,figsize=figsize, gridspec_kw={\"height_ratios\": [1], \n",
        "                                                               \"width_ratios\":  [1, 1]})\n",
        "    # Showing text\n",
        "    ax = axes[0]\n",
        "    ax.axis('off')\n",
        "    words = [id2word[p] for p in pred]\n",
        "    pred_sentence = \"Predicted:\\n\" + \" \".join(\n",
        "        [w for w in words if w not in [UNK_TOKEN, PAD_TOKEN, START_TOKEN, END_TOKEN]]\n",
        "        )\n",
        "    originals = \"Original Captions:\\n\" + \"\\n\\n\".join([f\"{idx+1}. {c}\" for idx, c in enumerate(captions)])\n",
        "    text = pred_sentence + \"\\n\\n\" + originals\n",
        "    wrapper = textwrap.TextWrapper(width=70, \n",
        "                                   replace_whitespace=True, \n",
        "                                   drop_whitespace=True,\n",
        "                                   tabsize=4, expand_tabs=False, \n",
        "                                   fix_sentence_endings=True)\n",
        "    text = \"\\n\".join([wrapper.fill(t) for t in text.splitlines()])\n",
        "    t = ax.text(0, 0.5, text,\n",
        "      horizontalalignment='left',\n",
        "      verticalalignment='center',\n",
        "      transform = ax.transAxes,\n",
        "      wrap=True)\n",
        "\n",
        "    # Showing Image\n",
        "    ax = axes[1]\n",
        "    ax.axis('off')\n",
        "    ax.imshow(image)\n",
        "\n",
        "    plt.savefig(os.path.join(folder, f\"{idx+1}.png\"))\n",
        "\n",
        "  # It's important to revert the dataset back to where it was\n",
        "  dataset.test_time = False\n",
        "\n",
        "  info_df = pd.DataFrame(info)\n",
        "  fig, ax = plt.subplots(figsize=(7,7))\n",
        "\n",
        "  ax.plot(info_df[\"train_loss\"], c=\"seagreen\", label=\"Train Loss\")\n",
        "  ax.plot(info_df[\"val_loss\"], c=\"firebrick\", label=\"Val Loss\")\n",
        "  ax.legend()\n",
        "  plt.savefig(os.path.join(folder, f\"train_val_loss.png\"))\n",
        "  "
      ],
      "execution_count": null,
      "outputs": []
    },
    {
      "cell_type": "markdown",
      "metadata": {
        "id": "DeICvvHag-iK"
      },
      "source": [
        "### Plot Part A"
      ]
    },
    {
      "cell_type": "code",
      "metadata": {
        "id": "UjQ6T8hMAGYc"
      },
      "source": [
        "part_a_path = \"part_a_result\"\n",
        "if not os.path.isdir(part_a_path):\n",
        "  os.mkdir(part_a_path)\n",
        "\n",
        "visualize_model(model, part_a_path, part_a_info)"
      ],
      "execution_count": null,
      "outputs": []
    },
    {
      "cell_type": "markdown",
      "metadata": {
        "id": "w2-MGm0neqU_"
      },
      "source": [
        "## Train Part B\n",
        "\n",
        "In this part we unfreeze the resnet layers"
      ]
    },
    {
      "cell_type": "code",
      "metadata": {
        "id": "ly0iMppxep9J"
      },
      "source": [
        "model = FlickrNet(\n",
        "    vocab_size=len(vocab),\n",
        "    embedding_dim=EMBEDDING_DIM,\n",
        "    hidden_size=LSTM_HIDDEN_SIZE,\n",
        "    padding_idx=vocab[PAD_TOKEN],\n",
        "    start_token_index=vocab[START_TOKEN],\n",
        "    end_token_index=vocab[END_TOKEN],           \n",
        "    unk_token_index=vocab[UNK_TOKEN],\n",
        "    bidirectional=False,\n",
        "    dropout=0,\n",
        "    freeze=False,\n",
        "    ).cuda()\n",
        "\n",
        "loss_function = nn.CrossEntropyLoss(reduction='mean').cuda()\n",
        "\n",
        "optimizer = torch.optim.Adam(model.parameters(), lr=10e-5,weight_decay=10e-5)\n",
        "\n",
        "torch.cuda.empty_cache()"
      ],
      "execution_count": null,
      "outputs": []
    },
    {
      "cell_type": "code",
      "metadata": {
        "id": "jhWmBXnbhNn4"
      },
      "source": [
        "part_b_info = train(model, optimizer, loss_function, train_loader, test_loader, \"part_b\", max_epochs=MAX_EPOCHS)"
      ],
      "execution_count": null,
      "outputs": []
    },
    {
      "cell_type": "code",
      "metadata": {
        "id": "IZRvBXNRhWMQ"
      },
      "source": [
        "part_b_path = \"part_b_result\"\n",
        "if not os.path.isdir(part_b_path):\n",
        "  os.mkdir(part_b_path)\n",
        "\n",
        "visualize_model(model, part_b_path, part_b_info)"
      ],
      "execution_count": null,
      "outputs": []
    },
    {
      "cell_type": "markdown",
      "metadata": {
        "id": "Z69viV13hzdc"
      },
      "source": [
        "### Part C\n",
        "\n",
        "In this part we use a bidirectional LSTM but with Freezing"
      ]
    },
    {
      "cell_type": "code",
      "metadata": {
        "id": "Py2e7-0shx67"
      },
      "source": [
        "model = FlickrNet(\n",
        "    vocab_size=len(vocab),\n",
        "    embedding_dim=EMBEDDING_DIM,\n",
        "    hidden_size=LSTM_HIDDEN_SIZE,\n",
        "    padding_idx=vocab[PAD_TOKEN],\n",
        "    start_token_index=vocab[START_TOKEN],\n",
        "    end_token_index=vocab[END_TOKEN],           \n",
        "    unk_token_index=vocab[UNK_TOKEN],\n",
        "    bidirectional=False,\n",
        "    dropout=0,\n",
        "    freeze=True,\n",
        "    ).cuda()\n",
        "\n",
        "loss_function = nn.CrossEntropyLoss(reduction='mean').cuda()\n",
        "\n",
        "optimizer = torch.optim.Adam(model.parameters(), lr=10e-3,weight_decay=10e-3)\n",
        "\n",
        "torch.cuda.empty_cache()"
      ],
      "execution_count": null,
      "outputs": []
    },
    {
      "cell_type": "code",
      "metadata": {
        "id": "iZCU79quhx68"
      },
      "source": [
        "part_c_info = train(model, optimizer, loss_function, train_loader, test_loader, \"part_c\", max_epochs=MAX_EPOCHS)"
      ],
      "execution_count": null,
      "outputs": []
    },
    {
      "cell_type": "code",
      "metadata": {
        "id": "wsLZI0g3hx68"
      },
      "source": [
        "part_c_path = \"part_c_result\"\n",
        "if not os.path.isdir(part_c_path):\n",
        "  os.mkdir(part_c_path)\n",
        "\n",
        "visualize_model(model, part_c_path, part_c_info)"
      ],
      "execution_count": null,
      "outputs": []
    },
    {
      "cell_type": "markdown",
      "metadata": {
        "id": "XjBqYm8_iVVa"
      },
      "source": [
        "### Part D\n",
        "\n",
        "In this part we use a bidirectional LSTM but without freezing resnet layers"
      ]
    },
    {
      "cell_type": "code",
      "metadata": {
        "id": "7FhsQIZiiagU"
      },
      "source": [
        "model = FlickrNet(\n",
        "    vocab_size=len(vocab),\n",
        "    embedding_dim=EMBEDDING_DIM,\n",
        "    hidden_size=LSTM_HIDDEN_SIZE,\n",
        "    padding_idx=vocab[PAD_TOKEN],\n",
        "    start_token_index=vocab[START_TOKEN],\n",
        "    end_token_index=vocab[END_TOKEN],           \n",
        "    unk_token_index=vocab[UNK_TOKEN],\n",
        "    bidirectional=False,\n",
        "    dropout=0,\n",
        "    freeze=False,\n",
        "    ).cuda()\n",
        "\n",
        "loss_function = nn.CrossEntropyLoss(reduction='mean').cuda()\n",
        "\n",
        "optimizer = torch.optim.Adam(model.parameters(), lr=10e-5,weight_decay=10e-5)\n",
        "\n",
        "torch.cuda.empty_cache()"
      ],
      "execution_count": null,
      "outputs": []
    },
    {
      "cell_type": "code",
      "metadata": {
        "id": "FNF6rwi-iagV"
      },
      "source": [
        "part_d_info = train(model, optimizer, loss_function, train_loader, test_loader, \"part_d\", max_epochs=MAX_EPOCHS)"
      ],
      "execution_count": null,
      "outputs": []
    },
    {
      "cell_type": "code",
      "metadata": {
        "id": "TlU6D1VuiagV"
      },
      "source": [
        "part_d_path = \"part_d_result\"\n",
        "if not os.path.isdir(part_d_path):\n",
        "  os.mkdir(part_d_path)\n",
        "\n",
        "visualize_model(model, part_d_path, part_d_info)"
      ],
      "execution_count": null,
      "outputs": []
    }
  ]
}
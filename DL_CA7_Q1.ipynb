{
  "nbformat": 4,
  "nbformat_minor": 0,
  "metadata": {
    "orig_nbformat": 2,
    "colab": {
      "name": "DL_CA7_Q1.ipynb",
      "provenance": [],
      "collapsed_sections": []
    },
    "language_info": {
      "name": "python"
    },
    "kernelspec": {
      "name": "python3",
      "display_name": "Python 3"
    },
    "accelerator": "GPU",
    "widgets": {
      "application/vnd.jupyter.widget-state+json": {
        "555d07f45d0a4cd9aa84b2105c8a103d": {
          "model_module": "@jupyter-widgets/controls",
          "model_name": "HBoxModel",
          "state": {
            "_view_name": "HBoxView",
            "_dom_classes": [],
            "_model_name": "HBoxModel",
            "_view_module": "@jupyter-widgets/controls",
            "_model_module_version": "1.5.0",
            "_view_count": null,
            "_view_module_version": "1.5.0",
            "box_style": "",
            "layout": "IPY_MODEL_fa3f4e3a5e92428e8d225c0fb0bb6d7e",
            "_model_module": "@jupyter-widgets/controls",
            "children": [
              "IPY_MODEL_5292709a19e541c4b7f74e89c85af67d",
              "IPY_MODEL_8cc11bcee1204eecbbd3f0c39c1c261d"
            ]
          }
        },
        "fa3f4e3a5e92428e8d225c0fb0bb6d7e": {
          "model_module": "@jupyter-widgets/base",
          "model_name": "LayoutModel",
          "state": {
            "_view_name": "LayoutView",
            "grid_template_rows": null,
            "right": null,
            "justify_content": null,
            "_view_module": "@jupyter-widgets/base",
            "overflow": null,
            "_model_module_version": "1.2.0",
            "_view_count": null,
            "flex_flow": null,
            "width": null,
            "min_width": null,
            "border": null,
            "align_items": null,
            "bottom": null,
            "_model_module": "@jupyter-widgets/base",
            "top": null,
            "grid_column": null,
            "overflow_y": null,
            "overflow_x": null,
            "grid_auto_flow": null,
            "grid_area": null,
            "grid_template_columns": null,
            "flex": null,
            "_model_name": "LayoutModel",
            "justify_items": null,
            "grid_row": null,
            "max_height": null,
            "align_content": null,
            "visibility": null,
            "align_self": null,
            "height": null,
            "min_height": null,
            "padding": null,
            "grid_auto_rows": null,
            "grid_gap": null,
            "max_width": null,
            "order": null,
            "_view_module_version": "1.2.0",
            "grid_template_areas": null,
            "object_position": null,
            "object_fit": null,
            "grid_auto_columns": null,
            "margin": null,
            "display": null,
            "left": null
          }
        },
        "5292709a19e541c4b7f74e89c85af67d": {
          "model_module": "@jupyter-widgets/controls",
          "model_name": "FloatProgressModel",
          "state": {
            "_view_name": "ProgressView",
            "style": "IPY_MODEL_6ddf823039b54d5bbb27d304a51f2850",
            "_dom_classes": [],
            "description": "Epoch: 1: 100%",
            "_model_name": "FloatProgressModel",
            "bar_style": "",
            "max": 57,
            "_view_module": "@jupyter-widgets/controls",
            "_model_module_version": "1.5.0",
            "value": 57,
            "_view_count": null,
            "_view_module_version": "1.5.0",
            "orientation": "horizontal",
            "min": 0,
            "description_tooltip": null,
            "_model_module": "@jupyter-widgets/controls",
            "layout": "IPY_MODEL_47d485fe827548f48b3c81f4106138b7"
          }
        },
        "8cc11bcee1204eecbbd3f0c39c1c261d": {
          "model_module": "@jupyter-widgets/controls",
          "model_name": "HTMLModel",
          "state": {
            "_view_name": "HTMLView",
            "style": "IPY_MODEL_ece03f8773c44e2cac1759b660f67964",
            "_dom_classes": [],
            "description": "",
            "_model_name": "HTMLModel",
            "placeholder": "​",
            "_view_module": "@jupyter-widgets/controls",
            "_model_module_version": "1.5.0",
            "value": " 57/57 [01:18&lt;00:00,  1.36s/it, batch_loss=6.261]",
            "_view_count": null,
            "_view_module_version": "1.5.0",
            "description_tooltip": null,
            "_model_module": "@jupyter-widgets/controls",
            "layout": "IPY_MODEL_f424758eeae9446e998b71239d959d92"
          }
        },
        "6ddf823039b54d5bbb27d304a51f2850": {
          "model_module": "@jupyter-widgets/controls",
          "model_name": "ProgressStyleModel",
          "state": {
            "_view_name": "StyleView",
            "_model_name": "ProgressStyleModel",
            "description_width": "initial",
            "_view_module": "@jupyter-widgets/base",
            "_model_module_version": "1.5.0",
            "_view_count": null,
            "_view_module_version": "1.2.0",
            "bar_color": null,
            "_model_module": "@jupyter-widgets/controls"
          }
        },
        "47d485fe827548f48b3c81f4106138b7": {
          "model_module": "@jupyter-widgets/base",
          "model_name": "LayoutModel",
          "state": {
            "_view_name": "LayoutView",
            "grid_template_rows": null,
            "right": null,
            "justify_content": null,
            "_view_module": "@jupyter-widgets/base",
            "overflow": null,
            "_model_module_version": "1.2.0",
            "_view_count": null,
            "flex_flow": null,
            "width": null,
            "min_width": null,
            "border": null,
            "align_items": null,
            "bottom": null,
            "_model_module": "@jupyter-widgets/base",
            "top": null,
            "grid_column": null,
            "overflow_y": null,
            "overflow_x": null,
            "grid_auto_flow": null,
            "grid_area": null,
            "grid_template_columns": null,
            "flex": null,
            "_model_name": "LayoutModel",
            "justify_items": null,
            "grid_row": null,
            "max_height": null,
            "align_content": null,
            "visibility": null,
            "align_self": null,
            "height": null,
            "min_height": null,
            "padding": null,
            "grid_auto_rows": null,
            "grid_gap": null,
            "max_width": null,
            "order": null,
            "_view_module_version": "1.2.0",
            "grid_template_areas": null,
            "object_position": null,
            "object_fit": null,
            "grid_auto_columns": null,
            "margin": null,
            "display": null,
            "left": null
          }
        },
        "ece03f8773c44e2cac1759b660f67964": {
          "model_module": "@jupyter-widgets/controls",
          "model_name": "DescriptionStyleModel",
          "state": {
            "_view_name": "StyleView",
            "_model_name": "DescriptionStyleModel",
            "description_width": "",
            "_view_module": "@jupyter-widgets/base",
            "_model_module_version": "1.5.0",
            "_view_count": null,
            "_view_module_version": "1.2.0",
            "_model_module": "@jupyter-widgets/controls"
          }
        },
        "f424758eeae9446e998b71239d959d92": {
          "model_module": "@jupyter-widgets/base",
          "model_name": "LayoutModel",
          "state": {
            "_view_name": "LayoutView",
            "grid_template_rows": null,
            "right": null,
            "justify_content": null,
            "_view_module": "@jupyter-widgets/base",
            "overflow": null,
            "_model_module_version": "1.2.0",
            "_view_count": null,
            "flex_flow": null,
            "width": null,
            "min_width": null,
            "border": null,
            "align_items": null,
            "bottom": null,
            "_model_module": "@jupyter-widgets/base",
            "top": null,
            "grid_column": null,
            "overflow_y": null,
            "overflow_x": null,
            "grid_auto_flow": null,
            "grid_area": null,
            "grid_template_columns": null,
            "flex": null,
            "_model_name": "LayoutModel",
            "justify_items": null,
            "grid_row": null,
            "max_height": null,
            "align_content": null,
            "visibility": null,
            "align_self": null,
            "height": null,
            "min_height": null,
            "padding": null,
            "grid_auto_rows": null,
            "grid_gap": null,
            "max_width": null,
            "order": null,
            "_view_module_version": "1.2.0",
            "grid_template_areas": null,
            "object_position": null,
            "object_fit": null,
            "grid_auto_columns": null,
            "margin": null,
            "display": null,
            "left": null
          }
        },
        "a7ad38636a9540989dac56b917a09376": {
          "model_module": "@jupyter-widgets/controls",
          "model_name": "HBoxModel",
          "state": {
            "_view_name": "HBoxView",
            "_dom_classes": [],
            "_model_name": "HBoxModel",
            "_view_module": "@jupyter-widgets/controls",
            "_model_module_version": "1.5.0",
            "_view_count": null,
            "_view_module_version": "1.5.0",
            "box_style": "",
            "layout": "IPY_MODEL_a389485758ec4a4a8b9b3a5b6cc5336e",
            "_model_module": "@jupyter-widgets/controls",
            "children": [
              "IPY_MODEL_620d98ed7cde4d30bbebd7af91e8af9a",
              "IPY_MODEL_773a8aab1d38464e8717008441d45fc1"
            ]
          }
        },
        "a389485758ec4a4a8b9b3a5b6cc5336e": {
          "model_module": "@jupyter-widgets/base",
          "model_name": "LayoutModel",
          "state": {
            "_view_name": "LayoutView",
            "grid_template_rows": null,
            "right": null,
            "justify_content": null,
            "_view_module": "@jupyter-widgets/base",
            "overflow": null,
            "_model_module_version": "1.2.0",
            "_view_count": null,
            "flex_flow": null,
            "width": null,
            "min_width": null,
            "border": null,
            "align_items": null,
            "bottom": null,
            "_model_module": "@jupyter-widgets/base",
            "top": null,
            "grid_column": null,
            "overflow_y": null,
            "overflow_x": null,
            "grid_auto_flow": null,
            "grid_area": null,
            "grid_template_columns": null,
            "flex": null,
            "_model_name": "LayoutModel",
            "justify_items": null,
            "grid_row": null,
            "max_height": null,
            "align_content": null,
            "visibility": null,
            "align_self": null,
            "height": null,
            "min_height": null,
            "padding": null,
            "grid_auto_rows": null,
            "grid_gap": null,
            "max_width": null,
            "order": null,
            "_view_module_version": "1.2.0",
            "grid_template_areas": null,
            "object_position": null,
            "object_fit": null,
            "grid_auto_columns": null,
            "margin": null,
            "display": null,
            "left": null
          }
        },
        "620d98ed7cde4d30bbebd7af91e8af9a": {
          "model_module": "@jupyter-widgets/controls",
          "model_name": "FloatProgressModel",
          "state": {
            "_view_name": "ProgressView",
            "style": "IPY_MODEL_6a90db6f073c4b43afb4ac041322e111",
            "_dom_classes": [],
            "description": "Epoch: 2: 100%",
            "_model_name": "FloatProgressModel",
            "bar_style": "",
            "max": 57,
            "_view_module": "@jupyter-widgets/controls",
            "_model_module_version": "1.5.0",
            "value": 57,
            "_view_count": null,
            "_view_module_version": "1.5.0",
            "orientation": "horizontal",
            "min": 0,
            "description_tooltip": null,
            "_model_module": "@jupyter-widgets/controls",
            "layout": "IPY_MODEL_a87156ec47904e71aefda842e1a0cb59"
          }
        },
        "773a8aab1d38464e8717008441d45fc1": {
          "model_module": "@jupyter-widgets/controls",
          "model_name": "HTMLModel",
          "state": {
            "_view_name": "HTMLView",
            "style": "IPY_MODEL_66713a22ad60490da5d1cef143a974a8",
            "_dom_classes": [],
            "description": "",
            "_model_name": "HTMLModel",
            "placeholder": "​",
            "_view_module": "@jupyter-widgets/controls",
            "_model_module_version": "1.5.0",
            "value": " 57/57 [01:18&lt;00:00,  1.32s/it, batch_loss=2.368]",
            "_view_count": null,
            "_view_module_version": "1.5.0",
            "description_tooltip": null,
            "_model_module": "@jupyter-widgets/controls",
            "layout": "IPY_MODEL_626982ca9cf9463599caf1e7e4c48619"
          }
        },
        "6a90db6f073c4b43afb4ac041322e111": {
          "model_module": "@jupyter-widgets/controls",
          "model_name": "ProgressStyleModel",
          "state": {
            "_view_name": "StyleView",
            "_model_name": "ProgressStyleModel",
            "description_width": "initial",
            "_view_module": "@jupyter-widgets/base",
            "_model_module_version": "1.5.0",
            "_view_count": null,
            "_view_module_version": "1.2.0",
            "bar_color": null,
            "_model_module": "@jupyter-widgets/controls"
          }
        },
        "a87156ec47904e71aefda842e1a0cb59": {
          "model_module": "@jupyter-widgets/base",
          "model_name": "LayoutModel",
          "state": {
            "_view_name": "LayoutView",
            "grid_template_rows": null,
            "right": null,
            "justify_content": null,
            "_view_module": "@jupyter-widgets/base",
            "overflow": null,
            "_model_module_version": "1.2.0",
            "_view_count": null,
            "flex_flow": null,
            "width": null,
            "min_width": null,
            "border": null,
            "align_items": null,
            "bottom": null,
            "_model_module": "@jupyter-widgets/base",
            "top": null,
            "grid_column": null,
            "overflow_y": null,
            "overflow_x": null,
            "grid_auto_flow": null,
            "grid_area": null,
            "grid_template_columns": null,
            "flex": null,
            "_model_name": "LayoutModel",
            "justify_items": null,
            "grid_row": null,
            "max_height": null,
            "align_content": null,
            "visibility": null,
            "align_self": null,
            "height": null,
            "min_height": null,
            "padding": null,
            "grid_auto_rows": null,
            "grid_gap": null,
            "max_width": null,
            "order": null,
            "_view_module_version": "1.2.0",
            "grid_template_areas": null,
            "object_position": null,
            "object_fit": null,
            "grid_auto_columns": null,
            "margin": null,
            "display": null,
            "left": null
          }
        },
        "66713a22ad60490da5d1cef143a974a8": {
          "model_module": "@jupyter-widgets/controls",
          "model_name": "DescriptionStyleModel",
          "state": {
            "_view_name": "StyleView",
            "_model_name": "DescriptionStyleModel",
            "description_width": "",
            "_view_module": "@jupyter-widgets/base",
            "_model_module_version": "1.5.0",
            "_view_count": null,
            "_view_module_version": "1.2.0",
            "_model_module": "@jupyter-widgets/controls"
          }
        },
        "626982ca9cf9463599caf1e7e4c48619": {
          "model_module": "@jupyter-widgets/base",
          "model_name": "LayoutModel",
          "state": {
            "_view_name": "LayoutView",
            "grid_template_rows": null,
            "right": null,
            "justify_content": null,
            "_view_module": "@jupyter-widgets/base",
            "overflow": null,
            "_model_module_version": "1.2.0",
            "_view_count": null,
            "flex_flow": null,
            "width": null,
            "min_width": null,
            "border": null,
            "align_items": null,
            "bottom": null,
            "_model_module": "@jupyter-widgets/base",
            "top": null,
            "grid_column": null,
            "overflow_y": null,
            "overflow_x": null,
            "grid_auto_flow": null,
            "grid_area": null,
            "grid_template_columns": null,
            "flex": null,
            "_model_name": "LayoutModel",
            "justify_items": null,
            "grid_row": null,
            "max_height": null,
            "align_content": null,
            "visibility": null,
            "align_self": null,
            "height": null,
            "min_height": null,
            "padding": null,
            "grid_auto_rows": null,
            "grid_gap": null,
            "max_width": null,
            "order": null,
            "_view_module_version": "1.2.0",
            "grid_template_areas": null,
            "object_position": null,
            "object_fit": null,
            "grid_auto_columns": null,
            "margin": null,
            "display": null,
            "left": null
          }
        },
        "80edb18d08a04b46906f5662d2489d4d": {
          "model_module": "@jupyter-widgets/controls",
          "model_name": "HBoxModel",
          "state": {
            "_view_name": "HBoxView",
            "_dom_classes": [],
            "_model_name": "HBoxModel",
            "_view_module": "@jupyter-widgets/controls",
            "_model_module_version": "1.5.0",
            "_view_count": null,
            "_view_module_version": "1.5.0",
            "box_style": "",
            "layout": "IPY_MODEL_679312f78b80494da13250dc0619e492",
            "_model_module": "@jupyter-widgets/controls",
            "children": [
              "IPY_MODEL_39a395f5200242afa742b05bf97d0140",
              "IPY_MODEL_01bebfdd6d774e68ba627c6ef265e29b"
            ]
          }
        },
        "679312f78b80494da13250dc0619e492": {
          "model_module": "@jupyter-widgets/base",
          "model_name": "LayoutModel",
          "state": {
            "_view_name": "LayoutView",
            "grid_template_rows": null,
            "right": null,
            "justify_content": null,
            "_view_module": "@jupyter-widgets/base",
            "overflow": null,
            "_model_module_version": "1.2.0",
            "_view_count": null,
            "flex_flow": null,
            "width": null,
            "min_width": null,
            "border": null,
            "align_items": null,
            "bottom": null,
            "_model_module": "@jupyter-widgets/base",
            "top": null,
            "grid_column": null,
            "overflow_y": null,
            "overflow_x": null,
            "grid_auto_flow": null,
            "grid_area": null,
            "grid_template_columns": null,
            "flex": null,
            "_model_name": "LayoutModel",
            "justify_items": null,
            "grid_row": null,
            "max_height": null,
            "align_content": null,
            "visibility": null,
            "align_self": null,
            "height": null,
            "min_height": null,
            "padding": null,
            "grid_auto_rows": null,
            "grid_gap": null,
            "max_width": null,
            "order": null,
            "_view_module_version": "1.2.0",
            "grid_template_areas": null,
            "object_position": null,
            "object_fit": null,
            "grid_auto_columns": null,
            "margin": null,
            "display": null,
            "left": null
          }
        },
        "39a395f5200242afa742b05bf97d0140": {
          "model_module": "@jupyter-widgets/controls",
          "model_name": "FloatProgressModel",
          "state": {
            "_view_name": "ProgressView",
            "style": "IPY_MODEL_338347867a1c40cba4754c517cb9b9c5",
            "_dom_classes": [],
            "description": "Epoch: 3:  18%",
            "_model_name": "FloatProgressModel",
            "bar_style": "",
            "max": 57,
            "_view_module": "@jupyter-widgets/controls",
            "_model_module_version": "1.5.0",
            "value": 10,
            "_view_count": null,
            "_view_module_version": "1.5.0",
            "orientation": "horizontal",
            "min": 0,
            "description_tooltip": null,
            "_model_module": "@jupyter-widgets/controls",
            "layout": "IPY_MODEL_543f3aefc41b44499d9fd0af95b4e26e"
          }
        },
        "01bebfdd6d774e68ba627c6ef265e29b": {
          "model_module": "@jupyter-widgets/controls",
          "model_name": "HTMLModel",
          "state": {
            "_view_name": "HTMLView",
            "style": "IPY_MODEL_c937fd58c08241b1a97f603581e1ef31",
            "_dom_classes": [],
            "description": "",
            "_model_name": "HTMLModel",
            "placeholder": "​",
            "_view_module": "@jupyter-widgets/controls",
            "_model_module_version": "1.5.0",
            "value": " 10/57 [00:13&lt;01:04,  1.36s/it, batch_loss=2.695]",
            "_view_count": null,
            "_view_module_version": "1.5.0",
            "description_tooltip": null,
            "_model_module": "@jupyter-widgets/controls",
            "layout": "IPY_MODEL_ab2e266904b041559074530a99631116"
          }
        },
        "338347867a1c40cba4754c517cb9b9c5": {
          "model_module": "@jupyter-widgets/controls",
          "model_name": "ProgressStyleModel",
          "state": {
            "_view_name": "StyleView",
            "_model_name": "ProgressStyleModel",
            "description_width": "initial",
            "_view_module": "@jupyter-widgets/base",
            "_model_module_version": "1.5.0",
            "_view_count": null,
            "_view_module_version": "1.2.0",
            "bar_color": null,
            "_model_module": "@jupyter-widgets/controls"
          }
        },
        "543f3aefc41b44499d9fd0af95b4e26e": {
          "model_module": "@jupyter-widgets/base",
          "model_name": "LayoutModel",
          "state": {
            "_view_name": "LayoutView",
            "grid_template_rows": null,
            "right": null,
            "justify_content": null,
            "_view_module": "@jupyter-widgets/base",
            "overflow": null,
            "_model_module_version": "1.2.0",
            "_view_count": null,
            "flex_flow": null,
            "width": null,
            "min_width": null,
            "border": null,
            "align_items": null,
            "bottom": null,
            "_model_module": "@jupyter-widgets/base",
            "top": null,
            "grid_column": null,
            "overflow_y": null,
            "overflow_x": null,
            "grid_auto_flow": null,
            "grid_area": null,
            "grid_template_columns": null,
            "flex": null,
            "_model_name": "LayoutModel",
            "justify_items": null,
            "grid_row": null,
            "max_height": null,
            "align_content": null,
            "visibility": null,
            "align_self": null,
            "height": null,
            "min_height": null,
            "padding": null,
            "grid_auto_rows": null,
            "grid_gap": null,
            "max_width": null,
            "order": null,
            "_view_module_version": "1.2.0",
            "grid_template_areas": null,
            "object_position": null,
            "object_fit": null,
            "grid_auto_columns": null,
            "margin": null,
            "display": null,
            "left": null
          }
        },
        "c937fd58c08241b1a97f603581e1ef31": {
          "model_module": "@jupyter-widgets/controls",
          "model_name": "DescriptionStyleModel",
          "state": {
            "_view_name": "StyleView",
            "_model_name": "DescriptionStyleModel",
            "description_width": "",
            "_view_module": "@jupyter-widgets/base",
            "_model_module_version": "1.5.0",
            "_view_count": null,
            "_view_module_version": "1.2.0",
            "_model_module": "@jupyter-widgets/controls"
          }
        },
        "ab2e266904b041559074530a99631116": {
          "model_module": "@jupyter-widgets/base",
          "model_name": "LayoutModel",
          "state": {
            "_view_name": "LayoutView",
            "grid_template_rows": null,
            "right": null,
            "justify_content": null,
            "_view_module": "@jupyter-widgets/base",
            "overflow": null,
            "_model_module_version": "1.2.0",
            "_view_count": null,
            "flex_flow": null,
            "width": null,
            "min_width": null,
            "border": null,
            "align_items": null,
            "bottom": null,
            "_model_module": "@jupyter-widgets/base",
            "top": null,
            "grid_column": null,
            "overflow_y": null,
            "overflow_x": null,
            "grid_auto_flow": null,
            "grid_area": null,
            "grid_template_columns": null,
            "flex": null,
            "_model_name": "LayoutModel",
            "justify_items": null,
            "grid_row": null,
            "max_height": null,
            "align_content": null,
            "visibility": null,
            "align_self": null,
            "height": null,
            "min_height": null,
            "padding": null,
            "grid_auto_rows": null,
            "grid_gap": null,
            "max_width": null,
            "order": null,
            "_view_module_version": "1.2.0",
            "grid_template_areas": null,
            "object_position": null,
            "object_fit": null,
            "grid_auto_columns": null,
            "margin": null,
            "display": null,
            "left": null
          }
        }
      }
    }
  },
  "cells": [
    {
      "cell_type": "markdown",
      "metadata": {
        "id": "2uk7vjapnlKu"
      },
      "source": [
        "# Downloading requirements"
      ]
    },
    {
      "cell_type": "code",
      "metadata": {
        "id": "OYnxtVCLosyG",
        "colab": {
          "base_uri": "https://localhost:8080/",
          "height": 72
        },
        "outputId": "2b2cb6f6-4022-4658-a41f-501c9ae9d6ca"
      },
      "source": [
        "import os\n",
        "from google.colab import drive\n",
        "drive.mount('/content/drive')\n",
        "os.environ['KAGGLE_CONFIG_DIR'] = \"/content/drive/MyDrive/kaggle\"\n",
        "!kaggle datasets download -d adityajn105/flickr8k\n",
        "!unzip -qo \"/content/flickr8k.zip\""
      ],
      "execution_count": null,
      "outputs": [
        {
          "output_type": "display_data",
          "data": {
            "text/html": [
              "\n",
              "        <style>\n",
              "            .jupyter-widgets {color: #d5d5d5 !important;}\n",
              "            .widget-label {color: #d5d5d5 !important;}\n",
              "        </style>\n",
              "    "
            ],
            "text/plain": [
              "<IPython.core.display.HTML object>"
            ]
          },
          "metadata": {
            "tags": []
          }
        },
        {
          "output_type": "stream",
          "text": [
            "Drive already mounted at /content/drive; to attempt to forcibly remount, call drive.mount(\"/content/drive\", force_remount=True).\n",
            "flickr8k.zip: Skipping, found more recently modified local copy (use --force to force download)\n"
          ],
          "name": "stdout"
        }
      ]
    },
    {
      "cell_type": "code",
      "metadata": {
        "id": "_gIpON9soyqp",
        "colab": {
          "base_uri": "https://localhost:8080/",
          "height": 17
        },
        "outputId": "6ee08017-8d9b-4414-a7a9-2ac1d2c679c8"
      },
      "source": [
        "import gc\n",
        "import numpy as np\n",
        "from PIL import Image\n",
        "import re\n",
        "import string\n",
        "from glob import glob\n",
        "import pandas as pd\n",
        "import string \n",
        "import itertools\n",
        "import collections\n",
        "import textwrap \n",
        "import json\n",
        "from tqdm.auto import tqdm\n",
        "import matplotlib.pyplot as plt\n",
        "\n",
        "import torch\n",
        "import torchvision\n",
        "from torch import nn\n",
        "import torch.nn.functional as F\n",
        "from torch.utils.data import Dataset, DataLoader, random_split\n",
        "from torchvision import transforms\n",
        "\n",
        "import gensim.downloader as api\n"
      ],
      "execution_count": null,
      "outputs": [
        {
          "output_type": "display_data",
          "data": {
            "text/html": [
              "\n",
              "        <style>\n",
              "            .jupyter-widgets {color: #d5d5d5 !important;}\n",
              "            .widget-label {color: #d5d5d5 !important;}\n",
              "        </style>\n",
              "    "
            ],
            "text/plain": [
              "<IPython.core.display.HTML object>"
            ]
          },
          "metadata": {
            "tags": []
          }
        }
      ]
    },
    {
      "cell_type": "markdown",
      "metadata": {
        "id": "F_ZtWLvWDgAI"
      },
      "source": [
        "# Defining Constants"
      ]
    },
    {
      "cell_type": "code",
      "metadata": {
        "id": "lFHNnE8-Dh-n",
        "colab": {
          "base_uri": "https://localhost:8080/",
          "height": 17
        },
        "outputId": "892b8e2b-7495-43d0-eb15-fe74e4a6a6ad"
      },
      "source": [
        "# Locations\n",
        "IMAGE_ROOT = \"/content/Images\"\n",
        "CAPTION_CSV_LOC = \"/content/captions.txt\"\n",
        "\n",
        "\n",
        "# Tokens\n",
        "START_TOKEN = \"<SOS>\"\n",
        "END_TOKEN = \"<EOS>\"\n",
        "PAD_TOKEN = \"<PAD>\"\n",
        "UNK_TOKEN = \"<UNK>\"\n",
        "\n",
        "# Captions related\n",
        "MAX_LENGTH = 30 \n",
        "LSTM_HIDDEN_SIZE = 256 # LSTM units?\n",
        "MIN_WORD_FREQ = 5\n",
        "EMBEDDING_DIM = 300\n",
        "CAPTIONS_PER_IMAGE = 5\n",
        "\n",
        "MIN_WORD_LENGTH = 2\n",
        "\n",
        "\n",
        "MAX_EPOCHS = 100\n",
        "\n",
        "# Dataset specifice\n",
        "TEST_SPLIT = 0.1"
      ],
      "execution_count": null,
      "outputs": [
        {
          "output_type": "display_data",
          "data": {
            "text/html": [
              "\n",
              "        <style>\n",
              "            .jupyter-widgets {color: #d5d5d5 !important;}\n",
              "            .widget-label {color: #d5d5d5 !important;}\n",
              "        </style>\n",
              "    "
            ],
            "text/plain": [
              "<IPython.core.display.HTML object>"
            ]
          },
          "metadata": {
            "tags": []
          }
        }
      ]
    },
    {
      "cell_type": "markdown",
      "metadata": {
        "id": "q_rDlvc4rSEr"
      },
      "source": [
        "# Processing Documents\n",
        "\n",
        "### Preprocessing Captions"
      ]
    },
    {
      "cell_type": "code",
      "metadata": {
        "id": "_ihCQ0a4rUso",
        "colab": {
          "base_uri": "https://localhost:8080/",
          "height": 17
        },
        "outputId": "9206f6a5-022c-4aef-96ce-b163b619070e"
      },
      "source": [
        "def preprocess_text(text):\n",
        "  prep = text.lower()\n",
        "  # remove whitespace, numerics and punctuations and replace them with space\n",
        "  prep = re.sub(\"(\\s+)|(\\d+)|([^\\w\\s]+)\", \" \", prep)\n",
        "  prep = prep.split()\n",
        "  prep = [p for p in prep if len(p) >= MIN_WORD_LENGTH]\n",
        "  return prep\n",
        "\n",
        "caption_df = pd.read_csv(CAPTION_CSV_LOC)\n",
        "caption_df.sort_values(by=\"image\", inplace=True)\n",
        "caption_df[\"cleaned\"] = caption_df[\"caption\"].apply(preprocess_text)"
      ],
      "execution_count": null,
      "outputs": [
        {
          "output_type": "display_data",
          "data": {
            "text/html": [
              "\n",
              "        <style>\n",
              "            .jupyter-widgets {color: #d5d5d5 !important;}\n",
              "            .widget-label {color: #d5d5d5 !important;}\n",
              "        </style>\n",
              "    "
            ],
            "text/plain": [
              "<IPython.core.display.HTML object>"
            ]
          },
          "metadata": {
            "tags": []
          }
        }
      ]
    },
    {
      "cell_type": "markdown",
      "metadata": {
        "id": "YufKpMZJA1ED"
      },
      "source": [
        "### Creating Vocabulary"
      ]
    },
    {
      "cell_type": "code",
      "metadata": {
        "id": "_daAgQdTA4Tn",
        "colab": {
          "base_uri": "https://localhost:8080/",
          "height": 34
        },
        "outputId": "aea79ce9-dea3-4648-f8e9-9a8991517807"
      },
      "source": [
        "counter = collections.Counter(itertools.chain(*caption_df[\"cleaned\"]))\n",
        "words = sorted([v for v, n in counter.items() if n > MIN_WORD_FREQ])\n",
        "words = [PAD_TOKEN, START_TOKEN, END_TOKEN, UNK_TOKEN] + words\n",
        "vocab = {w: idx for idx, w in enumerate(words)}\n",
        "id2word = {idx: w for idx, w in enumerate(words)}\n",
        "print(f\"Vocabulary Length: {len(vocab)}\")"
      ],
      "execution_count": null,
      "outputs": [
        {
          "output_type": "display_data",
          "data": {
            "text/html": [
              "\n",
              "        <style>\n",
              "            .jupyter-widgets {color: #d5d5d5 !important;}\n",
              "            .widget-label {color: #d5d5d5 !important;}\n",
              "        </style>\n",
              "    "
            ],
            "text/plain": [
              "<IPython.core.display.HTML object>"
            ]
          },
          "metadata": {
            "tags": []
          }
        },
        {
          "output_type": "stream",
          "text": [
            "Vocabulary Length: 2642\n"
          ],
          "name": "stdout"
        }
      ]
    },
    {
      "cell_type": "markdown",
      "metadata": {
        "id": "rwo6BaDu23wI"
      },
      "source": [
        "### Creating Wordvectors"
      ]
    },
    {
      "cell_type": "code",
      "metadata": {
        "colab": {
          "base_uri": "https://localhost:8080/",
          "height": 17
        },
        "id": "AH4Y28961nsK",
        "outputId": "07d37c00-ab7d-43b5-a53a-d30d5c5ae64a"
      },
      "source": [
        "# glove = api.load(f\"glove-twitter-{EMBEDDING_DIM}\")\n",
        "# matrix_len = len(vocab)\n",
        "# glove_embedding = np.zeros((matrix_len, EMBEDDING_DIM), dtype=np.float64)\n",
        "# words_found = 0\n",
        "\n",
        "# for i, word in enumerate(vocab):\n",
        "#     try: \n",
        "#         glove_embedding[i] = glove.wv[word]\n",
        "#         words_found += 1\n",
        "#     except KeyError:\n",
        "#         glove_embedding[i] = np.random.normal(scale=1/EMBEDDING_DIM, size=(EMBEDDING_DIM,))\n",
        "# print(words_found)"
      ],
      "execution_count": null,
      "outputs": [
        {
          "output_type": "display_data",
          "data": {
            "text/html": [
              "\n",
              "        <style>\n",
              "            .jupyter-widgets {color: #d5d5d5 !important;}\n",
              "            .widget-label {color: #d5d5d5 !important;}\n",
              "        </style>\n",
              "    "
            ],
            "text/plain": [
              "<IPython.core.display.HTML object>"
            ]
          },
          "metadata": {
            "tags": []
          }
        }
      ]
    },
    {
      "cell_type": "code",
      "metadata": {
        "id": "IyruCOW8uTcm",
        "colab": {
          "base_uri": "https://localhost:8080/",
          "height": 17
        },
        "outputId": "211cee5f-4e41-4a53-c15a-aff527750e95"
      },
      "source": [
        "# del glove"
      ],
      "execution_count": null,
      "outputs": [
        {
          "output_type": "display_data",
          "data": {
            "text/html": [
              "\n",
              "        <style>\n",
              "            .jupyter-widgets {color: #d5d5d5 !important;}\n",
              "            .widget-label {color: #d5d5d5 !important;}\n",
              "        </style>\n",
              "    "
            ],
            "text/plain": [
              "<IPython.core.display.HTML object>"
            ]
          },
          "metadata": {
            "tags": []
          }
        }
      ]
    },
    {
      "cell_type": "markdown",
      "metadata": {
        "id": "O8rIEe6fBqfX"
      },
      "source": [
        "### Defining Transforms for Captions"
      ]
    },
    {
      "cell_type": "code",
      "metadata": {
        "id": "IAIlqnscAdu8",
        "colab": {
          "base_uri": "https://localhost:8080/",
          "height": 17
        },
        "outputId": "02166dca-19b4-454b-ea4d-c4e99c1fe096"
      },
      "source": [
        "class VocabTransform:\n",
        "  def __init__(self, vocab):\n",
        "    self.vocab = vocab\n",
        "  \n",
        "  def __call__(self, tokenized):\n",
        "    return [self.vocab[t] if t in self.vocab.keys() else self.vocab[UNK_TOKEN] for t in tokenized]\n",
        "\n",
        "class CaptionConditioner:\n",
        "  def __init__(self, max_length=MAX_LENGTH):\n",
        "    self.max_length = max_length\n",
        "  \n",
        "  def __call__(self, tokenized):\n",
        "    return [START_TOKEN] + tokenized[:self.max_length - 2] + [END_TOKEN]\n",
        "\n",
        "class TextIndicesToTensor:\n",
        "  def __call__(self, item):\n",
        "    return torch.tensor(tuple(item), dtype=torch.int64)\n",
        "\n",
        "\n",
        "\n",
        "caption_transforms = transforms.Compose(\n",
        "    [\n",
        "     CaptionConditioner(),\n",
        "     VocabTransform(vocab),\n",
        "     TextIndicesToTensor(),\n",
        "    ]\n",
        ")"
      ],
      "execution_count": null,
      "outputs": [
        {
          "output_type": "display_data",
          "data": {
            "text/html": [
              "\n",
              "        <style>\n",
              "            .jupyter-widgets {color: #d5d5d5 !important;}\n",
              "            .widget-label {color: #d5d5d5 !important;}\n",
              "        </style>\n",
              "    "
            ],
            "text/plain": [
              "<IPython.core.display.HTML object>"
            ]
          },
          "metadata": {
            "tags": []
          }
        }
      ]
    },
    {
      "cell_type": "markdown",
      "metadata": {
        "id": "htHAhlyas5kL"
      },
      "source": [
        "### Images"
      ]
    },
    {
      "cell_type": "code",
      "metadata": {
        "id": "JguTXlmetLGk",
        "colab": {
          "base_uri": "https://localhost:8080/",
          "height": 17
        },
        "outputId": "32ac0119-ed99-4fe1-9a45-54c7f0698968"
      },
      "source": [
        "# This is copied from https://pytorch.org/hub/pytorch_vision_resnet/\n",
        "image_mean = [0.485, 0.456, 0.406]\n",
        "image_std = [0.229, 0.224, 0.225]\n",
        "\n",
        "image_transforms = transforms.Compose([\n",
        "    transforms.Resize(256),\n",
        "    transforms.CenterCrop(224), # As an augmenting process\n",
        "    transforms.ToTensor(),\n",
        "    transforms.Normalize(mean=image_mean, std=image_std),\n",
        "])\n",
        "\n",
        "image_mean = np.array(image_mean)\n",
        "image_std = np.array(image_std)"
      ],
      "execution_count": null,
      "outputs": [
        {
          "output_type": "display_data",
          "data": {
            "text/html": [
              "\n",
              "        <style>\n",
              "            .jupyter-widgets {color: #d5d5d5 !important;}\n",
              "            .widget-label {color: #d5d5d5 !important;}\n",
              "        </style>\n",
              "    "
            ],
            "text/plain": [
              "<IPython.core.display.HTML object>"
            ]
          },
          "metadata": {
            "tags": []
          }
        }
      ]
    },
    {
      "cell_type": "markdown",
      "metadata": {
        "id": "Vv1jrIOfs7dq"
      },
      "source": [
        "# Defining the Dataset"
      ]
    },
    {
      "cell_type": "code",
      "metadata": {
        "id": "49UVBXvFoyqw",
        "colab": {
          "base_uri": "https://localhost:8080/",
          "height": 17
        },
        "outputId": "7ea7943c-4245-44d5-c842-e7392e1254f3"
      },
      "source": [
        "class FlickrDataset(Dataset):\n",
        "  def __init__(self, \n",
        "               images_path, \n",
        "               caption_df, \n",
        "               image_transforms, \n",
        "               caption_transforms,\n",
        "               captions_per_image=CAPTIONS_PER_IMAGE):\n",
        "    self.image_transforms = image_transforms\n",
        "    self.caption_transforms = caption_transforms\n",
        "    self.images_path = images_path\n",
        "    self.images_fnames = sorted(os.listdir(images_path))\n",
        "    self.df = caption_df\n",
        "    self.captions_per_image = captions_per_image\n",
        "    self.test_time = False\n",
        "\n",
        "  def __len__(self):\n",
        "    return len(self.images_fnames)\n",
        "\n",
        "  def __getitem__(self, idx):\n",
        "    fname = self.images_fnames[idx]\n",
        "    fpath = os.path.join(self.images_path, fname)\n",
        "    image = Image.open(fpath)\n",
        "    \n",
        "    idx *= self.captions_per_image # num of repeats\n",
        "    if self.test_time:\n",
        "      captions = list(self.df.iloc[idx:idx+self.captions_per_image][\"caption\"])\n",
        "    else:\n",
        "      captions = list(self.df.iloc[idx:idx+self.captions_per_image][\"cleaned\"])\n",
        "      np.random.shuffle(captions)\n",
        "      # transform only in test time\n",
        "      image = self.image_transforms(image)\n",
        "      captions = [self.caption_transforms(c) for c in captions]\n",
        "\n",
        "    return image, captions\n"
      ],
      "execution_count": null,
      "outputs": [
        {
          "output_type": "display_data",
          "data": {
            "text/html": [
              "\n",
              "        <style>\n",
              "            .jupyter-widgets {color: #d5d5d5 !important;}\n",
              "            .widget-label {color: #d5d5d5 !important;}\n",
              "        </style>\n",
              "    "
            ],
            "text/plain": [
              "<IPython.core.display.HTML object>"
            ]
          },
          "metadata": {
            "tags": []
          }
        }
      ]
    },
    {
      "cell_type": "code",
      "metadata": {
        "id": "yRquY0WnC7jU",
        "colab": {
          "base_uri": "https://localhost:8080/",
          "height": 17
        },
        "outputId": "1f13a8ba-f434-4fad-fa3d-f543d1bf5a2b"
      },
      "source": [
        "\n",
        "# Influenced by https://github.com/siddsrivastava/Image-captioning/blob/master/model.py\n",
        "\n",
        "class FlickrEncoderCNN(nn.Module):\n",
        "  def __init__(self, \n",
        "               embedding_dim, \n",
        "               freeze):\n",
        "    super().__init__()\n",
        "    # Loading resnet\n",
        "    resnet = torchvision.models.resnet18(pretrained=True)\n",
        "    fc_in_features = resnet.fc.in_features\n",
        "\n",
        "    # Defining layers\n",
        "    modules = list(resnet.children())[:-1]\n",
        "    self.resnet = nn.Sequential(*modules)\n",
        "    self.fc = nn.Linear(fc_in_features, embedding_dim)\n",
        "\n",
        "    # Freezing if needed\n",
        "    for param in self.resnet.parameters():\n",
        "        param.requires_grad = False if freeze else True\n",
        "    for param in self.fc.parameters():\n",
        "      param.requires_grad = True\n",
        "    \n",
        "    self.modules = nn.ModuleList(\n",
        "        [self.resnet, self.fc]\n",
        "    )  \n",
        "  def forward(self, x):\n",
        "    x = self.resnet(x)\n",
        "    x = x.view(x.shape[0], -1)\n",
        "    x = self.fc(x)\n",
        "    return x\n",
        "\n",
        "\n",
        "class FlickrDecoderLSTM(nn.Module):\n",
        "  def __init__(self, \n",
        "                vocab_size,\n",
        "                embedding_dim,\n",
        "                hidden_size,\n",
        "                padding_idx,\n",
        "                bidirectional=False,\n",
        "                dropout=0):\n",
        "    \n",
        "    super().__init__()\n",
        "    # Creating embeddings\n",
        "    self.embed = nn.Embedding(num_embeddings=vocab_size,\n",
        "                              embedding_dim=embedding_dim, \n",
        "                              padding_idx=padding_idx,\n",
        "                              sparse=False,\n",
        "                              )\n",
        "    # self.embed = nn.Embedding.from_pretrained(\n",
        "        # torch.FloatTensor(glove_embedding))\n",
        "\n",
        "    self.lstm = nn.LSTM(input_size=embedding_dim,\n",
        "                        hidden_size=hidden_size,\n",
        "                        batch_first=True,\n",
        "                        dropout=dropout,\n",
        "                        bidirectional=bidirectional)\n",
        "    \n",
        "\n",
        "    self.fc = nn.Linear(hidden_size,vocab_size)\n",
        "\n",
        "    self.modules = nn.ModuleList(\n",
        "        [self.embed, self.lstm, self.fc]\n",
        "    )\n",
        "\n",
        "  def forward(self, features, caption_seqs, hidden=None):\n",
        "      caption_seqs = caption_seqs[:,:-1] \n",
        "      embeddings = self.embed(caption_seqs)\n",
        "      total_input = torch.cat((features.unsqueeze(1), embeddings), 1)\n",
        "      lstm_out, hidden = self.lstm(total_input, hidden)\n",
        "      outputs = self.fc(lstm_out)\n",
        "      return outputs, hidden\n",
        "\n",
        "\n",
        "class FlickrNet(nn.Module):\n",
        "  def __init__(self, \n",
        "               vocab_size,\n",
        "               embedding_dim,\n",
        "               hidden_size,\n",
        "               padding_idx,\n",
        "               start_token_index,\n",
        "               end_token_index,\n",
        "               unk_token_index,\n",
        "               bidirectional=False,\n",
        "               dropout=0,\n",
        "               freeze=True):\n",
        "    super().__init__()\n",
        "    self.vocab_size = vocab_size\n",
        "    encoder = FlickrEncoderCNN(embedding_dim, freeze)\n",
        "    decoder = FlickrDecoderLSTM(vocab_size, \n",
        "                                    embedding_dim, \n",
        "                                    hidden_size, \n",
        "                                    padding_idx, \n",
        "                                    bidirectional, \n",
        "                                    dropout)\n",
        "    self.encoder = encoder\n",
        "    self.decoder = decoder\n",
        "    self.modules = nn.ModuleList([encoder,decoder])\n",
        "    self.start_token_index = start_token_index\n",
        "    self.end_token_index = end_token_index\n",
        "    self.unk_token_index = unk_token_index\n",
        "\n",
        "  def forward(self, images, caption_seqs):\n",
        "    features = self.encoder(images)\n",
        "    outputs, hiddens = self.decoder(features, caption_seqs)\n",
        "    return outputs\n",
        "  \n",
        "  def predict(self, image, max_len = 30):\n",
        "      output = []\n",
        "      hidden_size = self.decoder.lstm.hidden_size\n",
        "      hidden = (torch.zeros(1,1,hidden_size).to(image.device),\n",
        "                  torch.zeros(1,1,hidden_size).to(image.device))\n",
        "      inputs = self.encoder(image).unsqueeze(1)\n",
        "      for i in range(max_len):\n",
        "        lstm_out, hidden = self.decoder.lstm(inputs,hidden)    \n",
        "        output_vocab = self.decoder.fc(lstm_out)    \n",
        "        output_vocab = output_vocab.squeeze(1)  \n",
        "        output_word = output_vocab.argmax(1)                \n",
        "        word = output_word.item()\n",
        "        output.append(word)\n",
        "        if word == self.end_token_index:\n",
        "          break\n",
        "        inputs = self.decoder.embed(output_word.unsqueeze(0))   \n",
        "      return output"
      ],
      "execution_count": null,
      "outputs": [
        {
          "output_type": "display_data",
          "data": {
            "text/html": [
              "\n",
              "        <style>\n",
              "            .jupyter-widgets {color: #d5d5d5 !important;}\n",
              "            .widget-label {color: #d5d5d5 !important;}\n",
              "        </style>\n",
              "    "
            ],
            "text/plain": [
              "<IPython.core.display.HTML object>"
            ]
          },
          "metadata": {
            "tags": []
          }
        }
      ]
    },
    {
      "cell_type": "code",
      "metadata": {
        "id": "ea5dmwVX-bxy",
        "colab": {
          "base_uri": "https://localhost:8080/",
          "height": 17
        },
        "outputId": "041fcd0a-4a88-4436-8a57-f9f41a808a96"
      },
      "source": [
        "# This is needed for batches\n",
        "\n",
        "class RepeatImages:\n",
        "  def __init__(self, num_repeat=CAPTIONS_PER_IMAGE):\n",
        "    self.num_repeat = num_repeat\n",
        "\n",
        "  def __call__(self, batch):\n",
        "    result = []\n",
        "    for image, captions in batch:\n",
        "      for i in range(self.num_repeat):\n",
        "        result.append((image, captions[i]))\n",
        "    return result\n",
        "\n",
        "class PadCaptions:\n",
        "  def __init__(self, vocab):\n",
        "    self.pad_idx = vocab[PAD_TOKEN]\n",
        "  \n",
        "  def __call__(self, batch):\n",
        "    captions = []\n",
        "    images = []\n",
        "    for im, cap in batch:\n",
        "      captions.append(cap)\n",
        "      images.append(im.unsqueeze(0))\n",
        "    captions = torch.nn.utils.rnn.pad_sequence(captions,\n",
        "                                    batch_first=True,\n",
        "                                    padding_value=self.pad_idx)\n",
        "    images = torch.cat(images, dim=0)\n",
        "    return images, captions\n",
        "\n",
        "\n",
        "batch_transforms = transforms.Compose([\n",
        "     RepeatImages(),\n",
        "     PadCaptions(vocab),\n",
        "     ]\n",
        ")"
      ],
      "execution_count": null,
      "outputs": [
        {
          "output_type": "display_data",
          "data": {
            "text/html": [
              "\n",
              "        <style>\n",
              "            .jupyter-widgets {color: #d5d5d5 !important;}\n",
              "            .widget-label {color: #d5d5d5 !important;}\n",
              "        </style>\n",
              "    "
            ],
            "text/plain": [
              "<IPython.core.display.HTML object>"
            ]
          },
          "metadata": {
            "tags": []
          }
        }
      ]
    },
    {
      "cell_type": "markdown",
      "metadata": {
        "id": "cw6i9Hy_EiSu"
      },
      "source": [
        "# Preparing for Training"
      ]
    },
    {
      "cell_type": "markdown",
      "metadata": {
        "id": "WxRyH2B0GSx-"
      },
      "source": [
        "### Defining training and testing functions"
      ]
    },
    {
      "cell_type": "code",
      "metadata": {
        "id": "xIg_4OcEGV1J",
        "colab": {
          "base_uri": "https://localhost:8080/",
          "height": 17
        },
        "outputId": "a097ff28-481f-49f1-c007-e4c842a3c315"
      },
      "source": [
        "def generate_sentence(model, n = 2):\n",
        "    print(\"#########################\")  \n",
        "    nums = np.random.randint(0, len(test_dataset), size=(n,))\n",
        "    for i in nums:\n",
        "      image, captions = test_dataset[i]\n",
        "      image = image.unsqueeze(0).cuda()\n",
        "      gen = model.predict(image)\n",
        "      gen = \" \".join([id2word[g] for g in gen])\n",
        "      caption = \" \".join([id2word[c] for c in captions[0].numpy()])\n",
        "      print(f\"### Original: {caption}\")\n",
        "      print(f\"### Generated: {gen}\")\n",
        "    print(\"#########################\")\n",
        "    \n",
        "def test(model, loss_function, test_loader):\n",
        "  test_loss = 0\n",
        "  n_items = 0\n",
        "  with torch.no_grad():\n",
        "    model.eval()\n",
        "    for batch in test_loader:\n",
        "        images, captions = batch\n",
        "        images, captions = images.cuda(), captions.cuda()\n",
        "\n",
        "        outputs = model(images, captions)\n",
        "        outputs = torch.moveaxis(outputs, -1, 1)\n",
        "        loss = loss_function(outputs, captions)\n",
        "      \n",
        "        test_loss += loss.item() * captions.numel()\n",
        "        n_items += captions.numel()\n",
        "        \n",
        "  test_loss /= n_items\n",
        "  return test_loss\n",
        "\n",
        "def train(model, optimizer, loss_function, train_loader, test_loader, model_name, max_epochs=50):\n",
        "  scaler = torch.cuda.amp.GradScaler()\n",
        "  info = []\n",
        "  for epoch in range(1, max_epochs+1):\n",
        "    train_loss = 0\n",
        "    n_items = 0\n",
        "    pbar = tqdm(total=len(train_loader), desc=f\"Epoch: {epoch}\", leave=False)\n",
        "    model.train()\n",
        "    for batch in train_loader:\n",
        "      optimizer.zero_grad()\n",
        "\n",
        "      images, captions = batch\n",
        "      images, captions = images.cuda(), captions.cuda()\n",
        "      \n",
        "      with torch.cuda.amp.autocast():\n",
        "        outputs = model(images, captions)\n",
        "        outputs = torch.moveaxis(outputs, -1, 1)\n",
        "        loss = loss_function(outputs, captions)\n",
        "\n",
        "      # scaling the loss\n",
        "      scaler.scale(loss).backward()\n",
        "      scaler.step(optimizer)\n",
        "      scaler.update()\n",
        "      \n",
        "      # computing the running loss\n",
        "      train_loss += loss.item() * captions.numel()\n",
        "      n_items += captions.numel()\n",
        "\n",
        "      # updating the progress bar\n",
        "      pbar.set_postfix(batch_loss=f\"{loss.item():.3f}\")\n",
        "      pbar.update()\n",
        "      torch.cuda.empty_cache() \n",
        "\n",
        "    del images, captions \n",
        "    torch.cuda.empty_cache() \n",
        "    gc.collect()\n",
        "    pbar.close()\n",
        "    train_loss /= n_items\n",
        "    test_loss = test(model, loss_function, test_loader)\n",
        "    info.append(\n",
        "        {\"epoch\": epoch, \"train_loss\": train_loss, \"val_loss\": test_loss}\n",
        "    )\n",
        "    print(f\"Epoch: {epoch}\\t Train Loss: {train_loss:.3f}\\t Test Loss: {test_loss:.3f}\")\n",
        "    if epoch % 10 == 0:\n",
        "      torch.save(model, f\"/content/drive/MyDrive/Academics/Courses/Deep Learning/CA3/Q1/{model_name}.model\")\n",
        "    if epoch % 5 == 0:\n",
        "      generate_sentence(model)\n",
        "    with open(f\"/content/drive/MyDrive/Academics/Courses/Deep Learning/CA3/Q1/{model_name}.json\", \"w\") as jfile:\n",
        "      json.dump(info, jfile)\n",
        "    \n",
        "    # Start after 25th Epoch\n",
        "    stop = True if len(info) > 15 else False\n",
        "    # Early stopping\n",
        "    for item in info[-5:]:\n",
        "      # Stop if there's one loss in the last 5th that is bigger than your current one\n",
        "      if item[\"val_loss\"] > test_loss + 10e-3:\n",
        "        stop = False\n",
        "    if stop:\n",
        "      break\n",
        "  return info\n"
      ],
      "execution_count": null,
      "outputs": [
        {
          "output_type": "display_data",
          "data": {
            "text/html": [
              "\n",
              "        <style>\n",
              "            .jupyter-widgets {color: #d5d5d5 !important;}\n",
              "            .widget-label {color: #d5d5d5 !important;}\n",
              "        </style>\n",
              "    "
            ],
            "text/plain": [
              "<IPython.core.display.HTML object>"
            ]
          },
          "metadata": {
            "tags": []
          }
        }
      ]
    },
    {
      "cell_type": "markdown",
      "metadata": {
        "id": "zA_8iQ4o_oAy"
      },
      "source": [
        "### Defining Visualization Methods"
      ]
    },
    {
      "cell_type": "code",
      "metadata": {
        "id": "pRLafShANr5e",
        "colab": {
          "base_uri": "https://localhost:8080/",
          "height": 17
        },
        "outputId": "a8db65f8-0143-4ab3-cbf0-2e9afafd7592"
      },
      "source": [
        "def visualize_model(model, folder, info):\n",
        "  dataset.test_time = True\n",
        "  for idx in test_indices:\n",
        "    image, captions = test_dataset[idx]\n",
        "    lengths = [len(preprocess_text(c)) for c in captions]\n",
        "    image = np.array(image)\n",
        "    input = np.moveaxis(image, -1, 0)\n",
        "    input = torch.tensor(input, requires_grad=False, dtype=torch.float).cuda()\n",
        "    # Maximum length of prediction should be between min and max!\n",
        "    max_length=(max(lengths) + min(lengths))//2\n",
        "    pred = model.predict(input.unsqueeze(0), max_len=max_length)\n",
        "    \n",
        "    h, w, c = image.shape\n",
        "    aspect = w / h\n",
        "    eps = 0.05\n",
        "    figsize = (12, 5)\n",
        "    fig, axes = plt.subplots(1,2,figsize=figsize, gridspec_kw={\"height_ratios\": [1], \n",
        "                                                               \"width_ratios\":  [1, 1]})\n",
        "    # Showing text\n",
        "    ax = axes[0]\n",
        "    ax.axis('off')\n",
        "    words = [id2word[p] for p in pred]\n",
        "    pred_sentence = \"Predicted:\\n\" + \" \".join(\n",
        "        [w for w in words if w not in [UNK_TOKEN, PAD_TOKEN, START_TOKEN, END_TOKEN]]\n",
        "        )\n",
        "    originals = \"Original Captions:\\n\" + \"\\n\\n\".join([f\"{idx+1}. {c}\" for idx, c in enumerate(captions)])\n",
        "    text = pred_sentence + \"\\n\\n\" + originals\n",
        "    wrapper = textwrap.TextWrapper(width=70, \n",
        "                                   replace_whitespace=True, \n",
        "                                   drop_whitespace=True,\n",
        "                                   tabsize=4, expand_tabs=False, \n",
        "                                   fix_sentence_endings=True)\n",
        "    text = \"\\n\".join([wrapper.fill(t) for t in text.splitlines()])\n",
        "    t = ax.text(0, 0.5, text,\n",
        "      horizontalalignment='left',\n",
        "      verticalalignment='center',\n",
        "      transform = ax.transAxes,\n",
        "      wrap=True)\n",
        "\n",
        "    # Showing Image\n",
        "    ax = axes[1]\n",
        "    ax.axis('off')\n",
        "    ax.imshow(image)\n",
        "\n",
        "    plt.savefig(os.path.join(folder, f\"{idx+1}.png\"))\n",
        "\n",
        "  # It's important to revert the dataset back to where it was\n",
        "  dataset.test_time = False\n",
        "\n",
        "  info_df = pd.DataFrame(info)\n",
        "  fig, ax = plt.subplots(figsize=(7,7))\n",
        "\n",
        "  ax.plot(info_df[\"train_loss\"], c=\"seagreen\", label=\"Train Loss\")\n",
        "  ax.plot(info_df[\"val_loss\"], c=\"firebrick\", label=\"Val Loss\")\n",
        "  ax.legend()\n",
        "  plt.savefig(os.path.join(folder, f\"train_val_loss.png\"))\n",
        "  "
      ],
      "execution_count": null,
      "outputs": [
        {
          "output_type": "display_data",
          "data": {
            "text/html": [
              "\n",
              "        <style>\n",
              "            .jupyter-widgets {color: #d5d5d5 !important;}\n",
              "            .widget-label {color: #d5d5d5 !important;}\n",
              "        </style>\n",
              "    "
            ],
            "text/plain": [
              "<IPython.core.display.HTML object>"
            ]
          },
          "metadata": {
            "tags": []
          }
        }
      ]
    },
    {
      "cell_type": "markdown",
      "metadata": {
        "id": "bRWYMLYx9TEr"
      },
      "source": [
        "### Creating Dataset and DataLoader"
      ]
    },
    {
      "cell_type": "code",
      "metadata": {
        "id": "Q9BU36BiHWMf",
        "colab": {
          "base_uri": "https://localhost:8080/",
          "height": 17
        },
        "outputId": "63e13db5-42cb-4a47-ba7a-677b8dea651b"
      },
      "source": [
        "dataset = FlickrDataset(\n",
        "    images_path=IMAGE_ROOT, \n",
        "    caption_df=caption_df,\n",
        "    image_transforms=image_transforms, \n",
        "    caption_transforms=caption_transforms,\n",
        ")\n",
        "test_length = int(TEST_SPLIT * len(dataset))\n",
        "train_length = len(dataset) - test_length\n",
        "train_dataset, test_dataset = random_split(dataset, \n",
        "                                           [train_length, test_length], \n",
        "                                           generator=torch.Generator(device=\"cpu\").manual_seed(42))"
      ],
      "execution_count": null,
      "outputs": [
        {
          "output_type": "display_data",
          "data": {
            "text/html": [
              "\n",
              "        <style>\n",
              "            .jupyter-widgets {color: #d5d5d5 !important;}\n",
              "            .widget-label {color: #d5d5d5 !important;}\n",
              "        </style>\n",
              "    "
            ],
            "text/plain": [
              "<IPython.core.display.HTML object>"
            ]
          },
          "metadata": {
            "tags": []
          }
        }
      ]
    },
    {
      "cell_type": "code",
      "metadata": {
        "id": "t1TdgZBIEnCs",
        "colab": {
          "base_uri": "https://localhost:8080/",
          "height": 17
        },
        "outputId": "5cdf860b-47a6-4217-b924-afee99b77a51"
      },
      "source": [
        "train_batch_size = 128\n",
        "test_batch_size = 128\n",
        "\n",
        "train_loader = DataLoader(train_dataset, batch_size=train_batch_size, collate_fn=batch_transforms, shuffle=True)\n",
        "test_loader = DataLoader(test_dataset, batch_size=test_batch_size, collate_fn=batch_transforms, shuffle=True)"
      ],
      "execution_count": null,
      "outputs": [
        {
          "output_type": "display_data",
          "data": {
            "text/html": [
              "\n",
              "        <style>\n",
              "            .jupyter-widgets {color: #d5d5d5 !important;}\n",
              "            .widget-label {color: #d5d5d5 !important;}\n",
              "        </style>\n",
              "    "
            ],
            "text/plain": [
              "<IPython.core.display.HTML object>"
            ]
          },
          "metadata": {
            "tags": []
          }
        }
      ]
    },
    {
      "cell_type": "markdown",
      "metadata": {
        "id": "Gn35I9B1MiMo"
      },
      "source": [
        "# Creating models and training\n",
        "\n",
        "## Part A"
      ]
    },
    {
      "cell_type": "code",
      "metadata": {
        "id": "DrxjwILSMea9",
        "colab": {
          "base_uri": "https://localhost:8080/",
          "height": 17
        },
        "outputId": "2bce0e1a-e7ad-4f5e-e939-5a2c8770a557"
      },
      "source": [
        "model = FlickrNet(\n",
        "    vocab_size=len(vocab),\n",
        "    embedding_dim=EMBEDDING_DIM,\n",
        "    hidden_size=LSTM_HIDDEN_SIZE,\n",
        "    padding_idx=vocab[PAD_TOKEN],\n",
        "    start_token_index=vocab[START_TOKEN],\n",
        "    end_token_index=vocab[END_TOKEN],           \n",
        "    unk_token_index=vocab[UNK_TOKEN],\n",
        "    bidirectional=False,\n",
        "    dropout=0,\n",
        "    freeze=True\n",
        "    ).cuda()\n",
        "\n",
        "loss_function = nn.CrossEntropyLoss(reduction='mean').cuda()\n",
        "\n",
        "optimizer = torch.optim.AdamW(model.parameters(), lr=10e-5,weight_decay=10e-3)"
      ],
      "execution_count": null,
      "outputs": [
        {
          "output_type": "display_data",
          "data": {
            "text/html": [
              "\n",
              "        <style>\n",
              "            .jupyter-widgets {color: #d5d5d5 !important;}\n",
              "            .widget-label {color: #d5d5d5 !important;}\n",
              "        </style>\n",
              "    "
            ],
            "text/plain": [
              "<IPython.core.display.HTML object>"
            ]
          },
          "metadata": {
            "tags": []
          }
        }
      ]
    },
    {
      "cell_type": "code",
      "metadata": {
        "id": "jz81hwu68lKm",
        "colab": {
          "base_uri": "https://localhost:8080/",
          "height": 17
        },
        "outputId": "c357d2f1-30d1-4295-8f76-4fbd5208d268"
      },
      "source": [
        "# Set the tqdm text color to white.\n",
        "\n",
        "from IPython.display import HTML, display\n",
        "\n",
        "def set_css_in_cell_output():\n",
        "    display(HTML('''\n",
        "        <style>\n",
        "            .jupyter-widgets {color: #d5d5d5 !important;}\n",
        "            .widget-label {color: #d5d5d5 !important;}\n",
        "        </style>\n",
        "    '''))\n",
        "\n",
        "get_ipython().events.register('pre_run_cell', set_css_in_cell_output)"
      ],
      "execution_count": null,
      "outputs": [
        {
          "output_type": "display_data",
          "data": {
            "text/html": [
              "\n",
              "        <style>\n",
              "            .jupyter-widgets {color: #d5d5d5 !important;}\n",
              "            .widget-label {color: #d5d5d5 !important;}\n",
              "        </style>\n",
              "    "
            ],
            "text/plain": [
              "<IPython.core.display.HTML object>"
            ]
          },
          "metadata": {
            "tags": []
          }
        }
      ]
    },
    {
      "cell_type": "code",
      "metadata": {
        "id": "_BFGjE_IN9rP",
        "colab": {
          "base_uri": "https://localhost:8080/",
          "height": 84,
          "referenced_widgets": [
            "555d07f45d0a4cd9aa84b2105c8a103d",
            "fa3f4e3a5e92428e8d225c0fb0bb6d7e",
            "5292709a19e541c4b7f74e89c85af67d",
            "8cc11bcee1204eecbbd3f0c39c1c261d",
            "6ddf823039b54d5bbb27d304a51f2850",
            "47d485fe827548f48b3c81f4106138b7",
            "ece03f8773c44e2cac1759b660f67964",
            "f424758eeae9446e998b71239d959d92",
            "a7ad38636a9540989dac56b917a09376",
            "a389485758ec4a4a8b9b3a5b6cc5336e",
            "620d98ed7cde4d30bbebd7af91e8af9a",
            "773a8aab1d38464e8717008441d45fc1",
            "6a90db6f073c4b43afb4ac041322e111",
            "a87156ec47904e71aefda842e1a0cb59",
            "66713a22ad60490da5d1cef143a974a8",
            "626982ca9cf9463599caf1e7e4c48619",
            "80edb18d08a04b46906f5662d2489d4d",
            "679312f78b80494da13250dc0619e492",
            "39a395f5200242afa742b05bf97d0140",
            "01bebfdd6d774e68ba627c6ef265e29b",
            "338347867a1c40cba4754c517cb9b9c5",
            "543f3aefc41b44499d9fd0af95b4e26e",
            "c937fd58c08241b1a97f603581e1ef31",
            "ab2e266904b041559074530a99631116"
          ]
        },
        "outputId": "8ae687b3-849c-4d97-a23e-08612218478e"
      },
      "source": [
        "part_a_info = train(model, optimizer, loss_function, train_loader, test_loader, \"part_a\",max_epochs=MAX_EPOCHS)"
      ],
      "execution_count": null,
      "outputs": [
        {
          "output_type": "display_data",
          "data": {
            "text/html": [
              "\n",
              "        <style>\n",
              "            .jupyter-widgets {color: #d5d5d5 !important;}\n",
              "            .widget-label {color: #d5d5d5 !important;}\n",
              "        </style>\n",
              "    "
            ],
            "text/plain": [
              "<IPython.core.display.HTML object>"
            ]
          },
          "metadata": {
            "tags": []
          }
        },
        {
          "output_type": "display_data",
          "data": {
            "text/html": [
              "\n",
              "        <style>\n",
              "            .jupyter-widgets {color: #d5d5d5 !important;}\n",
              "            .widget-label {color: #d5d5d5 !important;}\n",
              "        </style>\n",
              "    "
            ],
            "text/plain": [
              "<IPython.core.display.HTML object>"
            ]
          },
          "metadata": {
            "tags": []
          }
        },
        {
          "output_type": "display_data",
          "data": {
            "application/vnd.jupyter.widget-view+json": {
              "model_id": "555d07f45d0a4cd9aa84b2105c8a103d",
              "version_minor": 0,
              "version_major": 2
            },
            "text/plain": [
              "HBox(children=(FloatProgress(value=0.0, description='Epoch: 1', max=57.0, style=ProgressStyle(description_widt…"
            ]
          },
          "metadata": {
            "tags": []
          }
        },
        {
          "output_type": "stream",
          "text": [
            "Epoch: 1\t Train Loss: 7.466\t Test Loss: 6.095\n"
          ],
          "name": "stdout"
        },
        {
          "output_type": "display_data",
          "data": {
            "application/vnd.jupyter.widget-view+json": {
              "model_id": "a7ad38636a9540989dac56b917a09376",
              "version_minor": 0,
              "version_major": 2
            },
            "text/plain": [
              "HBox(children=(FloatProgress(value=0.0, description='Epoch: 2', max=57.0, style=ProgressStyle(description_widt…"
            ]
          },
          "metadata": {
            "tags": []
          }
        },
        {
          "output_type": "stream",
          "text": [
            "Epoch: 2\t Train Loss: 3.408\t Test Loss: 2.675\n"
          ],
          "name": "stdout"
        },
        {
          "output_type": "display_data",
          "data": {
            "application/vnd.jupyter.widget-view+json": {
              "model_id": "80edb18d08a04b46906f5662d2489d4d",
              "version_minor": 0,
              "version_major": 2
            },
            "text/plain": [
              "HBox(children=(FloatProgress(value=0.0, description='Epoch: 3', max=57.0, style=ProgressStyle(description_widt…"
            ]
          },
          "metadata": {
            "tags": []
          }
        }
      ]
    },
    {
      "cell_type": "markdown",
      "metadata": {
        "id": "DeICvvHag-iK"
      },
      "source": [
        "\n",
        "### Plot Part A"
      ]
    },
    {
      "cell_type": "code",
      "metadata": {
        "id": "O-X9PzaA_nhN"
      },
      "source": [
        "np.random.seed(92)\n",
        "test_indices = np.random.choice(np.arange(len(test_dataset)), size=(3,))"
      ],
      "execution_count": null,
      "outputs": []
    },
    {
      "cell_type": "code",
      "metadata": {
        "id": "UjQ6T8hMAGYc"
      },
      "source": [
        "with open(\"/content/drive/MyDrive/Academics/Courses/Deep Learning/CA3/Q1/part_a.json\") as jfile:\n",
        "  part_a_info = json.load(jfile)\n",
        "part_a_path = \"part_a_result\"\n",
        "if not os.path.isdir(part_a_path):\n",
        "  os.mkdir(part_a_path)\n",
        "\n",
        "visualize_model(model, part_a_path, part_a_info)"
      ],
      "execution_count": null,
      "outputs": []
    },
    {
      "cell_type": "markdown",
      "metadata": {
        "id": "w2-MGm0neqU_"
      },
      "source": [
        "## Train Part B\n",
        "\n",
        "In this part we unfreeze the resnet layers"
      ]
    },
    {
      "cell_type": "code",
      "metadata": {
        "id": "ly0iMppxep9J"
      },
      "source": [
        "model = FlickrNet(\n",
        "    vocab_size=len(vocab),\n",
        "    embedding_dim=EMBEDDING_DIM,\n",
        "    hidden_size=LSTM_HIDDEN_SIZE,\n",
        "    padding_idx=vocab[PAD_TOKEN],\n",
        "    start_token_index=vocab[START_TOKEN],\n",
        "    end_token_index=vocab[END_TOKEN],           \n",
        "    unk_token_index=vocab[UNK_TOKEN],\n",
        "    bidirectional=False,\n",
        "    dropout=0,\n",
        "    freeze=False,\n",
        "    ).cuda()\n",
        "\n",
        "loss_function = nn.CrossEntropyLoss(reduction='mean').cuda()\n",
        "\n",
        "optimizer = torch.optim.Adam(model.parameters(), lr=10e-5,weight_decay=10e-3)\n",
        "\n",
        "torch.cuda.empty_cache()"
      ],
      "execution_count": null,
      "outputs": []
    },
    {
      "cell_type": "code",
      "metadata": {
        "id": "jhWmBXnbhNn4"
      },
      "source": [
        "part_b_info = train(model, optimizer, loss_function, train_loader, test_loader, \"part_b\", max_epochs=MAX_EPOCHS)"
      ],
      "execution_count": null,
      "outputs": []
    },
    {
      "cell_type": "code",
      "metadata": {
        "id": "IZRvBXNRhWMQ"
      },
      "source": [
        "part_b_path = \"part_b_result\"\n",
        "if not os.path.isdir(part_b_path):\n",
        "  os.mkdir(part_b_path)\n",
        "\n",
        "visualize_model(model, part_b_path, part_b_info)"
      ],
      "execution_count": null,
      "outputs": []
    },
    {
      "cell_type": "markdown",
      "metadata": {
        "id": "Z69viV13hzdc"
      },
      "source": [
        "### Part C\n",
        "\n",
        "In this part we use a bidirectional LSTM but with Freezing"
      ]
    },
    {
      "cell_type": "code",
      "metadata": {
        "id": "Py2e7-0shx67"
      },
      "source": [
        "model = FlickrNet(\n",
        "    vocab_size=len(vocab),\n",
        "    embedding_dim=EMBEDDING_DIM,\n",
        "    hidden_size=LSTM_HIDDEN_SIZE,\n",
        "    padding_idx=vocab[PAD_TOKEN],\n",
        "    start_token_index=vocab[START_TOKEN],\n",
        "    end_token_index=vocab[END_TOKEN],           \n",
        "    unk_token_index=vocab[UNK_TOKEN],\n",
        "    bidirectional=False,\n",
        "    dropout=0,\n",
        "    freeze=True,\n",
        "    ).cuda()\n",
        "\n",
        "loss_function = nn.CrossEntropyLoss(reduction='mean').cuda()\n",
        "\n",
        "optimizer = torch.optim.Adam(model.parameters(), lr=10e-4,weight_decay=10e-3)\n",
        "\n",
        "torch.cuda.empty_cache()"
      ],
      "execution_count": null,
      "outputs": []
    },
    {
      "cell_type": "code",
      "metadata": {
        "id": "iZCU79quhx68"
      },
      "source": [
        "part_c_info = train(model, optimizer, loss_function, train_loader, test_loader, \"part_c\", max_epochs=MAX_EPOCHS)"
      ],
      "execution_count": null,
      "outputs": []
    },
    {
      "cell_type": "code",
      "metadata": {
        "id": "wsLZI0g3hx68"
      },
      "source": [
        "part_c_path = \"part_c_result\"\n",
        "if not os.path.isdir(part_c_path):\n",
        "  os.mkdir(part_c_path)\n",
        "\n",
        "visualize_model(model, part_c_path, part_c_info)"
      ],
      "execution_count": null,
      "outputs": []
    },
    {
      "cell_type": "markdown",
      "metadata": {
        "id": "XjBqYm8_iVVa"
      },
      "source": [
        "### Part D\n",
        "\n",
        "In this part we use a bidirectional LSTM but without freezing resnet layers"
      ]
    },
    {
      "cell_type": "code",
      "metadata": {
        "id": "7FhsQIZiiagU"
      },
      "source": [
        "model = FlickrNet(\n",
        "    vocab_size=len(vocab),\n",
        "    embedding_dim=EMBEDDING_DIM,\n",
        "    hidden_size=LSTM_HIDDEN_SIZE,\n",
        "    padding_idx=vocab[PAD_TOKEN],\n",
        "    start_token_index=vocab[START_TOKEN],\n",
        "    end_token_index=vocab[END_TOKEN],           \n",
        "    unk_token_index=vocab[UNK_TOKEN],\n",
        "    bidirectional=False,\n",
        "    dropout=0,\n",
        "    freeze=False,\n",
        "    ).cuda()\n",
        "\n",
        "loss_function = nn.CrossEntropyLoss(reduction='mean').cuda()\n",
        "\n",
        "optimizer = torch.optim.Adam(model.parameters(), lr=10e-5,weight_decay=10e-3)\n",
        "\n",
        "torch.cuda.empty_cache()"
      ],
      "execution_count": null,
      "outputs": []
    },
    {
      "cell_type": "code",
      "metadata": {
        "id": "FNF6rwi-iagV"
      },
      "source": [
        "part_d_info = train(model, optimizer, loss_function, train_loader, test_loader, \"part_d\", max_epochs=MAX_EPOCHS)"
      ],
      "execution_count": null,
      "outputs": []
    },
    {
      "cell_type": "code",
      "metadata": {
        "id": "TlU6D1VuiagV"
      },
      "source": [
        "part_d_path = \"part_d_result\"\n",
        "if not os.path.isdir(part_d_path):\n",
        "  os.mkdir(part_d_path)\n",
        "\n",
        "visualize_model(model, part_d_path, part_d_info)"
      ],
      "execution_count": null,
      "outputs": []
    }
  ]
}